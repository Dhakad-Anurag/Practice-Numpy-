{
 "cells": [
  {
   "cell_type": "code",
   "execution_count": 45,
   "id": "85a08143",
   "metadata": {},
   "outputs": [],
   "source": [
    "import numpy as np "
   ]
  },
  {
   "cell_type": "code",
   "execution_count": 46,
   "id": "08500b18",
   "metadata": {},
   "outputs": [
    {
     "name": "stdout",
     "output_type": "stream",
     "text": [
      "[1 2 3 6 5 4 8 7 9]\n"
     ]
    }
   ],
   "source": [
    "l = [1,2,3,6,5,4,8,7,9]\n",
    "arr = np.array(l)\n",
    "print(arr)"
   ]
  },
  {
   "cell_type": "code",
   "execution_count": 47,
   "id": "599b1d60",
   "metadata": {},
   "outputs": [
    {
     "data": {
      "text/plain": [
       "array([1, 2, 3, 6, 5, 4, 8, 7, 9])"
      ]
     },
     "execution_count": 47,
     "metadata": {},
     "output_type": "execute_result"
    }
   ],
   "source": [
    "arr"
   ]
  },
  {
   "cell_type": "code",
   "execution_count": 48,
   "id": "03da4083",
   "metadata": {},
   "outputs": [],
   "source": [
    "l2 = [[[1,2,3,],[4,5,6,],[7,8,9],[10,11,12]]]"
   ]
  },
  {
   "cell_type": "code",
   "execution_count": 49,
   "id": "b9ad3d55",
   "metadata": {},
   "outputs": [
    {
     "data": {
      "text/plain": [
       "[[[1, 2, 3], [4, 5, 6], [7, 8, 9], [10, 11, 12]]]"
      ]
     },
     "execution_count": 49,
     "metadata": {},
     "output_type": "execute_result"
    }
   ],
   "source": [
    "l2"
   ]
  },
  {
   "cell_type": "code",
   "execution_count": 50,
   "id": "c3bb4b35",
   "metadata": {},
   "outputs": [
    {
     "data": {
      "text/plain": [
       "(1, 4, 3)"
      ]
     },
     "execution_count": 50,
     "metadata": {},
     "output_type": "execute_result"
    }
   ],
   "source": [
    "np.shape(l2)"
   ]
  },
  {
   "cell_type": "code",
   "execution_count": 51,
   "id": "8ea9f4f9",
   "metadata": {},
   "outputs": [
    {
     "data": {
      "text/plain": [
       "array([1, 2, 3, 6, 5, 4, 8, 7, 9])"
      ]
     },
     "execution_count": 51,
     "metadata": {},
     "output_type": "execute_result"
    }
   ],
   "source": [
    "arr"
   ]
  },
  {
   "cell_type": "markdown",
   "id": "992e731b",
   "metadata": {},
   "source": []
  },
  {
   "cell_type": "code",
   "execution_count": 52,
   "id": "d5d25647",
   "metadata": {},
   "outputs": [
    {
     "data": {
      "text/plain": [
       "array([1, 2, 3, 6, 5, 4, 8, 7, 9])"
      ]
     },
     "execution_count": 52,
     "metadata": {},
     "output_type": "execute_result"
    }
   ],
   "source": [
    "arr"
   ]
  },
  {
   "cell_type": "code",
   "execution_count": 53,
   "id": "6d057b83",
   "metadata": {},
   "outputs": [
    {
     "data": {
      "text/plain": [
       "(9,)"
      ]
     },
     "execution_count": 53,
     "metadata": {},
     "output_type": "execute_result"
    }
   ],
   "source": [
    "arr.shape"
   ]
  },
  {
   "cell_type": "code",
   "execution_count": 54,
   "id": "0228118f",
   "metadata": {},
   "outputs": [],
   "source": [
    "l2 = np.reshape(l2,(3,2,2))"
   ]
  },
  {
   "cell_type": "code",
   "execution_count": 55,
   "id": "6f6b6254",
   "metadata": {},
   "outputs": [
    {
     "data": {
      "text/plain": [
       "(3, 2, 2)"
      ]
     },
     "execution_count": 55,
     "metadata": {},
     "output_type": "execute_result"
    }
   ],
   "source": [
    "np.shape(l2)"
   ]
  },
  {
   "cell_type": "code",
   "execution_count": 56,
   "id": "579008d7",
   "metadata": {},
   "outputs": [
    {
     "name": "stdout",
     "output_type": "stream",
     "text": [
      "[[[ 1  2]\n",
      "  [ 3  4]]\n",
      "\n",
      " [[ 5  6]\n",
      "  [ 7  8]]\n",
      "\n",
      " [[ 9 10]\n",
      "  [11 12]]]\n"
     ]
    }
   ],
   "source": [
    "print(l2)"
   ]
  },
  {
   "cell_type": "code",
   "execution_count": 57,
   "id": "c3942731",
   "metadata": {},
   "outputs": [
    {
     "data": {
      "text/plain": [
       "np.int64(3)"
      ]
     },
     "execution_count": 57,
     "metadata": {},
     "output_type": "execute_result"
    }
   ],
   "source": [
    "l2 [0,1,0]"
   ]
  },
  {
   "cell_type": "code",
   "execution_count": 58,
   "id": "a80037b6",
   "metadata": {},
   "outputs": [
    {
     "data": {
      "text/plain": [
       "np.int64(1)"
      ]
     },
     "execution_count": 58,
     "metadata": {},
     "output_type": "execute_result"
    }
   ],
   "source": [
    "l2 [0,0,0]"
   ]
  },
  {
   "cell_type": "code",
   "execution_count": 59,
   "id": "678f486d",
   "metadata": {},
   "outputs": [
    {
     "data": {
      "text/plain": [
       "array([11, 12])"
      ]
     },
     "execution_count": 59,
     "metadata": {},
     "output_type": "execute_result"
    }
   ],
   "source": [
    "l2 [2,1,:]"
   ]
  },
  {
   "cell_type": "code",
   "execution_count": 60,
   "id": "4a81f0c4",
   "metadata": {},
   "outputs": [],
   "source": [
    "l5 = [1,2,3,4,5,6,7,8,9,10]"
   ]
  },
  {
   "cell_type": "code",
   "execution_count": 61,
   "id": "4828e9b4",
   "metadata": {},
   "outputs": [
    {
     "data": {
      "text/plain": [
       "[1, 2, 3, 4, 5, 6, 7, 8, 9, 10]"
      ]
     },
     "execution_count": 61,
     "metadata": {},
     "output_type": "execute_result"
    }
   ],
   "source": [
    "l5"
   ]
  },
  {
   "cell_type": "code",
   "execution_count": 62,
   "id": "4ac1f311",
   "metadata": {},
   "outputs": [
    {
     "data": {
      "text/plain": [
       "[1, 2, 3, 4, 5, 6, 7, 8, 9, 10, 1, 2, 3, 4, 5, 6, 7, 8, 9, 10]"
      ]
     },
     "execution_count": 62,
     "metadata": {},
     "output_type": "execute_result"
    }
   ],
   "source": [
    "l5 * 2"
   ]
  },
  {
   "cell_type": "code",
   "execution_count": 63,
   "id": "b6de3788",
   "metadata": {},
   "outputs": [],
   "source": [
    "l5 = np.array(l5)"
   ]
  },
  {
   "cell_type": "code",
   "execution_count": 64,
   "id": "72bbfe20",
   "metadata": {},
   "outputs": [
    {
     "data": {
      "text/plain": [
       "array([ 1,  2,  3,  4,  5,  6,  7,  8,  9, 10])"
      ]
     },
     "execution_count": 64,
     "metadata": {},
     "output_type": "execute_result"
    }
   ],
   "source": [
    "l5"
   ]
  },
  {
   "cell_type": "code",
   "execution_count": 65,
   "id": "588ec42f",
   "metadata": {},
   "outputs": [
    {
     "data": {
      "text/plain": [
       "(10,)"
      ]
     },
     "execution_count": 65,
     "metadata": {},
     "output_type": "execute_result"
    }
   ],
   "source": [
    "l5.shape"
   ]
  },
  {
   "cell_type": "code",
   "execution_count": 66,
   "id": "a893c2bb",
   "metadata": {},
   "outputs": [],
   "source": [
    "l5 = l5.reshape(5,2)"
   ]
  },
  {
   "cell_type": "code",
   "execution_count": 67,
   "id": "c5e782a0",
   "metadata": {},
   "outputs": [
    {
     "data": {
      "text/plain": [
       "array([[ 1,  2],\n",
       "       [ 3,  4],\n",
       "       [ 5,  6],\n",
       "       [ 7,  8],\n",
       "       [ 9, 10]])"
      ]
     },
     "execution_count": 67,
     "metadata": {},
     "output_type": "execute_result"
    }
   ],
   "source": [
    "l5"
   ]
  },
  {
   "cell_type": "code",
   "execution_count": 68,
   "id": "f33f3c4e",
   "metadata": {},
   "outputs": [],
   "source": [
    "l6 = [1,2,3,4,5,6,7,8,9,10]"
   ]
  },
  {
   "cell_type": "code",
   "execution_count": 69,
   "id": "4205070b",
   "metadata": {},
   "outputs": [],
   "source": [
    "arr=np.array(l6)"
   ]
  },
  {
   "cell_type": "code",
   "execution_count": 70,
   "id": "3b320e0f",
   "metadata": {},
   "outputs": [
    {
     "data": {
      "text/plain": [
       "array([ 1,  2,  3,  4,  5,  6,  7,  8,  9, 10])"
      ]
     },
     "execution_count": 70,
     "metadata": {},
     "output_type": "execute_result"
    }
   ],
   "source": [
    "arr"
   ]
  },
  {
   "cell_type": "code",
   "execution_count": 71,
   "id": "cf18d670",
   "metadata": {},
   "outputs": [
    {
     "data": {
      "text/plain": [
       "array([ 2,  4,  6,  8, 10, 12, 14, 16, 18, 20])"
      ]
     },
     "execution_count": 71,
     "metadata": {},
     "output_type": "execute_result"
    }
   ],
   "source": [
    "arr* 2"
   ]
  },
  {
   "cell_type": "code",
   "execution_count": 72,
   "id": "c3f99346",
   "metadata": {},
   "outputs": [
    {
     "data": {
      "text/plain": [
       "array([ 3,  4,  5,  6,  7,  8,  9, 10, 11, 12])"
      ]
     },
     "execution_count": 72,
     "metadata": {},
     "output_type": "execute_result"
    }
   ],
   "source": [
    "arr + 2"
   ]
  },
  {
   "cell_type": "code",
   "execution_count": 73,
   "id": "1e672f61",
   "metadata": {},
   "outputs": [
    {
     "data": {
      "text/plain": [
       "array([-1,  0,  1,  2,  3,  4,  5,  6,  7,  8])"
      ]
     },
     "execution_count": 73,
     "metadata": {},
     "output_type": "execute_result"
    }
   ],
   "source": [
    "arr - 2"
   ]
  },
  {
   "cell_type": "code",
   "execution_count": 74,
   "id": "7fbf08e8",
   "metadata": {},
   "outputs": [
    {
     "data": {
      "text/plain": [
       "(10,)"
      ]
     },
     "execution_count": 74,
     "metadata": {},
     "output_type": "execute_result"
    }
   ],
   "source": [
    "arr.shape\n"
   ]
  },
  {
   "cell_type": "code",
   "execution_count": 75,
   "id": "a96102c3",
   "metadata": {},
   "outputs": [],
   "source": [
    "arr = arr.reshape(2,5)"
   ]
  },
  {
   "cell_type": "code",
   "execution_count": 76,
   "id": "c776bf6b",
   "metadata": {},
   "outputs": [
    {
     "data": {
      "text/plain": [
       "array([[ 1,  2,  3,  4,  5],\n",
       "       [ 6,  7,  8,  9, 10]])"
      ]
     },
     "execution_count": 76,
     "metadata": {},
     "output_type": "execute_result"
    }
   ],
   "source": [
    "arr\n"
   ]
  },
  {
   "cell_type": "code",
   "execution_count": 77,
   "id": "58680c17",
   "metadata": {},
   "outputs": [],
   "source": [
    "l7 = np.array([1,2,3,4,5,6,7,8,9,10,11,12])"
   ]
  },
  {
   "cell_type": "code",
   "execution_count": 78,
   "id": "af6adb14",
   "metadata": {},
   "outputs": [
    {
     "data": {
      "text/plain": [
       "array([ 1,  2,  3,  4,  5,  6,  7,  8,  9, 10, 11, 12])"
      ]
     },
     "execution_count": 78,
     "metadata": {},
     "output_type": "execute_result"
    }
   ],
   "source": [
    "l7"
   ]
  },
  {
   "cell_type": "code",
   "execution_count": 79,
   "id": "df5c681e",
   "metadata": {},
   "outputs": [
    {
     "data": {
      "text/plain": [
       "(12,)"
      ]
     },
     "execution_count": 79,
     "metadata": {},
     "output_type": "execute_result"
    }
   ],
   "source": [
    "l7.shape"
   ]
  },
  {
   "cell_type": "code",
   "execution_count": 80,
   "id": "104d435d",
   "metadata": {},
   "outputs": [],
   "source": [
    "l8 = np.array([1,8,4,5,6,9,7,1,2,20,11,13])"
   ]
  },
  {
   "cell_type": "code",
   "execution_count": 81,
   "id": "77d046ec",
   "metadata": {},
   "outputs": [
    {
     "data": {
      "text/plain": [
       "array([ 1,  8,  4,  5,  6,  9,  7,  1,  2, 20, 11, 13])"
      ]
     },
     "execution_count": 81,
     "metadata": {},
     "output_type": "execute_result"
    }
   ],
   "source": [
    "l8"
   ]
  },
  {
   "cell_type": "code",
   "execution_count": 82,
   "id": "c9256262",
   "metadata": {},
   "outputs": [
    {
     "data": {
      "text/plain": [
       "(12,)"
      ]
     },
     "execution_count": 82,
     "metadata": {},
     "output_type": "execute_result"
    }
   ],
   "source": [
    "l8.shape"
   ]
  },
  {
   "cell_type": "code",
   "execution_count": 83,
   "id": "d54dd835",
   "metadata": {},
   "outputs": [],
   "source": [
    "l8 = l8.reshape(1,12)"
   ]
  },
  {
   "cell_type": "code",
   "execution_count": 84,
   "id": "5566a5b3",
   "metadata": {},
   "outputs": [
    {
     "data": {
      "text/plain": [
       "(1, 12)"
      ]
     },
     "execution_count": 84,
     "metadata": {},
     "output_type": "execute_result"
    }
   ],
   "source": [
    "l8.shape"
   ]
  },
  {
   "cell_type": "code",
   "execution_count": 85,
   "id": "1b60114e",
   "metadata": {},
   "outputs": [],
   "source": [
    "l9 = l8 + l7"
   ]
  },
  {
   "cell_type": "code",
   "execution_count": 86,
   "id": "702c8a15",
   "metadata": {},
   "outputs": [
    {
     "data": {
      "text/plain": [
       "array([[ 2, 10,  7,  9, 11, 15, 14,  9, 11, 30, 22, 25]])"
      ]
     },
     "execution_count": 86,
     "metadata": {},
     "output_type": "execute_result"
    }
   ],
   "source": [
    "l9 "
   ]
  },
  {
   "cell_type": "code",
   "execution_count": 87,
   "id": "9dd90f80",
   "metadata": {},
   "outputs": [
    {
     "data": {
      "text/plain": [
       "(1, 12)"
      ]
     },
     "execution_count": 87,
     "metadata": {},
     "output_type": "execute_result"
    }
   ],
   "source": [
    "l9.shape"
   ]
  },
  {
   "cell_type": "code",
   "execution_count": 88,
   "id": "4de1f333",
   "metadata": {},
   "outputs": [],
   "source": [
    "l10 = np.array([1,5,8,7,4,6,9,2,3,6,5,4,7,8])"
   ]
  },
  {
   "cell_type": "code",
   "execution_count": 89,
   "id": "9f5c2791",
   "metadata": {},
   "outputs": [
    {
     "data": {
      "text/plain": [
       "array([1, 5, 8, 7, 4, 6, 9, 2, 3, 6, 5, 4, 7, 8])"
      ]
     },
     "execution_count": 89,
     "metadata": {},
     "output_type": "execute_result"
    }
   ],
   "source": [
    "l10"
   ]
  },
  {
   "cell_type": "code",
   "execution_count": 90,
   "id": "efd88145",
   "metadata": {},
   "outputs": [
    {
     "data": {
      "text/plain": [
       "(14,)"
      ]
     },
     "execution_count": 90,
     "metadata": {},
     "output_type": "execute_result"
    }
   ],
   "source": [
    "l10.shape"
   ]
  },
  {
   "cell_type": "code",
   "execution_count": 91,
   "id": "3eb38111",
   "metadata": {},
   "outputs": [],
   "source": [
    "l10 = l10.reshape(14,1)"
   ]
  },
  {
   "cell_type": "code",
   "execution_count": 92,
   "id": "1222c0b5",
   "metadata": {},
   "outputs": [],
   "source": [
    "l11 = l10 + l7"
   ]
  },
  {
   "cell_type": "code",
   "execution_count": 93,
   "id": "34c53ced",
   "metadata": {},
   "outputs": [
    {
     "data": {
      "text/plain": [
       "array([[ 2,  3,  4,  5,  6,  7,  8,  9, 10, 11, 12, 13],\n",
       "       [ 6,  7,  8,  9, 10, 11, 12, 13, 14, 15, 16, 17],\n",
       "       [ 9, 10, 11, 12, 13, 14, 15, 16, 17, 18, 19, 20],\n",
       "       [ 8,  9, 10, 11, 12, 13, 14, 15, 16, 17, 18, 19],\n",
       "       [ 5,  6,  7,  8,  9, 10, 11, 12, 13, 14, 15, 16],\n",
       "       [ 7,  8,  9, 10, 11, 12, 13, 14, 15, 16, 17, 18],\n",
       "       [10, 11, 12, 13, 14, 15, 16, 17, 18, 19, 20, 21],\n",
       "       [ 3,  4,  5,  6,  7,  8,  9, 10, 11, 12, 13, 14],\n",
       "       [ 4,  5,  6,  7,  8,  9, 10, 11, 12, 13, 14, 15],\n",
       "       [ 7,  8,  9, 10, 11, 12, 13, 14, 15, 16, 17, 18],\n",
       "       [ 6,  7,  8,  9, 10, 11, 12, 13, 14, 15, 16, 17],\n",
       "       [ 5,  6,  7,  8,  9, 10, 11, 12, 13, 14, 15, 16],\n",
       "       [ 8,  9, 10, 11, 12, 13, 14, 15, 16, 17, 18, 19],\n",
       "       [ 9, 10, 11, 12, 13, 14, 15, 16, 17, 18, 19, 20]])"
      ]
     },
     "execution_count": 93,
     "metadata": {},
     "output_type": "execute_result"
    }
   ],
   "source": [
    "l11"
   ]
  },
  {
   "cell_type": "code",
   "execution_count": 94,
   "id": "8fbff51f",
   "metadata": {},
   "outputs": [],
   "source": [
    "l12 = np.array([1,2,3,4,5,6,7,8,9,10,11,12,13,14,15,16,17,18,19,20,21,22,23,24])"
   ]
  },
  {
   "cell_type": "code",
   "execution_count": 95,
   "id": "a0516566",
   "metadata": {},
   "outputs": [],
   "source": [
    "l12 = l12.reshape(2,12)"
   ]
  },
  {
   "cell_type": "code",
   "execution_count": 96,
   "id": "0ef10b4e",
   "metadata": {},
   "outputs": [],
   "source": [
    "l13 = l12 + l7"
   ]
  },
  {
   "cell_type": "code",
   "execution_count": 97,
   "id": "a2a3617c",
   "metadata": {},
   "outputs": [
    {
     "data": {
      "text/plain": [
       "(2, 12)"
      ]
     },
     "execution_count": 97,
     "metadata": {},
     "output_type": "execute_result"
    }
   ],
   "source": [
    "l13.shape"
   ]
  },
  {
   "cell_type": "code",
   "execution_count": 98,
   "id": "2a2b21af",
   "metadata": {},
   "outputs": [],
   "source": [
    "l12 = l12.reshape(2,12)"
   ]
  },
  {
   "cell_type": "code",
   "execution_count": 99,
   "id": "9b27237f",
   "metadata": {},
   "outputs": [],
   "source": [
    "l13 = l7 + l12"
   ]
  },
  {
   "cell_type": "markdown",
   "id": "5691f180",
   "metadata": {},
   "source": [
    "to add two matrix(array) we have to make their y-axis or columns of same value."
   ]
  },
  {
   "cell_type": "code",
   "execution_count": 100,
   "id": "a59d78ed",
   "metadata": {},
   "outputs": [
    {
     "data": {
      "text/plain": [
       "array([[ 2,  4,  6,  8, 10, 12, 14, 16, 18, 20, 22, 24],\n",
       "       [14, 16, 18, 20, 22, 24, 26, 28, 30, 32, 34, 36]])"
      ]
     },
     "execution_count": 100,
     "metadata": {},
     "output_type": "execute_result"
    }
   ],
   "source": [
    "l13"
   ]
  },
  {
   "cell_type": "code",
   "execution_count": null,
   "id": "7a311702",
   "metadata": {},
   "outputs": [],
   "source": []
  }
 ],
 "metadata": {
  "kernelspec": {
   "display_name": ".venv",
   "language": "python",
   "name": "python3"
  },
  "language_info": {
   "codemirror_mode": {
    "name": "ipython",
    "version": 3
   },
   "file_extension": ".py",
   "mimetype": "text/x-python",
   "name": "python",
   "nbconvert_exporter": "python",
   "pygments_lexer": "ipython3",
   "version": "3.12.3"
  }
 },
 "nbformat": 4,
 "nbformat_minor": 5
}
