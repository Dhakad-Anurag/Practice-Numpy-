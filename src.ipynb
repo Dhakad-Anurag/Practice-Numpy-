{
 "cells": [
  {
   "cell_type": "code",
   "execution_count": 1,
   "id": "85a08143",
   "metadata": {},
   "outputs": [],
   "source": [
    "import numpy as np "
   ]
  },
  {
   "cell_type": "code",
   "execution_count": 2,
   "id": "08500b18",
   "metadata": {},
   "outputs": [
    {
     "name": "stdout",
     "output_type": "stream",
     "text": [
      "[1 2 3 6 5 4 8 7 9]\n"
     ]
    }
   ],
   "source": [
    "l = [1,2,3,6,5,4,8,7,9]\n",
    "arr = np.array(l)\n",
    "print(arr)"
   ]
  },
  {
   "cell_type": "code",
   "execution_count": 3,
   "id": "599b1d60",
   "metadata": {},
   "outputs": [
    {
     "data": {
      "text/plain": [
       "array([1, 2, 3, 6, 5, 4, 8, 7, 9])"
      ]
     },
     "execution_count": 3,
     "metadata": {},
     "output_type": "execute_result"
    }
   ],
   "source": [
    "arr"
   ]
  },
  {
   "cell_type": "code",
   "execution_count": 4,
   "id": "03da4083",
   "metadata": {},
   "outputs": [],
   "source": [
    "l2 = [[[1,2,3,],[4,5,6,],[7,8,9],[10,11,12]]]"
   ]
  },
  {
   "cell_type": "code",
   "execution_count": 5,
   "id": "b9ad3d55",
   "metadata": {},
   "outputs": [
    {
     "data": {
      "text/plain": [
       "[[[1, 2, 3], [4, 5, 6], [7, 8, 9], [10, 11, 12]]]"
      ]
     },
     "execution_count": 5,
     "metadata": {},
     "output_type": "execute_result"
    }
   ],
   "source": [
    "l2"
   ]
  },
  {
   "cell_type": "code",
   "execution_count": 6,
   "id": "c3bb4b35",
   "metadata": {},
   "outputs": [
    {
     "data": {
      "text/plain": [
       "(1, 4, 3)"
      ]
     },
     "execution_count": 6,
     "metadata": {},
     "output_type": "execute_result"
    }
   ],
   "source": [
    "np.shape(l2)"
   ]
  },
  {
   "cell_type": "code",
   "execution_count": 7,
   "id": "8ea9f4f9",
   "metadata": {},
   "outputs": [
    {
     "data": {
      "text/plain": [
       "array([1, 2, 3, 6, 5, 4, 8, 7, 9])"
      ]
     },
     "execution_count": 7,
     "metadata": {},
     "output_type": "execute_result"
    }
   ],
   "source": [
    "arr"
   ]
  },
  {
   "cell_type": "markdown",
   "id": "992e731b",
   "metadata": {},
   "source": []
  },
  {
   "cell_type": "code",
   "execution_count": 8,
   "id": "d5d25647",
   "metadata": {},
   "outputs": [
    {
     "data": {
      "text/plain": [
       "array([1, 2, 3, 6, 5, 4, 8, 7, 9])"
      ]
     },
     "execution_count": 8,
     "metadata": {},
     "output_type": "execute_result"
    }
   ],
   "source": [
    "arr"
   ]
  },
  {
   "cell_type": "code",
   "execution_count": 9,
   "id": "6d057b83",
   "metadata": {},
   "outputs": [
    {
     "data": {
      "text/plain": [
       "(9,)"
      ]
     },
     "execution_count": 9,
     "metadata": {},
     "output_type": "execute_result"
    }
   ],
   "source": [
    "arr.shape"
   ]
  },
  {
   "cell_type": "code",
   "execution_count": 10,
   "id": "0228118f",
   "metadata": {},
   "outputs": [],
   "source": [
    "l2 = np.reshape(l2,(3,2,2))"
   ]
  },
  {
   "cell_type": "code",
   "execution_count": 11,
   "id": "6f6b6254",
   "metadata": {},
   "outputs": [
    {
     "data": {
      "text/plain": [
       "(3, 2, 2)"
      ]
     },
     "execution_count": 11,
     "metadata": {},
     "output_type": "execute_result"
    }
   ],
   "source": [
    "np.shape(l2)"
   ]
  },
  {
   "cell_type": "code",
   "execution_count": 12,
   "id": "579008d7",
   "metadata": {},
   "outputs": [
    {
     "name": "stdout",
     "output_type": "stream",
     "text": [
      "[[[ 1  2]\n",
      "  [ 3  4]]\n",
      "\n",
      " [[ 5  6]\n",
      "  [ 7  8]]\n",
      "\n",
      " [[ 9 10]\n",
      "  [11 12]]]\n"
     ]
    }
   ],
   "source": [
    "print(l2)"
   ]
  },
  {
   "cell_type": "code",
   "execution_count": 13,
   "id": "c3942731",
   "metadata": {},
   "outputs": [
    {
     "data": {
      "text/plain": [
       "np.int64(3)"
      ]
     },
     "execution_count": 13,
     "metadata": {},
     "output_type": "execute_result"
    }
   ],
   "source": [
    "l2 [0,1,0]"
   ]
  },
  {
   "cell_type": "code",
   "execution_count": 14,
   "id": "a80037b6",
   "metadata": {},
   "outputs": [
    {
     "data": {
      "text/plain": [
       "np.int64(1)"
      ]
     },
     "execution_count": 14,
     "metadata": {},
     "output_type": "execute_result"
    }
   ],
   "source": [
    "l2 [0,0,0]"
   ]
  },
  {
   "cell_type": "code",
   "execution_count": 15,
   "id": "678f486d",
   "metadata": {},
   "outputs": [
    {
     "data": {
      "text/plain": [
       "array([11, 12])"
      ]
     },
     "execution_count": 15,
     "metadata": {},
     "output_type": "execute_result"
    }
   ],
   "source": [
    "l2 [2,1,:]"
   ]
  },
  {
   "cell_type": "code",
   "execution_count": 16,
   "id": "4a81f0c4",
   "metadata": {},
   "outputs": [],
   "source": [
    "l5 = [1,2,3,4,5,6,7,8,9,10]"
   ]
  },
  {
   "cell_type": "code",
   "execution_count": 17,
   "id": "4828e9b4",
   "metadata": {},
   "outputs": [
    {
     "data": {
      "text/plain": [
       "[1, 2, 3, 4, 5, 6, 7, 8, 9, 10]"
      ]
     },
     "execution_count": 17,
     "metadata": {},
     "output_type": "execute_result"
    }
   ],
   "source": [
    "l5"
   ]
  },
  {
   "cell_type": "code",
   "execution_count": 18,
   "id": "4ac1f311",
   "metadata": {},
   "outputs": [
    {
     "data": {
      "text/plain": [
       "[1, 2, 3, 4, 5, 6, 7, 8, 9, 10, 1, 2, 3, 4, 5, 6, 7, 8, 9, 10]"
      ]
     },
     "execution_count": 18,
     "metadata": {},
     "output_type": "execute_result"
    }
   ],
   "source": [
    "l5 * 2"
   ]
  },
  {
   "cell_type": "code",
   "execution_count": 19,
   "id": "b6de3788",
   "metadata": {},
   "outputs": [],
   "source": [
    "l5 = np.array(l5)"
   ]
  },
  {
   "cell_type": "code",
   "execution_count": 20,
   "id": "72bbfe20",
   "metadata": {},
   "outputs": [
    {
     "data": {
      "text/plain": [
       "array([ 1,  2,  3,  4,  5,  6,  7,  8,  9, 10])"
      ]
     },
     "execution_count": 20,
     "metadata": {},
     "output_type": "execute_result"
    }
   ],
   "source": [
    "l5"
   ]
  },
  {
   "cell_type": "code",
   "execution_count": 21,
   "id": "588ec42f",
   "metadata": {},
   "outputs": [
    {
     "data": {
      "text/plain": [
       "(10,)"
      ]
     },
     "execution_count": 21,
     "metadata": {},
     "output_type": "execute_result"
    }
   ],
   "source": [
    "l5.shape"
   ]
  },
  {
   "cell_type": "code",
   "execution_count": 22,
   "id": "a893c2bb",
   "metadata": {},
   "outputs": [],
   "source": [
    "l5 = l5.reshape(5,2)"
   ]
  },
  {
   "cell_type": "code",
   "execution_count": 23,
   "id": "c5e782a0",
   "metadata": {},
   "outputs": [
    {
     "data": {
      "text/plain": [
       "array([[ 1,  2],\n",
       "       [ 3,  4],\n",
       "       [ 5,  6],\n",
       "       [ 7,  8],\n",
       "       [ 9, 10]])"
      ]
     },
     "execution_count": 23,
     "metadata": {},
     "output_type": "execute_result"
    }
   ],
   "source": [
    "l5"
   ]
  },
  {
   "cell_type": "code",
   "execution_count": 24,
   "id": "f33f3c4e",
   "metadata": {},
   "outputs": [],
   "source": [
    "l6 = [1,2,3,4,5,6,7,8,9,10]"
   ]
  },
  {
   "cell_type": "code",
   "execution_count": 25,
   "id": "4205070b",
   "metadata": {},
   "outputs": [],
   "source": [
    "arr=np.array(l6)"
   ]
  },
  {
   "cell_type": "code",
   "execution_count": 26,
   "id": "3b320e0f",
   "metadata": {},
   "outputs": [
    {
     "data": {
      "text/plain": [
       "array([ 1,  2,  3,  4,  5,  6,  7,  8,  9, 10])"
      ]
     },
     "execution_count": 26,
     "metadata": {},
     "output_type": "execute_result"
    }
   ],
   "source": [
    "arr"
   ]
  },
  {
   "cell_type": "code",
   "execution_count": 27,
   "id": "cf18d670",
   "metadata": {},
   "outputs": [
    {
     "data": {
      "text/plain": [
       "array([ 2,  4,  6,  8, 10, 12, 14, 16, 18, 20])"
      ]
     },
     "execution_count": 27,
     "metadata": {},
     "output_type": "execute_result"
    }
   ],
   "source": [
    "arr* 2"
   ]
  },
  {
   "cell_type": "code",
   "execution_count": 28,
   "id": "c3f99346",
   "metadata": {},
   "outputs": [
    {
     "data": {
      "text/plain": [
       "array([ 3,  4,  5,  6,  7,  8,  9, 10, 11, 12])"
      ]
     },
     "execution_count": 28,
     "metadata": {},
     "output_type": "execute_result"
    }
   ],
   "source": [
    "arr + 2"
   ]
  },
  {
   "cell_type": "code",
   "execution_count": 29,
   "id": "1e672f61",
   "metadata": {},
   "outputs": [
    {
     "data": {
      "text/plain": [
       "array([-1,  0,  1,  2,  3,  4,  5,  6,  7,  8])"
      ]
     },
     "execution_count": 29,
     "metadata": {},
     "output_type": "execute_result"
    }
   ],
   "source": [
    "arr - 2"
   ]
  },
  {
   "cell_type": "code",
   "execution_count": 30,
   "id": "7fbf08e8",
   "metadata": {},
   "outputs": [
    {
     "data": {
      "text/plain": [
       "(10,)"
      ]
     },
     "execution_count": 30,
     "metadata": {},
     "output_type": "execute_result"
    }
   ],
   "source": [
    "arr.shape\n"
   ]
  },
  {
   "cell_type": "code",
   "execution_count": 31,
   "id": "a96102c3",
   "metadata": {},
   "outputs": [],
   "source": [
    "arr = arr.reshape(2,5)"
   ]
  },
  {
   "cell_type": "code",
   "execution_count": 32,
   "id": "c776bf6b",
   "metadata": {},
   "outputs": [
    {
     "data": {
      "text/plain": [
       "array([[ 1,  2,  3,  4,  5],\n",
       "       [ 6,  7,  8,  9, 10]])"
      ]
     },
     "execution_count": 32,
     "metadata": {},
     "output_type": "execute_result"
    }
   ],
   "source": [
    "arr\n"
   ]
  },
  {
   "cell_type": "code",
   "execution_count": 33,
   "id": "58680c17",
   "metadata": {},
   "outputs": [],
   "source": [
    "l7 = np.array([1,2,3,4,5,6,7,8,9,10,11,12])"
   ]
  },
  {
   "cell_type": "code",
   "execution_count": 34,
   "id": "af6adb14",
   "metadata": {},
   "outputs": [
    {
     "data": {
      "text/plain": [
       "array([ 1,  2,  3,  4,  5,  6,  7,  8,  9, 10, 11, 12])"
      ]
     },
     "execution_count": 34,
     "metadata": {},
     "output_type": "execute_result"
    }
   ],
   "source": [
    "l7"
   ]
  },
  {
   "cell_type": "code",
   "execution_count": 35,
   "id": "df5c681e",
   "metadata": {},
   "outputs": [
    {
     "data": {
      "text/plain": [
       "(12,)"
      ]
     },
     "execution_count": 35,
     "metadata": {},
     "output_type": "execute_result"
    }
   ],
   "source": [
    "l7.shape"
   ]
  },
  {
   "cell_type": "code",
   "execution_count": 36,
   "id": "104d435d",
   "metadata": {},
   "outputs": [],
   "source": [
    "l8 = np.array([1,8,4,5,6,9,7,1,2,20,11,13])"
   ]
  },
  {
   "cell_type": "code",
   "execution_count": 37,
   "id": "77d046ec",
   "metadata": {},
   "outputs": [
    {
     "data": {
      "text/plain": [
       "array([ 1,  8,  4,  5,  6,  9,  7,  1,  2, 20, 11, 13])"
      ]
     },
     "execution_count": 37,
     "metadata": {},
     "output_type": "execute_result"
    }
   ],
   "source": [
    "l8"
   ]
  },
  {
   "cell_type": "code",
   "execution_count": 38,
   "id": "c9256262",
   "metadata": {},
   "outputs": [
    {
     "data": {
      "text/plain": [
       "(12,)"
      ]
     },
     "execution_count": 38,
     "metadata": {},
     "output_type": "execute_result"
    }
   ],
   "source": [
    "l8.shape"
   ]
  },
  {
   "cell_type": "code",
   "execution_count": 39,
   "id": "d54dd835",
   "metadata": {},
   "outputs": [],
   "source": [
    "l8 = l8.reshape(1,12)"
   ]
  },
  {
   "cell_type": "code",
   "execution_count": 40,
   "id": "5566a5b3",
   "metadata": {},
   "outputs": [
    {
     "data": {
      "text/plain": [
       "(1, 12)"
      ]
     },
     "execution_count": 40,
     "metadata": {},
     "output_type": "execute_result"
    }
   ],
   "source": [
    "l8.shape"
   ]
  },
  {
   "cell_type": "code",
   "execution_count": 41,
   "id": "1b60114e",
   "metadata": {},
   "outputs": [],
   "source": [
    "l9 = l8 + l7"
   ]
  },
  {
   "cell_type": "code",
   "execution_count": 42,
   "id": "702c8a15",
   "metadata": {},
   "outputs": [
    {
     "data": {
      "text/plain": [
       "array([[ 2, 10,  7,  9, 11, 15, 14,  9, 11, 30, 22, 25]])"
      ]
     },
     "execution_count": 42,
     "metadata": {},
     "output_type": "execute_result"
    }
   ],
   "source": [
    "l9 "
   ]
  },
  {
   "cell_type": "code",
   "execution_count": 43,
   "id": "9dd90f80",
   "metadata": {},
   "outputs": [
    {
     "data": {
      "text/plain": [
       "(1, 12)"
      ]
     },
     "execution_count": 43,
     "metadata": {},
     "output_type": "execute_result"
    }
   ],
   "source": [
    "l9.shape"
   ]
  },
  {
   "cell_type": "code",
   "execution_count": 44,
   "id": "4de1f333",
   "metadata": {},
   "outputs": [],
   "source": [
    "l10 = np.array([1,5,8,7,4,6,9,2,3,6,5,4,7,8])"
   ]
  },
  {
   "cell_type": "code",
   "execution_count": 45,
   "id": "9f5c2791",
   "metadata": {},
   "outputs": [
    {
     "data": {
      "text/plain": [
       "array([1, 5, 8, 7, 4, 6, 9, 2, 3, 6, 5, 4, 7, 8])"
      ]
     },
     "execution_count": 45,
     "metadata": {},
     "output_type": "execute_result"
    }
   ],
   "source": [
    "l10"
   ]
  },
  {
   "cell_type": "code",
   "execution_count": 46,
   "id": "efd88145",
   "metadata": {},
   "outputs": [
    {
     "data": {
      "text/plain": [
       "(14,)"
      ]
     },
     "execution_count": 46,
     "metadata": {},
     "output_type": "execute_result"
    }
   ],
   "source": [
    "l10.shape"
   ]
  },
  {
   "cell_type": "code",
   "execution_count": 47,
   "id": "3eb38111",
   "metadata": {},
   "outputs": [],
   "source": [
    "l10 = l10.reshape(14,1)"
   ]
  },
  {
   "cell_type": "code",
   "execution_count": 48,
   "id": "1222c0b5",
   "metadata": {},
   "outputs": [],
   "source": [
    "l11 = l10 + l7"
   ]
  },
  {
   "cell_type": "code",
   "execution_count": 49,
   "id": "34c53ced",
   "metadata": {},
   "outputs": [
    {
     "data": {
      "text/plain": [
       "array([[ 2,  3,  4,  5,  6,  7,  8,  9, 10, 11, 12, 13],\n",
       "       [ 6,  7,  8,  9, 10, 11, 12, 13, 14, 15, 16, 17],\n",
       "       [ 9, 10, 11, 12, 13, 14, 15, 16, 17, 18, 19, 20],\n",
       "       [ 8,  9, 10, 11, 12, 13, 14, 15, 16, 17, 18, 19],\n",
       "       [ 5,  6,  7,  8,  9, 10, 11, 12, 13, 14, 15, 16],\n",
       "       [ 7,  8,  9, 10, 11, 12, 13, 14, 15, 16, 17, 18],\n",
       "       [10, 11, 12, 13, 14, 15, 16, 17, 18, 19, 20, 21],\n",
       "       [ 3,  4,  5,  6,  7,  8,  9, 10, 11, 12, 13, 14],\n",
       "       [ 4,  5,  6,  7,  8,  9, 10, 11, 12, 13, 14, 15],\n",
       "       [ 7,  8,  9, 10, 11, 12, 13, 14, 15, 16, 17, 18],\n",
       "       [ 6,  7,  8,  9, 10, 11, 12, 13, 14, 15, 16, 17],\n",
       "       [ 5,  6,  7,  8,  9, 10, 11, 12, 13, 14, 15, 16],\n",
       "       [ 8,  9, 10, 11, 12, 13, 14, 15, 16, 17, 18, 19],\n",
       "       [ 9, 10, 11, 12, 13, 14, 15, 16, 17, 18, 19, 20]])"
      ]
     },
     "execution_count": 49,
     "metadata": {},
     "output_type": "execute_result"
    }
   ],
   "source": [
    "l11"
   ]
  },
  {
   "cell_type": "code",
   "execution_count": 50,
   "id": "8fbff51f",
   "metadata": {},
   "outputs": [],
   "source": [
    "l12 = np.array([1,2,3,4,5,6,7,8,9,10,11,12,13,14,15,16,17,18,19,20,21,22,23,24])"
   ]
  },
  {
   "cell_type": "code",
   "execution_count": 51,
   "id": "a0516566",
   "metadata": {},
   "outputs": [],
   "source": [
    "l12 = l12.reshape(2,12)"
   ]
  },
  {
   "cell_type": "code",
   "execution_count": 52,
   "id": "0ef10b4e",
   "metadata": {},
   "outputs": [],
   "source": [
    "l13 = l12 + l7"
   ]
  },
  {
   "cell_type": "code",
   "execution_count": 53,
   "id": "a2a3617c",
   "metadata": {},
   "outputs": [
    {
     "data": {
      "text/plain": [
       "(2, 12)"
      ]
     },
     "execution_count": 53,
     "metadata": {},
     "output_type": "execute_result"
    }
   ],
   "source": [
    "l13.shape"
   ]
  },
  {
   "cell_type": "code",
   "execution_count": 54,
   "id": "2a2b21af",
   "metadata": {},
   "outputs": [],
   "source": [
    "l12 = l12.reshape(2,12)"
   ]
  },
  {
   "cell_type": "code",
   "execution_count": 55,
   "id": "9b27237f",
   "metadata": {},
   "outputs": [],
   "source": [
    "l13 = l7 + l12"
   ]
  },
  {
   "cell_type": "markdown",
   "id": "5691f180",
   "metadata": {},
   "source": [
    "to add two matrix(array) we have to make their y-axis or columns of same value."
   ]
  },
  {
   "cell_type": "code",
   "execution_count": 56,
   "id": "a59d78ed",
   "metadata": {},
   "outputs": [
    {
     "data": {
      "text/plain": [
       "array([[ 2,  4,  6,  8, 10, 12, 14, 16, 18, 20, 22, 24],\n",
       "       [14, 16, 18, 20, 22, 24, 26, 28, 30, 32, 34, 36]])"
      ]
     },
     "execution_count": 56,
     "metadata": {},
     "output_type": "execute_result"
    }
   ],
   "source": [
    "l13"
   ]
  },
  {
   "cell_type": "code",
   "execution_count": 57,
   "id": "7a311702",
   "metadata": {},
   "outputs": [
    {
     "data": {
      "text/plain": [
       "(12,)"
      ]
     },
     "execution_count": 57,
     "metadata": {},
     "output_type": "execute_result"
    }
   ],
   "source": [
    "l7.shape"
   ]
  },
  {
   "cell_type": "code",
   "execution_count": 58,
   "id": "3b90e847",
   "metadata": {},
   "outputs": [
    {
     "data": {
      "text/plain": [
       "(2, 12)"
      ]
     },
     "execution_count": 58,
     "metadata": {},
     "output_type": "execute_result"
    }
   ],
   "source": [
    "l12.shape"
   ]
  },
  {
   "cell_type": "code",
   "execution_count": 59,
   "id": "6fbacd72",
   "metadata": {},
   "outputs": [
    {
     "data": {
      "text/plain": [
       "(1, 12)"
      ]
     },
     "execution_count": 59,
     "metadata": {},
     "output_type": "execute_result"
    }
   ],
   "source": [
    "l9.shape"
   ]
  },
  {
   "cell_type": "code",
   "execution_count": 60,
   "id": "9363b45b",
   "metadata": {},
   "outputs": [],
   "source": [
    "arr1=l9+l12"
   ]
  },
  {
   "cell_type": "code",
   "execution_count": 61,
   "id": "5c9d9cde",
   "metadata": {},
   "outputs": [
    {
     "data": {
      "text/plain": [
       "array([[ 3, 12, 10, 13, 16, 21, 21, 17, 20, 40, 33, 37],\n",
       "       [15, 24, 22, 25, 28, 33, 33, 29, 32, 52, 45, 49]])"
      ]
     },
     "execution_count": 61,
     "metadata": {},
     "output_type": "execute_result"
    }
   ],
   "source": [
    "arr1"
   ]
  },
  {
   "cell_type": "code",
   "execution_count": 62,
   "id": "d9bb9a02",
   "metadata": {},
   "outputs": [],
   "source": [
    "arr3=l9.reshape(1,12)"
   ]
  },
  {
   "cell_type": "code",
   "execution_count": 63,
   "id": "a202de28",
   "metadata": {},
   "outputs": [
    {
     "data": {
      "text/plain": [
       "array([[ 2, 10,  7,  9, 11, 15, 14,  9, 11, 30, 22, 25]])"
      ]
     },
     "execution_count": 63,
     "metadata": {},
     "output_type": "execute_result"
    }
   ],
   "source": [
    "arr3"
   ]
  },
  {
   "cell_type": "code",
   "execution_count": 64,
   "id": "7addc66c",
   "metadata": {},
   "outputs": [
    {
     "data": {
      "text/plain": [
       "(1, 12)"
      ]
     },
     "execution_count": 64,
     "metadata": {},
     "output_type": "execute_result"
    }
   ],
   "source": [
    "arr3.shape\n"
   ]
  },
  {
   "cell_type": "code",
   "execution_count": 65,
   "id": "f92e5808",
   "metadata": {},
   "outputs": [],
   "source": [
    "arr2 = l9+l7"
   ]
  },
  {
   "cell_type": "code",
   "execution_count": 66,
   "id": "81763a67",
   "metadata": {},
   "outputs": [
    {
     "data": {
      "text/plain": [
       "array([[ 3, 12, 10, 13, 16, 21, 21, 17, 20, 40, 33, 37]])"
      ]
     },
     "execution_count": 66,
     "metadata": {},
     "output_type": "execute_result"
    }
   ],
   "source": [
    "arr2"
   ]
  },
  {
   "cell_type": "code",
   "execution_count": 67,
   "id": "3b48fcb7",
   "metadata": {},
   "outputs": [
    {
     "data": {
      "text/plain": [
       "(12,)"
      ]
     },
     "execution_count": 67,
     "metadata": {},
     "output_type": "execute_result"
    }
   ],
   "source": [
    "l7.shape"
   ]
  },
  {
   "cell_type": "code",
   "execution_count": 68,
   "id": "7d11300a",
   "metadata": {},
   "outputs": [],
   "source": [
    "arr4=l7+l9"
   ]
  },
  {
   "cell_type": "code",
   "execution_count": 69,
   "id": "1476814c",
   "metadata": {},
   "outputs": [
    {
     "data": {
      "text/plain": [
       "array([[ 3, 12, 10, 13, 16, 21, 21, 17, 20, 40, 33, 37]])"
      ]
     },
     "execution_count": 69,
     "metadata": {},
     "output_type": "execute_result"
    }
   ],
   "source": [
    "arr4"
   ]
  },
  {
   "cell_type": "code",
   "execution_count": 70,
   "id": "e83d8681",
   "metadata": {},
   "outputs": [],
   "source": [
    "arr5 = arr4+arr3"
   ]
  },
  {
   "cell_type": "code",
   "execution_count": 71,
   "id": "49108057",
   "metadata": {},
   "outputs": [
    {
     "data": {
      "text/plain": [
       "array([[ 5, 22, 17, 22, 27, 36, 35, 26, 31, 70, 55, 62]])"
      ]
     },
     "execution_count": 71,
     "metadata": {},
     "output_type": "execute_result"
    }
   ],
   "source": [
    "arr5"
   ]
  },
  {
   "cell_type": "code",
   "execution_count": 72,
   "id": "c6788411",
   "metadata": {},
   "outputs": [],
   "source": [
    "arr6=l9.reshape(2,6)"
   ]
  },
  {
   "cell_type": "code",
   "execution_count": 73,
   "id": "adf294c6",
   "metadata": {},
   "outputs": [],
   "source": [
    "arr7=l7.reshape(2,6)"
   ]
  },
  {
   "cell_type": "code",
   "execution_count": 74,
   "id": "87663de4",
   "metadata": {},
   "outputs": [],
   "source": [
    "arr8=arr6+arr7"
   ]
  },
  {
   "cell_type": "code",
   "execution_count": 75,
   "id": "4a1074f8",
   "metadata": {},
   "outputs": [
    {
     "data": {
      "text/plain": [
       "array([[ 3, 12, 10, 13, 16, 21],\n",
       "       [21, 17, 20, 40, 33, 37]])"
      ]
     },
     "execution_count": 75,
     "metadata": {},
     "output_type": "execute_result"
    }
   ],
   "source": [
    "arr8"
   ]
  },
  {
   "cell_type": "markdown",
   "id": "c4cda1cb",
   "metadata": {},
   "source": [
    "zeros = it is used to make an array of values = 0"
   ]
  },
  {
   "cell_type": "code",
   "execution_count": 76,
   "id": "9bbaee7d",
   "metadata": {},
   "outputs": [],
   "source": [
    "arr9 = np.zeros((2,10))"
   ]
  },
  {
   "cell_type": "code",
   "execution_count": 77,
   "id": "489c75b5",
   "metadata": {},
   "outputs": [
    {
     "data": {
      "text/plain": [
       "array([[0., 0., 0., 0., 0., 0., 0., 0., 0., 0.],\n",
       "       [0., 0., 0., 0., 0., 0., 0., 0., 0., 0.]])"
      ]
     },
     "execution_count": 77,
     "metadata": {},
     "output_type": "execute_result"
    }
   ],
   "source": [
    "arr9"
   ]
  },
  {
   "cell_type": "code",
   "execution_count": 78,
   "id": "dd135266",
   "metadata": {},
   "outputs": [],
   "source": [
    "arr9=np.zeros((5,10),dtype=int)\n"
   ]
  },
  {
   "cell_type": "code",
   "execution_count": 79,
   "id": "40039d7f",
   "metadata": {},
   "outputs": [
    {
     "data": {
      "text/plain": [
       "array([[0, 0, 0, 0, 0, 0, 0, 0, 0, 0],\n",
       "       [0, 0, 0, 0, 0, 0, 0, 0, 0, 0],\n",
       "       [0, 0, 0, 0, 0, 0, 0, 0, 0, 0],\n",
       "       [0, 0, 0, 0, 0, 0, 0, 0, 0, 0],\n",
       "       [0, 0, 0, 0, 0, 0, 0, 0, 0, 0]])"
      ]
     },
     "execution_count": 79,
     "metadata": {},
     "output_type": "execute_result"
    }
   ],
   "source": [
    "arr9"
   ]
  },
  {
   "cell_type": "markdown",
   "id": "093edf01",
   "metadata": {},
   "source": [
    "ones = it is used to generate an array of ony unit digits ."
   ]
  },
  {
   "cell_type": "code",
   "execution_count": 80,
   "id": "2896a189",
   "metadata": {},
   "outputs": [],
   "source": [
    "arr = np.ones((9,15))"
   ]
  },
  {
   "cell_type": "code",
   "execution_count": 81,
   "id": "e714ce2f",
   "metadata": {},
   "outputs": [
    {
     "data": {
      "text/plain": [
       "array([[1., 1., 1., 1., 1., 1., 1., 1., 1., 1., 1., 1., 1., 1., 1.],\n",
       "       [1., 1., 1., 1., 1., 1., 1., 1., 1., 1., 1., 1., 1., 1., 1.],\n",
       "       [1., 1., 1., 1., 1., 1., 1., 1., 1., 1., 1., 1., 1., 1., 1.],\n",
       "       [1., 1., 1., 1., 1., 1., 1., 1., 1., 1., 1., 1., 1., 1., 1.],\n",
       "       [1., 1., 1., 1., 1., 1., 1., 1., 1., 1., 1., 1., 1., 1., 1.],\n",
       "       [1., 1., 1., 1., 1., 1., 1., 1., 1., 1., 1., 1., 1., 1., 1.],\n",
       "       [1., 1., 1., 1., 1., 1., 1., 1., 1., 1., 1., 1., 1., 1., 1.],\n",
       "       [1., 1., 1., 1., 1., 1., 1., 1., 1., 1., 1., 1., 1., 1., 1.],\n",
       "       [1., 1., 1., 1., 1., 1., 1., 1., 1., 1., 1., 1., 1., 1., 1.]])"
      ]
     },
     "execution_count": 81,
     "metadata": {},
     "output_type": "execute_result"
    }
   ],
   "source": [
    "arr"
   ]
  },
  {
   "cell_type": "markdown",
   "id": "351a1eae",
   "metadata": {},
   "source": [
    "empty = it is used to get an array of randomly generated values or garbage values ."
   ]
  },
  {
   "cell_type": "code",
   "execution_count": 82,
   "id": "7bdea4af",
   "metadata": {},
   "outputs": [],
   "source": [
    "arr = np.empty((4,6))"
   ]
  },
  {
   "cell_type": "code",
   "execution_count": 83,
   "id": "aa66d3e3",
   "metadata": {},
   "outputs": [
    {
     "data": {
      "text/plain": [
       "array([[3.5458676e-315, 0.0000000e+000, 3.4584595e-323, 4.4465908e-323,\n",
       "        5.4347221e-323, 7.4109847e-323],\n",
       "       [6.9169190e-323, 4.4465908e-323, 5.4347221e-323, 1.4821969e-322,\n",
       "        1.0869444e-322, 1.2351641e-322],\n",
       "       [9.8813129e-324, 4.9406565e-323, 3.4584595e-323, 4.4465908e-323,\n",
       "        5.4347221e-323, 7.4109847e-323],\n",
       "       [6.9169190e-323, 4.4465908e-323, 5.4347221e-323, 1.4821969e-322,\n",
       "        1.0869444e-322, 1.2351641e-322]])"
      ]
     },
     "execution_count": 83,
     "metadata": {},
     "output_type": "execute_result"
    }
   ],
   "source": [
    "arr"
   ]
  },
  {
   "cell_type": "code",
   "execution_count": 84,
   "id": "3205ef36",
   "metadata": {},
   "outputs": [],
   "source": [
    "arr = np.empty((4,6),dtype=int)"
   ]
  },
  {
   "cell_type": "code",
   "execution_count": 85,
   "id": "80fc1490",
   "metadata": {},
   "outputs": [
    {
     "data": {
      "text/plain": [
       "array([[717691592,         0,         7,         9,        11,        15],\n",
       "       [       14,         9,        11,        30,        22,        25],\n",
       "       [        2,        10,         7,         9,        11,        15],\n",
       "       [       14,         9,        11,        30,        22,        25]])"
      ]
     },
     "execution_count": 85,
     "metadata": {},
     "output_type": "execute_result"
    }
   ],
   "source": [
    "arr "
   ]
  },
  {
   "cell_type": "markdown",
   "id": "32f89f4d",
   "metadata": {},
   "source": [
    "arange = it is used to get an array of desired staring point & ending point with how much differnce we want in the two values ."
   ]
  },
  {
   "cell_type": "code",
   "execution_count": 86,
   "id": "317fa2a2",
   "metadata": {},
   "outputs": [],
   "source": [
    "arr = np.arange(0,20,2.5,dtype=np.float64)"
   ]
  },
  {
   "cell_type": "code",
   "execution_count": 87,
   "id": "53bdacde",
   "metadata": {},
   "outputs": [
    {
     "data": {
      "text/plain": [
       "array([ 0. ,  2.5,  5. ,  7.5, 10. , 12.5, 15. , 17.5])"
      ]
     },
     "execution_count": 87,
     "metadata": {},
     "output_type": "execute_result"
    }
   ],
   "source": [
    "arr"
   ]
  },
  {
   "cell_type": "markdown",
   "id": "439f35d3",
   "metadata": {},
   "source": [
    "linspace = it is used to make an array of desired staring point & ending point with how much values we want then the funtion will generate the gap itself according to the values "
   ]
  },
  {
   "cell_type": "code",
   "execution_count": 88,
   "id": "bb015bf9",
   "metadata": {},
   "outputs": [],
   "source": [
    "arr = np.linspace(0,10,20)"
   ]
  },
  {
   "cell_type": "code",
   "execution_count": 89,
   "id": "1ba7249f",
   "metadata": {},
   "outputs": [
    {
     "data": {
      "text/plain": [
       "array([ 0.        ,  0.52631579,  1.05263158,  1.57894737,  2.10526316,\n",
       "        2.63157895,  3.15789474,  3.68421053,  4.21052632,  4.73684211,\n",
       "        5.26315789,  5.78947368,  6.31578947,  6.84210526,  7.36842105,\n",
       "        7.89473684,  8.42105263,  8.94736842,  9.47368421, 10.        ])"
      ]
     },
     "execution_count": 89,
     "metadata": {},
     "output_type": "execute_result"
    }
   ],
   "source": [
    "arr"
   ]
  },
  {
   "cell_type": "code",
   "execution_count": 90,
   "id": "65f75694",
   "metadata": {},
   "outputs": [],
   "source": [
    "arr = np.random.binomial(n=6,p=0.6,size=(2,5))"
   ]
  },
  {
   "cell_type": "code",
   "execution_count": 91,
   "id": "a7341530",
   "metadata": {},
   "outputs": [
    {
     "data": {
      "text/plain": [
       "array([[4, 3, 4, 2, 3],\n",
       "       [2, 3, 5, 3, 4]])"
      ]
     },
     "execution_count": 91,
     "metadata": {},
     "output_type": "execute_result"
    }
   ],
   "source": [
    "arr"
   ]
  },
  {
   "cell_type": "code",
   "execution_count": 92,
   "id": "b55a446f",
   "metadata": {},
   "outputs": [],
   "source": [
    "arr = np.random.binomial(n=1,p=0.5,size=(2,5))"
   ]
  },
  {
   "cell_type": "code",
   "execution_count": 93,
   "id": "44a08abb",
   "metadata": {},
   "outputs": [
    {
     "data": {
      "text/plain": [
       "array([[0, 0, 1, 1, 1],\n",
       "       [0, 0, 1, 1, 0]])"
      ]
     },
     "execution_count": 93,
     "metadata": {},
     "output_type": "execute_result"
    }
   ],
   "source": [
    "arr"
   ]
  },
  {
   "cell_type": "code",
   "execution_count": 94,
   "id": "6fcbe2d3",
   "metadata": {},
   "outputs": [],
   "source": [
    "arr = np.random.multivariate_normal(mean=[1,1,1,1],cov=[[1,0,0,0],[0,1,0,0],[0,0,1,0],[0,0,0,1]],size=10)"
   ]
  },
  {
   "cell_type": "code",
   "execution_count": 95,
   "id": "0a08cc60",
   "metadata": {},
   "outputs": [
    {
     "data": {
      "text/plain": [
       "array([[ 0.04085884,  2.02799605,  0.26859767,  2.5583718 ],\n",
       "       [ 0.59427308,  1.34040416,  1.23331478, -0.06969184],\n",
       "       [ 0.81473897,  1.47311643,  0.18439131,  1.39365111],\n",
       "       [ 3.50053708, -0.39380891,  0.51648701,  0.93185806],\n",
       "       [-0.44719192,  2.10090926,  2.27601901,  1.37477615],\n",
       "       [ 0.27359608,  0.55442305,  1.88435355,  2.53747133],\n",
       "       [ 1.42998178,  0.7556492 , -1.02265354,  2.00858143],\n",
       "       [ 0.3702049 ,  2.29630082,  1.19761921,  1.93955831],\n",
       "       [ 2.72961328,  0.84375074,  1.40390503, -0.41271116],\n",
       "       [ 1.52733175,  0.84042183, -0.01873739,  1.19102965]])"
      ]
     },
     "execution_count": 95,
     "metadata": {},
     "output_type": "execute_result"
    }
   ],
   "source": [
    "arr"
   ]
  },
  {
   "cell_type": "code",
   "execution_count": 96,
   "id": "e57d3219",
   "metadata": {},
   "outputs": [],
   "source": [
    "arr = np.random.multivariate_normal(mean=[1,2,3,4],cov=[[1,0,0,0],[0,2,0,0],[0,0,3,0],[0,0,0,4]],size=10)"
   ]
  },
  {
   "cell_type": "code",
   "execution_count": 97,
   "id": "cdaba28b",
   "metadata": {},
   "outputs": [
    {
     "data": {
      "text/plain": [
       "array([[ 6.82833628e-01,  2.30291225e+00,  9.66856147e-01,\n",
       "        -7.70753004e-01],\n",
       "       [ 1.58592081e+00,  3.10251346e+00,  1.20322596e+00,\n",
       "         4.28035613e+00],\n",
       "       [-4.02890750e-03,  6.15315915e-01,  1.49484929e+00,\n",
       "         4.38482273e+00],\n",
       "       [ 1.35791626e+00,  4.73767379e-01,  3.71518028e+00,\n",
       "         4.11660951e+00],\n",
       "       [ 3.56228031e+00,  3.13013129e+00,  8.83021304e-01,\n",
       "         2.31125934e+00],\n",
       "       [ 5.58035756e-01,  3.39232944e+00,  2.80259472e+00,\n",
       "         3.64996695e+00],\n",
       "       [-1.72443605e-01,  2.32934211e+00,  1.58039964e+00,\n",
       "         2.27104887e+00],\n",
       "       [ 1.82245694e+00,  2.49033143e+00,  1.42668750e+00,\n",
       "         3.23675137e+00],\n",
       "       [ 1.87271390e+00,  2.47346662e+00,  3.77655893e+00,\n",
       "         5.33968929e+00],\n",
       "       [-1.29735721e-01,  2.19792283e+00,  8.18961877e-01,\n",
       "         6.50033860e+00]])"
      ]
     },
     "execution_count": 97,
     "metadata": {},
     "output_type": "execute_result"
    }
   ],
   "source": [
    "arr"
   ]
  },
  {
   "cell_type": "code",
   "execution_count": 98,
   "id": "4c81fa76",
   "metadata": {},
   "outputs": [],
   "source": [
    "arr = np.random.normal(loc=5,scale=1,size=(2,10))"
   ]
  },
  {
   "cell_type": "code",
   "execution_count": 99,
   "id": "4b8028cb",
   "metadata": {},
   "outputs": [
    {
     "data": {
      "text/plain": [
       "array([[6.43950509, 3.39429114, 5.47492387, 5.29852684, 5.83479495,\n",
       "        5.31499131, 5.82468754, 3.99889084, 5.20453546, 4.35850719],\n",
       "       [6.42377435, 5.32185417, 3.87591143, 4.92030437, 4.00271326,\n",
       "        5.00927527, 6.15292758, 5.13506038, 4.17491008, 5.1606709 ]])"
      ]
     },
     "execution_count": 99,
     "metadata": {},
     "output_type": "execute_result"
    }
   ],
   "source": [
    "arr"
   ]
  },
  {
   "cell_type": "code",
   "execution_count": 100,
   "id": "e7beee8d",
   "metadata": {},
   "outputs": [],
   "source": [
    "arr_mean=np.mean(arr)"
   ]
  },
  {
   "cell_type": "code",
   "execution_count": 101,
   "id": "3e59e668",
   "metadata": {},
   "outputs": [
    {
     "data": {
      "text/plain": [
       "np.float64(5.066052802181204)"
      ]
     },
     "execution_count": 101,
     "metadata": {},
     "output_type": "execute_result"
    }
   ],
   "source": [
    "arr_mean"
   ]
  },
  {
   "cell_type": "code",
   "execution_count": 102,
   "id": "44ff1ba8",
   "metadata": {},
   "outputs": [],
   "source": [
    "arr = np.random.rand(10,10)"
   ]
  },
  {
   "cell_type": "code",
   "execution_count": 103,
   "id": "1242be79",
   "metadata": {},
   "outputs": [
    {
     "data": {
      "text/plain": [
       "array([[0.26284893, 0.00665936, 0.56350077, 0.49009319, 0.7195709 ,\n",
       "        0.25975955, 0.33656392, 0.85873562, 0.00543412, 0.91068574],\n",
       "       [0.38763296, 0.0386369 , 0.4018721 , 0.24435905, 0.59170046,\n",
       "        0.23593015, 0.05166654, 0.21141237, 0.47854729, 0.50740473],\n",
       "       [0.51372695, 0.06354799, 0.57595871, 0.84085519, 0.72029857,\n",
       "        0.14780303, 0.73791743, 0.88470987, 0.0194205 , 0.22104738],\n",
       "       [0.31188317, 0.54599342, 0.1453972 , 0.19225866, 0.48227062,\n",
       "        0.65604137, 0.54714355, 0.39794099, 0.86128033, 0.78473913],\n",
       "       [0.02954395, 0.93194365, 0.01869932, 0.6938593 , 0.04922129,\n",
       "        0.8023999 , 0.98670661, 0.80864224, 0.40006825, 0.8267273 ],\n",
       "       [0.63700558, 0.63066886, 0.77655121, 0.42068164, 0.4080088 ,\n",
       "        0.34539587, 0.0975793 , 0.35496511, 0.76247403, 0.51681719],\n",
       "       [0.5395387 , 0.90438778, 0.34666316, 0.98495575, 0.47955056,\n",
       "        0.76855199, 0.05362228, 0.9574856 , 0.14599737, 0.3411617 ],\n",
       "       [0.60641643, 0.48310176, 0.31473906, 0.48972491, 0.27319331,\n",
       "        0.10113713, 0.99900893, 0.95294194, 0.65970928, 0.43861153],\n",
       "       [0.62942332, 0.77586984, 0.25412515, 0.5035054 , 0.09756774,\n",
       "        0.73921778, 0.1576975 , 0.89433545, 0.87202377, 0.00968543],\n",
       "       [0.72442897, 0.67738895, 0.43745098, 0.64932758, 0.50510573,\n",
       "        0.66895977, 0.52849949, 0.19368062, 0.86299286, 0.68683027]])"
      ]
     },
     "execution_count": 103,
     "metadata": {},
     "output_type": "execute_result"
    }
   ],
   "source": [
    "arr"
   ]
  },
  {
   "cell_type": "code",
   "execution_count": 104,
   "id": "79125df2",
   "metadata": {},
   "outputs": [],
   "source": [
    "arr = np.random.randint(low=10,high=25,size= (2,20))"
   ]
  },
  {
   "cell_type": "code",
   "execution_count": 105,
   "id": "8f7a37a2",
   "metadata": {},
   "outputs": [
    {
     "data": {
      "text/plain": [
       "array([[22, 24, 16, 22, 12, 11, 11, 14, 24, 12, 19, 20, 11, 13, 10, 21,\n",
       "        14, 11, 24, 21],\n",
       "       [18, 17, 21, 11, 22, 20, 19, 14, 15, 22, 19, 12, 21, 21, 15, 14,\n",
       "        11, 12, 10, 14]])"
      ]
     },
     "execution_count": 105,
     "metadata": {},
     "output_type": "execute_result"
    }
   ],
   "source": [
    "arr"
   ]
  },
  {
   "cell_type": "code",
   "execution_count": 106,
   "id": "35378ecf",
   "metadata": {},
   "outputs": [],
   "source": [
    "arr = np.random.randn(5,10)"
   ]
  },
  {
   "cell_type": "code",
   "execution_count": 107,
   "id": "6b81a6e1",
   "metadata": {},
   "outputs": [
    {
     "data": {
      "text/plain": [
       "array([[ 5.57976644e-01, -7.24762844e-01, -8.24548157e-01,\n",
       "         7.11539820e-01,  9.03646445e-01,  2.27939637e-01,\n",
       "         4.52140736e-01, -1.02349184e+00,  3.72994016e-01,\n",
       "        -9.93918067e-01],\n",
       "       [-1.78143244e+00,  1.19458901e+00,  3.47237928e-04,\n",
       "         3.46586442e-01, -1.12616384e+00,  5.05798031e-01,\n",
       "         3.68338037e-01, -1.86627615e+00,  2.52886840e+00,\n",
       "        -9.07352552e-01],\n",
       "       [-1.11807741e+00,  7.41564275e-01,  1.20529156e+00,\n",
       "        -6.95402945e-01, -3.48492485e-01,  1.06901126e+00,\n",
       "         1.12882223e+00, -2.06728826e+00,  5.40567324e-01,\n",
       "         1.10499754e+00],\n",
       "       [-9.95928662e-01,  3.15490253e-01, -7.81588185e-01,\n",
       "        -8.01973469e-02, -9.16098925e-01,  5.05781390e-01,\n",
       "         1.89161204e-01, -1.78559789e-01,  9.95403358e-01,\n",
       "         5.48791924e-01],\n",
       "       [ 6.12144978e-01, -1.45883888e+00,  2.98188289e-01,\n",
       "         8.49500195e-01,  5.89317985e-01, -1.04281380e+00,\n",
       "        -9.93765438e-01,  1.99838430e+00,  3.18289371e-01,\n",
       "         2.12513475e-01]])"
      ]
     },
     "execution_count": 107,
     "metadata": {},
     "output_type": "execute_result"
    }
   ],
   "source": [
    "arr"
   ]
  },
  {
   "cell_type": "code",
   "execution_count": 108,
   "id": "fa01ccfe",
   "metadata": {},
   "outputs": [],
   "source": [
    "c = []"
   ]
  },
  {
   "cell_type": "code",
   "execution_count": 109,
   "id": "ea09f82e",
   "metadata": {},
   "outputs": [],
   "source": [
    "arr = np.array(c)"
   ]
  },
  {
   "cell_type": "code",
   "execution_count": 110,
   "id": "b9df5a74",
   "metadata": {},
   "outputs": [
    {
     "data": {
      "text/plain": [
       "array([], dtype=float64)"
      ]
     },
     "execution_count": 110,
     "metadata": {},
     "output_type": "execute_result"
    }
   ],
   "source": [
    "arr"
   ]
  },
  {
   "cell_type": "code",
   "execution_count": 111,
   "id": "58a8824c",
   "metadata": {},
   "outputs": [],
   "source": [
    "arr = np.zeros((0,0))"
   ]
  },
  {
   "cell_type": "code",
   "execution_count": 112,
   "id": "d8df6b16",
   "metadata": {},
   "outputs": [
    {
     "data": {
      "text/plain": [
       "array([], shape=(0, 0), dtype=float64)"
      ]
     },
     "execution_count": 112,
     "metadata": {},
     "output_type": "execute_result"
    }
   ],
   "source": [
    "arr"
   ]
  },
  {
   "cell_type": "code",
   "execution_count": 113,
   "id": "8921bbef",
   "metadata": {},
   "outputs": [],
   "source": [
    "arr = np.array((x:=[2,4,5,1,7,8,6,9,6,4]))"
   ]
  },
  {
   "cell_type": "code",
   "execution_count": 114,
   "id": "253b7cad",
   "metadata": {},
   "outputs": [
    {
     "data": {
      "text/plain": [
       "array([2, 4, 5, 1, 7, 8, 6, 9, 6, 4])"
      ]
     },
     "execution_count": 114,
     "metadata": {},
     "output_type": "execute_result"
    }
   ],
   "source": [
    "arr"
   ]
  },
  {
   "cell_type": "markdown",
   "id": "4ecc016c",
   "metadata": {},
   "source": [
    "eye - it create a numpy array having ones at diagonals."
   ]
  },
  {
   "cell_type": "code",
   "execution_count": 115,
   "id": "95002011",
   "metadata": {},
   "outputs": [],
   "source": [
    "arr = np.eye(3)"
   ]
  },
  {
   "cell_type": "code",
   "execution_count": 116,
   "id": "529d3de2",
   "metadata": {},
   "outputs": [
    {
     "data": {
      "text/plain": [
       "array([[1., 0., 0.],\n",
       "       [0., 1., 0.],\n",
       "       [0., 0., 1.]])"
      ]
     },
     "execution_count": 116,
     "metadata": {},
     "output_type": "execute_result"
    }
   ],
   "source": [
    "arr"
   ]
  },
  {
   "cell_type": "code",
   "execution_count": 117,
   "id": "983a1051",
   "metadata": {},
   "outputs": [],
   "source": [
    "arr = np.eye(5,6)"
   ]
  },
  {
   "cell_type": "code",
   "execution_count": 118,
   "id": "a78d1997",
   "metadata": {},
   "outputs": [
    {
     "data": {
      "text/plain": [
       "array([[1., 0., 0., 0., 0., 0.],\n",
       "       [0., 1., 0., 0., 0., 0.],\n",
       "       [0., 0., 1., 0., 0., 0.],\n",
       "       [0., 0., 0., 1., 0., 0.],\n",
       "       [0., 0., 0., 0., 1., 0.]])"
      ]
     },
     "execution_count": 118,
     "metadata": {},
     "output_type": "execute_result"
    }
   ],
   "source": [
    "arr"
   ]
  },
  {
   "cell_type": "code",
   "execution_count": 119,
   "id": "09744240",
   "metadata": {},
   "outputs": [],
   "source": [
    "arr = np.eye(6,4)"
   ]
  },
  {
   "cell_type": "code",
   "execution_count": 120,
   "id": "23efc20b",
   "metadata": {},
   "outputs": [
    {
     "data": {
      "text/plain": [
       "array([[1., 0., 0., 0.],\n",
       "       [0., 1., 0., 0.],\n",
       "       [0., 0., 1., 0.],\n",
       "       [0., 0., 0., 1.],\n",
       "       [0., 0., 0., 0.],\n",
       "       [0., 0., 0., 0.]])"
      ]
     },
     "execution_count": 120,
     "metadata": {},
     "output_type": "execute_result"
    }
   ],
   "source": [
    "arr"
   ]
  },
  {
   "cell_type": "markdown",
   "id": "e17b2eff",
   "metadata": {},
   "source": [
    "logspace - it is used to generate a set of number whose ratio is same not difference in log scale."
   ]
  },
  {
   "cell_type": "code",
   "execution_count": 121,
   "id": "cd948f79",
   "metadata": {},
   "outputs": [],
   "source": [
    "arr = np.logspace(start=-2,stop=3,base=10,num=5)"
   ]
  },
  {
   "cell_type": "code",
   "execution_count": 122,
   "id": "041a03e6",
   "metadata": {},
   "outputs": [
    {
     "data": {
      "text/plain": [
       "array([1.00000000e-02, 1.77827941e-01, 3.16227766e+00, 5.62341325e+01,\n",
       "       1.00000000e+03])"
      ]
     },
     "execution_count": 122,
     "metadata": {},
     "output_type": "execute_result"
    }
   ],
   "source": [
    "arr"
   ]
  },
  {
   "cell_type": "code",
   "execution_count": 123,
   "id": "ba06d566",
   "metadata": {},
   "outputs": [],
   "source": [
    "arr = np.logspace(start=-2,stop=3,base=2,num=6)"
   ]
  },
  {
   "cell_type": "code",
   "execution_count": 124,
   "id": "15d89b8b",
   "metadata": {},
   "outputs": [
    {
     "data": {
      "text/plain": [
       "array([0.25, 0.5 , 1.  , 2.  , 4.  , 8.  ])"
      ]
     },
     "execution_count": 124,
     "metadata": {},
     "output_type": "execute_result"
    }
   ],
   "source": [
    "arr"
   ]
  },
  {
   "cell_type": "markdown",
   "id": "dce5e173",
   "metadata": {},
   "source": [
    "concatenate = it is used to combine two numpy arrays in different axises and can concatenate multiple numpy arrays ."
   ]
  },
  {
   "cell_type": "code",
   "execution_count": 125,
   "id": "96c97515",
   "metadata": {},
   "outputs": [],
   "source": [
    "left_arr = np.random.binomial(n=7,p=0.4,size=(2,6))\n",
    "right_arr = np.random.binomial(n=10,p=0.6,size=(2,6))"
   ]
  },
  {
   "cell_type": "code",
   "execution_count": 160,
   "id": "e2d3d1db",
   "metadata": {},
   "outputs": [],
   "source": [
    "row_wise_concat_arr = np.concatenate((left_arr,right_arr),axis=0)\n",
    "col_wise_concat_arr = np.concatenate((left_arr,right_arr),axis=1)\n"
   ]
  },
  {
   "cell_type": "code",
   "execution_count": 161,
   "id": "569f3818",
   "metadata": {},
   "outputs": [
    {
     "data": {
      "text/plain": [
       "array([[1, 4, 1, 3, 3, 2],\n",
       "       [4, 1, 3, 3, 3, 2],\n",
       "       [4, 9, 4, 7, 7, 5],\n",
       "       [3, 4, 3, 6, 5, 7]])"
      ]
     },
     "execution_count": 161,
     "metadata": {},
     "output_type": "execute_result"
    }
   ],
   "source": [
    "row_wise_concat_arr"
   ]
  },
  {
   "cell_type": "code",
   "execution_count": 128,
   "id": "d8d4bcad",
   "metadata": {},
   "outputs": [
    {
     "data": {
      "text/plain": [
       "array([[1, 4, 1, 3, 3, 2, 4, 9, 4, 7, 7, 5],\n",
       "       [4, 1, 3, 3, 3, 2, 3, 4, 3, 6, 5, 7]])"
      ]
     },
     "execution_count": 128,
     "metadata": {},
     "output_type": "execute_result"
    }
   ],
   "source": [
    "col_wise_concat_arr"
   ]
  },
  {
   "cell_type": "markdown",
   "id": "7b2daef6",
   "metadata": {},
   "source": [
    "delete = it deletes the rows or columns or depths of which axises are given.(in this condition)"
   ]
  },
  {
   "cell_type": "code",
   "execution_count": 129,
   "id": "24584b9c",
   "metadata": {},
   "outputs": [],
   "source": [
    "col_wise_concat_arr = np.delete(col_wise_concat_arr,[1,3],axis=1)"
   ]
  },
  {
   "cell_type": "code",
   "execution_count": 130,
   "id": "aa554b05",
   "metadata": {},
   "outputs": [
    {
     "data": {
      "text/plain": [
       "array([[1, 1, 3, 2, 4, 9, 4, 7, 7, 5],\n",
       "       [4, 3, 3, 2, 3, 4, 3, 6, 5, 7]])"
      ]
     },
     "execution_count": 130,
     "metadata": {},
     "output_type": "execute_result"
    }
   ],
   "source": [
    "col_wise_concat_arr"
   ]
  },
  {
   "cell_type": "code",
   "execution_count": 131,
   "id": "1cf81d0f",
   "metadata": {},
   "outputs": [],
   "source": [
    "row_wise_concat_arr = np.delete(row_wise_concat_arr,[1,3],axis=0)"
   ]
  },
  {
   "cell_type": "code",
   "execution_count": 132,
   "id": "081e8553",
   "metadata": {},
   "outputs": [
    {
     "data": {
      "text/plain": [
       "array([[1, 4, 1, 3, 3, 2],\n",
       "       [4, 9, 4, 7, 7, 5]])"
      ]
     },
     "execution_count": 132,
     "metadata": {},
     "output_type": "execute_result"
    }
   ],
   "source": [
    "row_wise_concat_arr"
   ]
  },
  {
   "cell_type": "markdown",
   "id": "f257e63a",
   "metadata": {},
   "source": [
    "Done -> Concept of boolean masking in numpy arrays ."
   ]
  },
  {
   "cell_type": "code",
   "execution_count": 134,
   "id": "bfa79697",
   "metadata": {},
   "outputs": [],
   "source": [
    "bmask = np.ones((col_wise_concat_arr.shape[1],),dtype=bool)"
   ]
  },
  {
   "cell_type": "code",
   "execution_count": 135,
   "id": "fb866b18",
   "metadata": {},
   "outputs": [
    {
     "data": {
      "text/plain": [
       "array([ True,  True,  True,  True,  True,  True,  True,  True,  True,\n",
       "        True])"
      ]
     },
     "execution_count": 135,
     "metadata": {},
     "output_type": "execute_result"
    }
   ],
   "source": [
    "bmask"
   ]
  },
  {
   "cell_type": "code",
   "execution_count": 136,
   "id": "e8d8b96f",
   "metadata": {},
   "outputs": [],
   "source": [
    "bmask[1]=False\n",
    "bmask[5]=False"
   ]
  },
  {
   "cell_type": "code",
   "execution_count": 137,
   "id": "20bcf456",
   "metadata": {},
   "outputs": [
    {
     "data": {
      "text/plain": [
       "array([ True, False,  True,  True,  True, False,  True,  True,  True,\n",
       "        True])"
      ]
     },
     "execution_count": 137,
     "metadata": {},
     "output_type": "execute_result"
    }
   ],
   "source": [
    "bmask"
   ]
  },
  {
   "cell_type": "code",
   "execution_count": 138,
   "id": "eee6b069",
   "metadata": {},
   "outputs": [
    {
     "data": {
      "text/plain": [
       "array([[1, 3, 2, 4, 4, 7, 7, 5],\n",
       "       [4, 3, 2, 3, 3, 6, 5, 7]])"
      ]
     },
     "execution_count": 138,
     "metadata": {},
     "output_type": "execute_result"
    }
   ],
   "source": [
    "col_wise_concat_arr[:,bmask]"
   ]
  },
  {
   "cell_type": "code",
   "execution_count": 151,
   "id": "282fee49",
   "metadata": {},
   "outputs": [],
   "source": [
    "bmask1=np.ones((row_wise_concat_arr.shape[0],),dtype=bool)"
   ]
  },
  {
   "cell_type": "code",
   "execution_count": 152,
   "id": "7afa5269",
   "metadata": {},
   "outputs": [
    {
     "data": {
      "text/plain": [
       "array([ True,  True,  True,  True])"
      ]
     },
     "execution_count": 152,
     "metadata": {},
     "output_type": "execute_result"
    }
   ],
   "source": [
    "bmask1"
   ]
  },
  {
   "cell_type": "code",
   "execution_count": 153,
   "id": "0e8b0688",
   "metadata": {},
   "outputs": [],
   "source": [
    "bmask1[1]=False\n",
    "bmask1[3]=False"
   ]
  },
  {
   "cell_type": "code",
   "execution_count": 158,
   "id": "5cc743ed",
   "metadata": {},
   "outputs": [
    {
     "data": {
      "text/plain": [
       "array([ True, False,  True, False])"
      ]
     },
     "execution_count": 158,
     "metadata": {},
     "output_type": "execute_result"
    }
   ],
   "source": [
    "bmask1"
   ]
  },
  {
   "cell_type": "code",
   "execution_count": 162,
   "id": "1d44f304",
   "metadata": {},
   "outputs": [
    {
     "data": {
      "text/plain": [
       "array([[1, 4, 1, 3, 3, 2],\n",
       "       [4, 9, 4, 7, 7, 5]])"
      ]
     },
     "execution_count": 162,
     "metadata": {},
     "output_type": "execute_result"
    }
   ],
   "source": [
    "row_wise_concat_arr[bmask1,:]"
   ]
  },
  {
   "cell_type": "code",
   "execution_count": null,
   "id": "f43cebd8",
   "metadata": {},
   "outputs": [],
   "source": []
  }
 ],
 "metadata": {
  "kernelspec": {
   "display_name": ".venv",
   "language": "python",
   "name": "python3"
  },
  "language_info": {
   "codemirror_mode": {
    "name": "ipython",
    "version": 3
   },
   "file_extension": ".py",
   "mimetype": "text/x-python",
   "name": "python",
   "nbconvert_exporter": "python",
   "pygments_lexer": "ipython3",
   "version": "3.12.3"
  }
 },
 "nbformat": 4,
 "nbformat_minor": 5
}
