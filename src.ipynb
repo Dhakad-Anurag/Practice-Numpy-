{
 "cells": [
  {
   "cell_type": "code",
   "execution_count": 1,
   "id": "85a08143",
   "metadata": {},
   "outputs": [],
   "source": [
    "import numpy as np "
   ]
  },
  {
   "cell_type": "code",
   "execution_count": 2,
   "id": "08500b18",
   "metadata": {},
   "outputs": [
    {
     "name": "stdout",
     "output_type": "stream",
     "text": [
      "[1 2 3 6 5 4 8 7 9]\n"
     ]
    }
   ],
   "source": [
    "l = [1,2,3,6,5,4,8,7,9]\n",
    "arr = np.array(l)\n",
    "print(arr)"
   ]
  },
  {
   "cell_type": "code",
   "execution_count": 3,
   "id": "599b1d60",
   "metadata": {},
   "outputs": [
    {
     "data": {
      "text/plain": [
       "array([1, 2, 3, 6, 5, 4, 8, 7, 9])"
      ]
     },
     "execution_count": 3,
     "metadata": {},
     "output_type": "execute_result"
    }
   ],
   "source": [
    "arr"
   ]
  },
  {
   "cell_type": "code",
   "execution_count": 4,
   "id": "03da4083",
   "metadata": {},
   "outputs": [],
   "source": [
    "l2 = [[[1,2,3,],[4,5,6,],[7,8,9],[10,11,12]]]"
   ]
  },
  {
   "cell_type": "code",
   "execution_count": 5,
   "id": "b9ad3d55",
   "metadata": {},
   "outputs": [
    {
     "data": {
      "text/plain": [
       "[[[1, 2, 3], [4, 5, 6], [7, 8, 9], [10, 11, 12]]]"
      ]
     },
     "execution_count": 5,
     "metadata": {},
     "output_type": "execute_result"
    }
   ],
   "source": [
    "l2"
   ]
  },
  {
   "cell_type": "code",
   "execution_count": 6,
   "id": "c3bb4b35",
   "metadata": {},
   "outputs": [
    {
     "data": {
      "text/plain": [
       "(1, 4, 3)"
      ]
     },
     "execution_count": 6,
     "metadata": {},
     "output_type": "execute_result"
    }
   ],
   "source": [
    "np.shape(l2)"
   ]
  },
  {
   "cell_type": "code",
   "execution_count": 7,
   "id": "8ea9f4f9",
   "metadata": {},
   "outputs": [
    {
     "data": {
      "text/plain": [
       "array([1, 2, 3, 6, 5, 4, 8, 7, 9])"
      ]
     },
     "execution_count": 7,
     "metadata": {},
     "output_type": "execute_result"
    }
   ],
   "source": [
    "arr"
   ]
  },
  {
   "cell_type": "code",
   "execution_count": 8,
   "id": "d5d25647",
   "metadata": {},
   "outputs": [
    {
     "data": {
      "text/plain": [
       "array([1, 2, 3, 6, 5, 4, 8, 7, 9])"
      ]
     },
     "execution_count": 8,
     "metadata": {},
     "output_type": "execute_result"
    }
   ],
   "source": [
    "arr"
   ]
  },
  {
   "cell_type": "code",
   "execution_count": 9,
   "id": "6d057b83",
   "metadata": {},
   "outputs": [
    {
     "data": {
      "text/plain": [
       "(9,)"
      ]
     },
     "execution_count": 9,
     "metadata": {},
     "output_type": "execute_result"
    }
   ],
   "source": [
    "arr.shape"
   ]
  },
  {
   "cell_type": "code",
   "execution_count": 10,
   "id": "0228118f",
   "metadata": {},
   "outputs": [],
   "source": [
    "l2 = np.reshape(l2,(3,2,2))"
   ]
  },
  {
   "cell_type": "code",
   "execution_count": 11,
   "id": "6f6b6254",
   "metadata": {},
   "outputs": [
    {
     "data": {
      "text/plain": [
       "(3, 2, 2)"
      ]
     },
     "execution_count": 11,
     "metadata": {},
     "output_type": "execute_result"
    }
   ],
   "source": [
    "np.shape(l2)"
   ]
  },
  {
   "cell_type": "code",
   "execution_count": 12,
   "id": "579008d7",
   "metadata": {},
   "outputs": [
    {
     "name": "stdout",
     "output_type": "stream",
     "text": [
      "[[[ 1  2]\n",
      "  [ 3  4]]\n",
      "\n",
      " [[ 5  6]\n",
      "  [ 7  8]]\n",
      "\n",
      " [[ 9 10]\n",
      "  [11 12]]]\n"
     ]
    }
   ],
   "source": [
    "print(l2)"
   ]
  },
  {
   "cell_type": "code",
   "execution_count": 13,
   "id": "c3942731",
   "metadata": {},
   "outputs": [
    {
     "data": {
      "text/plain": [
       "np.int64(3)"
      ]
     },
     "execution_count": 13,
     "metadata": {},
     "output_type": "execute_result"
    }
   ],
   "source": [
    "l2 [0,1,0]"
   ]
  },
  {
   "cell_type": "code",
   "execution_count": 14,
   "id": "a80037b6",
   "metadata": {},
   "outputs": [
    {
     "data": {
      "text/plain": [
       "np.int64(1)"
      ]
     },
     "execution_count": 14,
     "metadata": {},
     "output_type": "execute_result"
    }
   ],
   "source": [
    "l2 [0,0,0]"
   ]
  },
  {
   "cell_type": "code",
   "execution_count": 15,
   "id": "678f486d",
   "metadata": {},
   "outputs": [
    {
     "data": {
      "text/plain": [
       "array([11, 12])"
      ]
     },
     "execution_count": 15,
     "metadata": {},
     "output_type": "execute_result"
    }
   ],
   "source": [
    "l2 [2,1,:]"
   ]
  },
  {
   "cell_type": "code",
   "execution_count": 16,
   "id": "4a81f0c4",
   "metadata": {},
   "outputs": [],
   "source": [
    "l5 = [1,2,3,4,5,6,7,8,9,10]"
   ]
  },
  {
   "cell_type": "code",
   "execution_count": 17,
   "id": "4828e9b4",
   "metadata": {},
   "outputs": [
    {
     "data": {
      "text/plain": [
       "[1, 2, 3, 4, 5, 6, 7, 8, 9, 10]"
      ]
     },
     "execution_count": 17,
     "metadata": {},
     "output_type": "execute_result"
    }
   ],
   "source": [
    "l5"
   ]
  },
  {
   "cell_type": "code",
   "execution_count": 18,
   "id": "4ac1f311",
   "metadata": {},
   "outputs": [
    {
     "data": {
      "text/plain": [
       "[1, 2, 3, 4, 5, 6, 7, 8, 9, 10, 1, 2, 3, 4, 5, 6, 7, 8, 9, 10]"
      ]
     },
     "execution_count": 18,
     "metadata": {},
     "output_type": "execute_result"
    }
   ],
   "source": [
    "l5 * 2"
   ]
  },
  {
   "cell_type": "code",
   "execution_count": 19,
   "id": "b6de3788",
   "metadata": {},
   "outputs": [],
   "source": [
    "l5 = np.array(l5)"
   ]
  },
  {
   "cell_type": "code",
   "execution_count": 20,
   "id": "72bbfe20",
   "metadata": {},
   "outputs": [
    {
     "data": {
      "text/plain": [
       "array([ 1,  2,  3,  4,  5,  6,  7,  8,  9, 10])"
      ]
     },
     "execution_count": 20,
     "metadata": {},
     "output_type": "execute_result"
    }
   ],
   "source": [
    "l5"
   ]
  },
  {
   "cell_type": "code",
   "execution_count": 21,
   "id": "588ec42f",
   "metadata": {},
   "outputs": [
    {
     "data": {
      "text/plain": [
       "(10,)"
      ]
     },
     "execution_count": 21,
     "metadata": {},
     "output_type": "execute_result"
    }
   ],
   "source": [
    "l5.shape"
   ]
  },
  {
   "cell_type": "code",
   "execution_count": 22,
   "id": "a893c2bb",
   "metadata": {},
   "outputs": [],
   "source": [
    "l5 = l5.reshape(5,2)"
   ]
  },
  {
   "cell_type": "code",
   "execution_count": 23,
   "id": "c5e782a0",
   "metadata": {},
   "outputs": [
    {
     "data": {
      "text/plain": [
       "array([[ 1,  2],\n",
       "       [ 3,  4],\n",
       "       [ 5,  6],\n",
       "       [ 7,  8],\n",
       "       [ 9, 10]])"
      ]
     },
     "execution_count": 23,
     "metadata": {},
     "output_type": "execute_result"
    }
   ],
   "source": [
    "l5"
   ]
  },
  {
   "cell_type": "code",
   "execution_count": 24,
   "id": "f33f3c4e",
   "metadata": {},
   "outputs": [],
   "source": [
    "l6 = [1,2,3,4,5,6,7,8,9,10]"
   ]
  },
  {
   "cell_type": "code",
   "execution_count": 25,
   "id": "4205070b",
   "metadata": {},
   "outputs": [],
   "source": [
    "arr=np.array(l6)"
   ]
  },
  {
   "cell_type": "code",
   "execution_count": 26,
   "id": "3b320e0f",
   "metadata": {},
   "outputs": [
    {
     "data": {
      "text/plain": [
       "array([ 1,  2,  3,  4,  5,  6,  7,  8,  9, 10])"
      ]
     },
     "execution_count": 26,
     "metadata": {},
     "output_type": "execute_result"
    }
   ],
   "source": [
    "arr"
   ]
  },
  {
   "cell_type": "code",
   "execution_count": 27,
   "id": "cf18d670",
   "metadata": {},
   "outputs": [
    {
     "data": {
      "text/plain": [
       "array([ 2,  4,  6,  8, 10, 12, 14, 16, 18, 20])"
      ]
     },
     "execution_count": 27,
     "metadata": {},
     "output_type": "execute_result"
    }
   ],
   "source": [
    "arr* 2"
   ]
  },
  {
   "cell_type": "code",
   "execution_count": 28,
   "id": "c3f99346",
   "metadata": {},
   "outputs": [
    {
     "data": {
      "text/plain": [
       "array([ 3,  4,  5,  6,  7,  8,  9, 10, 11, 12])"
      ]
     },
     "execution_count": 28,
     "metadata": {},
     "output_type": "execute_result"
    }
   ],
   "source": [
    "arr + 2"
   ]
  },
  {
   "cell_type": "code",
   "execution_count": 29,
   "id": "1e672f61",
   "metadata": {},
   "outputs": [
    {
     "data": {
      "text/plain": [
       "array([-1,  0,  1,  2,  3,  4,  5,  6,  7,  8])"
      ]
     },
     "execution_count": 29,
     "metadata": {},
     "output_type": "execute_result"
    }
   ],
   "source": [
    "arr - 2"
   ]
  },
  {
   "cell_type": "code",
   "execution_count": 30,
   "id": "7fbf08e8",
   "metadata": {},
   "outputs": [
    {
     "data": {
      "text/plain": [
       "(10,)"
      ]
     },
     "execution_count": 30,
     "metadata": {},
     "output_type": "execute_result"
    }
   ],
   "source": [
    "arr.shape\n"
   ]
  },
  {
   "cell_type": "code",
   "execution_count": 31,
   "id": "a96102c3",
   "metadata": {},
   "outputs": [],
   "source": [
    "arr = arr.reshape(2,5)"
   ]
  },
  {
   "cell_type": "code",
   "execution_count": 32,
   "id": "c776bf6b",
   "metadata": {},
   "outputs": [
    {
     "data": {
      "text/plain": [
       "array([[ 1,  2,  3,  4,  5],\n",
       "       [ 6,  7,  8,  9, 10]])"
      ]
     },
     "execution_count": 32,
     "metadata": {},
     "output_type": "execute_result"
    }
   ],
   "source": [
    "arr\n"
   ]
  },
  {
   "cell_type": "code",
   "execution_count": 33,
   "id": "58680c17",
   "metadata": {},
   "outputs": [],
   "source": [
    "l7 = np.array([1,2,3,4,5,6,7,8,9,10,11,12])"
   ]
  },
  {
   "cell_type": "code",
   "execution_count": 34,
   "id": "af6adb14",
   "metadata": {},
   "outputs": [
    {
     "data": {
      "text/plain": [
       "array([ 1,  2,  3,  4,  5,  6,  7,  8,  9, 10, 11, 12])"
      ]
     },
     "execution_count": 34,
     "metadata": {},
     "output_type": "execute_result"
    }
   ],
   "source": [
    "l7"
   ]
  },
  {
   "cell_type": "code",
   "execution_count": 35,
   "id": "df5c681e",
   "metadata": {},
   "outputs": [
    {
     "data": {
      "text/plain": [
       "(12,)"
      ]
     },
     "execution_count": 35,
     "metadata": {},
     "output_type": "execute_result"
    }
   ],
   "source": [
    "l7.shape"
   ]
  },
  {
   "cell_type": "code",
   "execution_count": 36,
   "id": "104d435d",
   "metadata": {},
   "outputs": [],
   "source": [
    "l8 = np.array([1,8,4,5,6,9,7,1,2,20,11,13])"
   ]
  },
  {
   "cell_type": "code",
   "execution_count": 37,
   "id": "77d046ec",
   "metadata": {},
   "outputs": [
    {
     "data": {
      "text/plain": [
       "array([ 1,  8,  4,  5,  6,  9,  7,  1,  2, 20, 11, 13])"
      ]
     },
     "execution_count": 37,
     "metadata": {},
     "output_type": "execute_result"
    }
   ],
   "source": [
    "l8"
   ]
  },
  {
   "cell_type": "code",
   "execution_count": 38,
   "id": "c9256262",
   "metadata": {},
   "outputs": [
    {
     "data": {
      "text/plain": [
       "(12,)"
      ]
     },
     "execution_count": 38,
     "metadata": {},
     "output_type": "execute_result"
    }
   ],
   "source": [
    "l8.shape"
   ]
  },
  {
   "cell_type": "code",
   "execution_count": 39,
   "id": "d54dd835",
   "metadata": {},
   "outputs": [],
   "source": [
    "l8 = l8.reshape(1,12)"
   ]
  },
  {
   "cell_type": "code",
   "execution_count": 40,
   "id": "5566a5b3",
   "metadata": {},
   "outputs": [
    {
     "data": {
      "text/plain": [
       "(1, 12)"
      ]
     },
     "execution_count": 40,
     "metadata": {},
     "output_type": "execute_result"
    }
   ],
   "source": [
    "l8.shape"
   ]
  },
  {
   "cell_type": "code",
   "execution_count": 41,
   "id": "1b60114e",
   "metadata": {},
   "outputs": [],
   "source": [
    "l9 = l8 + l7"
   ]
  },
  {
   "cell_type": "code",
   "execution_count": 42,
   "id": "702c8a15",
   "metadata": {},
   "outputs": [
    {
     "data": {
      "text/plain": [
       "array([[ 2, 10,  7,  9, 11, 15, 14,  9, 11, 30, 22, 25]])"
      ]
     },
     "execution_count": 42,
     "metadata": {},
     "output_type": "execute_result"
    }
   ],
   "source": [
    "l9 "
   ]
  },
  {
   "cell_type": "code",
   "execution_count": 43,
   "id": "9dd90f80",
   "metadata": {},
   "outputs": [
    {
     "data": {
      "text/plain": [
       "(1, 12)"
      ]
     },
     "execution_count": 43,
     "metadata": {},
     "output_type": "execute_result"
    }
   ],
   "source": [
    "l9.shape"
   ]
  },
  {
   "cell_type": "code",
   "execution_count": 44,
   "id": "4de1f333",
   "metadata": {},
   "outputs": [],
   "source": [
    "l10 = np.array([1,5,8,7,4,6,9,2,3,6,5,4,7,8])"
   ]
  },
  {
   "cell_type": "code",
   "execution_count": 45,
   "id": "9f5c2791",
   "metadata": {},
   "outputs": [
    {
     "data": {
      "text/plain": [
       "array([1, 5, 8, 7, 4, 6, 9, 2, 3, 6, 5, 4, 7, 8])"
      ]
     },
     "execution_count": 45,
     "metadata": {},
     "output_type": "execute_result"
    }
   ],
   "source": [
    "l10"
   ]
  },
  {
   "cell_type": "code",
   "execution_count": 46,
   "id": "efd88145",
   "metadata": {},
   "outputs": [
    {
     "data": {
      "text/plain": [
       "(14,)"
      ]
     },
     "execution_count": 46,
     "metadata": {},
     "output_type": "execute_result"
    }
   ],
   "source": [
    "l10.shape"
   ]
  },
  {
   "cell_type": "code",
   "execution_count": 47,
   "id": "3eb38111",
   "metadata": {},
   "outputs": [],
   "source": [
    "l10 = l10.reshape(14,1)"
   ]
  },
  {
   "cell_type": "code",
   "execution_count": 48,
   "id": "1222c0b5",
   "metadata": {},
   "outputs": [],
   "source": [
    "l11 = l10 + l7"
   ]
  },
  {
   "cell_type": "code",
   "execution_count": 49,
   "id": "34c53ced",
   "metadata": {},
   "outputs": [
    {
     "data": {
      "text/plain": [
       "array([[ 2,  3,  4,  5,  6,  7,  8,  9, 10, 11, 12, 13],\n",
       "       [ 6,  7,  8,  9, 10, 11, 12, 13, 14, 15, 16, 17],\n",
       "       [ 9, 10, 11, 12, 13, 14, 15, 16, 17, 18, 19, 20],\n",
       "       [ 8,  9, 10, 11, 12, 13, 14, 15, 16, 17, 18, 19],\n",
       "       [ 5,  6,  7,  8,  9, 10, 11, 12, 13, 14, 15, 16],\n",
       "       [ 7,  8,  9, 10, 11, 12, 13, 14, 15, 16, 17, 18],\n",
       "       [10, 11, 12, 13, 14, 15, 16, 17, 18, 19, 20, 21],\n",
       "       [ 3,  4,  5,  6,  7,  8,  9, 10, 11, 12, 13, 14],\n",
       "       [ 4,  5,  6,  7,  8,  9, 10, 11, 12, 13, 14, 15],\n",
       "       [ 7,  8,  9, 10, 11, 12, 13, 14, 15, 16, 17, 18],\n",
       "       [ 6,  7,  8,  9, 10, 11, 12, 13, 14, 15, 16, 17],\n",
       "       [ 5,  6,  7,  8,  9, 10, 11, 12, 13, 14, 15, 16],\n",
       "       [ 8,  9, 10, 11, 12, 13, 14, 15, 16, 17, 18, 19],\n",
       "       [ 9, 10, 11, 12, 13, 14, 15, 16, 17, 18, 19, 20]])"
      ]
     },
     "execution_count": 49,
     "metadata": {},
     "output_type": "execute_result"
    }
   ],
   "source": [
    "l11"
   ]
  },
  {
   "cell_type": "code",
   "execution_count": 50,
   "id": "8fbff51f",
   "metadata": {},
   "outputs": [],
   "source": [
    "l12 = np.array([1,2,3,4,5,6,7,8,9,10,11,12,13,14,15,16,17,18,19,20,21,22,23,24])"
   ]
  },
  {
   "cell_type": "code",
   "execution_count": 51,
   "id": "a0516566",
   "metadata": {},
   "outputs": [],
   "source": [
    "l12 = l12.reshape(2,12)"
   ]
  },
  {
   "cell_type": "code",
   "execution_count": 52,
   "id": "0ef10b4e",
   "metadata": {},
   "outputs": [],
   "source": [
    "l13 = l12 + l7"
   ]
  },
  {
   "cell_type": "code",
   "execution_count": 53,
   "id": "a2a3617c",
   "metadata": {},
   "outputs": [
    {
     "data": {
      "text/plain": [
       "(2, 12)"
      ]
     },
     "execution_count": 53,
     "metadata": {},
     "output_type": "execute_result"
    }
   ],
   "source": [
    "l13.shape"
   ]
  },
  {
   "cell_type": "code",
   "execution_count": 54,
   "id": "2a2b21af",
   "metadata": {},
   "outputs": [],
   "source": [
    "l12 = l12.reshape(2,12)"
   ]
  },
  {
   "cell_type": "code",
   "execution_count": 55,
   "id": "9b27237f",
   "metadata": {},
   "outputs": [],
   "source": [
    "l13 = l7 + l12"
   ]
  },
  {
   "cell_type": "markdown",
   "id": "5691f180",
   "metadata": {},
   "source": [
    "to add two matrix(array) we have to make their y-axis or columns of same value."
   ]
  },
  {
   "cell_type": "code",
   "execution_count": 56,
   "id": "a59d78ed",
   "metadata": {},
   "outputs": [
    {
     "data": {
      "text/plain": [
       "array([[ 2,  4,  6,  8, 10, 12, 14, 16, 18, 20, 22, 24],\n",
       "       [14, 16, 18, 20, 22, 24, 26, 28, 30, 32, 34, 36]])"
      ]
     },
     "execution_count": 56,
     "metadata": {},
     "output_type": "execute_result"
    }
   ],
   "source": [
    "l13"
   ]
  },
  {
   "cell_type": "code",
   "execution_count": 57,
   "id": "7a311702",
   "metadata": {},
   "outputs": [
    {
     "data": {
      "text/plain": [
       "(12,)"
      ]
     },
     "execution_count": 57,
     "metadata": {},
     "output_type": "execute_result"
    }
   ],
   "source": [
    "l7.shape"
   ]
  },
  {
   "cell_type": "code",
   "execution_count": 58,
   "id": "3b90e847",
   "metadata": {},
   "outputs": [
    {
     "data": {
      "text/plain": [
       "(2, 12)"
      ]
     },
     "execution_count": 58,
     "metadata": {},
     "output_type": "execute_result"
    }
   ],
   "source": [
    "l12.shape"
   ]
  },
  {
   "cell_type": "code",
   "execution_count": 59,
   "id": "6fbacd72",
   "metadata": {},
   "outputs": [
    {
     "data": {
      "text/plain": [
       "(1, 12)"
      ]
     },
     "execution_count": 59,
     "metadata": {},
     "output_type": "execute_result"
    }
   ],
   "source": [
    "l9.shape"
   ]
  },
  {
   "cell_type": "code",
   "execution_count": 60,
   "id": "9363b45b",
   "metadata": {},
   "outputs": [],
   "source": [
    "arr1=l9+l12"
   ]
  },
  {
   "cell_type": "code",
   "execution_count": 61,
   "id": "5c9d9cde",
   "metadata": {},
   "outputs": [
    {
     "data": {
      "text/plain": [
       "array([[ 3, 12, 10, 13, 16, 21, 21, 17, 20, 40, 33, 37],\n",
       "       [15, 24, 22, 25, 28, 33, 33, 29, 32, 52, 45, 49]])"
      ]
     },
     "execution_count": 61,
     "metadata": {},
     "output_type": "execute_result"
    }
   ],
   "source": [
    "arr1"
   ]
  },
  {
   "cell_type": "code",
   "execution_count": 62,
   "id": "d9bb9a02",
   "metadata": {},
   "outputs": [],
   "source": [
    "arr3=l9.reshape(1,12)"
   ]
  },
  {
   "cell_type": "code",
   "execution_count": 63,
   "id": "a202de28",
   "metadata": {},
   "outputs": [
    {
     "data": {
      "text/plain": [
       "array([[ 2, 10,  7,  9, 11, 15, 14,  9, 11, 30, 22, 25]])"
      ]
     },
     "execution_count": 63,
     "metadata": {},
     "output_type": "execute_result"
    }
   ],
   "source": [
    "arr3"
   ]
  },
  {
   "cell_type": "code",
   "execution_count": 64,
   "id": "7addc66c",
   "metadata": {},
   "outputs": [
    {
     "data": {
      "text/plain": [
       "(1, 12)"
      ]
     },
     "execution_count": 64,
     "metadata": {},
     "output_type": "execute_result"
    }
   ],
   "source": [
    "arr3.shape\n"
   ]
  },
  {
   "cell_type": "code",
   "execution_count": 65,
   "id": "f92e5808",
   "metadata": {},
   "outputs": [],
   "source": [
    "arr2 = l9+l7"
   ]
  },
  {
   "cell_type": "code",
   "execution_count": 66,
   "id": "81763a67",
   "metadata": {},
   "outputs": [
    {
     "data": {
      "text/plain": [
       "array([[ 3, 12, 10, 13, 16, 21, 21, 17, 20, 40, 33, 37]])"
      ]
     },
     "execution_count": 66,
     "metadata": {},
     "output_type": "execute_result"
    }
   ],
   "source": [
    "arr2"
   ]
  },
  {
   "cell_type": "code",
   "execution_count": 67,
   "id": "3b48fcb7",
   "metadata": {},
   "outputs": [
    {
     "data": {
      "text/plain": [
       "(12,)"
      ]
     },
     "execution_count": 67,
     "metadata": {},
     "output_type": "execute_result"
    }
   ],
   "source": [
    "l7.shape"
   ]
  },
  {
   "cell_type": "code",
   "execution_count": 68,
   "id": "7d11300a",
   "metadata": {},
   "outputs": [],
   "source": [
    "arr4=l7+l9"
   ]
  },
  {
   "cell_type": "code",
   "execution_count": 69,
   "id": "1476814c",
   "metadata": {},
   "outputs": [
    {
     "data": {
      "text/plain": [
       "array([[ 3, 12, 10, 13, 16, 21, 21, 17, 20, 40, 33, 37]])"
      ]
     },
     "execution_count": 69,
     "metadata": {},
     "output_type": "execute_result"
    }
   ],
   "source": [
    "arr4"
   ]
  },
  {
   "cell_type": "code",
   "execution_count": 70,
   "id": "e83d8681",
   "metadata": {},
   "outputs": [],
   "source": [
    "arr5 = arr4+arr3"
   ]
  },
  {
   "cell_type": "code",
   "execution_count": 71,
   "id": "49108057",
   "metadata": {},
   "outputs": [
    {
     "data": {
      "text/plain": [
       "array([[ 5, 22, 17, 22, 27, 36, 35, 26, 31, 70, 55, 62]])"
      ]
     },
     "execution_count": 71,
     "metadata": {},
     "output_type": "execute_result"
    }
   ],
   "source": [
    "arr5"
   ]
  },
  {
   "cell_type": "code",
   "execution_count": 72,
   "id": "c6788411",
   "metadata": {},
   "outputs": [],
   "source": [
    "arr6=l9.reshape(2,6)    "
   ]
  },
  {
   "cell_type": "code",
   "execution_count": 73,
   "id": "adf294c6",
   "metadata": {},
   "outputs": [],
   "source": [
    "arr7=l7.reshape(2,6)"
   ]
  },
  {
   "cell_type": "code",
   "execution_count": 74,
   "id": "87663de4",
   "metadata": {},
   "outputs": [],
   "source": [
    "arr8=arr6+arr7"
   ]
  },
  {
   "cell_type": "code",
   "execution_count": 75,
   "id": "4a1074f8",
   "metadata": {},
   "outputs": [
    {
     "data": {
      "text/plain": [
       "array([[ 3, 12, 10, 13, 16, 21],\n",
       "       [21, 17, 20, 40, 33, 37]])"
      ]
     },
     "execution_count": 75,
     "metadata": {},
     "output_type": "execute_result"
    }
   ],
   "source": [
    "arr8"
   ]
  },
  {
   "cell_type": "markdown",
   "id": "c4cda1cb",
   "metadata": {},
   "source": [
    "zeros = it is used to make an array of values = 0"
   ]
  },
  {
   "cell_type": "code",
   "execution_count": 76,
   "id": "9bbaee7d",
   "metadata": {},
   "outputs": [],
   "source": [
    "arr9 = np.zeros((2,10))"
   ]
  },
  {
   "cell_type": "code",
   "execution_count": 141,
   "id": "91f9163e",
   "metadata": {},
   "outputs": [],
   "source": [
    "arr = np.ones((4,8),dtype=int)"
   ]
  },
  {
   "cell_type": "code",
   "execution_count": 142,
   "id": "c6170538",
   "metadata": {},
   "outputs": [
    {
     "data": {
      "text/plain": [
       "array([[1, 1, 1, 1, 1, 1, 1, 1],\n",
       "       [1, 1, 1, 1, 1, 1, 1, 1],\n",
       "       [1, 1, 1, 1, 1, 1, 1, 1],\n",
       "       [1, 1, 1, 1, 1, 1, 1, 1]])"
      ]
     },
     "execution_count": 142,
     "metadata": {},
     "output_type": "execute_result"
    }
   ],
   "source": [
    "arr"
   ]
  },
  {
   "cell_type": "code",
   "execution_count": 148,
   "id": "6172ebb5",
   "metadata": {},
   "outputs": [],
   "source": [
    "arr = arr.reshape(8,1,1,1,1,1,1,4)"
   ]
  },
  {
   "cell_type": "code",
   "execution_count": 149,
   "id": "39b4f5da",
   "metadata": {},
   "outputs": [
    {
     "data": {
      "text/plain": [
       "array([[[[[[[[1, 1, 1, 1]]]]]]],\n",
       "\n",
       "\n",
       "\n",
       "\n",
       "\n",
       "\n",
       "       [[[[[[[1, 1, 1, 1]]]]]]],\n",
       "\n",
       "\n",
       "\n",
       "\n",
       "\n",
       "\n",
       "       [[[[[[[1, 1, 1, 1]]]]]]],\n",
       "\n",
       "\n",
       "\n",
       "\n",
       "\n",
       "\n",
       "       [[[[[[[1, 1, 1, 1]]]]]]],\n",
       "\n",
       "\n",
       "\n",
       "\n",
       "\n",
       "\n",
       "       [[[[[[[1, 1, 1, 1]]]]]]],\n",
       "\n",
       "\n",
       "\n",
       "\n",
       "\n",
       "\n",
       "       [[[[[[[1, 1, 1, 1]]]]]]],\n",
       "\n",
       "\n",
       "\n",
       "\n",
       "\n",
       "\n",
       "       [[[[[[[1, 1, 1, 1]]]]]]],\n",
       "\n",
       "\n",
       "\n",
       "\n",
       "\n",
       "\n",
       "       [[[[[[[1, 1, 1, 1]]]]]]]])"
      ]
     },
     "execution_count": 149,
     "metadata": {},
     "output_type": "execute_result"
    }
   ],
   "source": [
    "arr"
   ]
  },
  {
   "cell_type": "code",
   "execution_count": 77,
   "id": "489c75b5",
   "metadata": {},
   "outputs": [
    {
     "data": {
      "text/plain": [
       "array([[0., 0., 0., 0., 0., 0., 0., 0., 0., 0.],\n",
       "       [0., 0., 0., 0., 0., 0., 0., 0., 0., 0.]])"
      ]
     },
     "execution_count": 77,
     "metadata": {},
     "output_type": "execute_result"
    }
   ],
   "source": [
    "arr9"
   ]
  },
  {
   "cell_type": "code",
   "execution_count": 78,
   "id": "dd135266",
   "metadata": {},
   "outputs": [],
   "source": [
    "arr9=np.zeros((5,10),dtype=int)\n"
   ]
  },
  {
   "cell_type": "code",
   "execution_count": 79,
   "id": "40039d7f",
   "metadata": {},
   "outputs": [
    {
     "data": {
      "text/plain": [
       "array([[0, 0, 0, 0, 0, 0, 0, 0, 0, 0],\n",
       "       [0, 0, 0, 0, 0, 0, 0, 0, 0, 0],\n",
       "       [0, 0, 0, 0, 0, 0, 0, 0, 0, 0],\n",
       "       [0, 0, 0, 0, 0, 0, 0, 0, 0, 0],\n",
       "       [0, 0, 0, 0, 0, 0, 0, 0, 0, 0]])"
      ]
     },
     "execution_count": 79,
     "metadata": {},
     "output_type": "execute_result"
    }
   ],
   "source": [
    "arr9"
   ]
  },
  {
   "cell_type": "markdown",
   "id": "093edf01",
   "metadata": {},
   "source": [
    "ones = it is used to generate an array of ony unit digits ."
   ]
  },
  {
   "cell_type": "code",
   "execution_count": 80,
   "id": "2896a189",
   "metadata": {},
   "outputs": [],
   "source": [
    "arr = np.ones((9,15))"
   ]
  },
  {
   "cell_type": "code",
   "execution_count": 81,
   "id": "e714ce2f",
   "metadata": {},
   "outputs": [
    {
     "data": {
      "text/plain": [
       "array([[1., 1., 1., 1., 1., 1., 1., 1., 1., 1., 1., 1., 1., 1., 1.],\n",
       "       [1., 1., 1., 1., 1., 1., 1., 1., 1., 1., 1., 1., 1., 1., 1.],\n",
       "       [1., 1., 1., 1., 1., 1., 1., 1., 1., 1., 1., 1., 1., 1., 1.],\n",
       "       [1., 1., 1., 1., 1., 1., 1., 1., 1., 1., 1., 1., 1., 1., 1.],\n",
       "       [1., 1., 1., 1., 1., 1., 1., 1., 1., 1., 1., 1., 1., 1., 1.],\n",
       "       [1., 1., 1., 1., 1., 1., 1., 1., 1., 1., 1., 1., 1., 1., 1.],\n",
       "       [1., 1., 1., 1., 1., 1., 1., 1., 1., 1., 1., 1., 1., 1., 1.],\n",
       "       [1., 1., 1., 1., 1., 1., 1., 1., 1., 1., 1., 1., 1., 1., 1.],\n",
       "       [1., 1., 1., 1., 1., 1., 1., 1., 1., 1., 1., 1., 1., 1., 1.]])"
      ]
     },
     "execution_count": 81,
     "metadata": {},
     "output_type": "execute_result"
    }
   ],
   "source": [
    "arr"
   ]
  },
  {
   "cell_type": "markdown",
   "id": "351a1eae",
   "metadata": {},
   "source": [
    "empty = it is used to get an array of randomly generated values or garbage values ."
   ]
  },
  {
   "cell_type": "code",
   "execution_count": 82,
   "id": "7bdea4af",
   "metadata": {},
   "outputs": [],
   "source": [
    "arr = np.empty((4,6))"
   ]
  },
  {
   "cell_type": "code",
   "execution_count": 83,
   "id": "aa66d3e3",
   "metadata": {},
   "outputs": [
    {
     "data": {
      "text/plain": [
       "array([[3.70401858e-315, 0.00000000e+000, 3.45845952e-323,\n",
       "        4.44659081e-323, 5.43472210e-323, 7.41098469e-323],\n",
       "       [6.91691904e-323, 4.44659081e-323, 5.43472210e-323,\n",
       "        1.48219694e-322, 1.08694442e-322, 1.23516411e-322],\n",
       "       [9.88131292e-324, 4.94065646e-323, 3.45845952e-323,\n",
       "        4.44659081e-323, 5.43472210e-323, 7.41098469e-323],\n",
       "       [6.91691904e-323, 4.44659081e-323, 5.43472210e-323,\n",
       "        1.48219694e-322, 1.08694442e-322, 1.23516411e-322]])"
      ]
     },
     "execution_count": 83,
     "metadata": {},
     "output_type": "execute_result"
    }
   ],
   "source": [
    "arr"
   ]
  },
  {
   "cell_type": "code",
   "execution_count": 84,
   "id": "3205ef36",
   "metadata": {},
   "outputs": [],
   "source": [
    "arr = np.empty((4,6),dtype=int)"
   ]
  },
  {
   "cell_type": "code",
   "execution_count": 85,
   "id": "80fc1490",
   "metadata": {},
   "outputs": [
    {
     "data": {
      "text/plain": [
       "array([[749701707,         0,         7,         9,        11,        15],\n",
       "       [       14,         9,        11,        30,        22,        25],\n",
       "       [        2,        10,         7,         9,        11,        15],\n",
       "       [       14,         9,        11,        30,        22,        25]])"
      ]
     },
     "execution_count": 85,
     "metadata": {},
     "output_type": "execute_result"
    }
   ],
   "source": [
    "arr "
   ]
  },
  {
   "cell_type": "markdown",
   "id": "32f89f4d",
   "metadata": {},
   "source": [
    "arange = it is used to get an array of desired staring point & ending point with how much differnce we want in the two values ."
   ]
  },
  {
   "cell_type": "code",
   "execution_count": 86,
   "id": "317fa2a2",
   "metadata": {},
   "outputs": [],
   "source": [
    "arr = np.arange(0,20,2.5,dtype=np.float64)"
   ]
  },
  {
   "cell_type": "code",
   "execution_count": 87,
   "id": "53bdacde",
   "metadata": {},
   "outputs": [
    {
     "data": {
      "text/plain": [
       "array([ 0. ,  2.5,  5. ,  7.5, 10. , 12.5, 15. , 17.5])"
      ]
     },
     "execution_count": 87,
     "metadata": {},
     "output_type": "execute_result"
    }
   ],
   "source": [
    "arr"
   ]
  },
  {
   "cell_type": "markdown",
   "id": "439f35d3",
   "metadata": {},
   "source": [
    "linspace = it is used to make an array of desired staring point & ending point with how much values we want then the funtion will generate the gap itself according to the values "
   ]
  },
  {
   "cell_type": "code",
   "execution_count": 88,
   "id": "bb015bf9",
   "metadata": {},
   "outputs": [],
   "source": [
    "arr = np.linspace(0,10,20)"
   ]
  },
  {
   "cell_type": "code",
   "execution_count": 89,
   "id": "1ba7249f",
   "metadata": {},
   "outputs": [
    {
     "data": {
      "text/plain": [
       "array([ 0.        ,  0.52631579,  1.05263158,  1.57894737,  2.10526316,\n",
       "        2.63157895,  3.15789474,  3.68421053,  4.21052632,  4.73684211,\n",
       "        5.26315789,  5.78947368,  6.31578947,  6.84210526,  7.36842105,\n",
       "        7.89473684,  8.42105263,  8.94736842,  9.47368421, 10.        ])"
      ]
     },
     "execution_count": 89,
     "metadata": {},
     "output_type": "execute_result"
    }
   ],
   "source": [
    "arr"
   ]
  },
  {
   "cell_type": "code",
   "execution_count": 90,
   "id": "65f75694",
   "metadata": {},
   "outputs": [],
   "source": [
    "arr = np.random.binomial(n=6,p=0.6,size=(2,5))"
   ]
  },
  {
   "cell_type": "code",
   "execution_count": 91,
   "id": "a7341530",
   "metadata": {},
   "outputs": [
    {
     "data": {
      "text/plain": [
       "array([[5, 6, 4, 2, 5],\n",
       "       [3, 4, 5, 3, 4]])"
      ]
     },
     "execution_count": 91,
     "metadata": {},
     "output_type": "execute_result"
    }
   ],
   "source": [
    "arr"
   ]
  },
  {
   "cell_type": "code",
   "execution_count": 92,
   "id": "b55a446f",
   "metadata": {},
   "outputs": [],
   "source": [
    "arr = np.random.binomial(n=1,p=0.5,size=(2,5))"
   ]
  },
  {
   "cell_type": "code",
   "execution_count": 93,
   "id": "44a08abb",
   "metadata": {},
   "outputs": [
    {
     "data": {
      "text/plain": [
       "array([[1, 0, 0, 0, 1],\n",
       "       [0, 0, 0, 0, 0]])"
      ]
     },
     "execution_count": 93,
     "metadata": {},
     "output_type": "execute_result"
    }
   ],
   "source": [
    "arr"
   ]
  },
  {
   "cell_type": "code",
   "execution_count": 94,
   "id": "6fcbe2d3",
   "metadata": {},
   "outputs": [],
   "source": [
    "arr = np.random.multivariate_normal(mean=[1,1,1,1],cov=[[1,0,0,0],[0,1,0,0],[0,0,1,0],[0,0,0,1]],size=10)"
   ]
  },
  {
   "cell_type": "code",
   "execution_count": 95,
   "id": "0a08cc60",
   "metadata": {},
   "outputs": [
    {
     "data": {
      "text/plain": [
       "array([[ 3.01032396,  1.73212656, -1.0342936 ,  0.01236265],\n",
       "       [ 3.12989305,  1.05267617,  0.41578984,  1.03557332],\n",
       "       [ 2.80382033,  1.07219392,  0.46018547,  1.17862549],\n",
       "       [ 2.1238067 ,  2.40417933,  1.98407812,  0.83730025],\n",
       "       [ 0.3690314 ,  1.48268382,  1.47213543,  1.72690413],\n",
       "       [-0.41855185, -0.17926819,  1.68786236,  0.50631412],\n",
       "       [ 1.33254346,  0.89210512,  1.99666804,  3.69552757],\n",
       "       [ 0.57302779,  0.86956439,  0.09677798,  2.00675157],\n",
       "       [ 1.4365046 ,  0.80732382,  1.9355582 ,  0.0251639 ],\n",
       "       [ 3.76571991, -0.98583067,  2.33693508,  1.57770308]])"
      ]
     },
     "execution_count": 95,
     "metadata": {},
     "output_type": "execute_result"
    }
   ],
   "source": [
    "arr"
   ]
  },
  {
   "cell_type": "code",
   "execution_count": 96,
   "id": "e57d3219",
   "metadata": {},
   "outputs": [],
   "source": [
    "arr = np.random.multivariate_normal(mean=[1,2,3,4],cov=[[1,0,0,0],[0,2,0,0],[0,0,3,0],[0,0,0,4]],size=10)"
   ]
  },
  {
   "cell_type": "code",
   "execution_count": 97,
   "id": "cdaba28b",
   "metadata": {},
   "outputs": [
    {
     "data": {
      "text/plain": [
       "array([[ 0.34867111,  1.42944271,  3.25790664,  5.86770015],\n",
       "       [ 2.14170134,  1.31681486,  2.91102336,  7.50056508],\n",
       "       [ 1.79594713,  1.96329587,  6.80844114,  4.69455036],\n",
       "       [ 1.46794026,  2.89123281,  2.62191929,  8.05995494],\n",
       "       [-1.23447912,  2.10882568,  5.81394684,  4.64893342],\n",
       "       [ 2.17647331,  2.23901671,  4.4783167 ,  5.18391536],\n",
       "       [ 0.09014581, -0.80378785,  3.33531585,  6.07540375],\n",
       "       [ 1.80965063,  2.18311326,  3.20789784,  5.72622545],\n",
       "       [ 1.42404117,  3.29068158,  3.75267696,  5.73725039],\n",
       "       [ 2.835248  ,  3.19663734,  2.03713307,  4.08939976]])"
      ]
     },
     "execution_count": 97,
     "metadata": {},
     "output_type": "execute_result"
    }
   ],
   "source": [
    "arr"
   ]
  },
  {
   "cell_type": "code",
   "execution_count": 98,
   "id": "4c81fa76",
   "metadata": {},
   "outputs": [],
   "source": [
    "arr = np.random.normal(loc=5,scale=1,size=(2,10))"
   ]
  },
  {
   "cell_type": "code",
   "execution_count": 99,
   "id": "4b8028cb",
   "metadata": {},
   "outputs": [
    {
     "data": {
      "text/plain": [
       "array([[5.75403745, 2.55198188, 5.97391076, 4.76562596, 5.41863948,\n",
       "        5.57150607, 4.50696035, 4.51563596, 4.40272973, 4.09000048],\n",
       "       [4.04857696, 5.91605902, 6.31235566, 6.40746086, 6.50957504,\n",
       "        6.47105742, 2.88468131, 4.37279122, 2.90653076, 5.7361838 ]])"
      ]
     },
     "execution_count": 99,
     "metadata": {},
     "output_type": "execute_result"
    }
   ],
   "source": [
    "arr"
   ]
  },
  {
   "cell_type": "code",
   "execution_count": 100,
   "id": "e7beee8d",
   "metadata": {},
   "outputs": [],
   "source": [
    "arr_mean=np.mean(arr)"
   ]
  },
  {
   "cell_type": "code",
   "execution_count": 101,
   "id": "3e59e668",
   "metadata": {},
   "outputs": [
    {
     "data": {
      "text/plain": [
       "np.float64(4.955815008318452)"
      ]
     },
     "execution_count": 101,
     "metadata": {},
     "output_type": "execute_result"
    }
   ],
   "source": [
    "arr_mean"
   ]
  },
  {
   "cell_type": "code",
   "execution_count": 102,
   "id": "44ff1ba8",
   "metadata": {},
   "outputs": [],
   "source": [
    "arr = np.random.rand(10,10)"
   ]
  },
  {
   "cell_type": "code",
   "execution_count": 103,
   "id": "1242be79",
   "metadata": {},
   "outputs": [
    {
     "data": {
      "text/plain": [
       "array([[0.13150833, 0.23876145, 0.43469879, 0.18237559, 0.20802554,\n",
       "        0.31733377, 0.40152987, 0.56065929, 0.3417839 , 0.39308883],\n",
       "       [0.93439903, 0.84747022, 0.73194477, 0.81759529, 0.78962049,\n",
       "        0.9814536 , 0.73737436, 0.21496806, 0.00731738, 0.89134007],\n",
       "       [0.82701812, 0.25073745, 0.13365093, 0.13091894, 0.25522869,\n",
       "        0.1069904 , 0.71998395, 0.89461792, 0.51921553, 0.52176642],\n",
       "       [0.59482618, 0.47460474, 0.77873175, 0.48458074, 0.21966891,\n",
       "        0.95562623, 0.9251241 , 0.82143562, 0.51739962, 0.44898125],\n",
       "       [0.25838719, 0.19945825, 0.17019276, 0.65124408, 0.61250801,\n",
       "        0.56218121, 0.00325091, 0.73297295, 0.84733595, 0.48007361],\n",
       "       [0.54184042, 0.13521883, 0.34722743, 0.99256347, 0.85636205,\n",
       "        0.14866691, 0.73999342, 0.77885217, 0.12750552, 0.1655733 ],\n",
       "       [0.33235902, 0.03700285, 0.68535464, 0.38876298, 0.76501829,\n",
       "        0.03299453, 0.6573366 , 0.25111498, 0.32884369, 0.56817245],\n",
       "       [0.58520061, 0.38348418, 0.13621373, 0.51348307, 0.42296689,\n",
       "        0.35177558, 0.48835259, 0.45893785, 0.05123722, 0.68641975],\n",
       "       [0.90355618, 0.62996613, 0.08648001, 0.52377243, 0.30846898,\n",
       "        0.17971293, 0.25085571, 0.48370583, 0.52433439, 0.21337943],\n",
       "       [0.00213652, 0.37289448, 0.89856125, 0.58900778, 0.11671209,\n",
       "        0.15633057, 0.53458112, 0.00171901, 0.883849  , 0.80911381]])"
      ]
     },
     "execution_count": 103,
     "metadata": {},
     "output_type": "execute_result"
    }
   ],
   "source": [
    "arr"
   ]
  },
  {
   "cell_type": "code",
   "execution_count": 104,
   "id": "79125df2",
   "metadata": {},
   "outputs": [],
   "source": [
    "arr = np.random.randint(low=10,high=25,size= (2,20))"
   ]
  },
  {
   "cell_type": "code",
   "execution_count": 105,
   "id": "8f7a37a2",
   "metadata": {},
   "outputs": [
    {
     "data": {
      "text/plain": [
       "array([[20, 24, 24, 10, 19, 12, 12, 10, 18, 15, 14, 21, 12, 16, 16, 20,\n",
       "        13, 11, 18, 15],\n",
       "       [14, 13, 17, 19, 12, 16, 16, 16, 19, 24, 20, 13, 20, 23, 21, 21,\n",
       "        11, 22, 15, 13]])"
      ]
     },
     "execution_count": 105,
     "metadata": {},
     "output_type": "execute_result"
    }
   ],
   "source": [
    "arr"
   ]
  },
  {
   "cell_type": "code",
   "execution_count": 106,
   "id": "35378ecf",
   "metadata": {},
   "outputs": [],
   "source": [
    "arr = np.random.randn(5,10)"
   ]
  },
  {
   "cell_type": "code",
   "execution_count": 107,
   "id": "6b81a6e1",
   "metadata": {},
   "outputs": [
    {
     "data": {
      "text/plain": [
       "array([[ 1.77831903e+00,  2.31032769e-01, -1.44412548e+00,\n",
       "        -2.19277297e-01,  5.37659117e-01, -9.51786486e-01,\n",
       "        -6.57014918e-01, -1.89560340e-01,  2.06155278e-01,\n",
       "        -2.05144374e+00],\n",
       "       [-5.00967969e-01, -1.83069968e+00, -2.60693259e-01,\n",
       "         1.47754180e+00,  4.74565340e-01, -1.71591692e-01,\n",
       "         2.65131439e-01,  7.43205236e-02, -1.34723502e-01,\n",
       "        -9.00259633e-01],\n",
       "       [-1.85919265e+00,  4.97096377e-01,  5.02748453e-01,\n",
       "         3.84370470e-01, -1.16032658e-01, -2.73712399e-01,\n",
       "         9.20413613e-01, -6.70826596e-01, -1.88128968e+00,\n",
       "        -1.28691076e+00],\n",
       "       [-5.23914004e-01, -3.82362883e-01,  1.89992334e-03,\n",
       "        -5.78955765e-01,  1.73156473e+00, -7.56359008e-01,\n",
       "         1.19729756e+00, -1.02780185e+00,  7.78717385e-01,\n",
       "        -9.72408720e-01],\n",
       "       [-3.85776781e-01,  5.19352803e-01,  1.77968953e-01,\n",
       "         4.77055206e-01, -1.16259768e+00, -1.27600366e+00,\n",
       "         1.06984022e+00, -6.16338563e-01, -1.38907882e-01,\n",
       "        -5.94357580e-01]])"
      ]
     },
     "execution_count": 107,
     "metadata": {},
     "output_type": "execute_result"
    }
   ],
   "source": [
    "arr"
   ]
  },
  {
   "cell_type": "code",
   "execution_count": 108,
   "id": "fa01ccfe",
   "metadata": {},
   "outputs": [],
   "source": [
    "c = []"
   ]
  },
  {
   "cell_type": "code",
   "execution_count": 109,
   "id": "ea09f82e",
   "metadata": {},
   "outputs": [],
   "source": [
    "arr = np.array(c)"
   ]
  },
  {
   "cell_type": "code",
   "execution_count": 110,
   "id": "b9df5a74",
   "metadata": {},
   "outputs": [
    {
     "data": {
      "text/plain": [
       "array([], dtype=float64)"
      ]
     },
     "execution_count": 110,
     "metadata": {},
     "output_type": "execute_result"
    }
   ],
   "source": [
    "arr"
   ]
  },
  {
   "cell_type": "code",
   "execution_count": 111,
   "id": "58a8824c",
   "metadata": {},
   "outputs": [],
   "source": [
    "arr = np.zeros((0,0))"
   ]
  },
  {
   "cell_type": "code",
   "execution_count": 112,
   "id": "d8df6b16",
   "metadata": {},
   "outputs": [
    {
     "data": {
      "text/plain": [
       "array([], shape=(0, 0), dtype=float64)"
      ]
     },
     "execution_count": 112,
     "metadata": {},
     "output_type": "execute_result"
    }
   ],
   "source": [
    "arr"
   ]
  },
  {
   "cell_type": "code",
   "execution_count": 113,
   "id": "8921bbef",
   "metadata": {},
   "outputs": [],
   "source": [
    "arr = np.array((x:=[2,4,5,1,7,8,6,9,6,4]))"
   ]
  },
  {
   "cell_type": "code",
   "execution_count": 114,
   "id": "253b7cad",
   "metadata": {},
   "outputs": [
    {
     "data": {
      "text/plain": [
       "array([2, 4, 5, 1, 7, 8, 6, 9, 6, 4])"
      ]
     },
     "execution_count": 114,
     "metadata": {},
     "output_type": "execute_result"
    }
   ],
   "source": [
    "arr"
   ]
  },
  {
   "cell_type": "markdown",
   "id": "4ecc016c",
   "metadata": {},
   "source": [
    "eye - it create a numpy array having ones at diagonals."
   ]
  },
  {
   "cell_type": "code",
   "execution_count": 115,
   "id": "95002011",
   "metadata": {},
   "outputs": [],
   "source": [
    "arr = np.eye(3)"
   ]
  },
  {
   "cell_type": "code",
   "execution_count": 116,
   "id": "529d3de2",
   "metadata": {},
   "outputs": [
    {
     "data": {
      "text/plain": [
       "array([[1., 0., 0.],\n",
       "       [0., 1., 0.],\n",
       "       [0., 0., 1.]])"
      ]
     },
     "execution_count": 116,
     "metadata": {},
     "output_type": "execute_result"
    }
   ],
   "source": [
    "arr"
   ]
  },
  {
   "cell_type": "code",
   "execution_count": 117,
   "id": "983a1051",
   "metadata": {},
   "outputs": [],
   "source": [
    "arr = np.eye(5,6)"
   ]
  },
  {
   "cell_type": "code",
   "execution_count": 118,
   "id": "a78d1997",
   "metadata": {},
   "outputs": [
    {
     "data": {
      "text/plain": [
       "array([[1., 0., 0., 0., 0., 0.],\n",
       "       [0., 1., 0., 0., 0., 0.],\n",
       "       [0., 0., 1., 0., 0., 0.],\n",
       "       [0., 0., 0., 1., 0., 0.],\n",
       "       [0., 0., 0., 0., 1., 0.]])"
      ]
     },
     "execution_count": 118,
     "metadata": {},
     "output_type": "execute_result"
    }
   ],
   "source": [
    "arr"
   ]
  },
  {
   "cell_type": "code",
   "execution_count": 119,
   "id": "09744240",
   "metadata": {},
   "outputs": [],
   "source": [
    "arr = np.eye(6,4)"
   ]
  },
  {
   "cell_type": "code",
   "execution_count": 120,
   "id": "23efc20b",
   "metadata": {},
   "outputs": [
    {
     "data": {
      "text/plain": [
       "array([[1., 0., 0., 0.],\n",
       "       [0., 1., 0., 0.],\n",
       "       [0., 0., 1., 0.],\n",
       "       [0., 0., 0., 1.],\n",
       "       [0., 0., 0., 0.],\n",
       "       [0., 0., 0., 0.]])"
      ]
     },
     "execution_count": 120,
     "metadata": {},
     "output_type": "execute_result"
    }
   ],
   "source": [
    "arr"
   ]
  },
  {
   "cell_type": "markdown",
   "id": "e17b2eff",
   "metadata": {},
   "source": [
    "logspace - it is used to generate a set of number whose ratio is same not difference in log scale."
   ]
  },
  {
   "cell_type": "code",
   "execution_count": 121,
   "id": "cd948f79",
   "metadata": {},
   "outputs": [],
   "source": [
    "arr = np.logspace(start=-2,stop=3,base=10,num=5)"
   ]
  },
  {
   "cell_type": "code",
   "execution_count": 122,
   "id": "041a03e6",
   "metadata": {},
   "outputs": [
    {
     "data": {
      "text/plain": [
       "array([1.00000000e-02, 1.77827941e-01, 3.16227766e+00, 5.62341325e+01,\n",
       "       1.00000000e+03])"
      ]
     },
     "execution_count": 122,
     "metadata": {},
     "output_type": "execute_result"
    }
   ],
   "source": [
    "arr"
   ]
  },
  {
   "cell_type": "code",
   "execution_count": 123,
   "id": "ba06d566",
   "metadata": {},
   "outputs": [],
   "source": [
    "arr = np.logspace(start=-2,stop=3,base=2,num=6)"
   ]
  },
  {
   "cell_type": "code",
   "execution_count": 124,
   "id": "15d89b8b",
   "metadata": {},
   "outputs": [
    {
     "data": {
      "text/plain": [
       "array([0.25, 0.5 , 1.  , 2.  , 4.  , 8.  ])"
      ]
     },
     "execution_count": 124,
     "metadata": {},
     "output_type": "execute_result"
    }
   ],
   "source": [
    "arr"
   ]
  },
  {
   "cell_type": "markdown",
   "id": "dce5e173",
   "metadata": {},
   "source": [
    "concatenate = it is used to combine two numpy arrays in different axises and can concatenate multiple numpy arrays ."
   ]
  },
  {
   "cell_type": "code",
   "execution_count": 125,
   "id": "96c97515",
   "metadata": {},
   "outputs": [],
   "source": [
    "left_arr = np.random.binomial(n=7,p=0.4,size=(2,6))\n",
    "right_arr = np.random.binomial(n=10,p=0.6,size=(2,6))"
   ]
  },
  {
   "cell_type": "code",
   "execution_count": 126,
   "id": "e2d3d1db",
   "metadata": {},
   "outputs": [],
   "source": [
    "row_wise_concat_arr = np.concatenate((left_arr,right_arr),axis=0)\n",
    "col_wise_concat_arr = np.concatenate((left_arr,right_arr),axis=1)\n"
   ]
  },
  {
   "cell_type": "code",
   "execution_count": 127,
   "id": "569f3818",
   "metadata": {},
   "outputs": [
    {
     "data": {
      "text/plain": [
       "array([[2, 3, 0, 3, 3, 4],\n",
       "       [1, 2, 4, 1, 2, 1],\n",
       "       [6, 4, 6, 8, 8, 5],\n",
       "       [7, 5, 7, 7, 5, 5]])"
      ]
     },
     "execution_count": 127,
     "metadata": {},
     "output_type": "execute_result"
    }
   ],
   "source": [
    "row_wise_concat_arr"
   ]
  },
  {
   "cell_type": "code",
   "execution_count": 128,
   "id": "d8d4bcad",
   "metadata": {},
   "outputs": [
    {
     "data": {
      "text/plain": [
       "array([[2, 3, 0, 3, 3, 4, 6, 4, 6, 8, 8, 5],\n",
       "       [1, 2, 4, 1, 2, 1, 7, 5, 7, 7, 5, 5]])"
      ]
     },
     "execution_count": 128,
     "metadata": {},
     "output_type": "execute_result"
    }
   ],
   "source": [
    "col_wise_concat_arr"
   ]
  },
  {
   "cell_type": "markdown",
   "id": "7b2daef6",
   "metadata": {},
   "source": [
    "delete = it deletes the rows or columns or depths of which axises are given.(in this condition)"
   ]
  },
  {
   "cell_type": "code",
   "execution_count": 129,
   "id": "24584b9c",
   "metadata": {},
   "outputs": [],
   "source": [
    "col_wise_concat_arr = np.delete(col_wise_concat_arr,[1,3],axis=1)"
   ]
  },
  {
   "cell_type": "code",
   "execution_count": 130,
   "id": "aa554b05",
   "metadata": {},
   "outputs": [
    {
     "data": {
      "text/plain": [
       "array([[2, 0, 3, 4, 6, 4, 6, 8, 8, 5],\n",
       "       [1, 4, 2, 1, 7, 5, 7, 7, 5, 5]])"
      ]
     },
     "execution_count": 130,
     "metadata": {},
     "output_type": "execute_result"
    }
   ],
   "source": [
    "col_wise_concat_arr"
   ]
  },
  {
   "cell_type": "code",
   "execution_count": 131,
   "id": "1cf81d0f",
   "metadata": {},
   "outputs": [],
   "source": [
    "row_wise_concat_arr = np.delete(row_wise_concat_arr,[1,3],axis=0)"
   ]
  },
  {
   "cell_type": "code",
   "execution_count": 132,
   "id": "081e8553",
   "metadata": {},
   "outputs": [
    {
     "data": {
      "text/plain": [
       "array([[2, 3, 0, 3, 3, 4],\n",
       "       [6, 4, 6, 8, 8, 5]])"
      ]
     },
     "execution_count": 132,
     "metadata": {},
     "output_type": "execute_result"
    }
   ],
   "source": [
    "row_wise_concat_arr"
   ]
  },
  {
   "cell_type": "markdown",
   "id": "f257e63a",
   "metadata": {},
   "source": [
    "Done -> Concept of boolean masking in numpy arrays . "
   ]
  },
  {
   "cell_type": "code",
   "execution_count": 133,
   "id": "bfa79697",
   "metadata": {},
   "outputs": [],
   "source": [
    "bmask = np.ones((col_wise_concat_arr.shape[1],),dtype=bool)"
   ]
  },
  {
   "cell_type": "code",
   "execution_count": 134,
   "id": "fb866b18",
   "metadata": {},
   "outputs": [
    {
     "data": {
      "text/plain": [
       "array([ True,  True,  True,  True,  True,  True,  True,  True,  True,\n",
       "        True])"
      ]
     },
     "execution_count": 134,
     "metadata": {},
     "output_type": "execute_result"
    }
   ],
   "source": [
    "bmask"
   ]
  },
  {
   "cell_type": "code",
   "execution_count": 135,
   "id": "e8d8b96f",
   "metadata": {},
   "outputs": [],
   "source": [
    "bmask[1]=False\n",
    "bmask[5]=False"
   ]
  },
  {
   "cell_type": "code",
   "execution_count": 136,
   "id": "20bcf456",
   "metadata": {},
   "outputs": [
    {
     "data": {
      "text/plain": [
       "array([ True, False,  True,  True,  True, False,  True,  True,  True,\n",
       "        True])"
      ]
     },
     "execution_count": 136,
     "metadata": {},
     "output_type": "execute_result"
    }
   ],
   "source": [
    "bmask"
   ]
  },
  {
   "cell_type": "code",
   "execution_count": 137,
   "id": "eee6b069",
   "metadata": {},
   "outputs": [
    {
     "data": {
      "text/plain": [
       "array([[2, 3, 4, 6, 6, 8, 8, 5],\n",
       "       [1, 2, 1, 7, 7, 7, 5, 5]])"
      ]
     },
     "execution_count": 137,
     "metadata": {},
     "output_type": "execute_result"
    }
   ],
   "source": [
    "col_wise_concat_arr[:,bmask]"
   ]
  },
  {
   "cell_type": "code",
   "execution_count": 138,
   "id": "282fee49",
   "metadata": {},
   "outputs": [],
   "source": [
    "bmask1=np.ones((row_wise_concat_arr.shape[0],),dtype=bool)"
   ]
  },
  {
   "cell_type": "code",
   "execution_count": 139,
   "id": "7afa5269",
   "metadata": {},
   "outputs": [
    {
     "data": {
      "text/plain": [
       "array([ True,  True])"
      ]
     },
     "execution_count": 139,
     "metadata": {},
     "output_type": "execute_result"
    }
   ],
   "source": [
    "bmask1"
   ]
  },
  {
   "cell_type": "code",
   "execution_count": 140,
   "id": "0e8b0688",
   "metadata": {},
   "outputs": [
    {
     "ename": "IndexError",
     "evalue": "index 3 is out of bounds for axis 0 with size 2",
     "output_type": "error",
     "traceback": [
      "\u001b[31m---------------------------------------------------------------------------\u001b[39m",
      "\u001b[31mIndexError\u001b[39m                                Traceback (most recent call last)",
      "\u001b[36mCell\u001b[39m\u001b[36m \u001b[39m\u001b[32mIn[140]\u001b[39m\u001b[32m, line 2\u001b[39m\n\u001b[32m      1\u001b[39m bmask1[\u001b[32m1\u001b[39m]=\u001b[38;5;28;01mFalse\u001b[39;00m\n\u001b[32m----> \u001b[39m\u001b[32m2\u001b[39m \u001b[43mbmask1\u001b[49m\u001b[43m[\u001b[49m\u001b[32;43m3\u001b[39;49m\u001b[43m]\u001b[49m=\u001b[38;5;28;01mFalse\u001b[39;00m\n",
      "\u001b[31mIndexError\u001b[39m: index 3 is out of bounds for axis 0 with size 2"
     ]
    }
   ],
   "source": [
    "bmask1[1]=False\n",
    "bmask1[3]=False"
   ]
  },
  {
   "cell_type": "code",
   "execution_count": null,
   "id": "5cc743ed",
   "metadata": {},
   "outputs": [
    {
     "data": {
      "text/plain": [
       "array([ True, False,  True, False])"
      ]
     },
     "execution_count": 158,
     "metadata": {},
     "output_type": "execute_result"
    }
   ],
   "source": [
    "bmask1"
   ]
  },
  {
   "cell_type": "code",
   "execution_count": null,
   "id": "1d44f304",
   "metadata": {},
   "outputs": [
    {
     "data": {
      "text/plain": [
       "array([[1, 4, 1, 3, 3, 2],\n",
       "       [4, 9, 4, 7, 7, 5]])"
      ]
     },
     "execution_count": 162,
     "metadata": {},
     "output_type": "execute_result"
    }
   ],
   "source": [
    "row_wise_concat_arr[bmask1,:]"
   ]
  },
  {
   "cell_type": "code",
   "execution_count": null,
   "id": "465caf79",
   "metadata": {},
   "outputs": [],
   "source": [
    "arr8=arr8.reshape(2,6)"
   ]
  },
  {
   "cell_type": "code",
   "execution_count": null,
   "id": "51691aea",
   "metadata": {},
   "outputs": [],
   "source": []
  },
  {
   "cell_type": "code",
   "execution_count": null,
   "id": "979f82f5",
   "metadata": {},
   "outputs": [
    {
     "data": {
      "text/plain": [
       "array([[ 3, 12, 10, 13, 16, 21],\n",
       "       [21, 17, 20, 40, 33, 37]])"
      ]
     },
     "execution_count": 153,
     "metadata": {},
     "output_type": "execute_result"
    }
   ],
   "source": [
    "arr8"
   ]
  },
  {
   "cell_type": "code",
   "execution_count": null,
   "id": "3e57fd3e",
   "metadata": {},
   "outputs": [],
   "source": [
    "arr8 = np.expand_dims(arr8,axis=1)"
   ]
  },
  {
   "cell_type": "code",
   "execution_count": null,
   "id": "dc8abfd2",
   "metadata": {},
   "outputs": [
    {
     "data": {
      "text/plain": [
       "(2, 1, 6)"
      ]
     },
     "execution_count": 155,
     "metadata": {},
     "output_type": "execute_result"
    }
   ],
   "source": [
    "arr8.shape"
   ]
  },
  {
   "cell_type": "code",
   "execution_count": null,
   "id": "c58dfdf9",
   "metadata": {},
   "outputs": [
    {
     "data": {
      "text/plain": [
       "array([[[ 3, 12, 10, 13, 16, 21]],\n",
       "\n",
       "       [[21, 17, 20, 40, 33, 37]]])"
      ]
     },
     "execution_count": 156,
     "metadata": {},
     "output_type": "execute_result"
    }
   ],
   "source": [
    "arr8"
   ]
  },
  {
   "cell_type": "code",
   "execution_count": null,
   "id": "5766e8dc",
   "metadata": {},
   "outputs": [],
   "source": [
    "arr = np.random.randint(low=0,high=20,size=(1,2,3,4,5))"
   ]
  },
  {
   "cell_type": "code",
   "execution_count": null,
   "id": "94eda01c",
   "metadata": {},
   "outputs": [
    {
     "data": {
      "text/plain": [
       "array([[[[[ 2,  8,  5,  2, 13],\n",
       "          [14, 16,  9, 13, 19],\n",
       "          [ 0, 16, 17,  1,  3],\n",
       "          [11, 17,  2, 19, 18]],\n",
       "\n",
       "         [[14,  7,  2,  5,  6],\n",
       "          [ 0,  3, 12, 12, 14],\n",
       "          [19, 11,  8,  2, 17],\n",
       "          [15, 16,  1, 15, 19]],\n",
       "\n",
       "         [[ 7,  6,  3,  7, 15],\n",
       "          [ 4,  2,  3, 17,  7],\n",
       "          [ 6,  0, 10,  2,  7],\n",
       "          [18,  8,  4,  2, 13]]],\n",
       "\n",
       "\n",
       "        [[[10,  4,  6, 14, 12],\n",
       "          [17,  7,  0, 12, 18],\n",
       "          [11,  2,  6, 11,  1],\n",
       "          [15,  7,  2,  3, 18]],\n",
       "\n",
       "         [[ 7, 19, 17,  2, 17],\n",
       "          [16,  8, 16, 13,  4],\n",
       "          [ 2,  5, 14, 19,  0],\n",
       "          [ 4,  3,  5,  1,  5]],\n",
       "\n",
       "         [[ 4, 19, 14,  7,  8],\n",
       "          [16,  9,  8, 17, 14],\n",
       "          [16,  5, 14,  7, 14],\n",
       "          [ 5, 17,  1,  2,  6]]]]])"
      ]
     },
     "execution_count": 158,
     "metadata": {},
     "output_type": "execute_result"
    }
   ],
   "source": [
    "arr"
   ]
  },
  {
   "cell_type": "code",
   "execution_count": null,
   "id": "aac97122",
   "metadata": {},
   "outputs": [
    {
     "data": {
      "text/plain": [
       "(1, 2, 3, 4, 5)"
      ]
     },
     "execution_count": 159,
     "metadata": {},
     "output_type": "execute_result"
    }
   ],
   "source": [
    "arr.shape"
   ]
  },
  {
   "cell_type": "markdown",
   "metadata": {},
   "source": [
    "Inserting new axes into a NumPy array, concept of ellipsis as well as it's notation."
   ]
  },
  {
   "cell_type": "code",
   "execution_count": null,
   "id": "061239b9",
   "metadata": {},
   "outputs": [],
   "source": [
    "arr = arr[:,:,np.newaxis,...]"
   ]
  },
  {
   "cell_type": "code",
   "execution_count": null,
   "id": "aa7b945d",
   "metadata": {},
   "outputs": [
    {
     "data": {
      "text/plain": [
       "(1, 2, 1, 3, 4, 5)"
      ]
     },
     "execution_count": 161,
     "metadata": {},
     "output_type": "execute_result"
    }
   ],
   "source": [
    "arr.shape"
   ]
  },
  {
   "cell_type": "markdown",
   "id": "20af8092",
   "metadata": {},
   "source": [
    "squeeze = it is used to squeeze the size of an array by removing all 1 ."
   ]
  },
  {
   "cell_type": "code",
   "execution_count": null,
   "id": "631c0000",
   "metadata": {},
   "outputs": [],
   "source": [
    "squeezed_arr=np.squeeze(arr)"
   ]
  },
  {
   "cell_type": "code",
   "execution_count": null,
   "id": "5205042a",
   "metadata": {},
   "outputs": [
    {
     "data": {
      "text/plain": [
       "(2, 3, 4, 5)"
      ]
     },
     "execution_count": 167,
     "metadata": {},
     "output_type": "execute_result"
    }
   ],
   "source": [
    "squeezed_arr.shape"
   ]
  },
  {
   "cell_type": "markdown",
   "id": "09a17eca",
   "metadata": {},
   "source": [
    "ravel = it is used to make a single dimnesion array with all the elements ."
   ]
  },
  {
   "cell_type": "code",
   "execution_count": null,
   "id": "b390d980",
   "metadata": {},
   "outputs": [],
   "source": [
    "flattened_arr = np.ravel(squeezed_arr)"
   ]
  },
  {
   "cell_type": "code",
   "execution_count": null,
   "id": "1e4ae85d",
   "metadata": {},
   "outputs": [
    {
     "data": {
      "text/plain": [
       "(120,)"
      ]
     },
     "execution_count": 169,
     "metadata": {},
     "output_type": "execute_result"
    }
   ],
   "source": [
    "flattened_arr.shape"
   ]
  },
  {
   "cell_type": "markdown",
   "id": "a8af0548",
   "metadata": {},
   "source": [
    "reshape = it is used to reshape an array in different dimensions but the no. of elements should be same."
   ]
  },
  {
   "cell_type": "code",
   "execution_count": null,
   "id": "28ace3fe",
   "metadata": {},
   "outputs": [
    {
     "name": "stderr",
     "output_type": "stream",
     "text": [
      "/tmp/ipykernel_2365/1100543301.py:1: DeprecationWarning: `newshape` keyword argument is deprecated, use `shape=...` or pass shape positionally instead. (deprecated in NumPy 2.1)\n",
      "  reshaped_arr = np.reshape(squeezed_arr,newshape=(3,5,4,1,2))\n"
     ]
    }
   ],
   "source": [
    "reshaped_arr = np.reshape(squeezed_arr,newshape=(3,5,4,1,2))"
   ]
  },
  {
   "cell_type": "code",
   "execution_count": null,
   "id": "8979fd08",
   "metadata": {},
   "outputs": [
    {
     "data": {
      "text/plain": [
       "(3, 5, 4, 1, 2)"
      ]
     },
     "execution_count": 173,
     "metadata": {},
     "output_type": "execute_result"
    }
   ],
   "source": [
    "reshaped_arr.shape"
   ]
  },
  {
   "cell_type": "code",
   "execution_count": null,
   "id": "d4b1b807",
   "metadata": {},
   "outputs": [
    {
     "name": "stderr",
     "output_type": "stream",
     "text": [
      "/tmp/ipykernel_2365/1744322687.py:1: DeprecationWarning: `newshape` keyword argument is deprecated, use `shape=...` or pass shape positionally instead. (deprecated in NumPy 2.1)\n",
      "  reshaped_arr = np.reshape(squeezed_arr,newshape=(15,1,8))\n"
     ]
    }
   ],
   "source": [
    "reshaped_arr = np.reshape(squeezed_arr,newshape=(15,1,8))"
   ]
  },
  {
   "cell_type": "code",
   "execution_count": null,
   "id": "5bd6f44f",
   "metadata": {},
   "outputs": [
    {
     "data": {
      "text/plain": [
       "(15, 1, 8)"
      ]
     },
     "execution_count": 176,
     "metadata": {},
     "output_type": "execute_result"
    }
   ],
   "source": [
    "reshaped_arr.shape"
   ]
  },
  {
   "cell_type": "code",
   "execution_count": null,
   "id": "45b579e9",
   "metadata": {},
   "outputs": [
    {
     "name": "stderr",
     "output_type": "stream",
     "text": [
      "/tmp/ipykernel_2365/4254991431.py:1: DeprecationWarning: `newshape` keyword argument is deprecated, use `shape=...` or pass shape positionally instead. (deprecated in NumPy 2.1)\n",
      "  reshaped_arr = np.reshape(squeezed_arr,newshape=(120,))\n"
     ]
    }
   ],
   "source": [
    "reshaped_arr = np.reshape(squeezed_arr,newshape=(120,))"
   ]
  },
  {
   "cell_type": "code",
   "execution_count": null,
   "id": "809ea354",
   "metadata": {},
   "outputs": [
    {
     "data": {
      "text/plain": [
       "(120,)"
      ]
     },
     "execution_count": 178,
     "metadata": {},
     "output_type": "execute_result"
    }
   ],
   "source": [
    "reshaped_arr.shape"
   ]
  },
  {
   "cell_type": "code",
   "execution_count": null,
   "id": "f7f71b4d",
   "metadata": {},
   "outputs": [],
   "source": [
    "arr = np.random.randint(low=0,hogh=20,size=10)"
   ]
  },
  {
   "cell_type": "code",
   "execution_count": null,
   "id": "160b4de2",
   "metadata": {},
   "outputs": [
    {
     "data": {
      "text/plain": [
       "array([0.25, 0.5 , 1.  , 2.  , 4.  , 8.  ])"
      ]
     },
     "execution_count": 283,
     "metadata": {},
     "output_type": "execute_result"
    }
   ],
   "source": [
    "arr"
   ]
  },
  {
   "cell_type": "markdown",
   "id": "78444078",
   "metadata": {},
   "source": [
    "padding = it is used to add values on the basis of applications. now I have used padding for 1d-array."
   ]
  },
  {
   "cell_type": "code",
   "execution_count": null,
   "id": "65ebc3be",
   "metadata": {},
   "outputs": [],
   "source": [
    "padded_arr=np.pad(arr,pad_width=(0,5),mode='constant',constant_values=0)"
   ]
  },
  {
   "cell_type": "code",
   "execution_count": null,
   "id": "3b236730",
   "metadata": {},
   "outputs": [
    {
     "data": {
      "text/plain": [
       "array([0.25, 0.5 , 1.  , 2.  , 4.  , 8.  , 0.  , 0.  , 0.  , 0.  , 0.  ])"
      ]
     },
     "execution_count": 423,
     "metadata": {},
     "output_type": "execute_result"
    }
   ],
   "source": [
    "padded_arr"
   ]
  },
  {
   "cell_type": "code",
   "execution_count": null,
   "id": "2fa5548b",
   "metadata": {},
   "outputs": [],
   "source": [
    "padded_arr1 = np.pad(arr,pad_width=(5,0),mode='edge')"
   ]
  },
  {
   "cell_type": "code",
   "execution_count": null,
   "id": "918f6827",
   "metadata": {},
   "outputs": [
    {
     "data": {
      "text/plain": [
       "array([0.25, 0.25, 0.25, 0.25, 0.25, 0.25, 0.5 , 1.  , 2.  , 4.  , 8.  ])"
      ]
     },
     "execution_count": 425,
     "metadata": {},
     "output_type": "execute_result"
    }
   ],
   "source": [
    "padded_arr1"
   ]
  },
  {
   "cell_type": "code",
   "execution_count": null,
   "id": "301805e2",
   "metadata": {},
   "outputs": [],
   "source": [
    "padded_arr = np.pad(arr,pad_width=(2,3),mode='linear_ramp',end_values=(0.05,12))"
   ]
  },
  {
   "cell_type": "code",
   "execution_count": null,
   "id": "fe967df7",
   "metadata": {},
   "outputs": [
    {
     "data": {
      "text/plain": [
       "array([ 0.05      ,  0.15      ,  0.25      ,  0.5       ,  1.        ,\n",
       "        2.        ,  4.        ,  8.        ,  9.33333333, 10.66666667,\n",
       "       12.        ])"
      ]
     },
     "execution_count": 427,
     "metadata": {},
     "output_type": "execute_result"
    }
   ],
   "source": [
    "padded_arr"
   ]
  },
  {
   "cell_type": "code",
   "execution_count": null,
   "id": "203a2241",
   "metadata": {},
   "outputs": [],
   "source": [
    "padded_arr = np.pad(arr,pad_width=(3,2),mode='mean')"
   ]
  },
  {
   "cell_type": "code",
   "execution_count": null,
   "id": "0e85ba15",
   "metadata": {},
   "outputs": [
    {
     "data": {
      "text/plain": [
       "array([2.625, 2.625, 2.625, 0.25 , 0.5  , 1.   , 2.   , 4.   , 8.   ,\n",
       "       2.625, 2.625])"
      ]
     },
     "execution_count": 429,
     "metadata": {},
     "output_type": "execute_result"
    }
   ],
   "source": [
    "padded_arr"
   ]
  },
  {
   "cell_type": "code",
   "execution_count": null,
   "id": "54dfaaa8",
   "metadata": {},
   "outputs": [],
   "source": [
    "padded_arr = np.pad(arr,pad_width=(2,3),mode='reflect')"
   ]
  },
  {
   "cell_type": "code",
   "execution_count": null,
   "id": "a382f1fa",
   "metadata": {},
   "outputs": [
    {
     "data": {
      "text/plain": [
       "array([1.  , 0.5 , 0.25, 0.5 , 1.  , 2.  , 4.  , 8.  , 4.  , 2.  , 1.  ])"
      ]
     },
     "execution_count": 432,
     "metadata": {},
     "output_type": "execute_result"
    }
   ],
   "source": [
    "padded_arr"
   ]
  },
  {
   "cell_type": "code",
   "execution_count": null,
   "id": "87b7ed17",
   "metadata": {},
   "outputs": [],
   "source": []
  }
 ],
 "metadata": {
  "kernelspec": {
   "display_name": ".venv",
   "language": "python",
   "name": "python3"
  },
  "language_info": {
   "codemirror_mode": {
    "name": "ipython",
    "version": 3
   },
   "file_extension": ".py",
   "mimetype": "text/x-python",
   "name": "python",
   "nbconvert_exporter": "python",
   "pygments_lexer": "ipython3",
   "version": "3.12.3"
  }
 },
 "nbformat": 4,
 "nbformat_minor": 5
}
