{
 "cells": [
  {
   "cell_type": "code",
   "execution_count": 1,
   "id": "85a08143",
   "metadata": {},
   "outputs": [],
   "source": [
    "import numpy as np "
   ]
  },
  {
   "cell_type": "code",
   "execution_count": 2,
   "id": "08500b18",
   "metadata": {},
   "outputs": [
    {
     "name": "stdout",
     "output_type": "stream",
     "text": [
      "[1 2 3 6 5 4 8 7 9]\n"
     ]
    }
   ],
   "source": [
    "l = [1,2,3,6,5,4,8,7,9]\n",
    "arr = np.array(l)\n",
    "print(arr)"
   ]
  },
  {
   "cell_type": "code",
   "execution_count": 3,
   "id": "599b1d60",
   "metadata": {},
   "outputs": [
    {
     "data": {
      "text/plain": [
       "array([1, 2, 3, 6, 5, 4, 8, 7, 9])"
      ]
     },
     "execution_count": 3,
     "metadata": {},
     "output_type": "execute_result"
    }
   ],
   "source": [
    "arr"
   ]
  },
  {
   "cell_type": "code",
   "execution_count": 4,
   "id": "03da4083",
   "metadata": {},
   "outputs": [],
   "source": [
    "l2 = [[[1,2,3,],[4,5,6,],[7,8,9],[10,11,12]]]"
   ]
  },
  {
   "cell_type": "code",
   "execution_count": 5,
   "id": "b9ad3d55",
   "metadata": {},
   "outputs": [
    {
     "data": {
      "text/plain": [
       "[[[1, 2, 3], [4, 5, 6], [7, 8, 9], [10, 11, 12]]]"
      ]
     },
     "execution_count": 5,
     "metadata": {},
     "output_type": "execute_result"
    }
   ],
   "source": [
    "l2"
   ]
  },
  {
   "cell_type": "code",
   "execution_count": 6,
   "id": "c3bb4b35",
   "metadata": {},
   "outputs": [
    {
     "data": {
      "text/plain": [
       "(1, 4, 3)"
      ]
     },
     "execution_count": 6,
     "metadata": {},
     "output_type": "execute_result"
    }
   ],
   "source": [
    "np.shape(l2)"
   ]
  },
  {
   "cell_type": "code",
   "execution_count": 7,
   "id": "8ea9f4f9",
   "metadata": {},
   "outputs": [
    {
     "data": {
      "text/plain": [
       "array([1, 2, 3, 6, 5, 4, 8, 7, 9])"
      ]
     },
     "execution_count": 7,
     "metadata": {},
     "output_type": "execute_result"
    }
   ],
   "source": [
    "arr"
   ]
  },
  {
   "cell_type": "markdown",
   "id": "992e731b",
   "metadata": {},
   "source": []
  },
  {
   "cell_type": "code",
   "execution_count": 8,
   "id": "d5d25647",
   "metadata": {},
   "outputs": [
    {
     "data": {
      "text/plain": [
       "array([1, 2, 3, 6, 5, 4, 8, 7, 9])"
      ]
     },
     "execution_count": 8,
     "metadata": {},
     "output_type": "execute_result"
    }
   ],
   "source": [
    "arr"
   ]
  },
  {
   "cell_type": "code",
   "execution_count": 9,
   "id": "6d057b83",
   "metadata": {},
   "outputs": [
    {
     "data": {
      "text/plain": [
       "(9,)"
      ]
     },
     "execution_count": 9,
     "metadata": {},
     "output_type": "execute_result"
    }
   ],
   "source": [
    "arr.shape"
   ]
  },
  {
   "cell_type": "code",
   "execution_count": 10,
   "id": "0228118f",
   "metadata": {},
   "outputs": [],
   "source": [
    "l2 = np.reshape(l2,(3,2,2))"
   ]
  },
  {
   "cell_type": "code",
   "execution_count": 11,
   "id": "6f6b6254",
   "metadata": {},
   "outputs": [
    {
     "data": {
      "text/plain": [
       "(3, 2, 2)"
      ]
     },
     "execution_count": 11,
     "metadata": {},
     "output_type": "execute_result"
    }
   ],
   "source": [
    "np.shape(l2)"
   ]
  },
  {
   "cell_type": "code",
   "execution_count": 12,
   "id": "579008d7",
   "metadata": {},
   "outputs": [
    {
     "name": "stdout",
     "output_type": "stream",
     "text": [
      "[[[ 1  2]\n",
      "  [ 3  4]]\n",
      "\n",
      " [[ 5  6]\n",
      "  [ 7  8]]\n",
      "\n",
      " [[ 9 10]\n",
      "  [11 12]]]\n"
     ]
    }
   ],
   "source": [
    "print(l2)"
   ]
  },
  {
   "cell_type": "code",
   "execution_count": 13,
   "id": "c3942731",
   "metadata": {},
   "outputs": [
    {
     "data": {
      "text/plain": [
       "np.int64(3)"
      ]
     },
     "execution_count": 13,
     "metadata": {},
     "output_type": "execute_result"
    }
   ],
   "source": [
    "l2 [0,1,0]"
   ]
  },
  {
   "cell_type": "code",
   "execution_count": 14,
   "id": "a80037b6",
   "metadata": {},
   "outputs": [
    {
     "data": {
      "text/plain": [
       "np.int64(1)"
      ]
     },
     "execution_count": 14,
     "metadata": {},
     "output_type": "execute_result"
    }
   ],
   "source": [
    "l2 [0,0,0]"
   ]
  },
  {
   "cell_type": "code",
   "execution_count": 15,
   "id": "678f486d",
   "metadata": {},
   "outputs": [
    {
     "data": {
      "text/plain": [
       "array([11, 12])"
      ]
     },
     "execution_count": 15,
     "metadata": {},
     "output_type": "execute_result"
    }
   ],
   "source": [
    "l2 [2,1,:]"
   ]
  },
  {
   "cell_type": "code",
   "execution_count": 16,
   "id": "4a81f0c4",
   "metadata": {},
   "outputs": [],
   "source": [
    "l5 = [1,2,3,4,5,6,7,8,9,10]"
   ]
  },
  {
   "cell_type": "code",
   "execution_count": 17,
   "id": "4828e9b4",
   "metadata": {},
   "outputs": [
    {
     "data": {
      "text/plain": [
       "[1, 2, 3, 4, 5, 6, 7, 8, 9, 10]"
      ]
     },
     "execution_count": 17,
     "metadata": {},
     "output_type": "execute_result"
    }
   ],
   "source": [
    "l5"
   ]
  },
  {
   "cell_type": "code",
   "execution_count": 18,
   "id": "4ac1f311",
   "metadata": {},
   "outputs": [
    {
     "data": {
      "text/plain": [
       "[1, 2, 3, 4, 5, 6, 7, 8, 9, 10, 1, 2, 3, 4, 5, 6, 7, 8, 9, 10]"
      ]
     },
     "execution_count": 18,
     "metadata": {},
     "output_type": "execute_result"
    }
   ],
   "source": [
    "l5 * 2"
   ]
  },
  {
   "cell_type": "code",
   "execution_count": 19,
   "id": "b6de3788",
   "metadata": {},
   "outputs": [],
   "source": [
    "l5 = np.array(l5)"
   ]
  },
  {
   "cell_type": "code",
   "execution_count": 20,
   "id": "72bbfe20",
   "metadata": {},
   "outputs": [
    {
     "data": {
      "text/plain": [
       "array([ 1,  2,  3,  4,  5,  6,  7,  8,  9, 10])"
      ]
     },
     "execution_count": 20,
     "metadata": {},
     "output_type": "execute_result"
    }
   ],
   "source": [
    "l5"
   ]
  },
  {
   "cell_type": "code",
   "execution_count": 21,
   "id": "588ec42f",
   "metadata": {},
   "outputs": [
    {
     "data": {
      "text/plain": [
       "(10,)"
      ]
     },
     "execution_count": 21,
     "metadata": {},
     "output_type": "execute_result"
    }
   ],
   "source": [
    "l5.shape"
   ]
  },
  {
   "cell_type": "code",
   "execution_count": 22,
   "id": "a893c2bb",
   "metadata": {},
   "outputs": [],
   "source": [
    "l5 = l5.reshape(5,2)"
   ]
  },
  {
   "cell_type": "code",
   "execution_count": 23,
   "id": "c5e782a0",
   "metadata": {},
   "outputs": [
    {
     "data": {
      "text/plain": [
       "array([[ 1,  2],\n",
       "       [ 3,  4],\n",
       "       [ 5,  6],\n",
       "       [ 7,  8],\n",
       "       [ 9, 10]])"
      ]
     },
     "execution_count": 23,
     "metadata": {},
     "output_type": "execute_result"
    }
   ],
   "source": [
    "l5"
   ]
  },
  {
   "cell_type": "code",
   "execution_count": 24,
   "id": "f33f3c4e",
   "metadata": {},
   "outputs": [],
   "source": [
    "l6 = [1,2,3,4,5,6,7,8,9,10]"
   ]
  },
  {
   "cell_type": "code",
   "execution_count": 25,
   "id": "4205070b",
   "metadata": {},
   "outputs": [],
   "source": [
    "arr=np.array(l6)"
   ]
  },
  {
   "cell_type": "code",
   "execution_count": 26,
   "id": "3b320e0f",
   "metadata": {},
   "outputs": [
    {
     "data": {
      "text/plain": [
       "array([ 1,  2,  3,  4,  5,  6,  7,  8,  9, 10])"
      ]
     },
     "execution_count": 26,
     "metadata": {},
     "output_type": "execute_result"
    }
   ],
   "source": [
    "arr"
   ]
  },
  {
   "cell_type": "code",
   "execution_count": 27,
   "id": "cf18d670",
   "metadata": {},
   "outputs": [
    {
     "data": {
      "text/plain": [
       "array([ 2,  4,  6,  8, 10, 12, 14, 16, 18, 20])"
      ]
     },
     "execution_count": 27,
     "metadata": {},
     "output_type": "execute_result"
    }
   ],
   "source": [
    "arr* 2"
   ]
  },
  {
   "cell_type": "code",
   "execution_count": 28,
   "id": "c3f99346",
   "metadata": {},
   "outputs": [
    {
     "data": {
      "text/plain": [
       "array([ 3,  4,  5,  6,  7,  8,  9, 10, 11, 12])"
      ]
     },
     "execution_count": 28,
     "metadata": {},
     "output_type": "execute_result"
    }
   ],
   "source": [
    "arr + 2"
   ]
  },
  {
   "cell_type": "code",
   "execution_count": 29,
   "id": "1e672f61",
   "metadata": {},
   "outputs": [
    {
     "data": {
      "text/plain": [
       "array([-1,  0,  1,  2,  3,  4,  5,  6,  7,  8])"
      ]
     },
     "execution_count": 29,
     "metadata": {},
     "output_type": "execute_result"
    }
   ],
   "source": [
    "arr - 2"
   ]
  },
  {
   "cell_type": "code",
   "execution_count": 30,
   "id": "7fbf08e8",
   "metadata": {},
   "outputs": [
    {
     "data": {
      "text/plain": [
       "(10,)"
      ]
     },
     "execution_count": 30,
     "metadata": {},
     "output_type": "execute_result"
    }
   ],
   "source": [
    "arr.shape\n"
   ]
  },
  {
   "cell_type": "code",
   "execution_count": 31,
   "id": "a96102c3",
   "metadata": {},
   "outputs": [],
   "source": [
    "arr = arr.reshape(2,5)"
   ]
  },
  {
   "cell_type": "code",
   "execution_count": 32,
   "id": "c776bf6b",
   "metadata": {},
   "outputs": [
    {
     "data": {
      "text/plain": [
       "array([[ 1,  2,  3,  4,  5],\n",
       "       [ 6,  7,  8,  9, 10]])"
      ]
     },
     "execution_count": 32,
     "metadata": {},
     "output_type": "execute_result"
    }
   ],
   "source": [
    "arr\n"
   ]
  },
  {
   "cell_type": "code",
   "execution_count": 33,
   "id": "58680c17",
   "metadata": {},
   "outputs": [],
   "source": [
    "l7 = np.array([1,2,3,4,5,6,7,8,9,10,11,12])"
   ]
  },
  {
   "cell_type": "code",
   "execution_count": 34,
   "id": "af6adb14",
   "metadata": {},
   "outputs": [
    {
     "data": {
      "text/plain": [
       "array([ 1,  2,  3,  4,  5,  6,  7,  8,  9, 10, 11, 12])"
      ]
     },
     "execution_count": 34,
     "metadata": {},
     "output_type": "execute_result"
    }
   ],
   "source": [
    "l7"
   ]
  },
  {
   "cell_type": "code",
   "execution_count": 35,
   "id": "df5c681e",
   "metadata": {},
   "outputs": [
    {
     "data": {
      "text/plain": [
       "(12,)"
      ]
     },
     "execution_count": 35,
     "metadata": {},
     "output_type": "execute_result"
    }
   ],
   "source": [
    "l7.shape"
   ]
  },
  {
   "cell_type": "code",
   "execution_count": 36,
   "id": "104d435d",
   "metadata": {},
   "outputs": [],
   "source": [
    "l8 = np.array([1,8,4,5,6,9,7,1,2,20,11,13])"
   ]
  },
  {
   "cell_type": "code",
   "execution_count": 37,
   "id": "77d046ec",
   "metadata": {},
   "outputs": [
    {
     "data": {
      "text/plain": [
       "array([ 1,  8,  4,  5,  6,  9,  7,  1,  2, 20, 11, 13])"
      ]
     },
     "execution_count": 37,
     "metadata": {},
     "output_type": "execute_result"
    }
   ],
   "source": [
    "l8"
   ]
  },
  {
   "cell_type": "code",
   "execution_count": 38,
   "id": "c9256262",
   "metadata": {},
   "outputs": [
    {
     "data": {
      "text/plain": [
       "(12,)"
      ]
     },
     "execution_count": 38,
     "metadata": {},
     "output_type": "execute_result"
    }
   ],
   "source": [
    "l8.shape"
   ]
  },
  {
   "cell_type": "code",
   "execution_count": 39,
   "id": "d54dd835",
   "metadata": {},
   "outputs": [],
   "source": [
    "l8 = l8.reshape(1,12)"
   ]
  },
  {
   "cell_type": "code",
   "execution_count": 40,
   "id": "5566a5b3",
   "metadata": {},
   "outputs": [
    {
     "data": {
      "text/plain": [
       "(1, 12)"
      ]
     },
     "execution_count": 40,
     "metadata": {},
     "output_type": "execute_result"
    }
   ],
   "source": [
    "l8.shape"
   ]
  },
  {
   "cell_type": "code",
   "execution_count": 41,
   "id": "1b60114e",
   "metadata": {},
   "outputs": [],
   "source": [
    "l9 = l8 + l7"
   ]
  },
  {
   "cell_type": "code",
   "execution_count": 42,
   "id": "702c8a15",
   "metadata": {},
   "outputs": [
    {
     "data": {
      "text/plain": [
       "array([[ 2, 10,  7,  9, 11, 15, 14,  9, 11, 30, 22, 25]])"
      ]
     },
     "execution_count": 42,
     "metadata": {},
     "output_type": "execute_result"
    }
   ],
   "source": [
    "l9 "
   ]
  },
  {
   "cell_type": "code",
   "execution_count": 43,
   "id": "9dd90f80",
   "metadata": {},
   "outputs": [
    {
     "data": {
      "text/plain": [
       "(1, 12)"
      ]
     },
     "execution_count": 43,
     "metadata": {},
     "output_type": "execute_result"
    }
   ],
   "source": [
    "l9.shape"
   ]
  },
  {
   "cell_type": "code",
   "execution_count": 44,
   "id": "4de1f333",
   "metadata": {},
   "outputs": [],
   "source": [
    "l10 = np.array([1,5,8,7,4,6,9,2,3,6,5,4,7,8])"
   ]
  },
  {
   "cell_type": "code",
   "execution_count": 45,
   "id": "9f5c2791",
   "metadata": {},
   "outputs": [
    {
     "data": {
      "text/plain": [
       "array([1, 5, 8, 7, 4, 6, 9, 2, 3, 6, 5, 4, 7, 8])"
      ]
     },
     "execution_count": 45,
     "metadata": {},
     "output_type": "execute_result"
    }
   ],
   "source": [
    "l10"
   ]
  },
  {
   "cell_type": "code",
   "execution_count": 46,
   "id": "efd88145",
   "metadata": {},
   "outputs": [
    {
     "data": {
      "text/plain": [
       "(14,)"
      ]
     },
     "execution_count": 46,
     "metadata": {},
     "output_type": "execute_result"
    }
   ],
   "source": [
    "l10.shape"
   ]
  },
  {
   "cell_type": "code",
   "execution_count": 47,
   "id": "3eb38111",
   "metadata": {},
   "outputs": [],
   "source": [
    "l10 = l10.reshape(14,1)"
   ]
  },
  {
   "cell_type": "code",
   "execution_count": 48,
   "id": "1222c0b5",
   "metadata": {},
   "outputs": [],
   "source": [
    "l11 = l10 + l7"
   ]
  },
  {
   "cell_type": "code",
   "execution_count": 49,
   "id": "34c53ced",
   "metadata": {},
   "outputs": [
    {
     "data": {
      "text/plain": [
       "array([[ 2,  3,  4,  5,  6,  7,  8,  9, 10, 11, 12, 13],\n",
       "       [ 6,  7,  8,  9, 10, 11, 12, 13, 14, 15, 16, 17],\n",
       "       [ 9, 10, 11, 12, 13, 14, 15, 16, 17, 18, 19, 20],\n",
       "       [ 8,  9, 10, 11, 12, 13, 14, 15, 16, 17, 18, 19],\n",
       "       [ 5,  6,  7,  8,  9, 10, 11, 12, 13, 14, 15, 16],\n",
       "       [ 7,  8,  9, 10, 11, 12, 13, 14, 15, 16, 17, 18],\n",
       "       [10, 11, 12, 13, 14, 15, 16, 17, 18, 19, 20, 21],\n",
       "       [ 3,  4,  5,  6,  7,  8,  9, 10, 11, 12, 13, 14],\n",
       "       [ 4,  5,  6,  7,  8,  9, 10, 11, 12, 13, 14, 15],\n",
       "       [ 7,  8,  9, 10, 11, 12, 13, 14, 15, 16, 17, 18],\n",
       "       [ 6,  7,  8,  9, 10, 11, 12, 13, 14, 15, 16, 17],\n",
       "       [ 5,  6,  7,  8,  9, 10, 11, 12, 13, 14, 15, 16],\n",
       "       [ 8,  9, 10, 11, 12, 13, 14, 15, 16, 17, 18, 19],\n",
       "       [ 9, 10, 11, 12, 13, 14, 15, 16, 17, 18, 19, 20]])"
      ]
     },
     "execution_count": 49,
     "metadata": {},
     "output_type": "execute_result"
    }
   ],
   "source": [
    "l11"
   ]
  },
  {
   "cell_type": "code",
   "execution_count": 50,
   "id": "8fbff51f",
   "metadata": {},
   "outputs": [],
   "source": [
    "l12 = np.array([1,2,3,4,5,6,7,8,9,10,11,12,13,14,15,16,17,18,19,20,21,22,23,24])"
   ]
  },
  {
   "cell_type": "code",
   "execution_count": 51,
   "id": "a0516566",
   "metadata": {},
   "outputs": [],
   "source": [
    "l12 = l12.reshape(2,12)"
   ]
  },
  {
   "cell_type": "code",
   "execution_count": 52,
   "id": "0ef10b4e",
   "metadata": {},
   "outputs": [],
   "source": [
    "l13 = l12 + l7"
   ]
  },
  {
   "cell_type": "code",
   "execution_count": 53,
   "id": "a2a3617c",
   "metadata": {},
   "outputs": [
    {
     "data": {
      "text/plain": [
       "(2, 12)"
      ]
     },
     "execution_count": 53,
     "metadata": {},
     "output_type": "execute_result"
    }
   ],
   "source": [
    "l13.shape"
   ]
  },
  {
   "cell_type": "code",
   "execution_count": 54,
   "id": "2a2b21af",
   "metadata": {},
   "outputs": [],
   "source": [
    "l12 = l12.reshape(2,12)"
   ]
  },
  {
   "cell_type": "code",
   "execution_count": 55,
   "id": "9b27237f",
   "metadata": {},
   "outputs": [],
   "source": [
    "l13 = l7 + l12"
   ]
  },
  {
   "cell_type": "markdown",
   "id": "5691f180",
   "metadata": {},
   "source": [
    "to add two matrix(array) we have to make their y-axis or columns of same value."
   ]
  },
  {
   "cell_type": "code",
   "execution_count": 56,
   "id": "a59d78ed",
   "metadata": {},
   "outputs": [
    {
     "data": {
      "text/plain": [
       "array([[ 2,  4,  6,  8, 10, 12, 14, 16, 18, 20, 22, 24],\n",
       "       [14, 16, 18, 20, 22, 24, 26, 28, 30, 32, 34, 36]])"
      ]
     },
     "execution_count": 56,
     "metadata": {},
     "output_type": "execute_result"
    }
   ],
   "source": [
    "l13"
   ]
  },
  {
   "cell_type": "code",
   "execution_count": 57,
   "id": "7a311702",
   "metadata": {},
   "outputs": [
    {
     "data": {
      "text/plain": [
       "(12,)"
      ]
     },
     "execution_count": 57,
     "metadata": {},
     "output_type": "execute_result"
    }
   ],
   "source": [
    "l7.shape"
   ]
  },
  {
   "cell_type": "code",
   "execution_count": 58,
   "id": "3b90e847",
   "metadata": {},
   "outputs": [
    {
     "data": {
      "text/plain": [
       "(2, 12)"
      ]
     },
     "execution_count": 58,
     "metadata": {},
     "output_type": "execute_result"
    }
   ],
   "source": [
    "l12.shape"
   ]
  },
  {
   "cell_type": "code",
   "execution_count": 59,
   "id": "6fbacd72",
   "metadata": {},
   "outputs": [
    {
     "data": {
      "text/plain": [
       "(1, 12)"
      ]
     },
     "execution_count": 59,
     "metadata": {},
     "output_type": "execute_result"
    }
   ],
   "source": [
    "l9.shape"
   ]
  },
  {
   "cell_type": "code",
   "execution_count": 60,
   "id": "9363b45b",
   "metadata": {},
   "outputs": [],
   "source": [
    "arr1=l9+l12"
   ]
  },
  {
   "cell_type": "code",
   "execution_count": 61,
   "id": "5c9d9cde",
   "metadata": {},
   "outputs": [
    {
     "data": {
      "text/plain": [
       "array([[ 3, 12, 10, 13, 16, 21, 21, 17, 20, 40, 33, 37],\n",
       "       [15, 24, 22, 25, 28, 33, 33, 29, 32, 52, 45, 49]])"
      ]
     },
     "execution_count": 61,
     "metadata": {},
     "output_type": "execute_result"
    }
   ],
   "source": [
    "arr1"
   ]
  },
  {
   "cell_type": "code",
   "execution_count": 62,
   "id": "d9bb9a02",
   "metadata": {},
   "outputs": [],
   "source": [
    "arr3=l9.reshape(1,12)"
   ]
  },
  {
   "cell_type": "code",
   "execution_count": 63,
   "id": "a202de28",
   "metadata": {},
   "outputs": [
    {
     "data": {
      "text/plain": [
       "array([[ 2, 10,  7,  9, 11, 15, 14,  9, 11, 30, 22, 25]])"
      ]
     },
     "execution_count": 63,
     "metadata": {},
     "output_type": "execute_result"
    }
   ],
   "source": [
    "arr3"
   ]
  },
  {
   "cell_type": "code",
   "execution_count": 64,
   "id": "7addc66c",
   "metadata": {},
   "outputs": [
    {
     "data": {
      "text/plain": [
       "(1, 12)"
      ]
     },
     "execution_count": 64,
     "metadata": {},
     "output_type": "execute_result"
    }
   ],
   "source": [
    "arr3.shape\n"
   ]
  },
  {
   "cell_type": "code",
   "execution_count": 65,
   "id": "f92e5808",
   "metadata": {},
   "outputs": [],
   "source": [
    "arr2 = l9+l7"
   ]
  },
  {
   "cell_type": "code",
   "execution_count": 66,
   "id": "81763a67",
   "metadata": {},
   "outputs": [
    {
     "data": {
      "text/plain": [
       "array([[ 3, 12, 10, 13, 16, 21, 21, 17, 20, 40, 33, 37]])"
      ]
     },
     "execution_count": 66,
     "metadata": {},
     "output_type": "execute_result"
    }
   ],
   "source": [
    "arr2"
   ]
  },
  {
   "cell_type": "code",
   "execution_count": 67,
   "id": "3b48fcb7",
   "metadata": {},
   "outputs": [
    {
     "data": {
      "text/plain": [
       "(12,)"
      ]
     },
     "execution_count": 67,
     "metadata": {},
     "output_type": "execute_result"
    }
   ],
   "source": [
    "l7.shape"
   ]
  },
  {
   "cell_type": "code",
   "execution_count": 68,
   "id": "7d11300a",
   "metadata": {},
   "outputs": [],
   "source": [
    "arr4=l7+l9"
   ]
  },
  {
   "cell_type": "code",
   "execution_count": 69,
   "id": "1476814c",
   "metadata": {},
   "outputs": [
    {
     "data": {
      "text/plain": [
       "array([[ 3, 12, 10, 13, 16, 21, 21, 17, 20, 40, 33, 37]])"
      ]
     },
     "execution_count": 69,
     "metadata": {},
     "output_type": "execute_result"
    }
   ],
   "source": [
    "arr4"
   ]
  },
  {
   "cell_type": "code",
   "execution_count": 70,
   "id": "e83d8681",
   "metadata": {},
   "outputs": [],
   "source": [
    "arr5 = arr4+arr3"
   ]
  },
  {
   "cell_type": "code",
   "execution_count": 71,
   "id": "49108057",
   "metadata": {},
   "outputs": [
    {
     "data": {
      "text/plain": [
       "array([[ 5, 22, 17, 22, 27, 36, 35, 26, 31, 70, 55, 62]])"
      ]
     },
     "execution_count": 71,
     "metadata": {},
     "output_type": "execute_result"
    }
   ],
   "source": [
    "arr5"
   ]
  },
  {
   "cell_type": "code",
   "execution_count": 72,
   "id": "c6788411",
   "metadata": {},
   "outputs": [],
   "source": [
    "arr6=l9.reshape(2,6)"
   ]
  },
  {
   "cell_type": "code",
   "execution_count": 73,
   "id": "adf294c6",
   "metadata": {},
   "outputs": [],
   "source": [
    "arr7=l7.reshape(2,6)"
   ]
  },
  {
   "cell_type": "code",
   "execution_count": 74,
   "id": "87663de4",
   "metadata": {},
   "outputs": [],
   "source": [
    "arr8=arr6+arr7"
   ]
  },
  {
   "cell_type": "code",
   "execution_count": 75,
   "id": "4a1074f8",
   "metadata": {},
   "outputs": [
    {
     "data": {
      "text/plain": [
       "array([[ 3, 12, 10, 13, 16, 21],\n",
       "       [21, 17, 20, 40, 33, 37]])"
      ]
     },
     "execution_count": 75,
     "metadata": {},
     "output_type": "execute_result"
    }
   ],
   "source": [
    "arr8"
   ]
  },
  {
   "cell_type": "markdown",
   "id": "c4cda1cb",
   "metadata": {},
   "source": [
    "zeros = it is used to make an array of values = 0"
   ]
  },
  {
   "cell_type": "code",
   "execution_count": 76,
   "id": "9bbaee7d",
   "metadata": {},
   "outputs": [],
   "source": [
    "arr9 = np.zeros((2,10))"
   ]
  },
  {
   "cell_type": "code",
   "execution_count": 77,
   "id": "489c75b5",
   "metadata": {},
   "outputs": [
    {
     "data": {
      "text/plain": [
       "array([[0., 0., 0., 0., 0., 0., 0., 0., 0., 0.],\n",
       "       [0., 0., 0., 0., 0., 0., 0., 0., 0., 0.]])"
      ]
     },
     "execution_count": 77,
     "metadata": {},
     "output_type": "execute_result"
    }
   ],
   "source": [
    "arr9"
   ]
  },
  {
   "cell_type": "code",
   "execution_count": 78,
   "id": "dd135266",
   "metadata": {},
   "outputs": [],
   "source": [
    "arr9=np.zeros((5,10),dtype=int)\n"
   ]
  },
  {
   "cell_type": "code",
   "execution_count": 79,
   "id": "40039d7f",
   "metadata": {},
   "outputs": [
    {
     "data": {
      "text/plain": [
       "array([[0, 0, 0, 0, 0, 0, 0, 0, 0, 0],\n",
       "       [0, 0, 0, 0, 0, 0, 0, 0, 0, 0],\n",
       "       [0, 0, 0, 0, 0, 0, 0, 0, 0, 0],\n",
       "       [0, 0, 0, 0, 0, 0, 0, 0, 0, 0],\n",
       "       [0, 0, 0, 0, 0, 0, 0, 0, 0, 0]])"
      ]
     },
     "execution_count": 79,
     "metadata": {},
     "output_type": "execute_result"
    }
   ],
   "source": [
    "arr9"
   ]
  },
  {
   "cell_type": "markdown",
   "id": "093edf01",
   "metadata": {},
   "source": [
    "ones = it is used to generate an array of ony unit digits ."
   ]
  },
  {
   "cell_type": "code",
   "execution_count": 80,
   "id": "2896a189",
   "metadata": {},
   "outputs": [],
   "source": [
    "arr = np.ones((9,15))"
   ]
  },
  {
   "cell_type": "code",
   "execution_count": 81,
   "id": "e714ce2f",
   "metadata": {},
   "outputs": [
    {
     "data": {
      "text/plain": [
       "array([[1., 1., 1., 1., 1., 1., 1., 1., 1., 1., 1., 1., 1., 1., 1.],\n",
       "       [1., 1., 1., 1., 1., 1., 1., 1., 1., 1., 1., 1., 1., 1., 1.],\n",
       "       [1., 1., 1., 1., 1., 1., 1., 1., 1., 1., 1., 1., 1., 1., 1.],\n",
       "       [1., 1., 1., 1., 1., 1., 1., 1., 1., 1., 1., 1., 1., 1., 1.],\n",
       "       [1., 1., 1., 1., 1., 1., 1., 1., 1., 1., 1., 1., 1., 1., 1.],\n",
       "       [1., 1., 1., 1., 1., 1., 1., 1., 1., 1., 1., 1., 1., 1., 1.],\n",
       "       [1., 1., 1., 1., 1., 1., 1., 1., 1., 1., 1., 1., 1., 1., 1.],\n",
       "       [1., 1., 1., 1., 1., 1., 1., 1., 1., 1., 1., 1., 1., 1., 1.],\n",
       "       [1., 1., 1., 1., 1., 1., 1., 1., 1., 1., 1., 1., 1., 1., 1.]])"
      ]
     },
     "execution_count": 81,
     "metadata": {},
     "output_type": "execute_result"
    }
   ],
   "source": [
    "arr"
   ]
  },
  {
   "cell_type": "markdown",
   "id": "351a1eae",
   "metadata": {},
   "source": [
    "empty = it is used to get an array of randomly generated values or garbage values ."
   ]
  },
  {
   "cell_type": "code",
   "execution_count": 82,
   "id": "7bdea4af",
   "metadata": {},
   "outputs": [],
   "source": [
    "arr = np.empty((4,6))"
   ]
  },
  {
   "cell_type": "code",
   "execution_count": 83,
   "id": "aa66d3e3",
   "metadata": {},
   "outputs": [
    {
     "data": {
      "text/plain": [
       "array([[4.7008511e-315, 0.0000000e+000, 3.4584595e-323, 4.4465908e-323,\n",
       "        5.4347221e-323, 7.4109847e-323],\n",
       "       [6.9169190e-323, 4.4465908e-323, 5.4347221e-323, 1.4821969e-322,\n",
       "        1.0869444e-322, 1.2351641e-322],\n",
       "       [9.8813129e-324, 4.9406565e-323, 3.4584595e-323, 4.4465908e-323,\n",
       "        5.4347221e-323, 7.4109847e-323],\n",
       "       [6.9169190e-323, 4.4465908e-323, 5.4347221e-323, 1.4821969e-322,\n",
       "        1.0869444e-322, 1.2351641e-322]])"
      ]
     },
     "execution_count": 83,
     "metadata": {},
     "output_type": "execute_result"
    }
   ],
   "source": [
    "arr"
   ]
  },
  {
   "cell_type": "code",
   "execution_count": 84,
   "id": "3205ef36",
   "metadata": {},
   "outputs": [],
   "source": [
    "arr = np.empty((4,6),dtype=int)"
   ]
  },
  {
   "cell_type": "code",
   "execution_count": 85,
   "id": "80fc1490",
   "metadata": {},
   "outputs": [
    {
     "data": {
      "text/plain": [
       "array([[951462855,         0,         7,         9,        11,        15],\n",
       "       [       14,         9,        11,        30,        22,        25],\n",
       "       [        2,        10,         7,         9,        11,        15],\n",
       "       [       14,         9,        11,        30,        22,        25]])"
      ]
     },
     "execution_count": 85,
     "metadata": {},
     "output_type": "execute_result"
    }
   ],
   "source": [
    "arr "
   ]
  },
  {
   "cell_type": "markdown",
   "id": "32f89f4d",
   "metadata": {},
   "source": [
    "arange = it is used to get an array of desired staring point & ending point with how much differnce we want in the two values ."
   ]
  },
  {
   "cell_type": "code",
   "execution_count": 86,
   "id": "317fa2a2",
   "metadata": {},
   "outputs": [],
   "source": [
    "arr = np.arange(0,20,2.5,dtype=np.float64)"
   ]
  },
  {
   "cell_type": "code",
   "execution_count": 87,
   "id": "53bdacde",
   "metadata": {},
   "outputs": [
    {
     "data": {
      "text/plain": [
       "array([ 0. ,  2.5,  5. ,  7.5, 10. , 12.5, 15. , 17.5])"
      ]
     },
     "execution_count": 87,
     "metadata": {},
     "output_type": "execute_result"
    }
   ],
   "source": [
    "arr"
   ]
  },
  {
   "cell_type": "markdown",
   "id": "439f35d3",
   "metadata": {},
   "source": [
    "linspace = it is used to make an array of desired staring point & ending point with how much values we want then the funtion will generate the gap itself according to the values "
   ]
  },
  {
   "cell_type": "code",
   "execution_count": 88,
   "id": "bb015bf9",
   "metadata": {},
   "outputs": [],
   "source": [
    "arr = np.linspace(0,10,20)"
   ]
  },
  {
   "cell_type": "code",
   "execution_count": 89,
   "id": "1ba7249f",
   "metadata": {},
   "outputs": [
    {
     "data": {
      "text/plain": [
       "array([ 0.        ,  0.52631579,  1.05263158,  1.57894737,  2.10526316,\n",
       "        2.63157895,  3.15789474,  3.68421053,  4.21052632,  4.73684211,\n",
       "        5.26315789,  5.78947368,  6.31578947,  6.84210526,  7.36842105,\n",
       "        7.89473684,  8.42105263,  8.94736842,  9.47368421, 10.        ])"
      ]
     },
     "execution_count": 89,
     "metadata": {},
     "output_type": "execute_result"
    }
   ],
   "source": [
    "arr"
   ]
  },
  {
   "cell_type": "code",
   "execution_count": 90,
   "id": "65f75694",
   "metadata": {},
   "outputs": [],
   "source": [
    "arr = np.random.binomial(n=6,p=0.6,size=(2,5))"
   ]
  },
  {
   "cell_type": "code",
   "execution_count": 91,
   "id": "a7341530",
   "metadata": {},
   "outputs": [
    {
     "data": {
      "text/plain": [
       "array([[1, 4, 3, 4, 3],\n",
       "       [4, 3, 3, 5, 4]])"
      ]
     },
     "execution_count": 91,
     "metadata": {},
     "output_type": "execute_result"
    }
   ],
   "source": [
    "arr"
   ]
  },
  {
   "cell_type": "code",
   "execution_count": 92,
   "id": "b55a446f",
   "metadata": {},
   "outputs": [],
   "source": [
    "arr = np.random.binomial(n=1,p=0.5,size=(2,5))"
   ]
  },
  {
   "cell_type": "code",
   "execution_count": 93,
   "id": "44a08abb",
   "metadata": {},
   "outputs": [
    {
     "data": {
      "text/plain": [
       "array([[1, 1, 1, 0, 1],\n",
       "       [0, 1, 1, 0, 1]])"
      ]
     },
     "execution_count": 93,
     "metadata": {},
     "output_type": "execute_result"
    }
   ],
   "source": [
    "arr"
   ]
  },
  {
   "cell_type": "code",
   "execution_count": 94,
   "id": "6fcbe2d3",
   "metadata": {},
   "outputs": [],
   "source": [
    "arr = np.random.multivariate_normal(mean=[1,1,1,1],cov=[[1,0,0,0],[0,1,0,0],[0,0,1,0],[0,0,0,1]],size=10)"
   ]
  },
  {
   "cell_type": "code",
   "execution_count": 95,
   "id": "0a08cc60",
   "metadata": {},
   "outputs": [
    {
     "data": {
      "text/plain": [
       "array([[ 0.31584761,  2.8268778 ,  0.0851966 ,  1.9848079 ],\n",
       "       [-1.04048613,  0.12572462,  1.65370284,  2.63837007],\n",
       "       [ 1.42652705,  2.45495337,  0.06361625,  0.47918386],\n",
       "       [ 1.74844037,  0.77605875,  1.48261981, -0.44676553],\n",
       "       [ 0.16121884,  0.70495136,  0.52035474, -0.81110826],\n",
       "       [ 0.02224571,  1.5912649 ,  1.07859877,  0.69596925],\n",
       "       [ 0.14985859, -0.68629435,  2.11324592,  2.01999849],\n",
       "       [ 0.66560484,  1.42955237,  0.34614788,  0.98539044],\n",
       "       [ 0.75912096,  2.0148051 ,  2.21657129,  0.50150052],\n",
       "       [-0.1006651 , -0.33734057, -0.75995738,  0.38425435]])"
      ]
     },
     "execution_count": 95,
     "metadata": {},
     "output_type": "execute_result"
    }
   ],
   "source": [
    "arr"
   ]
  },
  {
   "cell_type": "code",
   "execution_count": 96,
   "id": "e57d3219",
   "metadata": {},
   "outputs": [],
   "source": [
    "arr = np.random.multivariate_normal(mean=[1,2,3,4],cov=[[1,0,0,0],[0,2,0,0],[0,0,3,0],[0,0,0,4]],size=10)"
   ]
  },
  {
   "cell_type": "code",
   "execution_count": 97,
   "id": "cdaba28b",
   "metadata": {},
   "outputs": [
    {
     "data": {
      "text/plain": [
       "array([[ 2.14397143,  3.26788938,  3.35619434,  2.73898254],\n",
       "       [-0.11729847,  0.86569345,  2.90234425,  3.6363133 ],\n",
       "       [-0.60724765,  3.07486548,  3.16579842,  3.74870526],\n",
       "       [ 2.32431516, -0.81549867,  2.46062406,  5.10612288],\n",
       "       [ 1.53356003,  1.7451646 ,  3.25195482,  2.69891209],\n",
       "       [ 1.66429574,  2.19050477,  2.14652671,  4.33274462],\n",
       "       [-0.00905679,  3.473811  ,  2.51045972,  1.00854462],\n",
       "       [ 2.32005756,  1.91554771,  3.70726656,  3.59785766],\n",
       "       [ 0.37068377,  1.52658856,  2.80831744,  6.31775824],\n",
       "       [ 1.94302948,  1.37066888,  5.68390264,  4.81453077]])"
      ]
     },
     "execution_count": 97,
     "metadata": {},
     "output_type": "execute_result"
    }
   ],
   "source": [
    "arr"
   ]
  },
  {
   "cell_type": "code",
   "execution_count": 98,
   "id": "4c81fa76",
   "metadata": {},
   "outputs": [],
   "source": [
    "arr = np.random.normal(loc=5,scale=1,size=(2,10))"
   ]
  },
  {
   "cell_type": "code",
   "execution_count": 99,
   "id": "4b8028cb",
   "metadata": {},
   "outputs": [
    {
     "data": {
      "text/plain": [
       "array([[5.67414693, 3.53556952, 6.25225681, 6.46313368, 7.63099855,\n",
       "        5.68686819, 6.36281377, 4.81913291, 1.85189132, 5.81149668],\n",
       "       [5.17710988, 6.38680919, 5.7047348 , 5.86838984, 6.15623808,\n",
       "        5.11462321, 5.06813375, 4.96624779, 4.57339552, 6.11870476]])"
      ]
     },
     "execution_count": 99,
     "metadata": {},
     "output_type": "execute_result"
    }
   ],
   "source": [
    "arr"
   ]
  },
  {
   "cell_type": "code",
   "execution_count": 100,
   "id": "e7beee8d",
   "metadata": {},
   "outputs": [],
   "source": [
    "arr_mean=np.mean(arr)"
   ]
  },
  {
   "cell_type": "code",
   "execution_count": 101,
   "id": "3e59e668",
   "metadata": {},
   "outputs": [
    {
     "data": {
      "text/plain": [
       "np.float64(5.461134759068026)"
      ]
     },
     "execution_count": 101,
     "metadata": {},
     "output_type": "execute_result"
    }
   ],
   "source": [
    "arr_mean"
   ]
  },
  {
   "cell_type": "code",
   "execution_count": null,
   "id": "44ff1ba8",
   "metadata": {},
   "outputs": [],
   "source": []
  }
 ],
 "metadata": {
  "kernelspec": {
   "display_name": ".venv",
   "language": "python",
   "name": "python3"
  },
  "language_info": {
   "codemirror_mode": {
    "name": "ipython",
    "version": 3
   },
   "file_extension": ".py",
   "mimetype": "text/x-python",
   "name": "python",
   "nbconvert_exporter": "python",
   "pygments_lexer": "ipython3",
   "version": "3.12.3"
  }
 },
 "nbformat": 4,
 "nbformat_minor": 5
}
