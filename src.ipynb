{
 "cells": [
  {
   "cell_type": "code",
   "execution_count": 1,
   "id": "85a08143",
   "metadata": {},
   "outputs": [],
   "source": [
    "import numpy as np "
   ]
  },
  {
   "cell_type": "code",
   "execution_count": 21,
   "id": "08500b18",
   "metadata": {},
   "outputs": [
    {
     "name": "stdout",
     "output_type": "stream",
     "text": [
      "[1 2 3 6 5 4 8 7 9]\n"
     ]
    }
   ],
   "source": [
    "l = [1,2,3,6,5,4,8,7,9]\n",
    "arr = np.array(l)\n",
    "print(arr)"
   ]
  },
  {
   "cell_type": "code",
   "execution_count": 22,
   "id": "599b1d60",
   "metadata": {},
   "outputs": [
    {
     "data": {
      "text/plain": [
       "array([1, 2, 3, 6, 5, 4, 8, 7, 9])"
      ]
     },
     "execution_count": 22,
     "metadata": {},
     "output_type": "execute_result"
    }
   ],
   "source": [
    "arr"
   ]
  },
  {
   "cell_type": "code",
   "execution_count": 23,
   "id": "03da4083",
   "metadata": {},
   "outputs": [],
   "source": [
    "l2 = [[[1,2,3,],[4,5,6,],[7,8,9],[10,11,12]]]"
   ]
  },
  {
   "cell_type": "code",
   "execution_count": 24,
   "id": "b9ad3d55",
   "metadata": {},
   "outputs": [
    {
     "data": {
      "text/plain": [
       "[[[1, 2, 3], [4, 5, 6], [7, 8, 9], [10, 11, 12]]]"
      ]
     },
     "execution_count": 24,
     "metadata": {},
     "output_type": "execute_result"
    }
   ],
   "source": [
    "l2"
   ]
  },
  {
   "cell_type": "code",
   "execution_count": 25,
   "id": "c3bb4b35",
   "metadata": {},
   "outputs": [
    {
     "data": {
      "text/plain": [
       "(1, 4, 3)"
      ]
     },
     "execution_count": 25,
     "metadata": {},
     "output_type": "execute_result"
    }
   ],
   "source": [
    "np.shape(l2)"
   ]
  },
  {
   "cell_type": "code",
   "execution_count": 26,
   "id": "8ea9f4f9",
   "metadata": {},
   "outputs": [
    {
     "data": {
      "text/plain": [
       "array([1, 2, 3, 6, 5, 4, 8, 7, 9])"
      ]
     },
     "execution_count": 26,
     "metadata": {},
     "output_type": "execute_result"
    }
   ],
   "source": [
    "arr"
   ]
  },
  {
   "cell_type": "code",
   "execution_count": 27,
   "id": "d5d25647",
   "metadata": {},
   "outputs": [
    {
     "data": {
      "text/plain": [
       "array([1, 2, 3, 6, 5, 4, 8, 7, 9])"
      ]
     },
     "execution_count": 27,
     "metadata": {},
     "output_type": "execute_result"
    }
   ],
   "source": [
    "arr"
   ]
  },
  {
   "cell_type": "code",
   "execution_count": 28,
   "id": "6d057b83",
   "metadata": {},
   "outputs": [
    {
     "data": {
      "text/plain": [
       "(9,)"
      ]
     },
     "execution_count": 28,
     "metadata": {},
     "output_type": "execute_result"
    }
   ],
   "source": [
    "arr.shape"
   ]
  },
  {
   "cell_type": "code",
   "execution_count": 29,
   "id": "0228118f",
   "metadata": {},
   "outputs": [],
   "source": [
    "l2 = np.reshape(l2,(3,2,2))"
   ]
  },
  {
   "cell_type": "code",
   "execution_count": 30,
   "id": "6f6b6254",
   "metadata": {},
   "outputs": [
    {
     "data": {
      "text/plain": [
       "(3, 2, 2)"
      ]
     },
     "execution_count": 30,
     "metadata": {},
     "output_type": "execute_result"
    }
   ],
   "source": [
    "np.shape(l2)"
   ]
  },
  {
   "cell_type": "code",
   "execution_count": 31,
   "id": "579008d7",
   "metadata": {},
   "outputs": [
    {
     "name": "stdout",
     "output_type": "stream",
     "text": [
      "[[[ 1  2]\n",
      "  [ 3  4]]\n",
      "\n",
      " [[ 5  6]\n",
      "  [ 7  8]]\n",
      "\n",
      " [[ 9 10]\n",
      "  [11 12]]]\n"
     ]
    }
   ],
   "source": [
    "print(l2)"
   ]
  },
  {
   "cell_type": "code",
   "execution_count": 32,
   "id": "c3942731",
   "metadata": {},
   "outputs": [
    {
     "data": {
      "text/plain": [
       "np.int64(3)"
      ]
     },
     "execution_count": 32,
     "metadata": {},
     "output_type": "execute_result"
    }
   ],
   "source": [
    "l2 [0,1,0]"
   ]
  },
  {
   "cell_type": "code",
   "execution_count": 33,
   "id": "a80037b6",
   "metadata": {},
   "outputs": [
    {
     "data": {
      "text/plain": [
       "np.int64(1)"
      ]
     },
     "execution_count": 33,
     "metadata": {},
     "output_type": "execute_result"
    }
   ],
   "source": [
    "l2 [0,0,0]"
   ]
  },
  {
   "cell_type": "code",
   "execution_count": 34,
   "id": "678f486d",
   "metadata": {},
   "outputs": [
    {
     "data": {
      "text/plain": [
       "array([11, 12])"
      ]
     },
     "execution_count": 34,
     "metadata": {},
     "output_type": "execute_result"
    }
   ],
   "source": [
    "l2 [2,1,:]"
   ]
  },
  {
   "cell_type": "code",
   "execution_count": 35,
   "id": "4a81f0c4",
   "metadata": {},
   "outputs": [],
   "source": [
    "l5 = [1,2,3,4,5,6,7,8,9,10]"
   ]
  },
  {
   "cell_type": "code",
   "execution_count": 36,
   "id": "4828e9b4",
   "metadata": {},
   "outputs": [
    {
     "data": {
      "text/plain": [
       "[1, 2, 3, 4, 5, 6, 7, 8, 9, 10]"
      ]
     },
     "execution_count": 36,
     "metadata": {},
     "output_type": "execute_result"
    }
   ],
   "source": [
    "l5"
   ]
  },
  {
   "cell_type": "code",
   "execution_count": 37,
   "id": "4ac1f311",
   "metadata": {},
   "outputs": [
    {
     "data": {
      "text/plain": [
       "[1, 2, 3, 4, 5, 6, 7, 8, 9, 10, 1, 2, 3, 4, 5, 6, 7, 8, 9, 10]"
      ]
     },
     "execution_count": 37,
     "metadata": {},
     "output_type": "execute_result"
    }
   ],
   "source": [
    "l5 * 2"
   ]
  },
  {
   "cell_type": "code",
   "execution_count": 38,
   "id": "b6de3788",
   "metadata": {},
   "outputs": [],
   "source": [
    "l5 = np.array(l5)"
   ]
  },
  {
   "cell_type": "code",
   "execution_count": 39,
   "id": "72bbfe20",
   "metadata": {},
   "outputs": [
    {
     "data": {
      "text/plain": [
       "array([ 1,  2,  3,  4,  5,  6,  7,  8,  9, 10])"
      ]
     },
     "execution_count": 39,
     "metadata": {},
     "output_type": "execute_result"
    }
   ],
   "source": [
    "l5"
   ]
  },
  {
   "cell_type": "code",
   "execution_count": 40,
   "id": "588ec42f",
   "metadata": {},
   "outputs": [
    {
     "data": {
      "text/plain": [
       "(10,)"
      ]
     },
     "execution_count": 40,
     "metadata": {},
     "output_type": "execute_result"
    }
   ],
   "source": [
    "l5.shape"
   ]
  },
  {
   "cell_type": "code",
   "execution_count": 41,
   "id": "a893c2bb",
   "metadata": {},
   "outputs": [],
   "source": [
    "l5 = l5.reshape(5,2)"
   ]
  },
  {
   "cell_type": "code",
   "execution_count": 42,
   "id": "c5e782a0",
   "metadata": {},
   "outputs": [
    {
     "data": {
      "text/plain": [
       "array([[ 1,  2],\n",
       "       [ 3,  4],\n",
       "       [ 5,  6],\n",
       "       [ 7,  8],\n",
       "       [ 9, 10]])"
      ]
     },
     "execution_count": 42,
     "metadata": {},
     "output_type": "execute_result"
    }
   ],
   "source": [
    "l5"
   ]
  },
  {
   "cell_type": "code",
   "execution_count": 43,
   "id": "f33f3c4e",
   "metadata": {},
   "outputs": [],
   "source": [
    "l6 = [1,2,3,4,5,6,7,8,9,10]"
   ]
  },
  {
   "cell_type": "code",
   "execution_count": 44,
   "id": "4205070b",
   "metadata": {},
   "outputs": [],
   "source": [
    "arr=np.array(l6)"
   ]
  },
  {
   "cell_type": "code",
   "execution_count": 45,
   "id": "3b320e0f",
   "metadata": {},
   "outputs": [
    {
     "data": {
      "text/plain": [
       "array([ 1,  2,  3,  4,  5,  6,  7,  8,  9, 10])"
      ]
     },
     "execution_count": 45,
     "metadata": {},
     "output_type": "execute_result"
    }
   ],
   "source": [
    "arr"
   ]
  },
  {
   "cell_type": "code",
   "execution_count": 46,
   "id": "cf18d670",
   "metadata": {},
   "outputs": [
    {
     "data": {
      "text/plain": [
       "array([ 2,  4,  6,  8, 10, 12, 14, 16, 18, 20])"
      ]
     },
     "execution_count": 46,
     "metadata": {},
     "output_type": "execute_result"
    }
   ],
   "source": [
    "arr* 2"
   ]
  },
  {
   "cell_type": "code",
   "execution_count": 47,
   "id": "c3f99346",
   "metadata": {},
   "outputs": [
    {
     "data": {
      "text/plain": [
       "array([ 3,  4,  5,  6,  7,  8,  9, 10, 11, 12])"
      ]
     },
     "execution_count": 47,
     "metadata": {},
     "output_type": "execute_result"
    }
   ],
   "source": [
    "arr + 2"
   ]
  },
  {
   "cell_type": "code",
   "execution_count": 48,
   "id": "1e672f61",
   "metadata": {},
   "outputs": [
    {
     "data": {
      "text/plain": [
       "array([-1,  0,  1,  2,  3,  4,  5,  6,  7,  8])"
      ]
     },
     "execution_count": 48,
     "metadata": {},
     "output_type": "execute_result"
    }
   ],
   "source": [
    "arr - 2"
   ]
  },
  {
   "cell_type": "code",
   "execution_count": 49,
   "id": "7fbf08e8",
   "metadata": {},
   "outputs": [
    {
     "data": {
      "text/plain": [
       "(10,)"
      ]
     },
     "execution_count": 49,
     "metadata": {},
     "output_type": "execute_result"
    }
   ],
   "source": [
    "arr.shape\n"
   ]
  },
  {
   "cell_type": "code",
   "execution_count": 50,
   "id": "a96102c3",
   "metadata": {},
   "outputs": [],
   "source": [
    "arr = arr.reshape(2,5)"
   ]
  },
  {
   "cell_type": "code",
   "execution_count": 51,
   "id": "c776bf6b",
   "metadata": {},
   "outputs": [
    {
     "data": {
      "text/plain": [
       "array([[ 1,  2,  3,  4,  5],\n",
       "       [ 6,  7,  8,  9, 10]])"
      ]
     },
     "execution_count": 51,
     "metadata": {},
     "output_type": "execute_result"
    }
   ],
   "source": [
    "arr\n"
   ]
  },
  {
   "cell_type": "code",
   "execution_count": 52,
   "id": "58680c17",
   "metadata": {},
   "outputs": [],
   "source": [
    "l7 = np.array([1,2,3,4,5,6,7,8,9,10,11,12])"
   ]
  },
  {
   "cell_type": "code",
   "execution_count": 53,
   "id": "af6adb14",
   "metadata": {},
   "outputs": [
    {
     "data": {
      "text/plain": [
       "array([ 1,  2,  3,  4,  5,  6,  7,  8,  9, 10, 11, 12])"
      ]
     },
     "execution_count": 53,
     "metadata": {},
     "output_type": "execute_result"
    }
   ],
   "source": [
    "l7"
   ]
  },
  {
   "cell_type": "code",
   "execution_count": 54,
   "id": "df5c681e",
   "metadata": {},
   "outputs": [
    {
     "data": {
      "text/plain": [
       "(12,)"
      ]
     },
     "execution_count": 54,
     "metadata": {},
     "output_type": "execute_result"
    }
   ],
   "source": [
    "l7.shape"
   ]
  },
  {
   "cell_type": "code",
   "execution_count": 55,
   "id": "104d435d",
   "metadata": {},
   "outputs": [],
   "source": [
    "l8 = np.array([1,8,4,5,6,9,7,1,2,20,11,13])"
   ]
  },
  {
   "cell_type": "code",
   "execution_count": 56,
   "id": "77d046ec",
   "metadata": {},
   "outputs": [
    {
     "data": {
      "text/plain": [
       "array([ 1,  8,  4,  5,  6,  9,  7,  1,  2, 20, 11, 13])"
      ]
     },
     "execution_count": 56,
     "metadata": {},
     "output_type": "execute_result"
    }
   ],
   "source": [
    "l8"
   ]
  },
  {
   "cell_type": "code",
   "execution_count": 57,
   "id": "c9256262",
   "metadata": {},
   "outputs": [
    {
     "data": {
      "text/plain": [
       "(12,)"
      ]
     },
     "execution_count": 57,
     "metadata": {},
     "output_type": "execute_result"
    }
   ],
   "source": [
    "l8.shape"
   ]
  },
  {
   "cell_type": "code",
   "execution_count": 58,
   "id": "d54dd835",
   "metadata": {},
   "outputs": [],
   "source": [
    "l8 = l8.reshape(1,12)"
   ]
  },
  {
   "cell_type": "code",
   "execution_count": 59,
   "id": "5566a5b3",
   "metadata": {},
   "outputs": [
    {
     "data": {
      "text/plain": [
       "(1, 12)"
      ]
     },
     "execution_count": 59,
     "metadata": {},
     "output_type": "execute_result"
    }
   ],
   "source": [
    "l8.shape"
   ]
  },
  {
   "cell_type": "code",
   "execution_count": 60,
   "id": "1b60114e",
   "metadata": {},
   "outputs": [],
   "source": [
    "l9 = l8 + l7"
   ]
  },
  {
   "cell_type": "code",
   "execution_count": 61,
   "id": "702c8a15",
   "metadata": {},
   "outputs": [
    {
     "data": {
      "text/plain": [
       "array([[ 2, 10,  7,  9, 11, 15, 14,  9, 11, 30, 22, 25]])"
      ]
     },
     "execution_count": 61,
     "metadata": {},
     "output_type": "execute_result"
    }
   ],
   "source": [
    "l9 "
   ]
  },
  {
   "cell_type": "code",
   "execution_count": 62,
   "id": "9dd90f80",
   "metadata": {},
   "outputs": [
    {
     "data": {
      "text/plain": [
       "(1, 12)"
      ]
     },
     "execution_count": 62,
     "metadata": {},
     "output_type": "execute_result"
    }
   ],
   "source": [
    "l9.shape"
   ]
  },
  {
   "cell_type": "code",
   "execution_count": 63,
   "id": "4de1f333",
   "metadata": {},
   "outputs": [],
   "source": [
    "l10 = np.array([1,5,8,7,4,6,9,2,3,6,5,4,7,8])"
   ]
  },
  {
   "cell_type": "code",
   "execution_count": 64,
   "id": "9f5c2791",
   "metadata": {},
   "outputs": [
    {
     "data": {
      "text/plain": [
       "array([1, 5, 8, 7, 4, 6, 9, 2, 3, 6, 5, 4, 7, 8])"
      ]
     },
     "execution_count": 64,
     "metadata": {},
     "output_type": "execute_result"
    }
   ],
   "source": [
    "l10"
   ]
  },
  {
   "cell_type": "code",
   "execution_count": 65,
   "id": "efd88145",
   "metadata": {},
   "outputs": [
    {
     "data": {
      "text/plain": [
       "(14,)"
      ]
     },
     "execution_count": 65,
     "metadata": {},
     "output_type": "execute_result"
    }
   ],
   "source": [
    "l10.shape"
   ]
  },
  {
   "cell_type": "code",
   "execution_count": 66,
   "id": "3eb38111",
   "metadata": {},
   "outputs": [],
   "source": [
    "l10 = l10.reshape(14,1)"
   ]
  },
  {
   "cell_type": "code",
   "execution_count": 67,
   "id": "1222c0b5",
   "metadata": {},
   "outputs": [],
   "source": [
    "l11 = l10 + l7"
   ]
  },
  {
   "cell_type": "code",
   "execution_count": 68,
   "id": "34c53ced",
   "metadata": {},
   "outputs": [
    {
     "data": {
      "text/plain": [
       "array([[ 2,  3,  4,  5,  6,  7,  8,  9, 10, 11, 12, 13],\n",
       "       [ 6,  7,  8,  9, 10, 11, 12, 13, 14, 15, 16, 17],\n",
       "       [ 9, 10, 11, 12, 13, 14, 15, 16, 17, 18, 19, 20],\n",
       "       [ 8,  9, 10, 11, 12, 13, 14, 15, 16, 17, 18, 19],\n",
       "       [ 5,  6,  7,  8,  9, 10, 11, 12, 13, 14, 15, 16],\n",
       "       [ 7,  8,  9, 10, 11, 12, 13, 14, 15, 16, 17, 18],\n",
       "       [10, 11, 12, 13, 14, 15, 16, 17, 18, 19, 20, 21],\n",
       "       [ 3,  4,  5,  6,  7,  8,  9, 10, 11, 12, 13, 14],\n",
       "       [ 4,  5,  6,  7,  8,  9, 10, 11, 12, 13, 14, 15],\n",
       "       [ 7,  8,  9, 10, 11, 12, 13, 14, 15, 16, 17, 18],\n",
       "       [ 6,  7,  8,  9, 10, 11, 12, 13, 14, 15, 16, 17],\n",
       "       [ 5,  6,  7,  8,  9, 10, 11, 12, 13, 14, 15, 16],\n",
       "       [ 8,  9, 10, 11, 12, 13, 14, 15, 16, 17, 18, 19],\n",
       "       [ 9, 10, 11, 12, 13, 14, 15, 16, 17, 18, 19, 20]])"
      ]
     },
     "execution_count": 68,
     "metadata": {},
     "output_type": "execute_result"
    }
   ],
   "source": [
    "l11"
   ]
  },
  {
   "cell_type": "code",
   "execution_count": 69,
   "id": "8fbff51f",
   "metadata": {},
   "outputs": [],
   "source": [
    "l12 = np.array([1,2,3,4,5,6,7,8,9,10,11,12,13,14,15,16,17,18,19,20,21,22,23,24])"
   ]
  },
  {
   "cell_type": "code",
   "execution_count": 70,
   "id": "a0516566",
   "metadata": {},
   "outputs": [],
   "source": [
    "l12 = l12.reshape(2,12)"
   ]
  },
  {
   "cell_type": "code",
   "execution_count": 71,
   "id": "0ef10b4e",
   "metadata": {},
   "outputs": [],
   "source": [
    "l13 = l12 + l7"
   ]
  },
  {
   "cell_type": "code",
   "execution_count": 72,
   "id": "a2a3617c",
   "metadata": {},
   "outputs": [
    {
     "data": {
      "text/plain": [
       "(2, 12)"
      ]
     },
     "execution_count": 72,
     "metadata": {},
     "output_type": "execute_result"
    }
   ],
   "source": [
    "l13.shape"
   ]
  },
  {
   "cell_type": "code",
   "execution_count": 73,
   "id": "2a2b21af",
   "metadata": {},
   "outputs": [],
   "source": [
    "l12 = l12.reshape(2,12)"
   ]
  },
  {
   "cell_type": "code",
   "execution_count": 74,
   "id": "9b27237f",
   "metadata": {},
   "outputs": [],
   "source": [
    "l13 = l7 + l12"
   ]
  },
  {
   "cell_type": "markdown",
   "id": "5691f180",
   "metadata": {},
   "source": [
    "to add two matrix(array) we have to make their y-axis or columns of same value."
   ]
  },
  {
   "cell_type": "code",
   "execution_count": 75,
   "id": "a59d78ed",
   "metadata": {},
   "outputs": [
    {
     "data": {
      "text/plain": [
       "array([[ 2,  4,  6,  8, 10, 12, 14, 16, 18, 20, 22, 24],\n",
       "       [14, 16, 18, 20, 22, 24, 26, 28, 30, 32, 34, 36]])"
      ]
     },
     "execution_count": 75,
     "metadata": {},
     "output_type": "execute_result"
    }
   ],
   "source": [
    "l13"
   ]
  },
  {
   "cell_type": "code",
   "execution_count": 76,
   "id": "7a311702",
   "metadata": {},
   "outputs": [
    {
     "data": {
      "text/plain": [
       "(12,)"
      ]
     },
     "execution_count": 76,
     "metadata": {},
     "output_type": "execute_result"
    }
   ],
   "source": [
    "l7.shape"
   ]
  },
  {
   "cell_type": "code",
   "execution_count": 77,
   "id": "3b90e847",
   "metadata": {},
   "outputs": [
    {
     "data": {
      "text/plain": [
       "(2, 12)"
      ]
     },
     "execution_count": 77,
     "metadata": {},
     "output_type": "execute_result"
    }
   ],
   "source": [
    "l12.shape"
   ]
  },
  {
   "cell_type": "code",
   "execution_count": 78,
   "id": "6fbacd72",
   "metadata": {},
   "outputs": [
    {
     "data": {
      "text/plain": [
       "(1, 12)"
      ]
     },
     "execution_count": 78,
     "metadata": {},
     "output_type": "execute_result"
    }
   ],
   "source": [
    "l9.shape"
   ]
  },
  {
   "cell_type": "code",
   "execution_count": 79,
   "id": "9363b45b",
   "metadata": {},
   "outputs": [],
   "source": [
    "arr1=l9+l12"
   ]
  },
  {
   "cell_type": "code",
   "execution_count": 80,
   "id": "5c9d9cde",
   "metadata": {},
   "outputs": [
    {
     "data": {
      "text/plain": [
       "array([[ 3, 12, 10, 13, 16, 21, 21, 17, 20, 40, 33, 37],\n",
       "       [15, 24, 22, 25, 28, 33, 33, 29, 32, 52, 45, 49]])"
      ]
     },
     "execution_count": 80,
     "metadata": {},
     "output_type": "execute_result"
    }
   ],
   "source": [
    "arr1"
   ]
  },
  {
   "cell_type": "code",
   "execution_count": 81,
   "id": "d9bb9a02",
   "metadata": {},
   "outputs": [],
   "source": [
    "arr3=l9.reshape(1,12)"
   ]
  },
  {
   "cell_type": "code",
   "execution_count": 82,
   "id": "a202de28",
   "metadata": {},
   "outputs": [
    {
     "data": {
      "text/plain": [
       "array([[ 2, 10,  7,  9, 11, 15, 14,  9, 11, 30, 22, 25]])"
      ]
     },
     "execution_count": 82,
     "metadata": {},
     "output_type": "execute_result"
    }
   ],
   "source": [
    "arr3"
   ]
  },
  {
   "cell_type": "code",
   "execution_count": 83,
   "id": "7addc66c",
   "metadata": {},
   "outputs": [
    {
     "data": {
      "text/plain": [
       "(1, 12)"
      ]
     },
     "execution_count": 83,
     "metadata": {},
     "output_type": "execute_result"
    }
   ],
   "source": [
    "arr3.shape\n"
   ]
  },
  {
   "cell_type": "code",
   "execution_count": 84,
   "id": "f92e5808",
   "metadata": {},
   "outputs": [],
   "source": [
    "arr2 = l9+l7"
   ]
  },
  {
   "cell_type": "code",
   "execution_count": 85,
   "id": "81763a67",
   "metadata": {},
   "outputs": [
    {
     "data": {
      "text/plain": [
       "array([[ 3, 12, 10, 13, 16, 21, 21, 17, 20, 40, 33, 37]])"
      ]
     },
     "execution_count": 85,
     "metadata": {},
     "output_type": "execute_result"
    }
   ],
   "source": [
    "arr2"
   ]
  },
  {
   "cell_type": "code",
   "execution_count": 86,
   "id": "3b48fcb7",
   "metadata": {},
   "outputs": [
    {
     "data": {
      "text/plain": [
       "(12,)"
      ]
     },
     "execution_count": 86,
     "metadata": {},
     "output_type": "execute_result"
    }
   ],
   "source": [
    "l7.shape"
   ]
  },
  {
   "cell_type": "code",
   "execution_count": 87,
   "id": "7d11300a",
   "metadata": {},
   "outputs": [],
   "source": [
    "arr4=l7+l9"
   ]
  },
  {
   "cell_type": "code",
   "execution_count": 88,
   "id": "1476814c",
   "metadata": {},
   "outputs": [
    {
     "data": {
      "text/plain": [
       "array([[ 3, 12, 10, 13, 16, 21, 21, 17, 20, 40, 33, 37]])"
      ]
     },
     "execution_count": 88,
     "metadata": {},
     "output_type": "execute_result"
    }
   ],
   "source": [
    "arr4"
   ]
  },
  {
   "cell_type": "code",
   "execution_count": 89,
   "id": "e83d8681",
   "metadata": {},
   "outputs": [],
   "source": [
    "arr5 = arr4+arr3"
   ]
  },
  {
   "cell_type": "code",
   "execution_count": 90,
   "id": "49108057",
   "metadata": {},
   "outputs": [
    {
     "data": {
      "text/plain": [
       "array([[ 5, 22, 17, 22, 27, 36, 35, 26, 31, 70, 55, 62]])"
      ]
     },
     "execution_count": 90,
     "metadata": {},
     "output_type": "execute_result"
    }
   ],
   "source": [
    "arr5"
   ]
  },
  {
   "cell_type": "code",
   "execution_count": 91,
   "id": "c6788411",
   "metadata": {},
   "outputs": [],
   "source": [
    "arr6=l9.reshape(2,6)    "
   ]
  },
  {
   "cell_type": "code",
   "execution_count": 92,
   "id": "adf294c6",
   "metadata": {},
   "outputs": [],
   "source": [
    "arr7=l7.reshape(2,6)"
   ]
  },
  {
   "cell_type": "code",
   "execution_count": 93,
   "id": "87663de4",
   "metadata": {},
   "outputs": [],
   "source": [
    "arr8=arr6+arr7"
   ]
  },
  {
   "cell_type": "code",
   "execution_count": 94,
   "id": "4a1074f8",
   "metadata": {},
   "outputs": [
    {
     "data": {
      "text/plain": [
       "array([[ 3, 12, 10, 13, 16, 21],\n",
       "       [21, 17, 20, 40, 33, 37]])"
      ]
     },
     "execution_count": 94,
     "metadata": {},
     "output_type": "execute_result"
    }
   ],
   "source": [
    "arr8"
   ]
  },
  {
   "cell_type": "markdown",
   "id": "c4cda1cb",
   "metadata": {},
   "source": [
    "zeros = it is used to make an array of values = 0"
   ]
  },
  {
   "cell_type": "code",
   "execution_count": 95,
   "id": "9bbaee7d",
   "metadata": {},
   "outputs": [],
   "source": [
    "arr9 = np.zeros((2,10))"
   ]
  },
  {
   "cell_type": "code",
   "execution_count": 96,
   "id": "91f9163e",
   "metadata": {},
   "outputs": [],
   "source": [
    "arr = np.ones((4,8),dtype=int)"
   ]
  },
  {
   "cell_type": "code",
   "execution_count": 97,
   "id": "c6170538",
   "metadata": {},
   "outputs": [
    {
     "data": {
      "text/plain": [
       "array([[1, 1, 1, 1, 1, 1, 1, 1],\n",
       "       [1, 1, 1, 1, 1, 1, 1, 1],\n",
       "       [1, 1, 1, 1, 1, 1, 1, 1],\n",
       "       [1, 1, 1, 1, 1, 1, 1, 1]])"
      ]
     },
     "execution_count": 97,
     "metadata": {},
     "output_type": "execute_result"
    }
   ],
   "source": [
    "arr"
   ]
  },
  {
   "cell_type": "code",
   "execution_count": 98,
   "id": "6172ebb5",
   "metadata": {},
   "outputs": [],
   "source": [
    "arr = arr.reshape(8,1,1,1,1,1,1,4)"
   ]
  },
  {
   "cell_type": "code",
   "execution_count": 99,
   "id": "39b4f5da",
   "metadata": {},
   "outputs": [
    {
     "data": {
      "text/plain": [
       "array([[[[[[[[1, 1, 1, 1]]]]]]],\n",
       "\n",
       "\n",
       "\n",
       "\n",
       "\n",
       "\n",
       "       [[[[[[[1, 1, 1, 1]]]]]]],\n",
       "\n",
       "\n",
       "\n",
       "\n",
       "\n",
       "\n",
       "       [[[[[[[1, 1, 1, 1]]]]]]],\n",
       "\n",
       "\n",
       "\n",
       "\n",
       "\n",
       "\n",
       "       [[[[[[[1, 1, 1, 1]]]]]]],\n",
       "\n",
       "\n",
       "\n",
       "\n",
       "\n",
       "\n",
       "       [[[[[[[1, 1, 1, 1]]]]]]],\n",
       "\n",
       "\n",
       "\n",
       "\n",
       "\n",
       "\n",
       "       [[[[[[[1, 1, 1, 1]]]]]]],\n",
       "\n",
       "\n",
       "\n",
       "\n",
       "\n",
       "\n",
       "       [[[[[[[1, 1, 1, 1]]]]]]],\n",
       "\n",
       "\n",
       "\n",
       "\n",
       "\n",
       "\n",
       "       [[[[[[[1, 1, 1, 1]]]]]]]])"
      ]
     },
     "execution_count": 99,
     "metadata": {},
     "output_type": "execute_result"
    }
   ],
   "source": [
    "arr"
   ]
  },
  {
   "cell_type": "code",
   "execution_count": 100,
   "id": "489c75b5",
   "metadata": {},
   "outputs": [
    {
     "data": {
      "text/plain": [
       "array([[0., 0., 0., 0., 0., 0., 0., 0., 0., 0.],\n",
       "       [0., 0., 0., 0., 0., 0., 0., 0., 0., 0.]])"
      ]
     },
     "execution_count": 100,
     "metadata": {},
     "output_type": "execute_result"
    }
   ],
   "source": [
    "arr9"
   ]
  },
  {
   "cell_type": "code",
   "execution_count": 101,
   "id": "dd135266",
   "metadata": {},
   "outputs": [],
   "source": [
    "arr9=np.zeros((5,10),dtype=int)\n"
   ]
  },
  {
   "cell_type": "code",
   "execution_count": 102,
   "id": "40039d7f",
   "metadata": {},
   "outputs": [
    {
     "data": {
      "text/plain": [
       "array([[0, 0, 0, 0, 0, 0, 0, 0, 0, 0],\n",
       "       [0, 0, 0, 0, 0, 0, 0, 0, 0, 0],\n",
       "       [0, 0, 0, 0, 0, 0, 0, 0, 0, 0],\n",
       "       [0, 0, 0, 0, 0, 0, 0, 0, 0, 0],\n",
       "       [0, 0, 0, 0, 0, 0, 0, 0, 0, 0]])"
      ]
     },
     "execution_count": 102,
     "metadata": {},
     "output_type": "execute_result"
    }
   ],
   "source": [
    "arr9"
   ]
  },
  {
   "cell_type": "markdown",
   "id": "093edf01",
   "metadata": {},
   "source": [
    "ones = it is used to generate an array of ony unit digits ."
   ]
  },
  {
   "cell_type": "code",
   "execution_count": 103,
   "id": "2896a189",
   "metadata": {},
   "outputs": [],
   "source": [
    "arr = np.ones((9,15))"
   ]
  },
  {
   "cell_type": "code",
   "execution_count": 104,
   "id": "e714ce2f",
   "metadata": {},
   "outputs": [
    {
     "data": {
      "text/plain": [
       "array([[1., 1., 1., 1., 1., 1., 1., 1., 1., 1., 1., 1., 1., 1., 1.],\n",
       "       [1., 1., 1., 1., 1., 1., 1., 1., 1., 1., 1., 1., 1., 1., 1.],\n",
       "       [1., 1., 1., 1., 1., 1., 1., 1., 1., 1., 1., 1., 1., 1., 1.],\n",
       "       [1., 1., 1., 1., 1., 1., 1., 1., 1., 1., 1., 1., 1., 1., 1.],\n",
       "       [1., 1., 1., 1., 1., 1., 1., 1., 1., 1., 1., 1., 1., 1., 1.],\n",
       "       [1., 1., 1., 1., 1., 1., 1., 1., 1., 1., 1., 1., 1., 1., 1.],\n",
       "       [1., 1., 1., 1., 1., 1., 1., 1., 1., 1., 1., 1., 1., 1., 1.],\n",
       "       [1., 1., 1., 1., 1., 1., 1., 1., 1., 1., 1., 1., 1., 1., 1.],\n",
       "       [1., 1., 1., 1., 1., 1., 1., 1., 1., 1., 1., 1., 1., 1., 1.]])"
      ]
     },
     "execution_count": 104,
     "metadata": {},
     "output_type": "execute_result"
    }
   ],
   "source": [
    "arr"
   ]
  },
  {
   "cell_type": "markdown",
   "id": "351a1eae",
   "metadata": {},
   "source": [
    "empty = it is used to get an array of randomly generated values or garbage values ."
   ]
  },
  {
   "cell_type": "code",
   "execution_count": 105,
   "id": "7bdea4af",
   "metadata": {},
   "outputs": [],
   "source": [
    "arr = np.empty((4,6))"
   ]
  },
  {
   "cell_type": "code",
   "execution_count": 106,
   "id": "aa66d3e3",
   "metadata": {},
   "outputs": [
    {
     "data": {
      "text/plain": [
       "array([[4.85778288e-315, 0.00000000e+000, 3.99284226e+252,\n",
       "        2.18434079e-094, 5.50422993e+257, 4.11083865e+223],\n",
       "       [4.77389672e+180, 3.04040186e+180, 4.16865237e+199,\n",
       "        5.57102646e+228, 2.55330150e-086, 9.14291407e+135],\n",
       "       [2.45906524e+204, 2.03889434e+180, 1.99108547e+209,\n",
       "        2.56898236e+151, 1.69430015e-152, 5.30992040e+180],\n",
       "       [7.23011111e+165, 1.23973013e+224, 1.46899930e+179,\n",
       "        9.08367237e+223, 1.16466228e-028, 1.16455638e-028]])"
      ]
     },
     "execution_count": 106,
     "metadata": {},
     "output_type": "execute_result"
    }
   ],
   "source": [
    "arr"
   ]
  },
  {
   "cell_type": "code",
   "execution_count": 107,
   "id": "3205ef36",
   "metadata": {},
   "outputs": [],
   "source": [
    "arr = np.empty((4,6),dtype=int)"
   ]
  },
  {
   "cell_type": "code",
   "execution_count": 108,
   "id": "80fc1490",
   "metadata": {},
   "outputs": [
    {
     "data": {
      "text/plain": [
       "array([[          983226200,                   0, 8386104319403237434,\n",
       "        3205763763201926495, 8462919272755196448, 7952352385297033573],\n",
       "       [7310019855701254176, 7306934683318117473, 7593470703247179124,\n",
       "        8029185179637525614, 3326301354893524334, 6640883606134813811],\n",
       "       [7664950018409651310, 7304682900689612917, 7738135659887682936,\n",
       "        6872321981970084455, 2336353788721113384, 7310601619042361183],\n",
       "       [7088493625967206258, 7959390453599265633, 7287422520966209380,\n",
       "        7957695015493526904, 4189038621173441375, 4189038148857704736]])"
      ]
     },
     "execution_count": 108,
     "metadata": {},
     "output_type": "execute_result"
    }
   ],
   "source": [
    "arr "
   ]
  },
  {
   "cell_type": "markdown",
   "id": "32f89f4d",
   "metadata": {},
   "source": [
    "arange = it is used to get an array of desired staring point & ending point with how much differnce we want in the two values ."
   ]
  },
  {
   "cell_type": "code",
   "execution_count": 109,
   "id": "317fa2a2",
   "metadata": {},
   "outputs": [],
   "source": [
    "arr = np.arange(0,20,2.5,dtype=np.float64)"
   ]
  },
  {
   "cell_type": "code",
   "execution_count": 110,
   "id": "53bdacde",
   "metadata": {},
   "outputs": [
    {
     "data": {
      "text/plain": [
       "array([ 0. ,  2.5,  5. ,  7.5, 10. , 12.5, 15. , 17.5])"
      ]
     },
     "execution_count": 110,
     "metadata": {},
     "output_type": "execute_result"
    }
   ],
   "source": [
    "arr"
   ]
  },
  {
   "cell_type": "markdown",
   "id": "439f35d3",
   "metadata": {},
   "source": [
    "linspace = it is used to make an array of desired staring point & ending point with how much values we want then the funtion will generate the gap itself according to the values "
   ]
  },
  {
   "cell_type": "code",
   "execution_count": 111,
   "id": "bb015bf9",
   "metadata": {},
   "outputs": [],
   "source": [
    "arr = np.linspace(0,10,20)"
   ]
  },
  {
   "cell_type": "code",
   "execution_count": 112,
   "id": "1ba7249f",
   "metadata": {},
   "outputs": [
    {
     "data": {
      "text/plain": [
       "array([ 0.        ,  0.52631579,  1.05263158,  1.57894737,  2.10526316,\n",
       "        2.63157895,  3.15789474,  3.68421053,  4.21052632,  4.73684211,\n",
       "        5.26315789,  5.78947368,  6.31578947,  6.84210526,  7.36842105,\n",
       "        7.89473684,  8.42105263,  8.94736842,  9.47368421, 10.        ])"
      ]
     },
     "execution_count": 112,
     "metadata": {},
     "output_type": "execute_result"
    }
   ],
   "source": [
    "arr"
   ]
  },
  {
   "cell_type": "code",
   "execution_count": 113,
   "id": "65f75694",
   "metadata": {},
   "outputs": [],
   "source": [
    "arr = np.random.binomial(n=6,p=0.6,size=(2,5))"
   ]
  },
  {
   "cell_type": "code",
   "execution_count": 114,
   "id": "a7341530",
   "metadata": {},
   "outputs": [
    {
     "data": {
      "text/plain": [
       "array([[5, 4, 2, 3, 3],\n",
       "       [4, 2, 4, 2, 3]])"
      ]
     },
     "execution_count": 114,
     "metadata": {},
     "output_type": "execute_result"
    }
   ],
   "source": [
    "arr"
   ]
  },
  {
   "cell_type": "code",
   "execution_count": 115,
   "id": "b55a446f",
   "metadata": {},
   "outputs": [],
   "source": [
    "arr = np.random.binomial(n=1,p=0.5,size=(2,5))"
   ]
  },
  {
   "cell_type": "code",
   "execution_count": 116,
   "id": "44a08abb",
   "metadata": {},
   "outputs": [
    {
     "data": {
      "text/plain": [
       "array([[0, 0, 0, 1, 0],\n",
       "       [1, 1, 1, 0, 1]])"
      ]
     },
     "execution_count": 116,
     "metadata": {},
     "output_type": "execute_result"
    }
   ],
   "source": [
    "arr"
   ]
  },
  {
   "cell_type": "code",
   "execution_count": 117,
   "id": "6fcbe2d3",
   "metadata": {},
   "outputs": [],
   "source": [
    "arr = np.random.multivariate_normal(mean=[1,1,1,1],cov=[[1,0,0,0],[0,1,0,0],[0,0,1,0],[0,0,0,1]],size=10)"
   ]
  },
  {
   "cell_type": "code",
   "execution_count": 118,
   "id": "0a08cc60",
   "metadata": {},
   "outputs": [
    {
     "data": {
      "text/plain": [
       "array([[ 1.52253084,  0.40387887,  2.01886348, -0.13223004],\n",
       "       [ 0.25163666,  2.52527036,  0.90995742,  0.57521903],\n",
       "       [-0.1147295 ,  1.77616175,  0.70434586,  0.7595871 ],\n",
       "       [ 1.40888904,  0.41757425, -0.78995422,  0.82341913],\n",
       "       [ 2.33925048,  0.1112077 ,  0.19821657,  0.25432971],\n",
       "       [ 1.70093894,  1.0364835 ,  0.12667161,  0.83379371],\n",
       "       [-0.81821414,  0.76068932, -0.67854973,  3.01462985],\n",
       "       [ 2.26141059, -0.12805587,  0.9423853 ,  0.30349392],\n",
       "       [ 0.75752029,  3.41119307,  1.07983138, -0.56808402],\n",
       "       [-2.37274499,  0.79453437, -0.7735865 ,  0.05204853]])"
      ]
     },
     "execution_count": 118,
     "metadata": {},
     "output_type": "execute_result"
    }
   ],
   "source": [
    "arr"
   ]
  },
  {
   "cell_type": "code",
   "execution_count": 119,
   "id": "e57d3219",
   "metadata": {},
   "outputs": [],
   "source": [
    "arr = np.random.multivariate_normal(mean=[1,2,3,4],cov=[[1,0,0,0],[0,2,0,0],[0,0,3,0],[0,0,0,4]],size=10)"
   ]
  },
  {
   "cell_type": "code",
   "execution_count": 120,
   "id": "cdaba28b",
   "metadata": {},
   "outputs": [
    {
     "data": {
      "text/plain": [
       "array([[ 0.8117703 ,  1.30144671,  3.8530649 ,  0.34008547],\n",
       "       [ 1.03248566,  1.02412863,  3.8455288 ,  1.5088323 ],\n",
       "       [ 0.86898109,  2.93701162, -0.38748626,  3.5550374 ],\n",
       "       [ 3.20664068,  2.47413876,  5.07884824,  2.15451488],\n",
       "       [ 1.13446983,  5.39228398,  3.46339873,  4.47022278],\n",
       "       [ 1.46113033,  2.85786253,  2.30544885,  2.22718959],\n",
       "       [-0.81450373,  2.29596918,  3.5819986 ,  1.53860024],\n",
       "       [ 0.63288896,  4.29926419,  2.48985732,  6.96079219],\n",
       "       [ 1.61433645, -0.55651517,  3.12819578,  8.78750267],\n",
       "       [ 2.6183949 ,  0.31726694,  1.80010344,  0.15351936]])"
      ]
     },
     "execution_count": 120,
     "metadata": {},
     "output_type": "execute_result"
    }
   ],
   "source": [
    "arr"
   ]
  },
  {
   "cell_type": "code",
   "execution_count": 121,
   "id": "4c81fa76",
   "metadata": {},
   "outputs": [],
   "source": [
    "arr = np.random.normal(loc=5,scale=1,size=(2,10))"
   ]
  },
  {
   "cell_type": "code",
   "execution_count": 122,
   "id": "4b8028cb",
   "metadata": {},
   "outputs": [
    {
     "data": {
      "text/plain": [
       "array([[4.02209853, 4.82504801, 5.18972944, 4.99505198, 4.96212479,\n",
       "        5.9969164 , 5.27312669, 5.85858362, 5.18219236, 4.6268129 ],\n",
       "       [5.2388194 , 4.27013967, 4.9886481 , 6.08343187, 4.95084369,\n",
       "        5.31696104, 7.91092816, 4.97614613, 3.46511582, 5.63196002]])"
      ]
     },
     "execution_count": 122,
     "metadata": {},
     "output_type": "execute_result"
    }
   ],
   "source": [
    "arr"
   ]
  },
  {
   "cell_type": "code",
   "execution_count": 123,
   "id": "e7beee8d",
   "metadata": {},
   "outputs": [],
   "source": [
    "arr_mean=np.mean(arr)"
   ]
  },
  {
   "cell_type": "code",
   "execution_count": 124,
   "id": "3e59e668",
   "metadata": {},
   "outputs": [
    {
     "data": {
      "text/plain": [
       "np.float64(5.1882339316656685)"
      ]
     },
     "execution_count": 124,
     "metadata": {},
     "output_type": "execute_result"
    }
   ],
   "source": [
    "arr_mean"
   ]
  },
  {
   "cell_type": "code",
   "execution_count": 125,
   "id": "44ff1ba8",
   "metadata": {},
   "outputs": [],
   "source": [
    "arr = np.random.rand(10,10)"
   ]
  },
  {
   "cell_type": "code",
   "execution_count": 126,
   "id": "1242be79",
   "metadata": {},
   "outputs": [
    {
     "data": {
      "text/plain": [
       "array([[0.8270818 , 0.10126061, 0.54366874, 0.21801829, 0.70328566,\n",
       "        0.65547299, 0.71222641, 0.55402236, 0.2541182 , 0.98702691],\n",
       "       [0.57839451, 0.57109323, 0.49602266, 0.41140246, 0.61788302,\n",
       "        0.32341063, 0.20356785, 0.2946211 , 0.6995974 , 0.78785247],\n",
       "       [0.06928411, 0.50725305, 0.76298026, 0.96535232, 0.48200347,\n",
       "        0.78045774, 0.30619668, 0.7090061 , 0.97583811, 0.71896786],\n",
       "       [0.24199311, 0.92898934, 0.29109891, 0.89326774, 0.56062533,\n",
       "        0.97441295, 0.23637564, 0.49000413, 0.32261951, 0.07607657],\n",
       "       [0.18426356, 0.0071395 , 0.82148953, 0.35170841, 0.89046653,\n",
       "        0.99586475, 0.95443582, 0.5105869 , 0.68640824, 0.43078268],\n",
       "       [0.27929941, 0.31192045, 0.6646884 , 0.87806311, 0.87351741,\n",
       "        0.34884239, 0.39393265, 0.84715123, 0.97477765, 0.98787346],\n",
       "       [0.14343438, 0.1673219 , 0.50501524, 0.65226673, 0.48011572,\n",
       "        0.5716611 , 0.4205713 , 0.1220737 , 0.16679907, 0.04159813],\n",
       "       [0.63712048, 0.99254393, 0.45377197, 0.24049708, 0.29365905,\n",
       "        0.12853528, 0.88946406, 0.30840419, 0.01819143, 0.13750295],\n",
       "       [0.38599517, 0.84163597, 0.31587984, 0.98496741, 0.27566057,\n",
       "        0.72440576, 0.82329855, 0.74385444, 0.99113982, 0.75332115],\n",
       "       [0.32255757, 0.02099387, 0.39719766, 0.0310587 , 0.02120878,\n",
       "        0.69284867, 0.00303666, 0.7734198 , 0.76520098, 0.20587726]])"
      ]
     },
     "execution_count": 126,
     "metadata": {},
     "output_type": "execute_result"
    }
   ],
   "source": [
    "arr"
   ]
  },
  {
   "cell_type": "code",
   "execution_count": 127,
   "id": "79125df2",
   "metadata": {},
   "outputs": [],
   "source": [
    "arr = np.random.randint(low=10,high=25,size= (2,20))"
   ]
  },
  {
   "cell_type": "code",
   "execution_count": 128,
   "id": "8f7a37a2",
   "metadata": {},
   "outputs": [
    {
     "data": {
      "text/plain": [
       "array([[13, 17, 19, 13, 17, 13, 16, 15, 14, 19, 19, 17, 16, 11, 10, 24,\n",
       "        18, 24, 19, 15],\n",
       "       [12, 16, 20, 24, 18, 15, 20, 18, 18, 19, 12, 13, 13, 21, 13, 23,\n",
       "        17, 21, 17, 20]])"
      ]
     },
     "execution_count": 128,
     "metadata": {},
     "output_type": "execute_result"
    }
   ],
   "source": [
    "arr"
   ]
  },
  {
   "cell_type": "code",
   "execution_count": 129,
   "id": "35378ecf",
   "metadata": {},
   "outputs": [],
   "source": [
    "arr = np.random.randn(5,10)"
   ]
  },
  {
   "cell_type": "code",
   "execution_count": 130,
   "id": "6b81a6e1",
   "metadata": {},
   "outputs": [
    {
     "data": {
      "text/plain": [
       "array([[-0.67508604, -0.61689957, -0.63811612,  0.07906632, -0.43434519,\n",
       "         0.6917671 ,  0.45814076, -2.50263354, -1.2118349 ,  0.7107415 ],\n",
       "       [-0.41968434, -0.92622609,  1.31056342,  1.25179175,  0.25810501,\n",
       "         1.91453221, -0.70559542, -1.36287131,  0.69523507, -0.2889747 ],\n",
       "       [-0.69722872, -0.47269579,  0.88233044, -0.11793716,  0.07606026,\n",
       "        -0.1183797 , -0.80425075,  0.79844462, -1.63982036, -0.14606739],\n",
       "       [ 0.77364511, -1.06446491,  1.38937358, -0.28210735,  1.90638106,\n",
       "         0.46329448, -1.76486443,  0.57256856, -0.44827252, -0.95098322],\n",
       "       [ 1.32171829, -0.61091472,  1.21708016, -0.1743117 ,  0.14008871,\n",
       "        -0.9418035 ,  1.34050278, -1.013179  , -0.47119981, -0.36741636]])"
      ]
     },
     "execution_count": 130,
     "metadata": {},
     "output_type": "execute_result"
    }
   ],
   "source": [
    "arr"
   ]
  },
  {
   "cell_type": "code",
   "execution_count": 131,
   "id": "fa01ccfe",
   "metadata": {},
   "outputs": [],
   "source": [
    "c = []"
   ]
  },
  {
   "cell_type": "code",
   "execution_count": 132,
   "id": "ea09f82e",
   "metadata": {},
   "outputs": [],
   "source": [
    "arr = np.array(c)"
   ]
  },
  {
   "cell_type": "code",
   "execution_count": 133,
   "id": "b9df5a74",
   "metadata": {},
   "outputs": [
    {
     "data": {
      "text/plain": [
       "array([], dtype=float64)"
      ]
     },
     "execution_count": 133,
     "metadata": {},
     "output_type": "execute_result"
    }
   ],
   "source": [
    "arr"
   ]
  },
  {
   "cell_type": "code",
   "execution_count": 134,
   "id": "58a8824c",
   "metadata": {},
   "outputs": [],
   "source": [
    "arr = np.zeros((0,0))"
   ]
  },
  {
   "cell_type": "code",
   "execution_count": 135,
   "id": "d8df6b16",
   "metadata": {},
   "outputs": [
    {
     "data": {
      "text/plain": [
       "array([], shape=(0, 0), dtype=float64)"
      ]
     },
     "execution_count": 135,
     "metadata": {},
     "output_type": "execute_result"
    }
   ],
   "source": [
    "arr"
   ]
  },
  {
   "cell_type": "code",
   "execution_count": 136,
   "id": "8921bbef",
   "metadata": {},
   "outputs": [],
   "source": [
    "arr = np.array((x:=[2,4,5,1,7,8,6,9,6,4]))"
   ]
  },
  {
   "cell_type": "code",
   "execution_count": 137,
   "id": "253b7cad",
   "metadata": {},
   "outputs": [
    {
     "data": {
      "text/plain": [
       "array([2, 4, 5, 1, 7, 8, 6, 9, 6, 4])"
      ]
     },
     "execution_count": 137,
     "metadata": {},
     "output_type": "execute_result"
    }
   ],
   "source": [
    "arr"
   ]
  },
  {
   "cell_type": "markdown",
   "id": "4ecc016c",
   "metadata": {},
   "source": [
    "eye - it create a numpy array having ones at diagonals."
   ]
  },
  {
   "cell_type": "code",
   "execution_count": 138,
   "id": "95002011",
   "metadata": {},
   "outputs": [],
   "source": [
    "arr = np.eye(3)"
   ]
  },
  {
   "cell_type": "code",
   "execution_count": 139,
   "id": "529d3de2",
   "metadata": {},
   "outputs": [
    {
     "data": {
      "text/plain": [
       "array([[1., 0., 0.],\n",
       "       [0., 1., 0.],\n",
       "       [0., 0., 1.]])"
      ]
     },
     "execution_count": 139,
     "metadata": {},
     "output_type": "execute_result"
    }
   ],
   "source": [
    "arr"
   ]
  },
  {
   "cell_type": "code",
   "execution_count": 140,
   "id": "983a1051",
   "metadata": {},
   "outputs": [],
   "source": [
    "arr = np.eye(5,6)"
   ]
  },
  {
   "cell_type": "code",
   "execution_count": 141,
   "id": "a78d1997",
   "metadata": {},
   "outputs": [
    {
     "data": {
      "text/plain": [
       "array([[1., 0., 0., 0., 0., 0.],\n",
       "       [0., 1., 0., 0., 0., 0.],\n",
       "       [0., 0., 1., 0., 0., 0.],\n",
       "       [0., 0., 0., 1., 0., 0.],\n",
       "       [0., 0., 0., 0., 1., 0.]])"
      ]
     },
     "execution_count": 141,
     "metadata": {},
     "output_type": "execute_result"
    }
   ],
   "source": [
    "arr"
   ]
  },
  {
   "cell_type": "code",
   "execution_count": 142,
   "id": "09744240",
   "metadata": {},
   "outputs": [],
   "source": [
    "arr = np.eye(6,4)"
   ]
  },
  {
   "cell_type": "code",
   "execution_count": 143,
   "id": "23efc20b",
   "metadata": {},
   "outputs": [
    {
     "data": {
      "text/plain": [
       "array([[1., 0., 0., 0.],\n",
       "       [0., 1., 0., 0.],\n",
       "       [0., 0., 1., 0.],\n",
       "       [0., 0., 0., 1.],\n",
       "       [0., 0., 0., 0.],\n",
       "       [0., 0., 0., 0.]])"
      ]
     },
     "execution_count": 143,
     "metadata": {},
     "output_type": "execute_result"
    }
   ],
   "source": [
    "arr"
   ]
  },
  {
   "cell_type": "markdown",
   "id": "e17b2eff",
   "metadata": {},
   "source": [
    "logspace - it is used to generate a set of number whose ratio is same not difference in log scale."
   ]
  },
  {
   "cell_type": "code",
   "execution_count": 144,
   "id": "cd948f79",
   "metadata": {},
   "outputs": [],
   "source": [
    "arr = np.logspace(start=-2,stop=3,base=10,num=5)"
   ]
  },
  {
   "cell_type": "code",
   "execution_count": 145,
   "id": "041a03e6",
   "metadata": {},
   "outputs": [
    {
     "data": {
      "text/plain": [
       "array([1.00000000e-02, 1.77827941e-01, 3.16227766e+00, 5.62341325e+01,\n",
       "       1.00000000e+03])"
      ]
     },
     "execution_count": 145,
     "metadata": {},
     "output_type": "execute_result"
    }
   ],
   "source": [
    "arr"
   ]
  },
  {
   "cell_type": "code",
   "execution_count": 146,
   "id": "ba06d566",
   "metadata": {},
   "outputs": [],
   "source": [
    "arr = np.logspace(start=-2,stop=3,base=2,num=6)"
   ]
  },
  {
   "cell_type": "code",
   "execution_count": 147,
   "id": "15d89b8b",
   "metadata": {},
   "outputs": [
    {
     "data": {
      "text/plain": [
       "array([0.25, 0.5 , 1.  , 2.  , 4.  , 8.  ])"
      ]
     },
     "execution_count": 147,
     "metadata": {},
     "output_type": "execute_result"
    }
   ],
   "source": [
    "arr"
   ]
  },
  {
   "cell_type": "markdown",
   "id": "dce5e173",
   "metadata": {},
   "source": [
    "concatenate = it is used to combine two numpy arrays in different axises and can concatenate multiple numpy arrays ."
   ]
  },
  {
   "cell_type": "code",
   "execution_count": 148,
   "id": "96c97515",
   "metadata": {},
   "outputs": [],
   "source": [
    "left_arr = np.random.binomial(n=7,p=0.4,size=(2,6))\n",
    "right_arr = np.random.binomial(n=10,p=0.6,size=(2,6))"
   ]
  },
  {
   "cell_type": "code",
   "execution_count": 149,
   "id": "e2d3d1db",
   "metadata": {},
   "outputs": [],
   "source": [
    "row_wise_concat_arr = np.concatenate((left_arr,right_arr),axis=0)\n",
    "col_wise_concat_arr = np.concatenate((left_arr,right_arr),axis=1)\n"
   ]
  },
  {
   "cell_type": "code",
   "execution_count": 150,
   "id": "569f3818",
   "metadata": {},
   "outputs": [
    {
     "data": {
      "text/plain": [
       "array([[2, 1, 2, 4, 2, 2],\n",
       "       [2, 5, 4, 1, 2, 2],\n",
       "       [6, 6, 6, 7, 4, 7],\n",
       "       [6, 6, 6, 6, 7, 5]])"
      ]
     },
     "execution_count": 150,
     "metadata": {},
     "output_type": "execute_result"
    }
   ],
   "source": [
    "row_wise_concat_arr"
   ]
  },
  {
   "cell_type": "code",
   "execution_count": 151,
   "id": "d8d4bcad",
   "metadata": {},
   "outputs": [
    {
     "data": {
      "text/plain": [
       "array([[2, 1, 2, 4, 2, 2, 6, 6, 6, 7, 4, 7],\n",
       "       [2, 5, 4, 1, 2, 2, 6, 6, 6, 6, 7, 5]])"
      ]
     },
     "execution_count": 151,
     "metadata": {},
     "output_type": "execute_result"
    }
   ],
   "source": [
    "col_wise_concat_arr"
   ]
  },
  {
   "cell_type": "markdown",
   "id": "7b2daef6",
   "metadata": {},
   "source": [
    "delete = it deletes the rows or columns or depths of which axises are given.(in this condition)"
   ]
  },
  {
   "cell_type": "code",
   "execution_count": 152,
   "id": "24584b9c",
   "metadata": {},
   "outputs": [],
   "source": [
    "col_wise_concat_arr = np.delete(col_wise_concat_arr,[1,3],axis=1)"
   ]
  },
  {
   "cell_type": "code",
   "execution_count": 153,
   "id": "aa554b05",
   "metadata": {},
   "outputs": [
    {
     "data": {
      "text/plain": [
       "array([[2, 2, 2, 2, 6, 6, 6, 7, 4, 7],\n",
       "       [2, 4, 2, 2, 6, 6, 6, 6, 7, 5]])"
      ]
     },
     "execution_count": 153,
     "metadata": {},
     "output_type": "execute_result"
    }
   ],
   "source": [
    "col_wise_concat_arr"
   ]
  },
  {
   "cell_type": "code",
   "execution_count": 154,
   "id": "1cf81d0f",
   "metadata": {},
   "outputs": [],
   "source": [
    "row_wise_concat_arr = np.delete(row_wise_concat_arr,[1,3],axis=0)"
   ]
  },
  {
   "cell_type": "code",
   "execution_count": 155,
   "id": "081e8553",
   "metadata": {},
   "outputs": [
    {
     "data": {
      "text/plain": [
       "array([[2, 1, 2, 4, 2, 2],\n",
       "       [6, 6, 6, 7, 4, 7]])"
      ]
     },
     "execution_count": 155,
     "metadata": {},
     "output_type": "execute_result"
    }
   ],
   "source": [
    "row_wise_concat_arr"
   ]
  },
  {
   "cell_type": "markdown",
   "id": "f257e63a",
   "metadata": {},
   "source": [
    "Done -> Concept of boolean masking in numpy arrays . "
   ]
  },
  {
   "cell_type": "code",
   "execution_count": 156,
   "id": "bfa79697",
   "metadata": {},
   "outputs": [],
   "source": [
    "bmask = np.ones((col_wise_concat_arr.shape[1],),dtype=bool)"
   ]
  },
  {
   "cell_type": "code",
   "execution_count": 157,
   "id": "fb866b18",
   "metadata": {},
   "outputs": [
    {
     "data": {
      "text/plain": [
       "array([ True,  True,  True,  True,  True,  True,  True,  True,  True,\n",
       "        True])"
      ]
     },
     "execution_count": 157,
     "metadata": {},
     "output_type": "execute_result"
    }
   ],
   "source": [
    "bmask"
   ]
  },
  {
   "cell_type": "code",
   "execution_count": 158,
   "id": "e8d8b96f",
   "metadata": {},
   "outputs": [],
   "source": [
    "bmask[1]=False\n",
    "bmask[5]=False"
   ]
  },
  {
   "cell_type": "code",
   "execution_count": 159,
   "id": "20bcf456",
   "metadata": {},
   "outputs": [
    {
     "data": {
      "text/plain": [
       "array([ True, False,  True,  True,  True, False,  True,  True,  True,\n",
       "        True])"
      ]
     },
     "execution_count": 159,
     "metadata": {},
     "output_type": "execute_result"
    }
   ],
   "source": [
    "bmask"
   ]
  },
  {
   "cell_type": "code",
   "execution_count": 160,
   "id": "eee6b069",
   "metadata": {},
   "outputs": [
    {
     "data": {
      "text/plain": [
       "array([[2, 2, 2, 6, 6, 7, 4, 7],\n",
       "       [2, 2, 2, 6, 6, 6, 7, 5]])"
      ]
     },
     "execution_count": 160,
     "metadata": {},
     "output_type": "execute_result"
    }
   ],
   "source": [
    "col_wise_concat_arr[:,bmask]"
   ]
  },
  {
   "cell_type": "code",
   "execution_count": 161,
   "id": "282fee49",
   "metadata": {},
   "outputs": [],
   "source": [
    "bmask1=np.ones((row_wise_concat_arr.shape[0],),dtype=bool)"
   ]
  },
  {
   "cell_type": "code",
   "execution_count": 162,
   "id": "7afa5269",
   "metadata": {},
   "outputs": [
    {
     "data": {
      "text/plain": [
       "array([ True,  True])"
      ]
     },
     "execution_count": 162,
     "metadata": {},
     "output_type": "execute_result"
    }
   ],
   "source": [
    "bmask1"
   ]
  },
  {
   "cell_type": "code",
   "execution_count": 163,
   "id": "0e8b0688",
   "metadata": {},
   "outputs": [
    {
     "ename": "IndexError",
     "evalue": "index 3 is out of bounds for axis 0 with size 2",
     "output_type": "error",
     "traceback": [
      "\u001b[31m---------------------------------------------------------------------------\u001b[39m",
      "\u001b[31mIndexError\u001b[39m                                Traceback (most recent call last)",
      "\u001b[36mCell\u001b[39m\u001b[36m \u001b[39m\u001b[32mIn[163]\u001b[39m\u001b[32m, line 2\u001b[39m\n\u001b[32m      1\u001b[39m bmask1[\u001b[32m1\u001b[39m]=\u001b[38;5;28;01mFalse\u001b[39;00m\n\u001b[32m----> \u001b[39m\u001b[32m2\u001b[39m \u001b[43mbmask1\u001b[49m\u001b[43m[\u001b[49m\u001b[32;43m3\u001b[39;49m\u001b[43m]\u001b[49m=\u001b[38;5;28;01mFalse\u001b[39;00m\n",
      "\u001b[31mIndexError\u001b[39m: index 3 is out of bounds for axis 0 with size 2"
     ]
    }
   ],
   "source": [
    "bmask1[1]=False\n",
    "bmask1[3]=False"
   ]
  },
  {
   "cell_type": "code",
   "execution_count": null,
   "id": "5cc743ed",
   "metadata": {},
   "outputs": [
    {
     "data": {
      "text/plain": [
       "array([ True, False,  True, False])"
      ]
     },
     "execution_count": 158,
     "metadata": {},
     "output_type": "execute_result"
    }
   ],
   "source": [
    "bmask1"
   ]
  },
  {
   "cell_type": "code",
   "execution_count": null,
   "id": "1d44f304",
   "metadata": {},
   "outputs": [
    {
     "data": {
      "text/plain": [
       "array([[1, 4, 1, 3, 3, 2],\n",
       "       [4, 9, 4, 7, 7, 5]])"
      ]
     },
     "execution_count": 162,
     "metadata": {},
     "output_type": "execute_result"
    }
   ],
   "source": [
    "row_wise_concat_arr[bmask1,:]"
   ]
  },
  {
   "cell_type": "code",
   "execution_count": null,
   "id": "465caf79",
   "metadata": {},
   "outputs": [],
   "source": [
    "arr8=arr8.reshape(2,6)"
   ]
  },
  {
   "cell_type": "code",
   "execution_count": null,
   "id": "51691aea",
   "metadata": {},
   "outputs": [],
   "source": []
  },
  {
   "cell_type": "code",
   "execution_count": null,
   "id": "979f82f5",
   "metadata": {},
   "outputs": [
    {
     "data": {
      "text/plain": [
       "array([[ 3, 12, 10, 13, 16, 21],\n",
       "       [21, 17, 20, 40, 33, 37]])"
      ]
     },
     "execution_count": 153,
     "metadata": {},
     "output_type": "execute_result"
    }
   ],
   "source": [
    "arr8"
   ]
  },
  {
   "cell_type": "code",
   "execution_count": null,
   "id": "3e57fd3e",
   "metadata": {},
   "outputs": [],
   "source": [
    "arr8 = np.expand_dims(arr8,axis=1)"
   ]
  },
  {
   "cell_type": "code",
   "execution_count": null,
   "id": "dc8abfd2",
   "metadata": {},
   "outputs": [
    {
     "data": {
      "text/plain": [
       "(2, 1, 6)"
      ]
     },
     "execution_count": 155,
     "metadata": {},
     "output_type": "execute_result"
    }
   ],
   "source": [
    "arr8.shape"
   ]
  },
  {
   "cell_type": "code",
   "execution_count": null,
   "id": "c58dfdf9",
   "metadata": {},
   "outputs": [
    {
     "data": {
      "text/plain": [
       "array([[[ 3, 12, 10, 13, 16, 21]],\n",
       "\n",
       "       [[21, 17, 20, 40, 33, 37]]])"
      ]
     },
     "execution_count": 156,
     "metadata": {},
     "output_type": "execute_result"
    }
   ],
   "source": [
    "arr8"
   ]
  },
  {
   "cell_type": "code",
   "execution_count": null,
   "id": "5766e8dc",
   "metadata": {},
   "outputs": [],
   "source": [
    "arr = np.random.randint(low=0,high=20,size=(1,2,3,4,5))"
   ]
  },
  {
   "cell_type": "code",
   "execution_count": null,
   "id": "94eda01c",
   "metadata": {},
   "outputs": [
    {
     "data": {
      "text/plain": [
       "array([[[[[ 2,  8,  5,  2, 13],\n",
       "          [14, 16,  9, 13, 19],\n",
       "          [ 0, 16, 17,  1,  3],\n",
       "          [11, 17,  2, 19, 18]],\n",
       "\n",
       "         [[14,  7,  2,  5,  6],\n",
       "          [ 0,  3, 12, 12, 14],\n",
       "          [19, 11,  8,  2, 17],\n",
       "          [15, 16,  1, 15, 19]],\n",
       "\n",
       "         [[ 7,  6,  3,  7, 15],\n",
       "          [ 4,  2,  3, 17,  7],\n",
       "          [ 6,  0, 10,  2,  7],\n",
       "          [18,  8,  4,  2, 13]]],\n",
       "\n",
       "\n",
       "        [[[10,  4,  6, 14, 12],\n",
       "          [17,  7,  0, 12, 18],\n",
       "          [11,  2,  6, 11,  1],\n",
       "          [15,  7,  2,  3, 18]],\n",
       "\n",
       "         [[ 7, 19, 17,  2, 17],\n",
       "          [16,  8, 16, 13,  4],\n",
       "          [ 2,  5, 14, 19,  0],\n",
       "          [ 4,  3,  5,  1,  5]],\n",
       "\n",
       "         [[ 4, 19, 14,  7,  8],\n",
       "          [16,  9,  8, 17, 14],\n",
       "          [16,  5, 14,  7, 14],\n",
       "          [ 5, 17,  1,  2,  6]]]]])"
      ]
     },
     "execution_count": 158,
     "metadata": {},
     "output_type": "execute_result"
    }
   ],
   "source": [
    "arr"
   ]
  },
  {
   "cell_type": "code",
   "execution_count": null,
   "id": "aac97122",
   "metadata": {},
   "outputs": [
    {
     "data": {
      "text/plain": [
       "(1, 2, 3, 4, 5)"
      ]
     },
     "execution_count": 159,
     "metadata": {},
     "output_type": "execute_result"
    }
   ],
   "source": [
    "arr.shape"
   ]
  },
  {
   "cell_type": "markdown",
   "metadata": {},
   "source": [
    "Inserting new axes into a NumPy array, concept of ellipsis as well as it's notation."
   ]
  },
  {
   "cell_type": "code",
   "execution_count": null,
   "id": "061239b9",
   "metadata": {},
   "outputs": [],
   "source": [
    "arr = arr[:,:,np.newaxis,...]"
   ]
  },
  {
   "cell_type": "code",
   "execution_count": null,
   "id": "aa7b945d",
   "metadata": {},
   "outputs": [
    {
     "data": {
      "text/plain": [
       "(1, 2, 1, 3, 4, 5)"
      ]
     },
     "execution_count": 161,
     "metadata": {},
     "output_type": "execute_result"
    }
   ],
   "source": [
    "arr.shape"
   ]
  },
  {
   "cell_type": "markdown",
   "id": "20af8092",
   "metadata": {},
   "source": [
    "squeeze = it is used to squeeze the size of an array by removing all 1 ."
   ]
  },
  {
   "cell_type": "code",
   "execution_count": null,
   "id": "631c0000",
   "metadata": {},
   "outputs": [],
   "source": [
    "squeezed_arr=np.squeeze(arr)"
   ]
  },
  {
   "cell_type": "code",
   "execution_count": null,
   "id": "5205042a",
   "metadata": {},
   "outputs": [
    {
     "data": {
      "text/plain": [
       "(2, 3, 4, 5)"
      ]
     },
     "execution_count": 167,
     "metadata": {},
     "output_type": "execute_result"
    }
   ],
   "source": [
    "squeezed_arr.shape"
   ]
  },
  {
   "cell_type": "markdown",
   "id": "09a17eca",
   "metadata": {},
   "source": [
    "ravel = it is used to make a single dimnesion array with all the elements ."
   ]
  },
  {
   "cell_type": "code",
   "execution_count": null,
   "id": "b390d980",
   "metadata": {},
   "outputs": [],
   "source": [
    "flattened_arr = np.ravel(squeezed_arr)"
   ]
  },
  {
   "cell_type": "code",
   "execution_count": null,
   "id": "1e4ae85d",
   "metadata": {},
   "outputs": [
    {
     "data": {
      "text/plain": [
       "(120,)"
      ]
     },
     "execution_count": 169,
     "metadata": {},
     "output_type": "execute_result"
    }
   ],
   "source": [
    "flattened_arr.shape"
   ]
  },
  {
   "cell_type": "markdown",
   "id": "a8af0548",
   "metadata": {},
   "source": [
    "reshape = it is used to reshape an array in different dimensions but the no. of elements should be same."
   ]
  },
  {
   "cell_type": "code",
   "execution_count": null,
   "id": "28ace3fe",
   "metadata": {},
   "outputs": [
    {
     "name": "stderr",
     "output_type": "stream",
     "text": [
      "/tmp/ipykernel_2365/1100543301.py:1: DeprecationWarning: `newshape` keyword argument is deprecated, use `shape=...` or pass shape positionally instead. (deprecated in NumPy 2.1)\n",
      "  reshaped_arr = np.reshape(squeezed_arr,newshape=(3,5,4,1,2))\n"
     ]
    }
   ],
   "source": [
    "reshaped_arr = np.reshape(squeezed_arr,newshape=(3,5,4,1,2))"
   ]
  },
  {
   "cell_type": "code",
   "execution_count": null,
   "id": "8979fd08",
   "metadata": {},
   "outputs": [
    {
     "data": {
      "text/plain": [
       "(3, 5, 4, 1, 2)"
      ]
     },
     "execution_count": 173,
     "metadata": {},
     "output_type": "execute_result"
    }
   ],
   "source": [
    "reshaped_arr.shape"
   ]
  },
  {
   "cell_type": "code",
   "execution_count": null,
   "id": "d4b1b807",
   "metadata": {},
   "outputs": [
    {
     "name": "stderr",
     "output_type": "stream",
     "text": [
      "/tmp/ipykernel_2365/1744322687.py:1: DeprecationWarning: `newshape` keyword argument is deprecated, use `shape=...` or pass shape positionally instead. (deprecated in NumPy 2.1)\n",
      "  reshaped_arr = np.reshape(squeezed_arr,newshape=(15,1,8))\n"
     ]
    }
   ],
   "source": [
    "reshaped_arr = np.reshape(squeezed_arr,newshape=(15,1,8))"
   ]
  },
  {
   "cell_type": "code",
   "execution_count": null,
   "id": "5bd6f44f",
   "metadata": {},
   "outputs": [
    {
     "data": {
      "text/plain": [
       "(15, 1, 8)"
      ]
     },
     "execution_count": 176,
     "metadata": {},
     "output_type": "execute_result"
    }
   ],
   "source": [
    "reshaped_arr.shape"
   ]
  },
  {
   "cell_type": "code",
   "execution_count": null,
   "id": "45b579e9",
   "metadata": {},
   "outputs": [
    {
     "name": "stderr",
     "output_type": "stream",
     "text": [
      "/tmp/ipykernel_2365/4254991431.py:1: DeprecationWarning: `newshape` keyword argument is deprecated, use `shape=...` or pass shape positionally instead. (deprecated in NumPy 2.1)\n",
      "  reshaped_arr = np.reshape(squeezed_arr,newshape=(120,))\n"
     ]
    }
   ],
   "source": [
    "reshaped_arr = np.reshape(squeezed_arr,newshape=(120,))"
   ]
  },
  {
   "cell_type": "code",
   "execution_count": null,
   "id": "809ea354",
   "metadata": {},
   "outputs": [
    {
     "data": {
      "text/plain": [
       "(120,)"
      ]
     },
     "execution_count": 178,
     "metadata": {},
     "output_type": "execute_result"
    }
   ],
   "source": [
    "reshaped_arr.shape"
   ]
  },
  {
   "cell_type": "code",
   "execution_count": null,
   "id": "f7f71b4d",
   "metadata": {},
   "outputs": [],
   "source": [
    "arr = np.random.randint(low=0,hogh=20,size=10)"
   ]
  },
  {
   "cell_type": "code",
   "execution_count": null,
   "id": "160b4de2",
   "metadata": {},
   "outputs": [
    {
     "data": {
      "text/plain": [
       "array([0.25, 0.5 , 1.  , 2.  , 4.  , 8.  ])"
      ]
     },
     "execution_count": 283,
     "metadata": {},
     "output_type": "execute_result"
    }
   ],
   "source": [
    "arr"
   ]
  },
  {
   "cell_type": "markdown",
   "id": "78444078",
   "metadata": {},
   "source": [
    "padding = it is used to add values on the basis of applications. now I have used padding for 1d-array."
   ]
  },
  {
   "cell_type": "code",
   "execution_count": null,
   "id": "65ebc3be",
   "metadata": {},
   "outputs": [],
   "source": [
    "padded_arr=np.pad(arr,pad_width=(0,5),mode='constant',constant_values=0)"
   ]
  },
  {
   "cell_type": "code",
   "execution_count": null,
   "id": "3b236730",
   "metadata": {},
   "outputs": [
    {
     "data": {
      "text/plain": [
       "array([0.25, 0.5 , 1.  , 2.  , 4.  , 8.  , 0.  , 0.  , 0.  , 0.  , 0.  ])"
      ]
     },
     "execution_count": 423,
     "metadata": {},
     "output_type": "execute_result"
    }
   ],
   "source": [
    "padded_arr"
   ]
  },
  {
   "cell_type": "code",
   "execution_count": null,
   "id": "2fa5548b",
   "metadata": {},
   "outputs": [],
   "source": [
    "padded_arr1 = np.pad(arr,pad_width=(5,0),mode='edge')"
   ]
  },
  {
   "cell_type": "code",
   "execution_count": null,
   "id": "918f6827",
   "metadata": {},
   "outputs": [
    {
     "data": {
      "text/plain": [
       "array([0.25, 0.25, 0.25, 0.25, 0.25, 0.25, 0.5 , 1.  , 2.  , 4.  , 8.  ])"
      ]
     },
     "execution_count": 425,
     "metadata": {},
     "output_type": "execute_result"
    }
   ],
   "source": [
    "padded_arr1"
   ]
  },
  {
   "cell_type": "code",
   "execution_count": null,
   "id": "301805e2",
   "metadata": {},
   "outputs": [],
   "source": [
    "padded_arr = np.pad(arr,pad_width=(2,3),mode='linear_ramp',end_values=(0.05,12))"
   ]
  },
  {
   "cell_type": "code",
   "execution_count": null,
   "id": "fe967df7",
   "metadata": {},
   "outputs": [
    {
     "data": {
      "text/plain": [
       "array([ 0.05      ,  0.15      ,  0.25      ,  0.5       ,  1.        ,\n",
       "        2.        ,  4.        ,  8.        ,  9.33333333, 10.66666667,\n",
       "       12.        ])"
      ]
     },
     "execution_count": 427,
     "metadata": {},
     "output_type": "execute_result"
    }
   ],
   "source": [
    "padded_arr"
   ]
  },
  {
   "cell_type": "code",
   "execution_count": null,
   "id": "203a2241",
   "metadata": {},
   "outputs": [],
   "source": [
    "padded_arr = np.pad(arr,pad_width=(3,2),mode='mean')"
   ]
  },
  {
   "cell_type": "code",
   "execution_count": null,
   "id": "0e85ba15",
   "metadata": {},
   "outputs": [
    {
     "data": {
      "text/plain": [
       "array([2.625, 2.625, 2.625, 0.25 , 0.5  , 1.   , 2.   , 4.   , 8.   ,\n",
       "       2.625, 2.625])"
      ]
     },
     "execution_count": 429,
     "metadata": {},
     "output_type": "execute_result"
    }
   ],
   "source": [
    "padded_arr"
   ]
  },
  {
   "cell_type": "code",
   "execution_count": null,
   "id": "54dfaaa8",
   "metadata": {},
   "outputs": [],
   "source": [
    "padded_arr = np.pad(arr,pad_width=(2,3),mode='reflect')"
   ]
  },
  {
   "cell_type": "code",
   "execution_count": null,
   "id": "a382f1fa",
   "metadata": {},
   "outputs": [
    {
     "data": {
      "text/plain": [
       "array([1.  , 0.5 , 0.25, 0.5 , 1.  , 2.  , 4.  , 8.  , 4.  , 2.  , 1.  ])"
      ]
     },
     "execution_count": 432,
     "metadata": {},
     "output_type": "execute_result"
    }
   ],
   "source": [
    "padded_arr"
   ]
  },
  {
   "cell_type": "code",
   "execution_count": null,
   "id": "87b7ed17",
   "metadata": {},
   "outputs": [],
   "source": [
    "twod_arr = np.random.randint(low = 0 , high = 20 , size= (2,3))"
   ]
  },
  {
   "cell_type": "code",
   "execution_count": null,
   "id": "c7bc4e96",
   "metadata": {},
   "outputs": [
    {
     "data": {
      "text/plain": [
       "array([[ 0,  3, 19],\n",
       "       [19,  1, 18]])"
      ]
     },
     "execution_count": 292,
     "metadata": {},
     "output_type": "execute_result"
    }
   ],
   "source": [
    "twod_arr"
   ]
  },
  {
   "cell_type": "code",
   "execution_count": null,
   "id": "b2dbaaae",
   "metadata": {},
   "outputs": [],
   "source": [
    "padded_2d_arr = np.pad(twod_arr, pad_width = ((2,0),(0,0)),mode = 'maximum')"
   ]
  },
  {
   "cell_type": "code",
   "execution_count": null,
   "id": "16d7636e",
   "metadata": {},
   "outputs": [
    {
     "data": {
      "text/plain": [
       "array([[19,  3, 19],\n",
       "       [19,  3, 19],\n",
       "       [ 0,  3, 19],\n",
       "       [19,  1, 18]])"
      ]
     },
     "execution_count": 295,
     "metadata": {},
     "output_type": "execute_result"
    }
   ],
   "source": [
    "padded_2d_arr"
   ]
  },
  {
   "cell_type": "code",
   "execution_count": null,
   "id": "95ced0fe",
   "metadata": {},
   "outputs": [],
   "source": [
    "padded_2d_arr = np.pad(twod_arr, pad_width = ((2,0),(3,0)),mode = 'maximum')"
   ]
  },
  {
   "cell_type": "code",
   "execution_count": null,
   "id": "7c92ec0f",
   "metadata": {},
   "outputs": [
    {
     "data": {
      "text/plain": [
       "array([[19, 19, 19, 19,  3, 19],\n",
       "       [19, 19, 19, 19,  3, 19],\n",
       "       [19, 19, 19,  0,  3, 19],\n",
       "       [19, 19, 19, 19,  1, 18]])"
      ]
     },
     "execution_count": 297,
     "metadata": {},
     "output_type": "execute_result"
    }
   ],
   "source": [
    "padded_2d_arr"
   ]
  },
  {
   "cell_type": "code",
   "execution_count": null,
   "id": "a1ea975c",
   "metadata": {},
   "outputs": [],
   "source": [
    "three_d_arr = np.random.randint(low = 0 , high = 30, size = (3,4,5))"
   ]
  },
  {
   "cell_type": "code",
   "execution_count": null,
   "id": "c8cca8f1",
   "metadata": {},
   "outputs": [
    {
     "data": {
      "text/plain": [
       "array([[[23, 15,  8, 16, 17],\n",
       "        [26,  2, 15, 28, 15],\n",
       "        [24,  8,  2, 12, 20],\n",
       "        [27, 10, 20,  3, 17]],\n",
       "\n",
       "       [[23, 10, 21, 16,  0],\n",
       "        [15, 14,  1, 29, 18],\n",
       "        [10, 17,  0, 29, 25],\n",
       "        [24, 19, 15,  8, 23]],\n",
       "\n",
       "       [[14, 25, 21,  2,  3],\n",
       "        [22, 25, 15,  6, 10],\n",
       "        [26, 16,  3, 17, 13],\n",
       "        [14, 13, 28, 23,  6]]])"
      ]
     },
     "execution_count": 314,
     "metadata": {},
     "output_type": "execute_result"
    }
   ],
   "source": [
    "three_d_arr"
   ]
  },
  {
   "cell_type": "code",
   "execution_count": null,
   "id": "41f254d9",
   "metadata": {},
   "outputs": [],
   "source": [
    "padded_3d_arr = np.pad(three_d_arr,pad_width=((3,0),(4,0),(0,5)),mode ='symmetric')"
   ]
  },
  {
   "cell_type": "code",
   "execution_count": null,
   "id": "8eed7f52",
   "metadata": {},
   "outputs": [
    {
     "data": {
      "text/plain": [
       "array([[[14, 13, 28, 23,  6,  6, 23, 28, 13, 14],\n",
       "        [26, 16,  3, 17, 13, 13, 17,  3, 16, 26],\n",
       "        [22, 25, 15,  6, 10, 10,  6, 15, 25, 22],\n",
       "        [14, 25, 21,  2,  3,  3,  2, 21, 25, 14],\n",
       "        [14, 25, 21,  2,  3,  3,  2, 21, 25, 14],\n",
       "        [22, 25, 15,  6, 10, 10,  6, 15, 25, 22],\n",
       "        [26, 16,  3, 17, 13, 13, 17,  3, 16, 26],\n",
       "        [14, 13, 28, 23,  6,  6, 23, 28, 13, 14]],\n",
       "\n",
       "       [[24, 19, 15,  8, 23, 23,  8, 15, 19, 24],\n",
       "        [10, 17,  0, 29, 25, 25, 29,  0, 17, 10],\n",
       "        [15, 14,  1, 29, 18, 18, 29,  1, 14, 15],\n",
       "        [23, 10, 21, 16,  0,  0, 16, 21, 10, 23],\n",
       "        [23, 10, 21, 16,  0,  0, 16, 21, 10, 23],\n",
       "        [15, 14,  1, 29, 18, 18, 29,  1, 14, 15],\n",
       "        [10, 17,  0, 29, 25, 25, 29,  0, 17, 10],\n",
       "        [24, 19, 15,  8, 23, 23,  8, 15, 19, 24]],\n",
       "\n",
       "       [[27, 10, 20,  3, 17, 17,  3, 20, 10, 27],\n",
       "        [24,  8,  2, 12, 20, 20, 12,  2,  8, 24],\n",
       "        [26,  2, 15, 28, 15, 15, 28, 15,  2, 26],\n",
       "        [23, 15,  8, 16, 17, 17, 16,  8, 15, 23],\n",
       "        [23, 15,  8, 16, 17, 17, 16,  8, 15, 23],\n",
       "        [26,  2, 15, 28, 15, 15, 28, 15,  2, 26],\n",
       "        [24,  8,  2, 12, 20, 20, 12,  2,  8, 24],\n",
       "        [27, 10, 20,  3, 17, 17,  3, 20, 10, 27]],\n",
       "\n",
       "       [[27, 10, 20,  3, 17, 17,  3, 20, 10, 27],\n",
       "        [24,  8,  2, 12, 20, 20, 12,  2,  8, 24],\n",
       "        [26,  2, 15, 28, 15, 15, 28, 15,  2, 26],\n",
       "        [23, 15,  8, 16, 17, 17, 16,  8, 15, 23],\n",
       "        [23, 15,  8, 16, 17, 17, 16,  8, 15, 23],\n",
       "        [26,  2, 15, 28, 15, 15, 28, 15,  2, 26],\n",
       "        [24,  8,  2, 12, 20, 20, 12,  2,  8, 24],\n",
       "        [27, 10, 20,  3, 17, 17,  3, 20, 10, 27]],\n",
       "\n",
       "       [[24, 19, 15,  8, 23, 23,  8, 15, 19, 24],\n",
       "        [10, 17,  0, 29, 25, 25, 29,  0, 17, 10],\n",
       "        [15, 14,  1, 29, 18, 18, 29,  1, 14, 15],\n",
       "        [23, 10, 21, 16,  0,  0, 16, 21, 10, 23],\n",
       "        [23, 10, 21, 16,  0,  0, 16, 21, 10, 23],\n",
       "        [15, 14,  1, 29, 18, 18, 29,  1, 14, 15],\n",
       "        [10, 17,  0, 29, 25, 25, 29,  0, 17, 10],\n",
       "        [24, 19, 15,  8, 23, 23,  8, 15, 19, 24]],\n",
       "\n",
       "       [[14, 13, 28, 23,  6,  6, 23, 28, 13, 14],\n",
       "        [26, 16,  3, 17, 13, 13, 17,  3, 16, 26],\n",
       "        [22, 25, 15,  6, 10, 10,  6, 15, 25, 22],\n",
       "        [14, 25, 21,  2,  3,  3,  2, 21, 25, 14],\n",
       "        [14, 25, 21,  2,  3,  3,  2, 21, 25, 14],\n",
       "        [22, 25, 15,  6, 10, 10,  6, 15, 25, 22],\n",
       "        [26, 16,  3, 17, 13, 13, 17,  3, 16, 26],\n",
       "        [14, 13, 28, 23,  6,  6, 23, 28, 13, 14]]])"
      ]
     },
     "execution_count": 317,
     "metadata": {},
     "output_type": "execute_result"
    }
   ],
   "source": [
    "padded_3d_arr"
   ]
  },
  {
   "cell_type": "code",
   "execution_count": null,
   "id": "76d554cf",
   "metadata": {},
   "outputs": [],
   "source": [
    "padded_3d_arr = np.pad(three_d_arr,pad_width=((3,0),(4,0),(0,5)),mode ='wrap')"
   ]
  },
  {
   "cell_type": "code",
   "execution_count": null,
   "id": "d3291bdf",
   "metadata": {},
   "outputs": [
    {
     "data": {
      "text/plain": [
       "array([[[23, 15,  8, 16, 17, 23, 15,  8, 16, 17],\n",
       "        [26,  2, 15, 28, 15, 26,  2, 15, 28, 15],\n",
       "        [24,  8,  2, 12, 20, 24,  8,  2, 12, 20],\n",
       "        [27, 10, 20,  3, 17, 27, 10, 20,  3, 17],\n",
       "        [23, 15,  8, 16, 17, 23, 15,  8, 16, 17],\n",
       "        [26,  2, 15, 28, 15, 26,  2, 15, 28, 15],\n",
       "        [24,  8,  2, 12, 20, 24,  8,  2, 12, 20],\n",
       "        [27, 10, 20,  3, 17, 27, 10, 20,  3, 17]],\n",
       "\n",
       "       [[23, 10, 21, 16,  0, 23, 10, 21, 16,  0],\n",
       "        [15, 14,  1, 29, 18, 15, 14,  1, 29, 18],\n",
       "        [10, 17,  0, 29, 25, 10, 17,  0, 29, 25],\n",
       "        [24, 19, 15,  8, 23, 24, 19, 15,  8, 23],\n",
       "        [23, 10, 21, 16,  0, 23, 10, 21, 16,  0],\n",
       "        [15, 14,  1, 29, 18, 15, 14,  1, 29, 18],\n",
       "        [10, 17,  0, 29, 25, 10, 17,  0, 29, 25],\n",
       "        [24, 19, 15,  8, 23, 24, 19, 15,  8, 23]],\n",
       "\n",
       "       [[14, 25, 21,  2,  3, 14, 25, 21,  2,  3],\n",
       "        [22, 25, 15,  6, 10, 22, 25, 15,  6, 10],\n",
       "        [26, 16,  3, 17, 13, 26, 16,  3, 17, 13],\n",
       "        [14, 13, 28, 23,  6, 14, 13, 28, 23,  6],\n",
       "        [14, 25, 21,  2,  3, 14, 25, 21,  2,  3],\n",
       "        [22, 25, 15,  6, 10, 22, 25, 15,  6, 10],\n",
       "        [26, 16,  3, 17, 13, 26, 16,  3, 17, 13],\n",
       "        [14, 13, 28, 23,  6, 14, 13, 28, 23,  6]],\n",
       "\n",
       "       [[23, 15,  8, 16, 17, 23, 15,  8, 16, 17],\n",
       "        [26,  2, 15, 28, 15, 26,  2, 15, 28, 15],\n",
       "        [24,  8,  2, 12, 20, 24,  8,  2, 12, 20],\n",
       "        [27, 10, 20,  3, 17, 27, 10, 20,  3, 17],\n",
       "        [23, 15,  8, 16, 17, 23, 15,  8, 16, 17],\n",
       "        [26,  2, 15, 28, 15, 26,  2, 15, 28, 15],\n",
       "        [24,  8,  2, 12, 20, 24,  8,  2, 12, 20],\n",
       "        [27, 10, 20,  3, 17, 27, 10, 20,  3, 17]],\n",
       "\n",
       "       [[23, 10, 21, 16,  0, 23, 10, 21, 16,  0],\n",
       "        [15, 14,  1, 29, 18, 15, 14,  1, 29, 18],\n",
       "        [10, 17,  0, 29, 25, 10, 17,  0, 29, 25],\n",
       "        [24, 19, 15,  8, 23, 24, 19, 15,  8, 23],\n",
       "        [23, 10, 21, 16,  0, 23, 10, 21, 16,  0],\n",
       "        [15, 14,  1, 29, 18, 15, 14,  1, 29, 18],\n",
       "        [10, 17,  0, 29, 25, 10, 17,  0, 29, 25],\n",
       "        [24, 19, 15,  8, 23, 24, 19, 15,  8, 23]],\n",
       "\n",
       "       [[14, 25, 21,  2,  3, 14, 25, 21,  2,  3],\n",
       "        [22, 25, 15,  6, 10, 22, 25, 15,  6, 10],\n",
       "        [26, 16,  3, 17, 13, 26, 16,  3, 17, 13],\n",
       "        [14, 13, 28, 23,  6, 14, 13, 28, 23,  6],\n",
       "        [14, 25, 21,  2,  3, 14, 25, 21,  2,  3],\n",
       "        [22, 25, 15,  6, 10, 22, 25, 15,  6, 10],\n",
       "        [26, 16,  3, 17, 13, 26, 16,  3, 17, 13],\n",
       "        [14, 13, 28, 23,  6, 14, 13, 28, 23,  6]]])"
      ]
     },
     "execution_count": 319,
     "metadata": {},
     "output_type": "execute_result"
    }
   ],
   "source": [
    "padded_3d_arr"
   ]
  },
  {
   "cell_type": "code",
   "execution_count": 3,
   "id": "5ace034a",
   "metadata": {},
   "outputs": [],
   "source": [
    "arr = np.random.randint(low = 5 , high = 25 , size = (4,7))"
   ]
  },
  {
   "cell_type": "code",
   "execution_count": 173,
   "id": "1e2a36db",
   "metadata": {},
   "outputs": [
    {
     "data": {
      "text/plain": [
       "array([[15, 17, 14, 14, 15, 21, 20],\n",
       "       [20, 17, 11, 15, 12, 12,  5],\n",
       "       [ 9, 17,  9, 20, 17, 20, 15],\n",
       "       [21,  9, 22, 16, 12, 17, 19]])"
      ]
     },
     "execution_count": 173,
     "metadata": {},
     "output_type": "execute_result"
    }
   ],
   "source": [
    "arr"
   ]
  },
  {
   "cell_type": "code",
   "execution_count": 174,
   "id": "d7cffe6d",
   "metadata": {},
   "outputs": [],
   "source": [
    "max_element = np.max(arr)"
   ]
  },
  {
   "cell_type": "code",
   "execution_count": 175,
   "id": "b5407854",
   "metadata": {},
   "outputs": [
    {
     "data": {
      "text/plain": [
       "np.int64(22)"
      ]
     },
     "execution_count": 175,
     "metadata": {},
     "output_type": "execute_result"
    }
   ],
   "source": [
    "max_element"
   ]
  },
  {
   "cell_type": "code",
   "execution_count": 176,
   "id": "85f2a93d",
   "metadata": {},
   "outputs": [],
   "source": [
    "max_elements = np.max(arr,axis =1)"
   ]
  },
  {
   "cell_type": "code",
   "execution_count": 177,
   "id": "113914a3",
   "metadata": {},
   "outputs": [
    {
     "data": {
      "text/plain": [
       "array([21, 20, 20, 22])"
      ]
     },
     "execution_count": 177,
     "metadata": {},
     "output_type": "execute_result"
    }
   ],
   "source": [
    "max_elements\n"
   ]
  },
  {
   "cell_type": "code",
   "execution_count": 178,
   "id": "5d22b785",
   "metadata": {},
   "outputs": [],
   "source": [
    "max_elements = np.max(arr,axis = 0)"
   ]
  },
  {
   "cell_type": "code",
   "execution_count": 179,
   "id": "aa72a7cd",
   "metadata": {},
   "outputs": [
    {
     "data": {
      "text/plain": [
       "array([21, 17, 22, 20, 17, 21, 20])"
      ]
     },
     "execution_count": 179,
     "metadata": {},
     "output_type": "execute_result"
    }
   ],
   "source": [
    "max_elements "
   ]
  },
  {
   "cell_type": "code",
   "execution_count": 180,
   "id": "1af749b8",
   "metadata": {},
   "outputs": [],
   "source": [
    "max_idx = np.argmax(arr)"
   ]
  },
  {
   "cell_type": "code",
   "execution_count": 181,
   "id": "230ad4f5",
   "metadata": {},
   "outputs": [],
   "source": [
    "raveled_arr = np.ravel(arr)"
   ]
  },
  {
   "cell_type": "code",
   "execution_count": 182,
   "id": "db364c38",
   "metadata": {},
   "outputs": [
    {
     "data": {
      "text/plain": [
       "array([15, 17, 14, 14, 15, 21, 20, 20, 17, 11, 15, 12, 12,  5,  9, 17,  9,\n",
       "       20, 17, 20, 15, 21,  9, 22, 16, 12, 17, 19])"
      ]
     },
     "execution_count": 182,
     "metadata": {},
     "output_type": "execute_result"
    }
   ],
   "source": [
    "raveled_arr"
   ]
  },
  {
   "cell_type": "code",
   "execution_count": 183,
   "id": "4028ed0a",
   "metadata": {},
   "outputs": [
    {
     "data": {
      "text/plain": [
       "np.int64(23)"
      ]
     },
     "execution_count": 183,
     "metadata": {},
     "output_type": "execute_result"
    }
   ],
   "source": [
    "max_idx"
   ]
  },
  {
   "cell_type": "code",
   "execution_count": 184,
   "id": "08221c36",
   "metadata": {},
   "outputs": [
    {
     "data": {
      "text/plain": [
       "np.int64(23)"
      ]
     },
     "execution_count": 184,
     "metadata": {},
     "output_type": "execute_result"
    }
   ],
   "source": [
    "max_idx"
   ]
  },
  {
   "cell_type": "markdown",
   "id": "646cf7c1",
   "metadata": {},
   "source": [
    "np.argmax = this function is used to determine the index of the maximum element in a NumPy array"
   ]
  },
  {
   "cell_type": "code",
   "execution_count": 185,
   "id": "917ea94e",
   "metadata": {},
   "outputs": [],
   "source": [
    "max_idx = np.argmax(arr,axis = 1)"
   ]
  },
  {
   "cell_type": "code",
   "execution_count": 186,
   "id": "e51f5699",
   "metadata": {},
   "outputs": [
    {
     "data": {
      "text/plain": [
       "array([5, 0, 3, 2])"
      ]
     },
     "execution_count": 186,
     "metadata": {},
     "output_type": "execute_result"
    }
   ],
   "source": [
    "max_idx"
   ]
  },
  {
   "cell_type": "code",
   "execution_count": 187,
   "id": "211b4385",
   "metadata": {},
   "outputs": [],
   "source": [
    "max_idx = np.argmax(arr,axis = 0)"
   ]
  },
  {
   "cell_type": "code",
   "execution_count": 188,
   "id": "e963f3d9",
   "metadata": {},
   "outputs": [
    {
     "data": {
      "text/plain": [
       "array([3, 0, 3, 2, 2, 0, 0])"
      ]
     },
     "execution_count": 188,
     "metadata": {},
     "output_type": "execute_result"
    }
   ],
   "source": [
    "max_idx"
   ]
  },
  {
   "cell_type": "code",
   "execution_count": 189,
   "id": "5ad07585",
   "metadata": {},
   "outputs": [
    {
     "data": {
      "text/plain": [
       "array([[15, 17, 14, 14, 15, 21, 20],\n",
       "       [20, 17, 11, 15, 12, 12,  5],\n",
       "       [ 9, 17,  9, 20, 17, 20, 15],\n",
       "       [21,  9, 22, 16, 12, 17, 19]])"
      ]
     },
     "execution_count": 189,
     "metadata": {},
     "output_type": "execute_result"
    }
   ],
   "source": [
    "arr"
   ]
  },
  {
   "cell_type": "code",
   "execution_count": 190,
   "id": "8d5109e7",
   "metadata": {},
   "outputs": [],
   "source": [
    "bmask = arr > 10"
   ]
  },
  {
   "cell_type": "code",
   "execution_count": 191,
   "id": "4bcb2319",
   "metadata": {},
   "outputs": [
    {
     "data": {
      "text/plain": [
       "array([[ True,  True,  True,  True,  True,  True,  True],\n",
       "       [ True,  True,  True,  True,  True,  True, False],\n",
       "       [False,  True, False,  True,  True,  True,  True],\n",
       "       [ True, False,  True,  True,  True,  True,  True]])"
      ]
     },
     "execution_count": 191,
     "metadata": {},
     "output_type": "execute_result"
    }
   ],
   "source": [
    "bmask"
   ]
  },
  {
   "cell_type": "markdown",
   "id": "213face2",
   "metadata": {},
   "source": [
    "concept of creating boolean mask based on conditions as well as np.argwhere function"
   ]
  },
  {
   "cell_type": "code",
   "execution_count": 192,
   "id": "53888050",
   "metadata": {},
   "outputs": [],
   "source": [
    "satisfied_elements = np.argwhere(bmask)"
   ]
  },
  {
   "cell_type": "code",
   "execution_count": 193,
   "id": "06b2ea37",
   "metadata": {},
   "outputs": [
    {
     "data": {
      "text/plain": [
       "array([[0, 0],\n",
       "       [0, 1],\n",
       "       [0, 2],\n",
       "       [0, 3],\n",
       "       [0, 4],\n",
       "       [0, 5],\n",
       "       [0, 6],\n",
       "       [1, 0],\n",
       "       [1, 1],\n",
       "       [1, 2],\n",
       "       [1, 3],\n",
       "       [1, 4],\n",
       "       [1, 5],\n",
       "       [2, 1],\n",
       "       [2, 3],\n",
       "       [2, 4],\n",
       "       [2, 5],\n",
       "       [2, 6],\n",
       "       [3, 0],\n",
       "       [3, 2],\n",
       "       [3, 3],\n",
       "       [3, 4],\n",
       "       [3, 5],\n",
       "       [3, 6]])"
      ]
     },
     "execution_count": 193,
     "metadata": {},
     "output_type": "execute_result"
    }
   ],
   "source": [
    "satisfied_elements"
   ]
  },
  {
   "cell_type": "code",
   "execution_count": 194,
   "id": "34ed8fe8",
   "metadata": {},
   "outputs": [],
   "source": [
    "x_cord = np.linspace(start = 0,stop = 2 , endpoint=True,num =3)\n",
    "y_cord = np.linspace(start = 0,stop = 4, endpoint=True,num =5)"
   ]
  },
  {
   "cell_type": "code",
   "execution_count": 196,
   "id": "4abf738c",
   "metadata": {},
   "outputs": [
    {
     "data": {
      "text/plain": [
       "array([0., 1., 2.])"
      ]
     },
     "execution_count": 196,
     "metadata": {},
     "output_type": "execute_result"
    }
   ],
   "source": [
    "x_cord"
   ]
  },
  {
   "cell_type": "code",
   "execution_count": 197,
   "id": "f7c5d2e5",
   "metadata": {},
   "outputs": [
    {
     "data": {
      "text/plain": [
       "array([0., 1., 2., 3., 4.])"
      ]
     },
     "execution_count": 197,
     "metadata": {},
     "output_type": "execute_result"
    }
   ],
   "source": [
    "y_cord"
   ]
  },
  {
   "cell_type": "code",
   "execution_count": 198,
   "id": "d12a6f37",
   "metadata": {},
   "outputs": [],
   "source": [
    "y_cord_arr,x_cord_arr = np.meshgrid(y_cord,x_cord)"
   ]
  },
  {
   "cell_type": "code",
   "execution_count": 199,
   "id": "0a10442f",
   "metadata": {},
   "outputs": [
    {
     "data": {
      "text/plain": [
       "array([[0., 0., 0., 0., 0.],\n",
       "       [1., 1., 1., 1., 1.],\n",
       "       [2., 2., 2., 2., 2.]])"
      ]
     },
     "execution_count": 199,
     "metadata": {},
     "output_type": "execute_result"
    }
   ],
   "source": [
    "x_cord_arr"
   ]
  },
  {
   "cell_type": "code",
   "execution_count": 200,
   "id": "40a902f2",
   "metadata": {},
   "outputs": [
    {
     "data": {
      "text/plain": [
       "array([[0., 1., 2., 3., 4.],\n",
       "       [0., 1., 2., 3., 4.],\n",
       "       [0., 1., 2., 3., 4.]])"
      ]
     },
     "execution_count": 200,
     "metadata": {},
     "output_type": "execute_result"
    }
   ],
   "source": [
    "y_cord_arr"
   ]
  },
  {
   "cell_type": "code",
   "execution_count": 201,
   "id": "2ba89374",
   "metadata": {},
   "outputs": [],
   "source": [
    "x_cord = np.linspace(start = 0,stop = 2 , endpoint=True,num =5)\n",
    "y_cord = np.linspace(start = 0,stop = 4, endpoint=True,num =9)"
   ]
  },
  {
   "cell_type": "code",
   "execution_count": 202,
   "id": "9a937c32",
   "metadata": {},
   "outputs": [
    {
     "data": {
      "text/plain": [
       "array([0. , 0.5, 1. , 1.5, 2. ])"
      ]
     },
     "execution_count": 202,
     "metadata": {},
     "output_type": "execute_result"
    }
   ],
   "source": [
    "x_cord"
   ]
  },
  {
   "cell_type": "code",
   "execution_count": 203,
   "id": "ff4d260e",
   "metadata": {},
   "outputs": [
    {
     "data": {
      "text/plain": [
       "array([0. , 0.5, 1. , 1.5, 2. , 2.5, 3. , 3.5, 4. ])"
      ]
     },
     "execution_count": 203,
     "metadata": {},
     "output_type": "execute_result"
    }
   ],
   "source": [
    "y_cord"
   ]
  },
  {
   "cell_type": "markdown",
   "id": "f5b4d964",
   "metadata": {},
   "source": [
    "meshgrid = it is used to give a grid of co-ordinates"
   ]
  },
  {
   "cell_type": "code",
   "execution_count": 205,
   "id": "433a7c24",
   "metadata": {},
   "outputs": [],
   "source": [
    "y_cord_arr,x_cord_arr = np.meshgrid(y_cord,x_cord)"
   ]
  },
  {
   "cell_type": "code",
   "execution_count": 206,
   "id": "349687ff",
   "metadata": {},
   "outputs": [
    {
     "data": {
      "text/plain": [
       "array([[0. , 0. , 0. , 0. , 0. , 0. , 0. , 0. , 0. ],\n",
       "       [0.5, 0.5, 0.5, 0.5, 0.5, 0.5, 0.5, 0.5, 0.5],\n",
       "       [1. , 1. , 1. , 1. , 1. , 1. , 1. , 1. , 1. ],\n",
       "       [1.5, 1.5, 1.5, 1.5, 1.5, 1.5, 1.5, 1.5, 1.5],\n",
       "       [2. , 2. , 2. , 2. , 2. , 2. , 2. , 2. , 2. ]])"
      ]
     },
     "execution_count": 206,
     "metadata": {},
     "output_type": "execute_result"
    }
   ],
   "source": [
    "x_cord_arr"
   ]
  },
  {
   "cell_type": "code",
   "execution_count": 207,
   "id": "10c46cc6",
   "metadata": {},
   "outputs": [
    {
     "data": {
      "text/plain": [
       "array([[0. , 0.5, 1. , 1.5, 2. , 2.5, 3. , 3.5, 4. ],\n",
       "       [0. , 0.5, 1. , 1.5, 2. , 2.5, 3. , 3.5, 4. ],\n",
       "       [0. , 0.5, 1. , 1.5, 2. , 2.5, 3. , 3.5, 4. ],\n",
       "       [0. , 0.5, 1. , 1.5, 2. , 2.5, 3. , 3.5, 4. ],\n",
       "       [0. , 0.5, 1. , 1.5, 2. , 2.5, 3. , 3.5, 4. ]])"
      ]
     },
     "execution_count": 207,
     "metadata": {},
     "output_type": "execute_result"
    }
   ],
   "source": [
    "y_cord_arr"
   ]
  },
  {
   "cell_type": "markdown",
   "id": "f8453743",
   "metadata": {},
   "source": [
    "np.cov function to compute the covariance matrix from some data stored as NumPy array"
   ]
  },
  {
   "cell_type": "code",
   "execution_count": 5,
   "id": "bf20c226",
   "metadata": {},
   "outputs": [],
   "source": [
    "arr = np.random.randint(low = 5 , high = 25 , size = (4,5))"
   ]
  },
  {
   "cell_type": "code",
   "execution_count": null,
   "id": "b090c839",
   "metadata": {},
   "outputs": [
    {
     "data": {
      "text/plain": [
       "array([[24,  6,  6,  9, 10],\n",
       "       [18, 16, 16,  6, 24],\n",
       "       [ 9, 13, 13, 17, 21],\n",
       "       [21, 14, 15, 10, 13]])"
      ]
     },
     "execution_count": 6,
     "metadata": {},
     "output_type": "execute_result"
    }
   ],
   "source": [
    "arr"
   ]
  },
  {
   "cell_type": "code",
   "execution_count": 7,
   "id": "cbf1820a",
   "metadata": {},
   "outputs": [],
   "source": [
    "cov_matrix = np.cov(arr,rowvar=False)"
   ]
  },
  {
   "cell_type": "code",
   "execution_count": 8,
   "id": "d9c3aaa4",
   "metadata": {},
   "outputs": [
    {
     "data": {
      "text/plain": [
       "array([[ 42.        , -13.        , -12.        , -23.        ,\n",
       "        -30.        ],\n",
       "       [-13.        ,  18.91666667,  19.5       ,  -1.16666667,\n",
       "         22.        ],\n",
       "       [-12.        ,  19.5       ,  20.33333333,  -1.33333333,\n",
       "         20.66666667],\n",
       "       [-23.        ,  -1.16666667,  -1.33333333,  21.66666667,\n",
       "          2.33333333],\n",
       "       [-30.        ,  22.        ,  20.66666667,   2.33333333,\n",
       "         43.33333333]])"
      ]
     },
     "execution_count": 8,
     "metadata": {},
     "output_type": "execute_result"
    }
   ],
   "source": [
    "cov_matrix"
   ]
  },
  {
   "cell_type": "markdown",
   "id": "53d032da",
   "metadata": {},
   "source": [
    " np.dot function to compute the dot product between two 1D NumPy arrays (vectors)"
   ]
  },
  {
   "cell_type": "code",
   "execution_count": 9,
   "id": "c29f0ae3",
   "metadata": {},
   "outputs": [],
   "source": [
    "left_vec = np.random.randint(low = 4 , high = 21 , size = (4,))\n",
    "right_vec = np.random.randint(low = 4 , high = 21 , size = (4,))"
   ]
  },
  {
   "cell_type": "code",
   "execution_count": 11,
   "id": "dcdffb85",
   "metadata": {},
   "outputs": [
    {
     "data": {
      "text/plain": [
       "array([ 4, 11,  9,  8])"
      ]
     },
     "execution_count": 11,
     "metadata": {},
     "output_type": "execute_result"
    }
   ],
   "source": [
    "left_vec"
   ]
  },
  {
   "cell_type": "code",
   "execution_count": 12,
   "id": "dc7e7878",
   "metadata": {},
   "outputs": [
    {
     "data": {
      "text/plain": [
       "array([18, 16, 19,  7])"
      ]
     },
     "execution_count": 12,
     "metadata": {},
     "output_type": "execute_result"
    }
   ],
   "source": [
    "right_vec"
   ]
  },
  {
   "cell_type": "code",
   "execution_count": 10,
   "id": "f457f6d1",
   "metadata": {},
   "outputs": [],
   "source": [
    "scalar = np.dot(left_vec,right_vec)"
   ]
  },
  {
   "cell_type": "code",
   "execution_count": 13,
   "id": "1c35f325",
   "metadata": {},
   "outputs": [
    {
     "data": {
      "text/plain": [
       "np.int64(475)"
      ]
     },
     "execution_count": 13,
     "metadata": {},
     "output_type": "execute_result"
    }
   ],
   "source": [
    "scalar"
   ]
  },
  {
   "cell_type": "markdown",
   "id": "345f1f5d",
   "metadata": {},
   "source": [
    "Concept of matrix multiplication using matmul function ."
   ]
  },
  {
   "cell_type": "code",
   "execution_count": null,
   "id": "74f94bee",
   "metadata": {},
   "outputs": [],
   "source": [
    "left_vec = np.random.randint(low = 5 , high = 25 , size= (5,7))\n",
    "right_vec = np.random.randint(low = 5 , high = 25 , size= (7,3))"
   ]
  },
  {
   "cell_type": "code",
   "execution_count": 15,
   "id": "c1993e98",
   "metadata": {},
   "outputs": [],
   "source": [
    "mat_prod = np.matmul(left_vec,right_vec)"
   ]
  },
  {
   "cell_type": "code",
   "execution_count": 16,
   "id": "e45fe498",
   "metadata": {},
   "outputs": [
    {
     "data": {
      "text/plain": [
       "array([[ 990, 1007, 1098],\n",
       "       [1366, 1442, 1537],\n",
       "       [1540, 1823, 1762],\n",
       "       [1386, 1627, 1579],\n",
       "       [1297, 1492, 1362]])"
      ]
     },
     "execution_count": 16,
     "metadata": {},
     "output_type": "execute_result"
    }
   ],
   "source": [
    "mat_prod"
   ]
  },
  {
   "cell_type": "code",
   "execution_count": 19,
   "id": "a07cd378",
   "metadata": {},
   "outputs": [],
   "source": [
    "left_vec = np.random.randint(low = 5 , high = 52 , size= (5,7,4))\n",
    "right_vec = np.random.randint(low = 5 , high = 52 , size= (4,3))"
   ]
  },
  {
   "cell_type": "code",
   "execution_count": 20,
   "id": "30836ee5",
   "metadata": {},
   "outputs": [],
   "source": [
    "mat_prod = np.matmul(left_vec , right_vec)"
   ]
  },
  {
   "cell_type": "code",
   "execution_count": 21,
   "id": "6c9dade7",
   "metadata": {},
   "outputs": [
    {
     "data": {
      "text/plain": [
       "array([[[3507, 5725, 2384],\n",
       "        [2518, 4942, 2358],\n",
       "        [1367, 2830, 1569],\n",
       "        [2833, 4012, 1629],\n",
       "        [1250, 2577, 1265],\n",
       "        [3083, 5079, 2156],\n",
       "        [1907, 3712, 1725]],\n",
       "\n",
       "       [[2374, 3235, 1217],\n",
       "        [1222, 2114, 1028],\n",
       "        [1979, 2955, 1226],\n",
       "        [3253, 5685, 2510],\n",
       "        [2865, 4466, 1713],\n",
       "        [3069, 5412, 2385],\n",
       "        [2490, 4596, 2160]],\n",
       "\n",
       "       [[2870, 4540, 1722],\n",
       "        [2865, 3537, 1108],\n",
       "        [2712, 3614, 1322],\n",
       "        [2924, 3960, 1494],\n",
       "        [ 977, 2183, 1066],\n",
       "        [1703, 2476,  921],\n",
       "        [2020, 3643, 1683]],\n",
       "\n",
       "       [[2503, 3642, 1397],\n",
       "        [2908, 4361, 1555],\n",
       "        [2015, 2848, 1141],\n",
       "        [1350, 2439, 1193],\n",
       "        [2154, 3670, 1672],\n",
       "        [2458, 4121, 1897],\n",
       "        [2988, 4830, 2124]],\n",
       "\n",
       "       [[1387, 3311, 1930],\n",
       "        [1548, 3471, 1719],\n",
       "        [1282, 2652, 1270],\n",
       "        [1422, 2373, 1153],\n",
       "        [3061, 5208, 2171],\n",
       "        [1886, 3480, 1718],\n",
       "        [3086, 4862, 1976]]])"
      ]
     },
     "execution_count": 21,
     "metadata": {},
     "output_type": "execute_result"
    }
   ],
   "source": [
    "mat_prod"
   ]
  },
  {
   "cell_type": "code",
   "execution_count": null,
   "id": "390b02bf",
   "metadata": {},
   "outputs": [],
   "source": []
  }
 ],
 "metadata": {
  "kernelspec": {
   "display_name": ".venv",
   "language": "python",
   "name": "python3"
  },
  "language_info": {
   "codemirror_mode": {
    "name": "ipython",
    "version": 3
   },
   "file_extension": ".py",
   "mimetype": "text/x-python",
   "name": "python",
   "nbconvert_exporter": "python",
   "pygments_lexer": "ipython3",
   "version": "3.12.3"
  }
 },
 "nbformat": 4,
 "nbformat_minor": 5
}
