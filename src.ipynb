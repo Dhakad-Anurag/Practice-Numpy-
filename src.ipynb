{
 "cells": [
  {
   "cell_type": "code",
   "execution_count": 145,
   "id": "85a08143",
   "metadata": {},
   "outputs": [],
   "source": [
    "import numpy as np "
   ]
  },
  {
   "cell_type": "code",
   "execution_count": 146,
   "id": "08500b18",
   "metadata": {},
   "outputs": [
    {
     "name": "stdout",
     "output_type": "stream",
     "text": [
      "[1 2 3 6 5 4 8 7 9]\n"
     ]
    }
   ],
   "source": [
    "l = [1,2,3,6,5,4,8,7,9]\n",
    "arr = np.array(l)\n",
    "print(arr)"
   ]
  },
  {
   "cell_type": "code",
   "execution_count": 147,
   "id": "599b1d60",
   "metadata": {},
   "outputs": [
    {
     "data": {
      "text/plain": [
       "array([1, 2, 3, 6, 5, 4, 8, 7, 9])"
      ]
     },
     "execution_count": 147,
     "metadata": {},
     "output_type": "execute_result"
    }
   ],
   "source": [
    "arr"
   ]
  },
  {
   "cell_type": "code",
   "execution_count": 148,
   "id": "03da4083",
   "metadata": {},
   "outputs": [],
   "source": [
    "l2 = [[[1,2,3,],[4,5,6,],[7,8,9],[10,11,12]]]"
   ]
  },
  {
   "cell_type": "code",
   "execution_count": 149,
   "id": "b9ad3d55",
   "metadata": {},
   "outputs": [
    {
     "data": {
      "text/plain": [
       "[[[1, 2, 3], [4, 5, 6], [7, 8, 9], [10, 11, 12]]]"
      ]
     },
     "execution_count": 149,
     "metadata": {},
     "output_type": "execute_result"
    }
   ],
   "source": [
    "l2"
   ]
  },
  {
   "cell_type": "code",
   "execution_count": 150,
   "id": "c3bb4b35",
   "metadata": {},
   "outputs": [
    {
     "data": {
      "text/plain": [
       "(1, 4, 3)"
      ]
     },
     "execution_count": 150,
     "metadata": {},
     "output_type": "execute_result"
    }
   ],
   "source": [
    "np.shape(l2)"
   ]
  },
  {
   "cell_type": "code",
   "execution_count": 151,
   "id": "8ea9f4f9",
   "metadata": {},
   "outputs": [
    {
     "data": {
      "text/plain": [
       "array([1, 2, 3, 6, 5, 4, 8, 7, 9])"
      ]
     },
     "execution_count": 151,
     "metadata": {},
     "output_type": "execute_result"
    }
   ],
   "source": [
    "arr"
   ]
  },
  {
   "cell_type": "code",
   "execution_count": 152,
   "id": "d5d25647",
   "metadata": {},
   "outputs": [
    {
     "data": {
      "text/plain": [
       "array([1, 2, 3, 6, 5, 4, 8, 7, 9])"
      ]
     },
     "execution_count": 152,
     "metadata": {},
     "output_type": "execute_result"
    }
   ],
   "source": [
    "arr"
   ]
  },
  {
   "cell_type": "code",
   "execution_count": 153,
   "id": "6d057b83",
   "metadata": {},
   "outputs": [
    {
     "data": {
      "text/plain": [
       "(9,)"
      ]
     },
     "execution_count": 153,
     "metadata": {},
     "output_type": "execute_result"
    }
   ],
   "source": [
    "arr.shape"
   ]
  },
  {
   "cell_type": "code",
   "execution_count": 154,
   "id": "0228118f",
   "metadata": {},
   "outputs": [],
   "source": [
    "l2 = np.reshape(l2,(3,2,2))"
   ]
  },
  {
   "cell_type": "code",
   "execution_count": 155,
   "id": "6f6b6254",
   "metadata": {},
   "outputs": [
    {
     "data": {
      "text/plain": [
       "(3, 2, 2)"
      ]
     },
     "execution_count": 155,
     "metadata": {},
     "output_type": "execute_result"
    }
   ],
   "source": [
    "np.shape(l2)"
   ]
  },
  {
   "cell_type": "code",
   "execution_count": 156,
   "id": "579008d7",
   "metadata": {},
   "outputs": [
    {
     "name": "stdout",
     "output_type": "stream",
     "text": [
      "[[[ 1  2]\n",
      "  [ 3  4]]\n",
      "\n",
      " [[ 5  6]\n",
      "  [ 7  8]]\n",
      "\n",
      " [[ 9 10]\n",
      "  [11 12]]]\n"
     ]
    }
   ],
   "source": [
    "print(l2)"
   ]
  },
  {
   "cell_type": "code",
   "execution_count": 157,
   "id": "c3942731",
   "metadata": {},
   "outputs": [
    {
     "data": {
      "text/plain": [
       "np.int64(3)"
      ]
     },
     "execution_count": 157,
     "metadata": {},
     "output_type": "execute_result"
    }
   ],
   "source": [
    "l2 [0,1,0]"
   ]
  },
  {
   "cell_type": "code",
   "execution_count": 158,
   "id": "a80037b6",
   "metadata": {},
   "outputs": [
    {
     "data": {
      "text/plain": [
       "np.int64(1)"
      ]
     },
     "execution_count": 158,
     "metadata": {},
     "output_type": "execute_result"
    }
   ],
   "source": [
    "l2 [0,0,0]"
   ]
  },
  {
   "cell_type": "code",
   "execution_count": 159,
   "id": "678f486d",
   "metadata": {},
   "outputs": [
    {
     "data": {
      "text/plain": [
       "array([11, 12])"
      ]
     },
     "execution_count": 159,
     "metadata": {},
     "output_type": "execute_result"
    }
   ],
   "source": [
    "l2 [2,1,:]"
   ]
  },
  {
   "cell_type": "code",
   "execution_count": 160,
   "id": "4a81f0c4",
   "metadata": {},
   "outputs": [],
   "source": [
    "l5 = [1,2,3,4,5,6,7,8,9,10]"
   ]
  },
  {
   "cell_type": "code",
   "execution_count": 161,
   "id": "4828e9b4",
   "metadata": {},
   "outputs": [
    {
     "data": {
      "text/plain": [
       "[1, 2, 3, 4, 5, 6, 7, 8, 9, 10]"
      ]
     },
     "execution_count": 161,
     "metadata": {},
     "output_type": "execute_result"
    }
   ],
   "source": [
    "l5"
   ]
  },
  {
   "cell_type": "code",
   "execution_count": 162,
   "id": "4ac1f311",
   "metadata": {},
   "outputs": [
    {
     "data": {
      "text/plain": [
       "[1, 2, 3, 4, 5, 6, 7, 8, 9, 10, 1, 2, 3, 4, 5, 6, 7, 8, 9, 10]"
      ]
     },
     "execution_count": 162,
     "metadata": {},
     "output_type": "execute_result"
    }
   ],
   "source": [
    "l5 * 2"
   ]
  },
  {
   "cell_type": "code",
   "execution_count": 163,
   "id": "b6de3788",
   "metadata": {},
   "outputs": [],
   "source": [
    "l5 = np.array(l5)"
   ]
  },
  {
   "cell_type": "code",
   "execution_count": 164,
   "id": "72bbfe20",
   "metadata": {},
   "outputs": [
    {
     "data": {
      "text/plain": [
       "array([ 1,  2,  3,  4,  5,  6,  7,  8,  9, 10])"
      ]
     },
     "execution_count": 164,
     "metadata": {},
     "output_type": "execute_result"
    }
   ],
   "source": [
    "l5"
   ]
  },
  {
   "cell_type": "code",
   "execution_count": 165,
   "id": "588ec42f",
   "metadata": {},
   "outputs": [
    {
     "data": {
      "text/plain": [
       "(10,)"
      ]
     },
     "execution_count": 165,
     "metadata": {},
     "output_type": "execute_result"
    }
   ],
   "source": [
    "l5.shape"
   ]
  },
  {
   "cell_type": "code",
   "execution_count": 166,
   "id": "a893c2bb",
   "metadata": {},
   "outputs": [],
   "source": [
    "l5 = l5.reshape(5,2)"
   ]
  },
  {
   "cell_type": "code",
   "execution_count": 167,
   "id": "c5e782a0",
   "metadata": {},
   "outputs": [
    {
     "data": {
      "text/plain": [
       "array([[ 1,  2],\n",
       "       [ 3,  4],\n",
       "       [ 5,  6],\n",
       "       [ 7,  8],\n",
       "       [ 9, 10]])"
      ]
     },
     "execution_count": 167,
     "metadata": {},
     "output_type": "execute_result"
    }
   ],
   "source": [
    "l5"
   ]
  },
  {
   "cell_type": "code",
   "execution_count": 168,
   "id": "f33f3c4e",
   "metadata": {},
   "outputs": [],
   "source": [
    "l6 = [1,2,3,4,5,6,7,8,9,10]"
   ]
  },
  {
   "cell_type": "code",
   "execution_count": 169,
   "id": "4205070b",
   "metadata": {},
   "outputs": [],
   "source": [
    "arr=np.array(l6)"
   ]
  },
  {
   "cell_type": "code",
   "execution_count": 170,
   "id": "3b320e0f",
   "metadata": {},
   "outputs": [
    {
     "data": {
      "text/plain": [
       "array([ 1,  2,  3,  4,  5,  6,  7,  8,  9, 10])"
      ]
     },
     "execution_count": 170,
     "metadata": {},
     "output_type": "execute_result"
    }
   ],
   "source": [
    "arr"
   ]
  },
  {
   "cell_type": "code",
   "execution_count": 171,
   "id": "cf18d670",
   "metadata": {},
   "outputs": [
    {
     "data": {
      "text/plain": [
       "array([ 2,  4,  6,  8, 10, 12, 14, 16, 18, 20])"
      ]
     },
     "execution_count": 171,
     "metadata": {},
     "output_type": "execute_result"
    }
   ],
   "source": [
    "arr* 2"
   ]
  },
  {
   "cell_type": "code",
   "execution_count": 172,
   "id": "c3f99346",
   "metadata": {},
   "outputs": [
    {
     "data": {
      "text/plain": [
       "array([ 3,  4,  5,  6,  7,  8,  9, 10, 11, 12])"
      ]
     },
     "execution_count": 172,
     "metadata": {},
     "output_type": "execute_result"
    }
   ],
   "source": [
    "arr + 2"
   ]
  },
  {
   "cell_type": "code",
   "execution_count": 173,
   "id": "1e672f61",
   "metadata": {},
   "outputs": [
    {
     "data": {
      "text/plain": [
       "array([-1,  0,  1,  2,  3,  4,  5,  6,  7,  8])"
      ]
     },
     "execution_count": 173,
     "metadata": {},
     "output_type": "execute_result"
    }
   ],
   "source": [
    "arr - 2"
   ]
  },
  {
   "cell_type": "code",
   "execution_count": 174,
   "id": "7fbf08e8",
   "metadata": {},
   "outputs": [
    {
     "data": {
      "text/plain": [
       "(10,)"
      ]
     },
     "execution_count": 174,
     "metadata": {},
     "output_type": "execute_result"
    }
   ],
   "source": [
    "arr.shape\n"
   ]
  },
  {
   "cell_type": "code",
   "execution_count": 175,
   "id": "a96102c3",
   "metadata": {},
   "outputs": [],
   "source": [
    "arr = arr.reshape(2,5)"
   ]
  },
  {
   "cell_type": "code",
   "execution_count": 176,
   "id": "c776bf6b",
   "metadata": {},
   "outputs": [
    {
     "data": {
      "text/plain": [
       "array([[ 1,  2,  3,  4,  5],\n",
       "       [ 6,  7,  8,  9, 10]])"
      ]
     },
     "execution_count": 176,
     "metadata": {},
     "output_type": "execute_result"
    }
   ],
   "source": [
    "arr\n"
   ]
  },
  {
   "cell_type": "code",
   "execution_count": 177,
   "id": "58680c17",
   "metadata": {},
   "outputs": [],
   "source": [
    "l7 = np.array([1,2,3,4,5,6,7,8,9,10,11,12])"
   ]
  },
  {
   "cell_type": "code",
   "execution_count": 178,
   "id": "af6adb14",
   "metadata": {},
   "outputs": [
    {
     "data": {
      "text/plain": [
       "array([ 1,  2,  3,  4,  5,  6,  7,  8,  9, 10, 11, 12])"
      ]
     },
     "execution_count": 178,
     "metadata": {},
     "output_type": "execute_result"
    }
   ],
   "source": [
    "l7"
   ]
  },
  {
   "cell_type": "code",
   "execution_count": 179,
   "id": "df5c681e",
   "metadata": {},
   "outputs": [
    {
     "data": {
      "text/plain": [
       "(12,)"
      ]
     },
     "execution_count": 179,
     "metadata": {},
     "output_type": "execute_result"
    }
   ],
   "source": [
    "l7.shape"
   ]
  },
  {
   "cell_type": "code",
   "execution_count": 180,
   "id": "104d435d",
   "metadata": {},
   "outputs": [],
   "source": [
    "l8 = np.array([1,8,4,5,6,9,7,1,2,20,11,13])"
   ]
  },
  {
   "cell_type": "code",
   "execution_count": 181,
   "id": "77d046ec",
   "metadata": {},
   "outputs": [
    {
     "data": {
      "text/plain": [
       "array([ 1,  8,  4,  5,  6,  9,  7,  1,  2, 20, 11, 13])"
      ]
     },
     "execution_count": 181,
     "metadata": {},
     "output_type": "execute_result"
    }
   ],
   "source": [
    "l8"
   ]
  },
  {
   "cell_type": "code",
   "execution_count": 182,
   "id": "c9256262",
   "metadata": {},
   "outputs": [
    {
     "data": {
      "text/plain": [
       "(12,)"
      ]
     },
     "execution_count": 182,
     "metadata": {},
     "output_type": "execute_result"
    }
   ],
   "source": [
    "l8.shape"
   ]
  },
  {
   "cell_type": "code",
   "execution_count": 183,
   "id": "d54dd835",
   "metadata": {},
   "outputs": [],
   "source": [
    "l8 = l8.reshape(1,12)"
   ]
  },
  {
   "cell_type": "code",
   "execution_count": 184,
   "id": "5566a5b3",
   "metadata": {},
   "outputs": [
    {
     "data": {
      "text/plain": [
       "(1, 12)"
      ]
     },
     "execution_count": 184,
     "metadata": {},
     "output_type": "execute_result"
    }
   ],
   "source": [
    "l8.shape"
   ]
  },
  {
   "cell_type": "code",
   "execution_count": 185,
   "id": "1b60114e",
   "metadata": {},
   "outputs": [],
   "source": [
    "l9 = l8 + l7"
   ]
  },
  {
   "cell_type": "code",
   "execution_count": 186,
   "id": "702c8a15",
   "metadata": {},
   "outputs": [
    {
     "data": {
      "text/plain": [
       "array([[ 2, 10,  7,  9, 11, 15, 14,  9, 11, 30, 22, 25]])"
      ]
     },
     "execution_count": 186,
     "metadata": {},
     "output_type": "execute_result"
    }
   ],
   "source": [
    "l9 "
   ]
  },
  {
   "cell_type": "code",
   "execution_count": 187,
   "id": "9dd90f80",
   "metadata": {},
   "outputs": [
    {
     "data": {
      "text/plain": [
       "(1, 12)"
      ]
     },
     "execution_count": 187,
     "metadata": {},
     "output_type": "execute_result"
    }
   ],
   "source": [
    "l9.shape"
   ]
  },
  {
   "cell_type": "code",
   "execution_count": 188,
   "id": "4de1f333",
   "metadata": {},
   "outputs": [],
   "source": [
    "l10 = np.array([1,5,8,7,4,6,9,2,3,6,5,4,7,8])"
   ]
  },
  {
   "cell_type": "code",
   "execution_count": 189,
   "id": "9f5c2791",
   "metadata": {},
   "outputs": [
    {
     "data": {
      "text/plain": [
       "array([1, 5, 8, 7, 4, 6, 9, 2, 3, 6, 5, 4, 7, 8])"
      ]
     },
     "execution_count": 189,
     "metadata": {},
     "output_type": "execute_result"
    }
   ],
   "source": [
    "l10"
   ]
  },
  {
   "cell_type": "code",
   "execution_count": 190,
   "id": "efd88145",
   "metadata": {},
   "outputs": [
    {
     "data": {
      "text/plain": [
       "(14,)"
      ]
     },
     "execution_count": 190,
     "metadata": {},
     "output_type": "execute_result"
    }
   ],
   "source": [
    "l10.shape"
   ]
  },
  {
   "cell_type": "code",
   "execution_count": 191,
   "id": "3eb38111",
   "metadata": {},
   "outputs": [],
   "source": [
    "l10 = l10.reshape(14,1)"
   ]
  },
  {
   "cell_type": "code",
   "execution_count": 192,
   "id": "1222c0b5",
   "metadata": {},
   "outputs": [],
   "source": [
    "l11 = l10 + l7"
   ]
  },
  {
   "cell_type": "code",
   "execution_count": 193,
   "id": "34c53ced",
   "metadata": {},
   "outputs": [
    {
     "data": {
      "text/plain": [
       "array([[ 2,  3,  4,  5,  6,  7,  8,  9, 10, 11, 12, 13],\n",
       "       [ 6,  7,  8,  9, 10, 11, 12, 13, 14, 15, 16, 17],\n",
       "       [ 9, 10, 11, 12, 13, 14, 15, 16, 17, 18, 19, 20],\n",
       "       [ 8,  9, 10, 11, 12, 13, 14, 15, 16, 17, 18, 19],\n",
       "       [ 5,  6,  7,  8,  9, 10, 11, 12, 13, 14, 15, 16],\n",
       "       [ 7,  8,  9, 10, 11, 12, 13, 14, 15, 16, 17, 18],\n",
       "       [10, 11, 12, 13, 14, 15, 16, 17, 18, 19, 20, 21],\n",
       "       [ 3,  4,  5,  6,  7,  8,  9, 10, 11, 12, 13, 14],\n",
       "       [ 4,  5,  6,  7,  8,  9, 10, 11, 12, 13, 14, 15],\n",
       "       [ 7,  8,  9, 10, 11, 12, 13, 14, 15, 16, 17, 18],\n",
       "       [ 6,  7,  8,  9, 10, 11, 12, 13, 14, 15, 16, 17],\n",
       "       [ 5,  6,  7,  8,  9, 10, 11, 12, 13, 14, 15, 16],\n",
       "       [ 8,  9, 10, 11, 12, 13, 14, 15, 16, 17, 18, 19],\n",
       "       [ 9, 10, 11, 12, 13, 14, 15, 16, 17, 18, 19, 20]])"
      ]
     },
     "execution_count": 193,
     "metadata": {},
     "output_type": "execute_result"
    }
   ],
   "source": [
    "l11"
   ]
  },
  {
   "cell_type": "code",
   "execution_count": 194,
   "id": "8fbff51f",
   "metadata": {},
   "outputs": [],
   "source": [
    "l12 = np.array([1,2,3,4,5,6,7,8,9,10,11,12,13,14,15,16,17,18,19,20,21,22,23,24])"
   ]
  },
  {
   "cell_type": "code",
   "execution_count": 195,
   "id": "a0516566",
   "metadata": {},
   "outputs": [],
   "source": [
    "l12 = l12.reshape(2,12)"
   ]
  },
  {
   "cell_type": "code",
   "execution_count": 196,
   "id": "0ef10b4e",
   "metadata": {},
   "outputs": [],
   "source": [
    "l13 = l12 + l7"
   ]
  },
  {
   "cell_type": "code",
   "execution_count": 197,
   "id": "a2a3617c",
   "metadata": {},
   "outputs": [
    {
     "data": {
      "text/plain": [
       "(2, 12)"
      ]
     },
     "execution_count": 197,
     "metadata": {},
     "output_type": "execute_result"
    }
   ],
   "source": [
    "l13.shape"
   ]
  },
  {
   "cell_type": "code",
   "execution_count": 198,
   "id": "2a2b21af",
   "metadata": {},
   "outputs": [],
   "source": [
    "l12 = l12.reshape(2,12)"
   ]
  },
  {
   "cell_type": "code",
   "execution_count": 199,
   "id": "9b27237f",
   "metadata": {},
   "outputs": [],
   "source": [
    "l13 = l7 + l12"
   ]
  },
  {
   "cell_type": "markdown",
   "id": "5691f180",
   "metadata": {},
   "source": [
    "to add two matrix(array) we have to make their y-axis or columns of same value."
   ]
  },
  {
   "cell_type": "code",
   "execution_count": 200,
   "id": "a59d78ed",
   "metadata": {},
   "outputs": [
    {
     "data": {
      "text/plain": [
       "array([[ 2,  4,  6,  8, 10, 12, 14, 16, 18, 20, 22, 24],\n",
       "       [14, 16, 18, 20, 22, 24, 26, 28, 30, 32, 34, 36]])"
      ]
     },
     "execution_count": 200,
     "metadata": {},
     "output_type": "execute_result"
    }
   ],
   "source": [
    "l13"
   ]
  },
  {
   "cell_type": "code",
   "execution_count": 201,
   "id": "7a311702",
   "metadata": {},
   "outputs": [
    {
     "data": {
      "text/plain": [
       "(12,)"
      ]
     },
     "execution_count": 201,
     "metadata": {},
     "output_type": "execute_result"
    }
   ],
   "source": [
    "l7.shape"
   ]
  },
  {
   "cell_type": "code",
   "execution_count": 202,
   "id": "3b90e847",
   "metadata": {},
   "outputs": [
    {
     "data": {
      "text/plain": [
       "(2, 12)"
      ]
     },
     "execution_count": 202,
     "metadata": {},
     "output_type": "execute_result"
    }
   ],
   "source": [
    "l12.shape"
   ]
  },
  {
   "cell_type": "code",
   "execution_count": 203,
   "id": "6fbacd72",
   "metadata": {},
   "outputs": [
    {
     "data": {
      "text/plain": [
       "(1, 12)"
      ]
     },
     "execution_count": 203,
     "metadata": {},
     "output_type": "execute_result"
    }
   ],
   "source": [
    "l9.shape"
   ]
  },
  {
   "cell_type": "code",
   "execution_count": 204,
   "id": "9363b45b",
   "metadata": {},
   "outputs": [],
   "source": [
    "arr1=l9+l12"
   ]
  },
  {
   "cell_type": "code",
   "execution_count": 205,
   "id": "5c9d9cde",
   "metadata": {},
   "outputs": [
    {
     "data": {
      "text/plain": [
       "array([[ 3, 12, 10, 13, 16, 21, 21, 17, 20, 40, 33, 37],\n",
       "       [15, 24, 22, 25, 28, 33, 33, 29, 32, 52, 45, 49]])"
      ]
     },
     "execution_count": 205,
     "metadata": {},
     "output_type": "execute_result"
    }
   ],
   "source": [
    "arr1"
   ]
  },
  {
   "cell_type": "code",
   "execution_count": 206,
   "id": "d9bb9a02",
   "metadata": {},
   "outputs": [],
   "source": [
    "arr3=l9.reshape(1,12)"
   ]
  },
  {
   "cell_type": "code",
   "execution_count": 207,
   "id": "a202de28",
   "metadata": {},
   "outputs": [
    {
     "data": {
      "text/plain": [
       "array([[ 2, 10,  7,  9, 11, 15, 14,  9, 11, 30, 22, 25]])"
      ]
     },
     "execution_count": 207,
     "metadata": {},
     "output_type": "execute_result"
    }
   ],
   "source": [
    "arr3"
   ]
  },
  {
   "cell_type": "code",
   "execution_count": 208,
   "id": "7addc66c",
   "metadata": {},
   "outputs": [
    {
     "data": {
      "text/plain": [
       "(1, 12)"
      ]
     },
     "execution_count": 208,
     "metadata": {},
     "output_type": "execute_result"
    }
   ],
   "source": [
    "arr3.shape\n"
   ]
  },
  {
   "cell_type": "code",
   "execution_count": 209,
   "id": "f92e5808",
   "metadata": {},
   "outputs": [],
   "source": [
    "arr2 = l9+l7"
   ]
  },
  {
   "cell_type": "code",
   "execution_count": 210,
   "id": "81763a67",
   "metadata": {},
   "outputs": [
    {
     "data": {
      "text/plain": [
       "array([[ 3, 12, 10, 13, 16, 21, 21, 17, 20, 40, 33, 37]])"
      ]
     },
     "execution_count": 210,
     "metadata": {},
     "output_type": "execute_result"
    }
   ],
   "source": [
    "arr2"
   ]
  },
  {
   "cell_type": "code",
   "execution_count": 211,
   "id": "3b48fcb7",
   "metadata": {},
   "outputs": [
    {
     "data": {
      "text/plain": [
       "(12,)"
      ]
     },
     "execution_count": 211,
     "metadata": {},
     "output_type": "execute_result"
    }
   ],
   "source": [
    "l7.shape"
   ]
  },
  {
   "cell_type": "code",
   "execution_count": 212,
   "id": "7d11300a",
   "metadata": {},
   "outputs": [],
   "source": [
    "arr4=l7+l9"
   ]
  },
  {
   "cell_type": "code",
   "execution_count": 213,
   "id": "1476814c",
   "metadata": {},
   "outputs": [
    {
     "data": {
      "text/plain": [
       "array([[ 3, 12, 10, 13, 16, 21, 21, 17, 20, 40, 33, 37]])"
      ]
     },
     "execution_count": 213,
     "metadata": {},
     "output_type": "execute_result"
    }
   ],
   "source": [
    "arr4"
   ]
  },
  {
   "cell_type": "code",
   "execution_count": 214,
   "id": "e83d8681",
   "metadata": {},
   "outputs": [],
   "source": [
    "arr5 = arr4+arr3"
   ]
  },
  {
   "cell_type": "code",
   "execution_count": 215,
   "id": "49108057",
   "metadata": {},
   "outputs": [
    {
     "data": {
      "text/plain": [
       "array([[ 5, 22, 17, 22, 27, 36, 35, 26, 31, 70, 55, 62]])"
      ]
     },
     "execution_count": 215,
     "metadata": {},
     "output_type": "execute_result"
    }
   ],
   "source": [
    "arr5"
   ]
  },
  {
   "cell_type": "code",
   "execution_count": 216,
   "id": "c6788411",
   "metadata": {},
   "outputs": [],
   "source": [
    "arr6=l9.reshape(2,6)    "
   ]
  },
  {
   "cell_type": "code",
   "execution_count": 217,
   "id": "adf294c6",
   "metadata": {},
   "outputs": [],
   "source": [
    "arr7=l7.reshape(2,6)"
   ]
  },
  {
   "cell_type": "code",
   "execution_count": 218,
   "id": "87663de4",
   "metadata": {},
   "outputs": [],
   "source": [
    "arr8=arr6+arr7"
   ]
  },
  {
   "cell_type": "code",
   "execution_count": 219,
   "id": "4a1074f8",
   "metadata": {},
   "outputs": [
    {
     "data": {
      "text/plain": [
       "array([[ 3, 12, 10, 13, 16, 21],\n",
       "       [21, 17, 20, 40, 33, 37]])"
      ]
     },
     "execution_count": 219,
     "metadata": {},
     "output_type": "execute_result"
    }
   ],
   "source": [
    "arr8"
   ]
  },
  {
   "cell_type": "markdown",
   "id": "c4cda1cb",
   "metadata": {},
   "source": [
    "zeros = it is used to make an array of values = 0"
   ]
  },
  {
   "cell_type": "code",
   "execution_count": 220,
   "id": "9bbaee7d",
   "metadata": {},
   "outputs": [],
   "source": [
    "arr9 = np.zeros((2,10))"
   ]
  },
  {
   "cell_type": "code",
   "execution_count": 221,
   "id": "91f9163e",
   "metadata": {},
   "outputs": [],
   "source": [
    "arr = np.ones((4,8),dtype=int)"
   ]
  },
  {
   "cell_type": "code",
   "execution_count": 222,
   "id": "c6170538",
   "metadata": {},
   "outputs": [
    {
     "data": {
      "text/plain": [
       "array([[1, 1, 1, 1, 1, 1, 1, 1],\n",
       "       [1, 1, 1, 1, 1, 1, 1, 1],\n",
       "       [1, 1, 1, 1, 1, 1, 1, 1],\n",
       "       [1, 1, 1, 1, 1, 1, 1, 1]])"
      ]
     },
     "execution_count": 222,
     "metadata": {},
     "output_type": "execute_result"
    }
   ],
   "source": [
    "arr"
   ]
  },
  {
   "cell_type": "code",
   "execution_count": 223,
   "id": "6172ebb5",
   "metadata": {},
   "outputs": [],
   "source": [
    "arr = arr.reshape(8,1,1,1,1,1,1,4)"
   ]
  },
  {
   "cell_type": "code",
   "execution_count": 224,
   "id": "39b4f5da",
   "metadata": {},
   "outputs": [
    {
     "data": {
      "text/plain": [
       "array([[[[[[[[1, 1, 1, 1]]]]]]],\n",
       "\n",
       "\n",
       "\n",
       "\n",
       "\n",
       "\n",
       "       [[[[[[[1, 1, 1, 1]]]]]]],\n",
       "\n",
       "\n",
       "\n",
       "\n",
       "\n",
       "\n",
       "       [[[[[[[1, 1, 1, 1]]]]]]],\n",
       "\n",
       "\n",
       "\n",
       "\n",
       "\n",
       "\n",
       "       [[[[[[[1, 1, 1, 1]]]]]]],\n",
       "\n",
       "\n",
       "\n",
       "\n",
       "\n",
       "\n",
       "       [[[[[[[1, 1, 1, 1]]]]]]],\n",
       "\n",
       "\n",
       "\n",
       "\n",
       "\n",
       "\n",
       "       [[[[[[[1, 1, 1, 1]]]]]]],\n",
       "\n",
       "\n",
       "\n",
       "\n",
       "\n",
       "\n",
       "       [[[[[[[1, 1, 1, 1]]]]]]],\n",
       "\n",
       "\n",
       "\n",
       "\n",
       "\n",
       "\n",
       "       [[[[[[[1, 1, 1, 1]]]]]]]])"
      ]
     },
     "execution_count": 224,
     "metadata": {},
     "output_type": "execute_result"
    }
   ],
   "source": [
    "arr"
   ]
  },
  {
   "cell_type": "code",
   "execution_count": 225,
   "id": "489c75b5",
   "metadata": {},
   "outputs": [
    {
     "data": {
      "text/plain": [
       "array([[0., 0., 0., 0., 0., 0., 0., 0., 0., 0.],\n",
       "       [0., 0., 0., 0., 0., 0., 0., 0., 0., 0.]])"
      ]
     },
     "execution_count": 225,
     "metadata": {},
     "output_type": "execute_result"
    }
   ],
   "source": [
    "arr9"
   ]
  },
  {
   "cell_type": "code",
   "execution_count": 226,
   "id": "dd135266",
   "metadata": {},
   "outputs": [],
   "source": [
    "arr9=np.zeros((5,10),dtype=int)\n"
   ]
  },
  {
   "cell_type": "code",
   "execution_count": 227,
   "id": "40039d7f",
   "metadata": {},
   "outputs": [
    {
     "data": {
      "text/plain": [
       "array([[0, 0, 0, 0, 0, 0, 0, 0, 0, 0],\n",
       "       [0, 0, 0, 0, 0, 0, 0, 0, 0, 0],\n",
       "       [0, 0, 0, 0, 0, 0, 0, 0, 0, 0],\n",
       "       [0, 0, 0, 0, 0, 0, 0, 0, 0, 0],\n",
       "       [0, 0, 0, 0, 0, 0, 0, 0, 0, 0]])"
      ]
     },
     "execution_count": 227,
     "metadata": {},
     "output_type": "execute_result"
    }
   ],
   "source": [
    "arr9"
   ]
  },
  {
   "cell_type": "markdown",
   "id": "093edf01",
   "metadata": {},
   "source": [
    "ones = it is used to generate an array of ony unit digits ."
   ]
  },
  {
   "cell_type": "code",
   "execution_count": 228,
   "id": "2896a189",
   "metadata": {},
   "outputs": [],
   "source": [
    "arr = np.ones((9,15))"
   ]
  },
  {
   "cell_type": "code",
   "execution_count": 229,
   "id": "e714ce2f",
   "metadata": {},
   "outputs": [
    {
     "data": {
      "text/plain": [
       "array([[1., 1., 1., 1., 1., 1., 1., 1., 1., 1., 1., 1., 1., 1., 1.],\n",
       "       [1., 1., 1., 1., 1., 1., 1., 1., 1., 1., 1., 1., 1., 1., 1.],\n",
       "       [1., 1., 1., 1., 1., 1., 1., 1., 1., 1., 1., 1., 1., 1., 1.],\n",
       "       [1., 1., 1., 1., 1., 1., 1., 1., 1., 1., 1., 1., 1., 1., 1.],\n",
       "       [1., 1., 1., 1., 1., 1., 1., 1., 1., 1., 1., 1., 1., 1., 1.],\n",
       "       [1., 1., 1., 1., 1., 1., 1., 1., 1., 1., 1., 1., 1., 1., 1.],\n",
       "       [1., 1., 1., 1., 1., 1., 1., 1., 1., 1., 1., 1., 1., 1., 1.],\n",
       "       [1., 1., 1., 1., 1., 1., 1., 1., 1., 1., 1., 1., 1., 1., 1.],\n",
       "       [1., 1., 1., 1., 1., 1., 1., 1., 1., 1., 1., 1., 1., 1., 1.]])"
      ]
     },
     "execution_count": 229,
     "metadata": {},
     "output_type": "execute_result"
    }
   ],
   "source": [
    "arr"
   ]
  },
  {
   "cell_type": "markdown",
   "id": "351a1eae",
   "metadata": {},
   "source": [
    "empty = it is used to get an array of randomly generated values or garbage values ."
   ]
  },
  {
   "cell_type": "code",
   "execution_count": 230,
   "id": "7bdea4af",
   "metadata": {},
   "outputs": [],
   "source": [
    "arr = np.empty((4,6))"
   ]
  },
  {
   "cell_type": "code",
   "execution_count": 231,
   "id": "aa66d3e3",
   "metadata": {},
   "outputs": [
    {
     "data": {
      "text/plain": [
       "array([[3.75566827e-316, 0.00000000e+000, 3.45845952e-323,\n",
       "        4.44659081e-323, 5.43472210e-323, 7.41098469e-323],\n",
       "       [6.91691904e-323, 4.44659081e-323, 5.43472210e-323,\n",
       "        1.48219694e-322, 1.08694442e-322, 1.23516411e-322],\n",
       "       [9.88131292e-324, 4.94065646e-323, 3.45845952e-323,\n",
       "        4.44659081e-323, 5.43472210e-323, 7.41098469e-323],\n",
       "       [6.91691904e-323, 4.44659081e-323, 5.43472210e-323,\n",
       "        1.48219694e-322, 1.08694442e-322, 1.23516411e-322]])"
      ]
     },
     "execution_count": 231,
     "metadata": {},
     "output_type": "execute_result"
    }
   ],
   "source": [
    "arr"
   ]
  },
  {
   "cell_type": "code",
   "execution_count": 232,
   "id": "3205ef36",
   "metadata": {},
   "outputs": [],
   "source": [
    "arr = np.empty((4,6),dtype=int)"
   ]
  },
  {
   "cell_type": "code",
   "execution_count": 233,
   "id": "80fc1490",
   "metadata": {},
   "outputs": [
    {
     "data": {
      "text/plain": [
       "array([[76015572,        0,        7,        9,       11,       15],\n",
       "       [      14,        9,       11,       30,       22,       25],\n",
       "       [       2,       10,        7,        9,       11,       15],\n",
       "       [      14,        9,       11,       30,       22,       25]])"
      ]
     },
     "execution_count": 233,
     "metadata": {},
     "output_type": "execute_result"
    }
   ],
   "source": [
    "arr "
   ]
  },
  {
   "cell_type": "markdown",
   "id": "32f89f4d",
   "metadata": {},
   "source": [
    "arange = it is used to get an array of desired staring point & ending point with how much differnce we want in the two values ."
   ]
  },
  {
   "cell_type": "code",
   "execution_count": 234,
   "id": "317fa2a2",
   "metadata": {},
   "outputs": [],
   "source": [
    "arr = np.arange(0,20,2.5,dtype=np.float64)"
   ]
  },
  {
   "cell_type": "code",
   "execution_count": 235,
   "id": "53bdacde",
   "metadata": {},
   "outputs": [
    {
     "data": {
      "text/plain": [
       "array([ 0. ,  2.5,  5. ,  7.5, 10. , 12.5, 15. , 17.5])"
      ]
     },
     "execution_count": 235,
     "metadata": {},
     "output_type": "execute_result"
    }
   ],
   "source": [
    "arr"
   ]
  },
  {
   "cell_type": "markdown",
   "id": "439f35d3",
   "metadata": {},
   "source": [
    "linspace = it is used to make an array of desired staring point & ending point with how much values we want then the funtion will generate the gap itself according to the values "
   ]
  },
  {
   "cell_type": "code",
   "execution_count": 236,
   "id": "bb015bf9",
   "metadata": {},
   "outputs": [],
   "source": [
    "arr = np.linspace(0,10,20)"
   ]
  },
  {
   "cell_type": "code",
   "execution_count": 237,
   "id": "1ba7249f",
   "metadata": {},
   "outputs": [
    {
     "data": {
      "text/plain": [
       "array([ 0.        ,  0.52631579,  1.05263158,  1.57894737,  2.10526316,\n",
       "        2.63157895,  3.15789474,  3.68421053,  4.21052632,  4.73684211,\n",
       "        5.26315789,  5.78947368,  6.31578947,  6.84210526,  7.36842105,\n",
       "        7.89473684,  8.42105263,  8.94736842,  9.47368421, 10.        ])"
      ]
     },
     "execution_count": 237,
     "metadata": {},
     "output_type": "execute_result"
    }
   ],
   "source": [
    "arr"
   ]
  },
  {
   "cell_type": "code",
   "execution_count": 238,
   "id": "65f75694",
   "metadata": {},
   "outputs": [],
   "source": [
    "arr = np.random.binomial(n=6,p=0.6,size=(2,5))"
   ]
  },
  {
   "cell_type": "code",
   "execution_count": 239,
   "id": "a7341530",
   "metadata": {},
   "outputs": [
    {
     "data": {
      "text/plain": [
       "array([[5, 4, 4, 4, 4],\n",
       "       [5, 6, 2, 3, 4]])"
      ]
     },
     "execution_count": 239,
     "metadata": {},
     "output_type": "execute_result"
    }
   ],
   "source": [
    "arr"
   ]
  },
  {
   "cell_type": "code",
   "execution_count": 240,
   "id": "b55a446f",
   "metadata": {},
   "outputs": [],
   "source": [
    "arr = np.random.binomial(n=1,p=0.5,size=(2,5))"
   ]
  },
  {
   "cell_type": "code",
   "execution_count": 241,
   "id": "44a08abb",
   "metadata": {},
   "outputs": [
    {
     "data": {
      "text/plain": [
       "array([[1, 0, 0, 1, 1],\n",
       "       [0, 0, 0, 0, 1]])"
      ]
     },
     "execution_count": 241,
     "metadata": {},
     "output_type": "execute_result"
    }
   ],
   "source": [
    "arr"
   ]
  },
  {
   "cell_type": "code",
   "execution_count": 242,
   "id": "6fcbe2d3",
   "metadata": {},
   "outputs": [],
   "source": [
    "arr = np.random.multivariate_normal(mean=[1,1,1,1],cov=[[1,0,0,0],[0,1,0,0],[0,0,1,0],[0,0,0,1]],size=10)"
   ]
  },
  {
   "cell_type": "code",
   "execution_count": 243,
   "id": "0a08cc60",
   "metadata": {},
   "outputs": [
    {
     "data": {
      "text/plain": [
       "array([[ 0.33079611, -0.52490579,  1.73959397,  1.34795606],\n",
       "       [ 0.00956689,  0.87736023,  0.72321568,  2.58081569],\n",
       "       [ 0.7154807 ,  0.16187443,  0.89644378,  0.66574648],\n",
       "       [ 1.41948821,  1.87056482,  3.12069563,  0.49603863],\n",
       "       [-0.72142241,  2.47388838, -0.57175104,  0.93481232],\n",
       "       [ 0.12475361,  1.70424738, -0.91577756,  1.61424943],\n",
       "       [ 1.23070522,  0.43250557,  1.06626061,  1.75678717],\n",
       "       [ 0.68586254,  1.40161834,  0.28000272,  0.62196934],\n",
       "       [ 1.28656263,  1.7162222 ,  0.29525891,  0.33291133],\n",
       "       [ 2.58975372,  2.17397727,  1.90501262,  2.18951036]])"
      ]
     },
     "execution_count": 243,
     "metadata": {},
     "output_type": "execute_result"
    }
   ],
   "source": [
    "arr"
   ]
  },
  {
   "cell_type": "code",
   "execution_count": 244,
   "id": "e57d3219",
   "metadata": {},
   "outputs": [],
   "source": [
    "arr = np.random.multivariate_normal(mean=[1,2,3,4],cov=[[1,0,0,0],[0,2,0,0],[0,0,3,0],[0,0,0,4]],size=10)"
   ]
  },
  {
   "cell_type": "code",
   "execution_count": 245,
   "id": "cdaba28b",
   "metadata": {},
   "outputs": [
    {
     "data": {
      "text/plain": [
       "array([[ 0.90585469,  4.04502015,  2.95617976,  6.21440386],\n",
       "       [-0.08040807,  2.04079088,  1.58467836,  6.73057656],\n",
       "       [-1.03168761,  3.59343207,  1.75893776,  2.57399822],\n",
       "       [ 0.85628131,  2.03445028,  6.88341691,  3.36956382],\n",
       "       [ 1.48707283,  0.21502007,  1.68492668,  3.03869795],\n",
       "       [ 1.13271131,  3.01426653,  4.16237343,  6.37515525],\n",
       "       [ 1.68551851,  3.06155716,  2.50255971,  7.0540565 ],\n",
       "       [ 2.48860331,  1.32703435,  2.4458944 ,  4.50809454],\n",
       "       [ 1.70736191,  6.13916214,  1.77017155,  5.09649682],\n",
       "       [ 1.31094104,  3.53588515,  0.70576344,  9.70285776]])"
      ]
     },
     "execution_count": 245,
     "metadata": {},
     "output_type": "execute_result"
    }
   ],
   "source": [
    "arr"
   ]
  },
  {
   "cell_type": "code",
   "execution_count": 246,
   "id": "4c81fa76",
   "metadata": {},
   "outputs": [],
   "source": [
    "arr = np.random.normal(loc=5,scale=1,size=(2,10))"
   ]
  },
  {
   "cell_type": "code",
   "execution_count": 247,
   "id": "4b8028cb",
   "metadata": {},
   "outputs": [
    {
     "data": {
      "text/plain": [
       "array([[5.68003735, 5.60140644, 5.12403667, 5.60617111, 4.3453629 ,\n",
       "        5.59803629, 4.46001915, 4.04508126, 6.15845857, 5.59121081],\n",
       "       [5.74061626, 5.87655638, 4.0910717 , 2.11039201, 5.49631909,\n",
       "        4.87235093, 4.16503408, 4.89041606, 6.1216173 , 3.79038531]])"
      ]
     },
     "execution_count": 247,
     "metadata": {},
     "output_type": "execute_result"
    }
   ],
   "source": [
    "arr"
   ]
  },
  {
   "cell_type": "code",
   "execution_count": 248,
   "id": "e7beee8d",
   "metadata": {},
   "outputs": [],
   "source": [
    "arr_mean=np.mean(arr)"
   ]
  },
  {
   "cell_type": "code",
   "execution_count": 249,
   "id": "3e59e668",
   "metadata": {},
   "outputs": [
    {
     "data": {
      "text/plain": [
       "np.float64(4.968228984292973)"
      ]
     },
     "execution_count": 249,
     "metadata": {},
     "output_type": "execute_result"
    }
   ],
   "source": [
    "arr_mean"
   ]
  },
  {
   "cell_type": "code",
   "execution_count": 250,
   "id": "44ff1ba8",
   "metadata": {},
   "outputs": [],
   "source": [
    "arr = np.random.rand(10,10)"
   ]
  },
  {
   "cell_type": "code",
   "execution_count": 251,
   "id": "1242be79",
   "metadata": {},
   "outputs": [
    {
     "data": {
      "text/plain": [
       "array([[0.9724697 , 0.07864573, 0.2096751 , 0.20983576, 0.18005308,\n",
       "        0.67094101, 0.60625431, 0.86648857, 0.68235647, 0.18619978],\n",
       "       [0.83004214, 0.26201631, 0.32119523, 0.50926548, 0.41107913,\n",
       "        0.07529363, 0.59418386, 0.71800226, 0.74198156, 0.93445257],\n",
       "       [0.31889903, 0.7896723 , 0.71476661, 0.67235002, 0.64504682,\n",
       "        0.88150628, 0.62796239, 0.96514271, 0.7986775 , 0.34990319],\n",
       "       [0.54018604, 0.98786655, 0.72827336, 0.86216464, 0.48296277,\n",
       "        0.38465221, 0.65143437, 0.95480397, 0.61899474, 0.96619468],\n",
       "       [0.69457674, 0.98363441, 0.16144401, 0.74215503, 0.19462754,\n",
       "        0.02697163, 0.66697487, 0.57506178, 0.35610193, 0.63047661],\n",
       "       [0.93426984, 0.6384094 , 0.76285615, 0.25060572, 0.72167212,\n",
       "        0.00986882, 0.89863531, 0.47595349, 0.83927818, 0.81655356],\n",
       "       [0.12954605, 0.3755435 , 0.28206313, 0.43966517, 0.20186236,\n",
       "        0.41366352, 0.06202255, 0.19153677, 0.25985942, 0.85908962],\n",
       "       [0.59550683, 0.99867222, 0.54512499, 0.04467453, 0.15364486,\n",
       "        0.11102366, 0.33017399, 0.84781649, 0.15587381, 0.47949785],\n",
       "       [0.91319784, 0.73258371, 0.59139061, 0.64844427, 0.20168188,\n",
       "        0.55314164, 0.32775283, 0.98694247, 0.34276435, 0.74302799],\n",
       "       [0.33581185, 0.85241444, 0.43960837, 0.87086026, 0.04225636,\n",
       "        0.90003555, 0.80007839, 0.95835627, 0.7460914 , 0.34777124]])"
      ]
     },
     "execution_count": 251,
     "metadata": {},
     "output_type": "execute_result"
    }
   ],
   "source": [
    "arr"
   ]
  },
  {
   "cell_type": "code",
   "execution_count": 252,
   "id": "79125df2",
   "metadata": {},
   "outputs": [],
   "source": [
    "arr = np.random.randint(low=10,high=25,size= (2,20))"
   ]
  },
  {
   "cell_type": "code",
   "execution_count": 253,
   "id": "8f7a37a2",
   "metadata": {},
   "outputs": [
    {
     "data": {
      "text/plain": [
       "array([[20, 18, 23, 23, 16, 20, 11, 18, 23, 20, 18, 12, 19, 18, 19, 22,\n",
       "        24, 16, 24, 11],\n",
       "       [17, 15, 24, 16, 17, 12, 24, 12, 17, 16, 10, 11, 18, 23, 11, 22,\n",
       "        22, 15, 16, 10]])"
      ]
     },
     "execution_count": 253,
     "metadata": {},
     "output_type": "execute_result"
    }
   ],
   "source": [
    "arr"
   ]
  },
  {
   "cell_type": "code",
   "execution_count": 254,
   "id": "35378ecf",
   "metadata": {},
   "outputs": [],
   "source": [
    "arr = np.random.randn(5,10)"
   ]
  },
  {
   "cell_type": "code",
   "execution_count": 255,
   "id": "6b81a6e1",
   "metadata": {},
   "outputs": [
    {
     "data": {
      "text/plain": [
       "array([[ 0.12101027,  0.62408723,  0.92192534,  0.81702612, -0.51386473,\n",
       "        -0.54159006,  0.12358817,  0.89340638,  0.57153235,  0.51838558],\n",
       "       [-0.0207982 , -0.51632033,  0.83466865,  0.02237624, -1.2530866 ,\n",
       "         0.13968647, -1.14113773,  0.51530736, -0.17029565,  0.19331829],\n",
       "       [ 2.23167922, -0.9385532 ,  0.39309702,  1.94083427,  0.7300955 ,\n",
       "         0.08167353,  1.9022399 , -0.05744343, -1.39036033, -0.83638073],\n",
       "       [ 1.36513408, -2.31522722,  2.14915729, -0.56982436,  2.5774243 ,\n",
       "         1.14846771,  0.22434702, -0.7879137 ,  0.11802947,  1.15686761],\n",
       "       [ 1.49415335,  0.20052857,  0.42196957, -0.13340665,  0.7927745 ,\n",
       "         1.44531398,  0.30074276, -0.31010613,  0.26012779, -0.27752136]])"
      ]
     },
     "execution_count": 255,
     "metadata": {},
     "output_type": "execute_result"
    }
   ],
   "source": [
    "arr"
   ]
  },
  {
   "cell_type": "code",
   "execution_count": 256,
   "id": "fa01ccfe",
   "metadata": {},
   "outputs": [],
   "source": [
    "c = []"
   ]
  },
  {
   "cell_type": "code",
   "execution_count": 257,
   "id": "ea09f82e",
   "metadata": {},
   "outputs": [],
   "source": [
    "arr = np.array(c)"
   ]
  },
  {
   "cell_type": "code",
   "execution_count": 258,
   "id": "b9df5a74",
   "metadata": {},
   "outputs": [
    {
     "data": {
      "text/plain": [
       "array([], dtype=float64)"
      ]
     },
     "execution_count": 258,
     "metadata": {},
     "output_type": "execute_result"
    }
   ],
   "source": [
    "arr"
   ]
  },
  {
   "cell_type": "code",
   "execution_count": 259,
   "id": "58a8824c",
   "metadata": {},
   "outputs": [],
   "source": [
    "arr = np.zeros((0,0))"
   ]
  },
  {
   "cell_type": "code",
   "execution_count": 260,
   "id": "d8df6b16",
   "metadata": {},
   "outputs": [
    {
     "data": {
      "text/plain": [
       "array([], shape=(0, 0), dtype=float64)"
      ]
     },
     "execution_count": 260,
     "metadata": {},
     "output_type": "execute_result"
    }
   ],
   "source": [
    "arr"
   ]
  },
  {
   "cell_type": "code",
   "execution_count": 261,
   "id": "8921bbef",
   "metadata": {},
   "outputs": [],
   "source": [
    "arr = np.array((x:=[2,4,5,1,7,8,6,9,6,4]))"
   ]
  },
  {
   "cell_type": "code",
   "execution_count": 262,
   "id": "253b7cad",
   "metadata": {},
   "outputs": [
    {
     "data": {
      "text/plain": [
       "array([2, 4, 5, 1, 7, 8, 6, 9, 6, 4])"
      ]
     },
     "execution_count": 262,
     "metadata": {},
     "output_type": "execute_result"
    }
   ],
   "source": [
    "arr"
   ]
  },
  {
   "cell_type": "markdown",
   "id": "4ecc016c",
   "metadata": {},
   "source": [
    "eye - it create a numpy array having ones at diagonals."
   ]
  },
  {
   "cell_type": "code",
   "execution_count": 263,
   "id": "95002011",
   "metadata": {},
   "outputs": [],
   "source": [
    "arr = np.eye(3)"
   ]
  },
  {
   "cell_type": "code",
   "execution_count": 264,
   "id": "529d3de2",
   "metadata": {},
   "outputs": [
    {
     "data": {
      "text/plain": [
       "array([[1., 0., 0.],\n",
       "       [0., 1., 0.],\n",
       "       [0., 0., 1.]])"
      ]
     },
     "execution_count": 264,
     "metadata": {},
     "output_type": "execute_result"
    }
   ],
   "source": [
    "arr"
   ]
  },
  {
   "cell_type": "code",
   "execution_count": 265,
   "id": "983a1051",
   "metadata": {},
   "outputs": [],
   "source": [
    "arr = np.eye(5,6)"
   ]
  },
  {
   "cell_type": "code",
   "execution_count": 266,
   "id": "a78d1997",
   "metadata": {},
   "outputs": [
    {
     "data": {
      "text/plain": [
       "array([[1., 0., 0., 0., 0., 0.],\n",
       "       [0., 1., 0., 0., 0., 0.],\n",
       "       [0., 0., 1., 0., 0., 0.],\n",
       "       [0., 0., 0., 1., 0., 0.],\n",
       "       [0., 0., 0., 0., 1., 0.]])"
      ]
     },
     "execution_count": 266,
     "metadata": {},
     "output_type": "execute_result"
    }
   ],
   "source": [
    "arr"
   ]
  },
  {
   "cell_type": "code",
   "execution_count": 267,
   "id": "09744240",
   "metadata": {},
   "outputs": [],
   "source": [
    "arr = np.eye(6,4)"
   ]
  },
  {
   "cell_type": "code",
   "execution_count": 268,
   "id": "23efc20b",
   "metadata": {},
   "outputs": [
    {
     "data": {
      "text/plain": [
       "array([[1., 0., 0., 0.],\n",
       "       [0., 1., 0., 0.],\n",
       "       [0., 0., 1., 0.],\n",
       "       [0., 0., 0., 1.],\n",
       "       [0., 0., 0., 0.],\n",
       "       [0., 0., 0., 0.]])"
      ]
     },
     "execution_count": 268,
     "metadata": {},
     "output_type": "execute_result"
    }
   ],
   "source": [
    "arr"
   ]
  },
  {
   "cell_type": "markdown",
   "id": "e17b2eff",
   "metadata": {},
   "source": [
    "logspace - it is used to generate a set of number whose ratio is same not difference in log scale."
   ]
  },
  {
   "cell_type": "code",
   "execution_count": 269,
   "id": "cd948f79",
   "metadata": {},
   "outputs": [],
   "source": [
    "arr = np.logspace(start=-2,stop=3,base=10,num=5)"
   ]
  },
  {
   "cell_type": "code",
   "execution_count": 270,
   "id": "041a03e6",
   "metadata": {},
   "outputs": [
    {
     "data": {
      "text/plain": [
       "array([1.00000000e-02, 1.77827941e-01, 3.16227766e+00, 5.62341325e+01,\n",
       "       1.00000000e+03])"
      ]
     },
     "execution_count": 270,
     "metadata": {},
     "output_type": "execute_result"
    }
   ],
   "source": [
    "arr"
   ]
  },
  {
   "cell_type": "code",
   "execution_count": 271,
   "id": "ba06d566",
   "metadata": {},
   "outputs": [],
   "source": [
    "arr = np.logspace(start=-2,stop=3,base=2,num=6)"
   ]
  },
  {
   "cell_type": "code",
   "execution_count": 272,
   "id": "15d89b8b",
   "metadata": {},
   "outputs": [
    {
     "data": {
      "text/plain": [
       "array([0.25, 0.5 , 1.  , 2.  , 4.  , 8.  ])"
      ]
     },
     "execution_count": 272,
     "metadata": {},
     "output_type": "execute_result"
    }
   ],
   "source": [
    "arr"
   ]
  },
  {
   "cell_type": "markdown",
   "id": "dce5e173",
   "metadata": {},
   "source": [
    "concatenate = it is used to combine two numpy arrays in different axises and can concatenate multiple numpy arrays ."
   ]
  },
  {
   "cell_type": "code",
   "execution_count": 273,
   "id": "96c97515",
   "metadata": {},
   "outputs": [],
   "source": [
    "left_arr = np.random.binomial(n=7,p=0.4,size=(2,6))\n",
    "right_arr = np.random.binomial(n=10,p=0.6,size=(2,6))"
   ]
  },
  {
   "cell_type": "code",
   "execution_count": 274,
   "id": "e2d3d1db",
   "metadata": {},
   "outputs": [],
   "source": [
    "row_wise_concat_arr = np.concatenate((left_arr,right_arr),axis=0)\n",
    "col_wise_concat_arr = np.concatenate((left_arr,right_arr),axis=1)\n"
   ]
  },
  {
   "cell_type": "code",
   "execution_count": 275,
   "id": "569f3818",
   "metadata": {},
   "outputs": [
    {
     "data": {
      "text/plain": [
       "array([[5, 5, 3, 2, 3, 2],\n",
       "       [1, 3, 4, 4, 4, 4],\n",
       "       [5, 6, 5, 8, 5, 6],\n",
       "       [6, 8, 7, 3, 7, 5]])"
      ]
     },
     "execution_count": 275,
     "metadata": {},
     "output_type": "execute_result"
    }
   ],
   "source": [
    "row_wise_concat_arr"
   ]
  },
  {
   "cell_type": "code",
   "execution_count": 276,
   "id": "d8d4bcad",
   "metadata": {},
   "outputs": [
    {
     "data": {
      "text/plain": [
       "array([[5, 5, 3, 2, 3, 2, 5, 6, 5, 8, 5, 6],\n",
       "       [1, 3, 4, 4, 4, 4, 6, 8, 7, 3, 7, 5]])"
      ]
     },
     "execution_count": 276,
     "metadata": {},
     "output_type": "execute_result"
    }
   ],
   "source": [
    "col_wise_concat_arr"
   ]
  },
  {
   "cell_type": "markdown",
   "id": "7b2daef6",
   "metadata": {},
   "source": [
    "delete = it deletes the rows or columns or depths of which axises are given.(in this condition)"
   ]
  },
  {
   "cell_type": "code",
   "execution_count": 277,
   "id": "24584b9c",
   "metadata": {},
   "outputs": [],
   "source": [
    "col_wise_concat_arr = np.delete(col_wise_concat_arr,[1,3],axis=1)"
   ]
  },
  {
   "cell_type": "code",
   "execution_count": 278,
   "id": "aa554b05",
   "metadata": {},
   "outputs": [
    {
     "data": {
      "text/plain": [
       "array([[5, 3, 3, 2, 5, 6, 5, 8, 5, 6],\n",
       "       [1, 4, 4, 4, 6, 8, 7, 3, 7, 5]])"
      ]
     },
     "execution_count": 278,
     "metadata": {},
     "output_type": "execute_result"
    }
   ],
   "source": [
    "col_wise_concat_arr"
   ]
  },
  {
   "cell_type": "code",
   "execution_count": 279,
   "id": "1cf81d0f",
   "metadata": {},
   "outputs": [],
   "source": [
    "row_wise_concat_arr = np.delete(row_wise_concat_arr,[1,3],axis=0)"
   ]
  },
  {
   "cell_type": "code",
   "execution_count": 280,
   "id": "081e8553",
   "metadata": {},
   "outputs": [
    {
     "data": {
      "text/plain": [
       "array([[5, 5, 3, 2, 3, 2],\n",
       "       [5, 6, 5, 8, 5, 6]])"
      ]
     },
     "execution_count": 280,
     "metadata": {},
     "output_type": "execute_result"
    }
   ],
   "source": [
    "row_wise_concat_arr"
   ]
  },
  {
   "cell_type": "markdown",
   "id": "f257e63a",
   "metadata": {},
   "source": [
    "Done -> Concept of boolean masking in numpy arrays . "
   ]
  },
  {
   "cell_type": "code",
   "execution_count": 281,
   "id": "bfa79697",
   "metadata": {},
   "outputs": [],
   "source": [
    "bmask = np.ones((col_wise_concat_arr.shape[1],),dtype=bool)"
   ]
  },
  {
   "cell_type": "code",
   "execution_count": 282,
   "id": "fb866b18",
   "metadata": {},
   "outputs": [
    {
     "data": {
      "text/plain": [
       "array([ True,  True,  True,  True,  True,  True,  True,  True,  True,\n",
       "        True])"
      ]
     },
     "execution_count": 282,
     "metadata": {},
     "output_type": "execute_result"
    }
   ],
   "source": [
    "bmask"
   ]
  },
  {
   "cell_type": "code",
   "execution_count": 283,
   "id": "e8d8b96f",
   "metadata": {},
   "outputs": [],
   "source": [
    "bmask[1]=False\n",
    "bmask[5]=False"
   ]
  },
  {
   "cell_type": "code",
   "execution_count": 284,
   "id": "20bcf456",
   "metadata": {},
   "outputs": [
    {
     "data": {
      "text/plain": [
       "array([ True, False,  True,  True,  True, False,  True,  True,  True,\n",
       "        True])"
      ]
     },
     "execution_count": 284,
     "metadata": {},
     "output_type": "execute_result"
    }
   ],
   "source": [
    "bmask"
   ]
  },
  {
   "cell_type": "code",
   "execution_count": 285,
   "id": "eee6b069",
   "metadata": {},
   "outputs": [
    {
     "data": {
      "text/plain": [
       "array([[5, 3, 2, 5, 5, 8, 5, 6],\n",
       "       [1, 4, 4, 6, 7, 3, 7, 5]])"
      ]
     },
     "execution_count": 285,
     "metadata": {},
     "output_type": "execute_result"
    }
   ],
   "source": [
    "col_wise_concat_arr[:,bmask]"
   ]
  },
  {
   "cell_type": "code",
   "execution_count": 286,
   "id": "282fee49",
   "metadata": {},
   "outputs": [],
   "source": [
    "bmask1=np.ones((row_wise_concat_arr.shape[0],),dtype=bool)"
   ]
  },
  {
   "cell_type": "code",
   "execution_count": 287,
   "id": "7afa5269",
   "metadata": {},
   "outputs": [
    {
     "data": {
      "text/plain": [
       "array([ True,  True])"
      ]
     },
     "execution_count": 287,
     "metadata": {},
     "output_type": "execute_result"
    }
   ],
   "source": [
    "bmask1"
   ]
  },
  {
   "cell_type": "code",
   "execution_count": 288,
   "id": "0e8b0688",
   "metadata": {},
   "outputs": [
    {
     "ename": "IndexError",
     "evalue": "index 3 is out of bounds for axis 0 with size 2",
     "output_type": "error",
     "traceback": [
      "\u001b[31m---------------------------------------------------------------------------\u001b[39m",
      "\u001b[31mIndexError\u001b[39m                                Traceback (most recent call last)",
      "\u001b[36mCell\u001b[39m\u001b[36m \u001b[39m\u001b[32mIn[288]\u001b[39m\u001b[32m, line 2\u001b[39m\n\u001b[32m      1\u001b[39m bmask1[\u001b[32m1\u001b[39m]=\u001b[38;5;28;01mFalse\u001b[39;00m\n\u001b[32m----> \u001b[39m\u001b[32m2\u001b[39m \u001b[43mbmask1\u001b[49m\u001b[43m[\u001b[49m\u001b[32;43m3\u001b[39;49m\u001b[43m]\u001b[49m=\u001b[38;5;28;01mFalse\u001b[39;00m\n",
      "\u001b[31mIndexError\u001b[39m: index 3 is out of bounds for axis 0 with size 2"
     ]
    }
   ],
   "source": [
    "bmask1[1]=False\n",
    "bmask1[3]=False"
   ]
  },
  {
   "cell_type": "code",
   "execution_count": null,
   "id": "5cc743ed",
   "metadata": {},
   "outputs": [
    {
     "data": {
      "text/plain": [
       "array([ True, False,  True, False])"
      ]
     },
     "execution_count": 158,
     "metadata": {},
     "output_type": "execute_result"
    }
   ],
   "source": [
    "bmask1"
   ]
  },
  {
   "cell_type": "code",
   "execution_count": null,
   "id": "1d44f304",
   "metadata": {},
   "outputs": [
    {
     "data": {
      "text/plain": [
       "array([[1, 4, 1, 3, 3, 2],\n",
       "       [4, 9, 4, 7, 7, 5]])"
      ]
     },
     "execution_count": 162,
     "metadata": {},
     "output_type": "execute_result"
    }
   ],
   "source": [
    "row_wise_concat_arr[bmask1,:]"
   ]
  },
  {
   "cell_type": "code",
   "execution_count": null,
   "id": "465caf79",
   "metadata": {},
   "outputs": [],
   "source": [
    "arr8=arr8.reshape(2,6)"
   ]
  },
  {
   "cell_type": "code",
   "execution_count": null,
   "id": "51691aea",
   "metadata": {},
   "outputs": [],
   "source": []
  },
  {
   "cell_type": "code",
   "execution_count": null,
   "id": "979f82f5",
   "metadata": {},
   "outputs": [
    {
     "data": {
      "text/plain": [
       "array([[ 3, 12, 10, 13, 16, 21],\n",
       "       [21, 17, 20, 40, 33, 37]])"
      ]
     },
     "execution_count": 153,
     "metadata": {},
     "output_type": "execute_result"
    }
   ],
   "source": [
    "arr8"
   ]
  },
  {
   "cell_type": "code",
   "execution_count": null,
   "id": "3e57fd3e",
   "metadata": {},
   "outputs": [],
   "source": [
    "arr8 = np.expand_dims(arr8,axis=1)"
   ]
  },
  {
   "cell_type": "code",
   "execution_count": null,
   "id": "dc8abfd2",
   "metadata": {},
   "outputs": [
    {
     "data": {
      "text/plain": [
       "(2, 1, 6)"
      ]
     },
     "execution_count": 155,
     "metadata": {},
     "output_type": "execute_result"
    }
   ],
   "source": [
    "arr8.shape"
   ]
  },
  {
   "cell_type": "code",
   "execution_count": null,
   "id": "c58dfdf9",
   "metadata": {},
   "outputs": [
    {
     "data": {
      "text/plain": [
       "array([[[ 3, 12, 10, 13, 16, 21]],\n",
       "\n",
       "       [[21, 17, 20, 40, 33, 37]]])"
      ]
     },
     "execution_count": 156,
     "metadata": {},
     "output_type": "execute_result"
    }
   ],
   "source": [
    "arr8"
   ]
  },
  {
   "cell_type": "code",
   "execution_count": null,
   "id": "5766e8dc",
   "metadata": {},
   "outputs": [],
   "source": [
    "arr = np.random.randint(low=0,high=20,size=(1,2,3,4,5))"
   ]
  },
  {
   "cell_type": "code",
   "execution_count": null,
   "id": "94eda01c",
   "metadata": {},
   "outputs": [
    {
     "data": {
      "text/plain": [
       "array([[[[[ 2,  8,  5,  2, 13],\n",
       "          [14, 16,  9, 13, 19],\n",
       "          [ 0, 16, 17,  1,  3],\n",
       "          [11, 17,  2, 19, 18]],\n",
       "\n",
       "         [[14,  7,  2,  5,  6],\n",
       "          [ 0,  3, 12, 12, 14],\n",
       "          [19, 11,  8,  2, 17],\n",
       "          [15, 16,  1, 15, 19]],\n",
       "\n",
       "         [[ 7,  6,  3,  7, 15],\n",
       "          [ 4,  2,  3, 17,  7],\n",
       "          [ 6,  0, 10,  2,  7],\n",
       "          [18,  8,  4,  2, 13]]],\n",
       "\n",
       "\n",
       "        [[[10,  4,  6, 14, 12],\n",
       "          [17,  7,  0, 12, 18],\n",
       "          [11,  2,  6, 11,  1],\n",
       "          [15,  7,  2,  3, 18]],\n",
       "\n",
       "         [[ 7, 19, 17,  2, 17],\n",
       "          [16,  8, 16, 13,  4],\n",
       "          [ 2,  5, 14, 19,  0],\n",
       "          [ 4,  3,  5,  1,  5]],\n",
       "\n",
       "         [[ 4, 19, 14,  7,  8],\n",
       "          [16,  9,  8, 17, 14],\n",
       "          [16,  5, 14,  7, 14],\n",
       "          [ 5, 17,  1,  2,  6]]]]])"
      ]
     },
     "execution_count": 158,
     "metadata": {},
     "output_type": "execute_result"
    }
   ],
   "source": [
    "arr"
   ]
  },
  {
   "cell_type": "code",
   "execution_count": null,
   "id": "aac97122",
   "metadata": {},
   "outputs": [
    {
     "data": {
      "text/plain": [
       "(1, 2, 3, 4, 5)"
      ]
     },
     "execution_count": 159,
     "metadata": {},
     "output_type": "execute_result"
    }
   ],
   "source": [
    "arr.shape"
   ]
  },
  {
   "cell_type": "markdown",
   "metadata": {},
   "source": [
    "Inserting new axes into a NumPy array, concept of ellipsis as well as it's notation."
   ]
  },
  {
   "cell_type": "code",
   "execution_count": null,
   "id": "061239b9",
   "metadata": {},
   "outputs": [],
   "source": [
    "arr = arr[:,:,np.newaxis,...]"
   ]
  },
  {
   "cell_type": "code",
   "execution_count": null,
   "id": "aa7b945d",
   "metadata": {},
   "outputs": [
    {
     "data": {
      "text/plain": [
       "(1, 2, 1, 3, 4, 5)"
      ]
     },
     "execution_count": 161,
     "metadata": {},
     "output_type": "execute_result"
    }
   ],
   "source": [
    "arr.shape"
   ]
  },
  {
   "cell_type": "markdown",
   "id": "20af8092",
   "metadata": {},
   "source": [
    "squeeze = it is used to squeeze the size of an array by removing all 1 ."
   ]
  },
  {
   "cell_type": "code",
   "execution_count": null,
   "id": "631c0000",
   "metadata": {},
   "outputs": [],
   "source": [
    "squeezed_arr=np.squeeze(arr)"
   ]
  },
  {
   "cell_type": "code",
   "execution_count": null,
   "id": "5205042a",
   "metadata": {},
   "outputs": [
    {
     "data": {
      "text/plain": [
       "(2, 3, 4, 5)"
      ]
     },
     "execution_count": 167,
     "metadata": {},
     "output_type": "execute_result"
    }
   ],
   "source": [
    "squeezed_arr.shape"
   ]
  },
  {
   "cell_type": "markdown",
   "id": "09a17eca",
   "metadata": {},
   "source": [
    "ravel = it is used to make a single dimnesion array with all the elements ."
   ]
  },
  {
   "cell_type": "code",
   "execution_count": null,
   "id": "b390d980",
   "metadata": {},
   "outputs": [],
   "source": [
    "flattened_arr = np.ravel(squeezed_arr)"
   ]
  },
  {
   "cell_type": "code",
   "execution_count": null,
   "id": "1e4ae85d",
   "metadata": {},
   "outputs": [
    {
     "data": {
      "text/plain": [
       "(120,)"
      ]
     },
     "execution_count": 169,
     "metadata": {},
     "output_type": "execute_result"
    }
   ],
   "source": [
    "flattened_arr.shape"
   ]
  },
  {
   "cell_type": "markdown",
   "id": "a8af0548",
   "metadata": {},
   "source": [
    "reshape = it is used to reshape an array in different dimensions but the no. of elements should be same."
   ]
  },
  {
   "cell_type": "code",
   "execution_count": null,
   "id": "28ace3fe",
   "metadata": {},
   "outputs": [
    {
     "name": "stderr",
     "output_type": "stream",
     "text": [
      "/tmp/ipykernel_2365/1100543301.py:1: DeprecationWarning: `newshape` keyword argument is deprecated, use `shape=...` or pass shape positionally instead. (deprecated in NumPy 2.1)\n",
      "  reshaped_arr = np.reshape(squeezed_arr,newshape=(3,5,4,1,2))\n"
     ]
    }
   ],
   "source": [
    "reshaped_arr = np.reshape(squeezed_arr,newshape=(3,5,4,1,2))"
   ]
  },
  {
   "cell_type": "code",
   "execution_count": null,
   "id": "8979fd08",
   "metadata": {},
   "outputs": [
    {
     "data": {
      "text/plain": [
       "(3, 5, 4, 1, 2)"
      ]
     },
     "execution_count": 173,
     "metadata": {},
     "output_type": "execute_result"
    }
   ],
   "source": [
    "reshaped_arr.shape"
   ]
  },
  {
   "cell_type": "code",
   "execution_count": null,
   "id": "d4b1b807",
   "metadata": {},
   "outputs": [
    {
     "name": "stderr",
     "output_type": "stream",
     "text": [
      "/tmp/ipykernel_2365/1744322687.py:1: DeprecationWarning: `newshape` keyword argument is deprecated, use `shape=...` or pass shape positionally instead. (deprecated in NumPy 2.1)\n",
      "  reshaped_arr = np.reshape(squeezed_arr,newshape=(15,1,8))\n"
     ]
    }
   ],
   "source": [
    "reshaped_arr = np.reshape(squeezed_arr,newshape=(15,1,8))"
   ]
  },
  {
   "cell_type": "code",
   "execution_count": null,
   "id": "5bd6f44f",
   "metadata": {},
   "outputs": [
    {
     "data": {
      "text/plain": [
       "(15, 1, 8)"
      ]
     },
     "execution_count": 176,
     "metadata": {},
     "output_type": "execute_result"
    }
   ],
   "source": [
    "reshaped_arr.shape"
   ]
  },
  {
   "cell_type": "code",
   "execution_count": null,
   "id": "45b579e9",
   "metadata": {},
   "outputs": [
    {
     "name": "stderr",
     "output_type": "stream",
     "text": [
      "/tmp/ipykernel_2365/4254991431.py:1: DeprecationWarning: `newshape` keyword argument is deprecated, use `shape=...` or pass shape positionally instead. (deprecated in NumPy 2.1)\n",
      "  reshaped_arr = np.reshape(squeezed_arr,newshape=(120,))\n"
     ]
    }
   ],
   "source": [
    "reshaped_arr = np.reshape(squeezed_arr,newshape=(120,))"
   ]
  },
  {
   "cell_type": "code",
   "execution_count": null,
   "id": "809ea354",
   "metadata": {},
   "outputs": [
    {
     "data": {
      "text/plain": [
       "(120,)"
      ]
     },
     "execution_count": 178,
     "metadata": {},
     "output_type": "execute_result"
    }
   ],
   "source": [
    "reshaped_arr.shape"
   ]
  },
  {
   "cell_type": "code",
   "execution_count": null,
   "id": "f7f71b4d",
   "metadata": {},
   "outputs": [],
   "source": [
    "arr = np.random.randint(low=0,hogh=20,size=10)"
   ]
  },
  {
   "cell_type": "code",
   "execution_count": null,
   "id": "160b4de2",
   "metadata": {},
   "outputs": [
    {
     "data": {
      "text/plain": [
       "array([0.25, 0.5 , 1.  , 2.  , 4.  , 8.  ])"
      ]
     },
     "execution_count": 283,
     "metadata": {},
     "output_type": "execute_result"
    }
   ],
   "source": [
    "arr"
   ]
  },
  {
   "cell_type": "markdown",
   "id": "78444078",
   "metadata": {},
   "source": [
    "padding = it is used to add values on the basis of applications. now I have used padding for 1d-array."
   ]
  },
  {
   "cell_type": "code",
   "execution_count": null,
   "id": "65ebc3be",
   "metadata": {},
   "outputs": [],
   "source": [
    "padded_arr=np.pad(arr,pad_width=(0,5),mode='constant',constant_values=0)"
   ]
  },
  {
   "cell_type": "code",
   "execution_count": null,
   "id": "3b236730",
   "metadata": {},
   "outputs": [
    {
     "data": {
      "text/plain": [
       "array([0.25, 0.5 , 1.  , 2.  , 4.  , 8.  , 0.  , 0.  , 0.  , 0.  , 0.  ])"
      ]
     },
     "execution_count": 423,
     "metadata": {},
     "output_type": "execute_result"
    }
   ],
   "source": [
    "padded_arr"
   ]
  },
  {
   "cell_type": "code",
   "execution_count": null,
   "id": "2fa5548b",
   "metadata": {},
   "outputs": [],
   "source": [
    "padded_arr1 = np.pad(arr,pad_width=(5,0),mode='edge')"
   ]
  },
  {
   "cell_type": "code",
   "execution_count": null,
   "id": "918f6827",
   "metadata": {},
   "outputs": [
    {
     "data": {
      "text/plain": [
       "array([0.25, 0.25, 0.25, 0.25, 0.25, 0.25, 0.5 , 1.  , 2.  , 4.  , 8.  ])"
      ]
     },
     "execution_count": 425,
     "metadata": {},
     "output_type": "execute_result"
    }
   ],
   "source": [
    "padded_arr1"
   ]
  },
  {
   "cell_type": "code",
   "execution_count": null,
   "id": "301805e2",
   "metadata": {},
   "outputs": [],
   "source": [
    "padded_arr = np.pad(arr,pad_width=(2,3),mode='linear_ramp',end_values=(0.05,12))"
   ]
  },
  {
   "cell_type": "code",
   "execution_count": null,
   "id": "fe967df7",
   "metadata": {},
   "outputs": [
    {
     "data": {
      "text/plain": [
       "array([ 0.05      ,  0.15      ,  0.25      ,  0.5       ,  1.        ,\n",
       "        2.        ,  4.        ,  8.        ,  9.33333333, 10.66666667,\n",
       "       12.        ])"
      ]
     },
     "execution_count": 427,
     "metadata": {},
     "output_type": "execute_result"
    }
   ],
   "source": [
    "padded_arr"
   ]
  },
  {
   "cell_type": "code",
   "execution_count": null,
   "id": "203a2241",
   "metadata": {},
   "outputs": [],
   "source": [
    "padded_arr = np.pad(arr,pad_width=(3,2),mode='mean')"
   ]
  },
  {
   "cell_type": "code",
   "execution_count": null,
   "id": "0e85ba15",
   "metadata": {},
   "outputs": [
    {
     "data": {
      "text/plain": [
       "array([2.625, 2.625, 2.625, 0.25 , 0.5  , 1.   , 2.   , 4.   , 8.   ,\n",
       "       2.625, 2.625])"
      ]
     },
     "execution_count": 429,
     "metadata": {},
     "output_type": "execute_result"
    }
   ],
   "source": [
    "padded_arr"
   ]
  },
  {
   "cell_type": "code",
   "execution_count": null,
   "id": "54dfaaa8",
   "metadata": {},
   "outputs": [],
   "source": [
    "padded_arr = np.pad(arr,pad_width=(2,3),mode='reflect')"
   ]
  },
  {
   "cell_type": "code",
   "execution_count": null,
   "id": "a382f1fa",
   "metadata": {},
   "outputs": [
    {
     "data": {
      "text/plain": [
       "array([1.  , 0.5 , 0.25, 0.5 , 1.  , 2.  , 4.  , 8.  , 4.  , 2.  , 1.  ])"
      ]
     },
     "execution_count": 432,
     "metadata": {},
     "output_type": "execute_result"
    }
   ],
   "source": [
    "padded_arr"
   ]
  },
  {
   "cell_type": "code",
   "execution_count": 291,
   "id": "87b7ed17",
   "metadata": {},
   "outputs": [],
   "source": [
    "twod_arr = np.random.randint(low = 0 , high = 20 , size= (2,3))"
   ]
  },
  {
   "cell_type": "code",
   "execution_count": 292,
   "id": "c7bc4e96",
   "metadata": {},
   "outputs": [
    {
     "data": {
      "text/plain": [
       "array([[ 0,  3, 19],\n",
       "       [19,  1, 18]])"
      ]
     },
     "execution_count": 292,
     "metadata": {},
     "output_type": "execute_result"
    }
   ],
   "source": [
    "twod_arr"
   ]
  },
  {
   "cell_type": "code",
   "execution_count": 294,
   "id": "b2dbaaae",
   "metadata": {},
   "outputs": [],
   "source": [
    "padded_2d_arr = np.pad(twod_arr, pad_width = ((2,0),(0,0)),mode = 'maximum')"
   ]
  },
  {
   "cell_type": "code",
   "execution_count": 295,
   "id": "16d7636e",
   "metadata": {},
   "outputs": [
    {
     "data": {
      "text/plain": [
       "array([[19,  3, 19],\n",
       "       [19,  3, 19],\n",
       "       [ 0,  3, 19],\n",
       "       [19,  1, 18]])"
      ]
     },
     "execution_count": 295,
     "metadata": {},
     "output_type": "execute_result"
    }
   ],
   "source": [
    "padded_2d_arr"
   ]
  },
  {
   "cell_type": "code",
   "execution_count": 296,
   "id": "95ced0fe",
   "metadata": {},
   "outputs": [],
   "source": [
    "padded_2d_arr = np.pad(twod_arr, pad_width = ((2,0),(3,0)),mode = 'maximum')"
   ]
  },
  {
   "cell_type": "code",
   "execution_count": 297,
   "id": "7c92ec0f",
   "metadata": {},
   "outputs": [
    {
     "data": {
      "text/plain": [
       "array([[19, 19, 19, 19,  3, 19],\n",
       "       [19, 19, 19, 19,  3, 19],\n",
       "       [19, 19, 19,  0,  3, 19],\n",
       "       [19, 19, 19, 19,  1, 18]])"
      ]
     },
     "execution_count": 297,
     "metadata": {},
     "output_type": "execute_result"
    }
   ],
   "source": [
    "padded_2d_arr"
   ]
  },
  {
   "cell_type": "code",
   "execution_count": null,
   "id": "a1ea975c",
   "metadata": {},
   "outputs": [],
   "source": []
  }
 ],
 "metadata": {
  "kernelspec": {
   "display_name": ".venv",
   "language": "python",
   "name": "python3"
  },
  "language_info": {
   "codemirror_mode": {
    "name": "ipython",
    "version": 3
   },
   "file_extension": ".py",
   "mimetype": "text/x-python",
   "name": "python",
   "nbconvert_exporter": "python",
   "pygments_lexer": "ipython3",
   "version": "3.12.3"
  }
 },
 "nbformat": 4,
 "nbformat_minor": 5
}
