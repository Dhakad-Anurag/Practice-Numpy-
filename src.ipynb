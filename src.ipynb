{
 "cells": [
  {
   "cell_type": "code",
   "execution_count": 282,
   "id": "85a08143",
   "metadata": {},
   "outputs": [],
   "source": [
    "import numpy as np "
   ]
  },
  {
   "cell_type": "code",
   "execution_count": 283,
   "id": "08500b18",
   "metadata": {},
   "outputs": [
    {
     "name": "stdout",
     "output_type": "stream",
     "text": [
      "[1 2 3 6 5 4 8 7 9]\n"
     ]
    }
   ],
   "source": [
    "l = [1,2,3,6,5,4,8,7,9]\n",
    "arr = np.array(l)\n",
    "print(arr)"
   ]
  },
  {
   "cell_type": "code",
   "execution_count": 284,
   "id": "599b1d60",
   "metadata": {},
   "outputs": [
    {
     "data": {
      "text/plain": [
       "array([1, 2, 3, 6, 5, 4, 8, 7, 9])"
      ]
     },
     "execution_count": 284,
     "metadata": {},
     "output_type": "execute_result"
    }
   ],
   "source": [
    "arr"
   ]
  },
  {
   "cell_type": "code",
   "execution_count": 285,
   "id": "03da4083",
   "metadata": {},
   "outputs": [],
   "source": [
    "l2 = [[[1,2,3,],[4,5,6,],[7,8,9],[10,11,12]]]"
   ]
  },
  {
   "cell_type": "code",
   "execution_count": 286,
   "id": "b9ad3d55",
   "metadata": {},
   "outputs": [
    {
     "data": {
      "text/plain": [
       "[[[1, 2, 3], [4, 5, 6], [7, 8, 9], [10, 11, 12]]]"
      ]
     },
     "execution_count": 286,
     "metadata": {},
     "output_type": "execute_result"
    }
   ],
   "source": [
    "l2"
   ]
  },
  {
   "cell_type": "code",
   "execution_count": 287,
   "id": "c3bb4b35",
   "metadata": {},
   "outputs": [
    {
     "data": {
      "text/plain": [
       "(1, 4, 3)"
      ]
     },
     "execution_count": 287,
     "metadata": {},
     "output_type": "execute_result"
    }
   ],
   "source": [
    "np.shape(l2)"
   ]
  },
  {
   "cell_type": "code",
   "execution_count": 288,
   "id": "8ea9f4f9",
   "metadata": {},
   "outputs": [
    {
     "data": {
      "text/plain": [
       "array([1, 2, 3, 6, 5, 4, 8, 7, 9])"
      ]
     },
     "execution_count": 288,
     "metadata": {},
     "output_type": "execute_result"
    }
   ],
   "source": [
    "arr"
   ]
  },
  {
   "cell_type": "markdown",
   "id": "992e731b",
   "metadata": {},
   "source": []
  },
  {
   "cell_type": "code",
   "execution_count": 289,
   "id": "d5d25647",
   "metadata": {},
   "outputs": [
    {
     "data": {
      "text/plain": [
       "array([1, 2, 3, 6, 5, 4, 8, 7, 9])"
      ]
     },
     "execution_count": 289,
     "metadata": {},
     "output_type": "execute_result"
    }
   ],
   "source": [
    "arr"
   ]
  },
  {
   "cell_type": "code",
   "execution_count": 290,
   "id": "6d057b83",
   "metadata": {},
   "outputs": [
    {
     "data": {
      "text/plain": [
       "(9,)"
      ]
     },
     "execution_count": 290,
     "metadata": {},
     "output_type": "execute_result"
    }
   ],
   "source": [
    "arr.shape"
   ]
  },
  {
   "cell_type": "code",
   "execution_count": 291,
   "id": "0228118f",
   "metadata": {},
   "outputs": [],
   "source": [
    "l2 = np.reshape(l2,(3,2,2))"
   ]
  },
  {
   "cell_type": "code",
   "execution_count": 292,
   "id": "6f6b6254",
   "metadata": {},
   "outputs": [
    {
     "data": {
      "text/plain": [
       "(3, 2, 2)"
      ]
     },
     "execution_count": 292,
     "metadata": {},
     "output_type": "execute_result"
    }
   ],
   "source": [
    "np.shape(l2)"
   ]
  },
  {
   "cell_type": "code",
   "execution_count": 293,
   "id": "579008d7",
   "metadata": {},
   "outputs": [
    {
     "name": "stdout",
     "output_type": "stream",
     "text": [
      "[[[ 1  2]\n",
      "  [ 3  4]]\n",
      "\n",
      " [[ 5  6]\n",
      "  [ 7  8]]\n",
      "\n",
      " [[ 9 10]\n",
      "  [11 12]]]\n"
     ]
    }
   ],
   "source": [
    "print(l2)"
   ]
  },
  {
   "cell_type": "code",
   "execution_count": 294,
   "id": "c3942731",
   "metadata": {},
   "outputs": [
    {
     "data": {
      "text/plain": [
       "np.int64(3)"
      ]
     },
     "execution_count": 294,
     "metadata": {},
     "output_type": "execute_result"
    }
   ],
   "source": [
    "l2 [0,1,0]"
   ]
  },
  {
   "cell_type": "code",
   "execution_count": 295,
   "id": "a80037b6",
   "metadata": {},
   "outputs": [
    {
     "data": {
      "text/plain": [
       "np.int64(1)"
      ]
     },
     "execution_count": 295,
     "metadata": {},
     "output_type": "execute_result"
    }
   ],
   "source": [
    "l2 [0,0,0]"
   ]
  },
  {
   "cell_type": "code",
   "execution_count": 296,
   "id": "678f486d",
   "metadata": {},
   "outputs": [
    {
     "data": {
      "text/plain": [
       "array([11, 12])"
      ]
     },
     "execution_count": 296,
     "metadata": {},
     "output_type": "execute_result"
    }
   ],
   "source": [
    "l2 [2,1,:]"
   ]
  },
  {
   "cell_type": "code",
   "execution_count": 297,
   "id": "4a81f0c4",
   "metadata": {},
   "outputs": [],
   "source": [
    "l5 = [1,2,3,4,5,6,7,8,9,10]"
   ]
  },
  {
   "cell_type": "code",
   "execution_count": 298,
   "id": "4828e9b4",
   "metadata": {},
   "outputs": [
    {
     "data": {
      "text/plain": [
       "[1, 2, 3, 4, 5, 6, 7, 8, 9, 10]"
      ]
     },
     "execution_count": 298,
     "metadata": {},
     "output_type": "execute_result"
    }
   ],
   "source": [
    "l5"
   ]
  },
  {
   "cell_type": "code",
   "execution_count": 299,
   "id": "4ac1f311",
   "metadata": {},
   "outputs": [
    {
     "data": {
      "text/plain": [
       "[1, 2, 3, 4, 5, 6, 7, 8, 9, 10, 1, 2, 3, 4, 5, 6, 7, 8, 9, 10]"
      ]
     },
     "execution_count": 299,
     "metadata": {},
     "output_type": "execute_result"
    }
   ],
   "source": [
    "l5 * 2"
   ]
  },
  {
   "cell_type": "code",
   "execution_count": 300,
   "id": "b6de3788",
   "metadata": {},
   "outputs": [],
   "source": [
    "l5 = np.array(l5)"
   ]
  },
  {
   "cell_type": "code",
   "execution_count": 301,
   "id": "72bbfe20",
   "metadata": {},
   "outputs": [
    {
     "data": {
      "text/plain": [
       "array([ 1,  2,  3,  4,  5,  6,  7,  8,  9, 10])"
      ]
     },
     "execution_count": 301,
     "metadata": {},
     "output_type": "execute_result"
    }
   ],
   "source": [
    "l5"
   ]
  },
  {
   "cell_type": "code",
   "execution_count": 302,
   "id": "588ec42f",
   "metadata": {},
   "outputs": [
    {
     "data": {
      "text/plain": [
       "(10,)"
      ]
     },
     "execution_count": 302,
     "metadata": {},
     "output_type": "execute_result"
    }
   ],
   "source": [
    "l5.shape"
   ]
  },
  {
   "cell_type": "code",
   "execution_count": 303,
   "id": "a893c2bb",
   "metadata": {},
   "outputs": [],
   "source": [
    "l5 = l5.reshape(5,2)"
   ]
  },
  {
   "cell_type": "code",
   "execution_count": 304,
   "id": "c5e782a0",
   "metadata": {},
   "outputs": [
    {
     "data": {
      "text/plain": [
       "array([[ 1,  2],\n",
       "       [ 3,  4],\n",
       "       [ 5,  6],\n",
       "       [ 7,  8],\n",
       "       [ 9, 10]])"
      ]
     },
     "execution_count": 304,
     "metadata": {},
     "output_type": "execute_result"
    }
   ],
   "source": [
    "l5"
   ]
  },
  {
   "cell_type": "code",
   "execution_count": 305,
   "id": "f33f3c4e",
   "metadata": {},
   "outputs": [],
   "source": [
    "l6 = [1,2,3,4,5,6,7,8,9,10]"
   ]
  },
  {
   "cell_type": "code",
   "execution_count": 306,
   "id": "4205070b",
   "metadata": {},
   "outputs": [],
   "source": [
    "arr=np.array(l6)"
   ]
  },
  {
   "cell_type": "code",
   "execution_count": 307,
   "id": "3b320e0f",
   "metadata": {},
   "outputs": [
    {
     "data": {
      "text/plain": [
       "array([ 1,  2,  3,  4,  5,  6,  7,  8,  9, 10])"
      ]
     },
     "execution_count": 307,
     "metadata": {},
     "output_type": "execute_result"
    }
   ],
   "source": [
    "arr"
   ]
  },
  {
   "cell_type": "code",
   "execution_count": 308,
   "id": "cf18d670",
   "metadata": {},
   "outputs": [
    {
     "data": {
      "text/plain": [
       "array([ 2,  4,  6,  8, 10, 12, 14, 16, 18, 20])"
      ]
     },
     "execution_count": 308,
     "metadata": {},
     "output_type": "execute_result"
    }
   ],
   "source": [
    "arr* 2"
   ]
  },
  {
   "cell_type": "code",
   "execution_count": 309,
   "id": "c3f99346",
   "metadata": {},
   "outputs": [
    {
     "data": {
      "text/plain": [
       "array([ 3,  4,  5,  6,  7,  8,  9, 10, 11, 12])"
      ]
     },
     "execution_count": 309,
     "metadata": {},
     "output_type": "execute_result"
    }
   ],
   "source": [
    "arr + 2"
   ]
  },
  {
   "cell_type": "code",
   "execution_count": 310,
   "id": "1e672f61",
   "metadata": {},
   "outputs": [
    {
     "data": {
      "text/plain": [
       "array([-1,  0,  1,  2,  3,  4,  5,  6,  7,  8])"
      ]
     },
     "execution_count": 310,
     "metadata": {},
     "output_type": "execute_result"
    }
   ],
   "source": [
    "arr - 2"
   ]
  },
  {
   "cell_type": "code",
   "execution_count": 311,
   "id": "7fbf08e8",
   "metadata": {},
   "outputs": [
    {
     "data": {
      "text/plain": [
       "(10,)"
      ]
     },
     "execution_count": 311,
     "metadata": {},
     "output_type": "execute_result"
    }
   ],
   "source": [
    "arr.shape\n"
   ]
  },
  {
   "cell_type": "code",
   "execution_count": 312,
   "id": "a96102c3",
   "metadata": {},
   "outputs": [],
   "source": [
    "arr = arr.reshape(2,5)"
   ]
  },
  {
   "cell_type": "code",
   "execution_count": 313,
   "id": "c776bf6b",
   "metadata": {},
   "outputs": [
    {
     "data": {
      "text/plain": [
       "array([[ 1,  2,  3,  4,  5],\n",
       "       [ 6,  7,  8,  9, 10]])"
      ]
     },
     "execution_count": 313,
     "metadata": {},
     "output_type": "execute_result"
    }
   ],
   "source": [
    "arr\n"
   ]
  },
  {
   "cell_type": "code",
   "execution_count": 314,
   "id": "58680c17",
   "metadata": {},
   "outputs": [],
   "source": [
    "l7 = np.array([1,2,3,4,5,6,7,8,9,10,11,12])"
   ]
  },
  {
   "cell_type": "code",
   "execution_count": 315,
   "id": "af6adb14",
   "metadata": {},
   "outputs": [
    {
     "data": {
      "text/plain": [
       "array([ 1,  2,  3,  4,  5,  6,  7,  8,  9, 10, 11, 12])"
      ]
     },
     "execution_count": 315,
     "metadata": {},
     "output_type": "execute_result"
    }
   ],
   "source": [
    "l7"
   ]
  },
  {
   "cell_type": "code",
   "execution_count": 316,
   "id": "df5c681e",
   "metadata": {},
   "outputs": [
    {
     "data": {
      "text/plain": [
       "(12,)"
      ]
     },
     "execution_count": 316,
     "metadata": {},
     "output_type": "execute_result"
    }
   ],
   "source": [
    "l7.shape"
   ]
  },
  {
   "cell_type": "code",
   "execution_count": 317,
   "id": "104d435d",
   "metadata": {},
   "outputs": [],
   "source": [
    "l8 = np.array([1,8,4,5,6,9,7,1,2,20,11,13])"
   ]
  },
  {
   "cell_type": "code",
   "execution_count": 318,
   "id": "77d046ec",
   "metadata": {},
   "outputs": [
    {
     "data": {
      "text/plain": [
       "array([ 1,  8,  4,  5,  6,  9,  7,  1,  2, 20, 11, 13])"
      ]
     },
     "execution_count": 318,
     "metadata": {},
     "output_type": "execute_result"
    }
   ],
   "source": [
    "l8"
   ]
  },
  {
   "cell_type": "code",
   "execution_count": 319,
   "id": "c9256262",
   "metadata": {},
   "outputs": [
    {
     "data": {
      "text/plain": [
       "(12,)"
      ]
     },
     "execution_count": 319,
     "metadata": {},
     "output_type": "execute_result"
    }
   ],
   "source": [
    "l8.shape"
   ]
  },
  {
   "cell_type": "code",
   "execution_count": 320,
   "id": "d54dd835",
   "metadata": {},
   "outputs": [],
   "source": [
    "l8 = l8.reshape(1,12)"
   ]
  },
  {
   "cell_type": "code",
   "execution_count": 321,
   "id": "5566a5b3",
   "metadata": {},
   "outputs": [
    {
     "data": {
      "text/plain": [
       "(1, 12)"
      ]
     },
     "execution_count": 321,
     "metadata": {},
     "output_type": "execute_result"
    }
   ],
   "source": [
    "l8.shape"
   ]
  },
  {
   "cell_type": "code",
   "execution_count": 322,
   "id": "1b60114e",
   "metadata": {},
   "outputs": [],
   "source": [
    "l9 = l8 + l7"
   ]
  },
  {
   "cell_type": "code",
   "execution_count": 323,
   "id": "702c8a15",
   "metadata": {},
   "outputs": [
    {
     "data": {
      "text/plain": [
       "array([[ 2, 10,  7,  9, 11, 15, 14,  9, 11, 30, 22, 25]])"
      ]
     },
     "execution_count": 323,
     "metadata": {},
     "output_type": "execute_result"
    }
   ],
   "source": [
    "l9 "
   ]
  },
  {
   "cell_type": "code",
   "execution_count": 324,
   "id": "9dd90f80",
   "metadata": {},
   "outputs": [
    {
     "data": {
      "text/plain": [
       "(1, 12)"
      ]
     },
     "execution_count": 324,
     "metadata": {},
     "output_type": "execute_result"
    }
   ],
   "source": [
    "l9.shape"
   ]
  },
  {
   "cell_type": "code",
   "execution_count": 325,
   "id": "4de1f333",
   "metadata": {},
   "outputs": [],
   "source": [
    "l10 = np.array([1,5,8,7,4,6,9,2,3,6,5,4,7,8])"
   ]
  },
  {
   "cell_type": "code",
   "execution_count": 326,
   "id": "9f5c2791",
   "metadata": {},
   "outputs": [
    {
     "data": {
      "text/plain": [
       "array([1, 5, 8, 7, 4, 6, 9, 2, 3, 6, 5, 4, 7, 8])"
      ]
     },
     "execution_count": 326,
     "metadata": {},
     "output_type": "execute_result"
    }
   ],
   "source": [
    "l10"
   ]
  },
  {
   "cell_type": "code",
   "execution_count": 327,
   "id": "efd88145",
   "metadata": {},
   "outputs": [
    {
     "data": {
      "text/plain": [
       "(14,)"
      ]
     },
     "execution_count": 327,
     "metadata": {},
     "output_type": "execute_result"
    }
   ],
   "source": [
    "l10.shape"
   ]
  },
  {
   "cell_type": "code",
   "execution_count": 328,
   "id": "3eb38111",
   "metadata": {},
   "outputs": [],
   "source": [
    "l10 = l10.reshape(14,1)"
   ]
  },
  {
   "cell_type": "code",
   "execution_count": 329,
   "id": "1222c0b5",
   "metadata": {},
   "outputs": [],
   "source": [
    "l11 = l10 + l7"
   ]
  },
  {
   "cell_type": "code",
   "execution_count": 330,
   "id": "34c53ced",
   "metadata": {},
   "outputs": [
    {
     "data": {
      "text/plain": [
       "array([[ 2,  3,  4,  5,  6,  7,  8,  9, 10, 11, 12, 13],\n",
       "       [ 6,  7,  8,  9, 10, 11, 12, 13, 14, 15, 16, 17],\n",
       "       [ 9, 10, 11, 12, 13, 14, 15, 16, 17, 18, 19, 20],\n",
       "       [ 8,  9, 10, 11, 12, 13, 14, 15, 16, 17, 18, 19],\n",
       "       [ 5,  6,  7,  8,  9, 10, 11, 12, 13, 14, 15, 16],\n",
       "       [ 7,  8,  9, 10, 11, 12, 13, 14, 15, 16, 17, 18],\n",
       "       [10, 11, 12, 13, 14, 15, 16, 17, 18, 19, 20, 21],\n",
       "       [ 3,  4,  5,  6,  7,  8,  9, 10, 11, 12, 13, 14],\n",
       "       [ 4,  5,  6,  7,  8,  9, 10, 11, 12, 13, 14, 15],\n",
       "       [ 7,  8,  9, 10, 11, 12, 13, 14, 15, 16, 17, 18],\n",
       "       [ 6,  7,  8,  9, 10, 11, 12, 13, 14, 15, 16, 17],\n",
       "       [ 5,  6,  7,  8,  9, 10, 11, 12, 13, 14, 15, 16],\n",
       "       [ 8,  9, 10, 11, 12, 13, 14, 15, 16, 17, 18, 19],\n",
       "       [ 9, 10, 11, 12, 13, 14, 15, 16, 17, 18, 19, 20]])"
      ]
     },
     "execution_count": 330,
     "metadata": {},
     "output_type": "execute_result"
    }
   ],
   "source": [
    "l11"
   ]
  },
  {
   "cell_type": "code",
   "execution_count": 331,
   "id": "8fbff51f",
   "metadata": {},
   "outputs": [],
   "source": [
    "l12 = np.array([1,2,3,4,5,6,7,8,9,10,11,12,13,14,15,16,17,18,19,20,21,22,23,24])"
   ]
  },
  {
   "cell_type": "code",
   "execution_count": 332,
   "id": "a0516566",
   "metadata": {},
   "outputs": [],
   "source": [
    "l12 = l12.reshape(2,12)"
   ]
  },
  {
   "cell_type": "code",
   "execution_count": 333,
   "id": "0ef10b4e",
   "metadata": {},
   "outputs": [],
   "source": [
    "l13 = l12 + l7"
   ]
  },
  {
   "cell_type": "code",
   "execution_count": 334,
   "id": "a2a3617c",
   "metadata": {},
   "outputs": [
    {
     "data": {
      "text/plain": [
       "(2, 12)"
      ]
     },
     "execution_count": 334,
     "metadata": {},
     "output_type": "execute_result"
    }
   ],
   "source": [
    "l13.shape"
   ]
  },
  {
   "cell_type": "code",
   "execution_count": 335,
   "id": "2a2b21af",
   "metadata": {},
   "outputs": [],
   "source": [
    "l12 = l12.reshape(2,12)"
   ]
  },
  {
   "cell_type": "code",
   "execution_count": 336,
   "id": "9b27237f",
   "metadata": {},
   "outputs": [],
   "source": [
    "l13 = l7 + l12"
   ]
  },
  {
   "cell_type": "markdown",
   "id": "5691f180",
   "metadata": {},
   "source": [
    "to add two matrix(array) we have to make their y-axis or columns of same value."
   ]
  },
  {
   "cell_type": "code",
   "execution_count": 337,
   "id": "a59d78ed",
   "metadata": {},
   "outputs": [
    {
     "data": {
      "text/plain": [
       "array([[ 2,  4,  6,  8, 10, 12, 14, 16, 18, 20, 22, 24],\n",
       "       [14, 16, 18, 20, 22, 24, 26, 28, 30, 32, 34, 36]])"
      ]
     },
     "execution_count": 337,
     "metadata": {},
     "output_type": "execute_result"
    }
   ],
   "source": [
    "l13"
   ]
  },
  {
   "cell_type": "code",
   "execution_count": 338,
   "id": "7a311702",
   "metadata": {},
   "outputs": [
    {
     "data": {
      "text/plain": [
       "(12,)"
      ]
     },
     "execution_count": 338,
     "metadata": {},
     "output_type": "execute_result"
    }
   ],
   "source": [
    "l7.shape"
   ]
  },
  {
   "cell_type": "code",
   "execution_count": 339,
   "id": "3b90e847",
   "metadata": {},
   "outputs": [
    {
     "data": {
      "text/plain": [
       "(2, 12)"
      ]
     },
     "execution_count": 339,
     "metadata": {},
     "output_type": "execute_result"
    }
   ],
   "source": [
    "l12.shape"
   ]
  },
  {
   "cell_type": "code",
   "execution_count": 340,
   "id": "6fbacd72",
   "metadata": {},
   "outputs": [
    {
     "data": {
      "text/plain": [
       "(1, 12)"
      ]
     },
     "execution_count": 340,
     "metadata": {},
     "output_type": "execute_result"
    }
   ],
   "source": [
    "l9.shape"
   ]
  },
  {
   "cell_type": "code",
   "execution_count": 341,
   "id": "9363b45b",
   "metadata": {},
   "outputs": [],
   "source": [
    "arr1=l9+l12"
   ]
  },
  {
   "cell_type": "code",
   "execution_count": 342,
   "id": "5c9d9cde",
   "metadata": {},
   "outputs": [
    {
     "data": {
      "text/plain": [
       "array([[ 3, 12, 10, 13, 16, 21, 21, 17, 20, 40, 33, 37],\n",
       "       [15, 24, 22, 25, 28, 33, 33, 29, 32, 52, 45, 49]])"
      ]
     },
     "execution_count": 342,
     "metadata": {},
     "output_type": "execute_result"
    }
   ],
   "source": [
    "arr1"
   ]
  },
  {
   "cell_type": "code",
   "execution_count": 343,
   "id": "d9bb9a02",
   "metadata": {},
   "outputs": [],
   "source": [
    "arr3=l9.reshape(1,12)"
   ]
  },
  {
   "cell_type": "code",
   "execution_count": 344,
   "id": "a202de28",
   "metadata": {},
   "outputs": [
    {
     "data": {
      "text/plain": [
       "array([[ 2, 10,  7,  9, 11, 15, 14,  9, 11, 30, 22, 25]])"
      ]
     },
     "execution_count": 344,
     "metadata": {},
     "output_type": "execute_result"
    }
   ],
   "source": [
    "arr3"
   ]
  },
  {
   "cell_type": "code",
   "execution_count": 345,
   "id": "7addc66c",
   "metadata": {},
   "outputs": [
    {
     "data": {
      "text/plain": [
       "(1, 12)"
      ]
     },
     "execution_count": 345,
     "metadata": {},
     "output_type": "execute_result"
    }
   ],
   "source": [
    "arr3.shape\n"
   ]
  },
  {
   "cell_type": "code",
   "execution_count": 346,
   "id": "f92e5808",
   "metadata": {},
   "outputs": [],
   "source": [
    "arr2 = l9+l7"
   ]
  },
  {
   "cell_type": "code",
   "execution_count": 347,
   "id": "81763a67",
   "metadata": {},
   "outputs": [
    {
     "data": {
      "text/plain": [
       "array([[ 3, 12, 10, 13, 16, 21, 21, 17, 20, 40, 33, 37]])"
      ]
     },
     "execution_count": 347,
     "metadata": {},
     "output_type": "execute_result"
    }
   ],
   "source": [
    "arr2"
   ]
  },
  {
   "cell_type": "code",
   "execution_count": 348,
   "id": "3b48fcb7",
   "metadata": {},
   "outputs": [
    {
     "data": {
      "text/plain": [
       "(12,)"
      ]
     },
     "execution_count": 348,
     "metadata": {},
     "output_type": "execute_result"
    }
   ],
   "source": [
    "l7.shape"
   ]
  },
  {
   "cell_type": "code",
   "execution_count": 349,
   "id": "7d11300a",
   "metadata": {},
   "outputs": [],
   "source": [
    "arr4=l7+l9"
   ]
  },
  {
   "cell_type": "code",
   "execution_count": 350,
   "id": "1476814c",
   "metadata": {},
   "outputs": [
    {
     "data": {
      "text/plain": [
       "array([[ 3, 12, 10, 13, 16, 21, 21, 17, 20, 40, 33, 37]])"
      ]
     },
     "execution_count": 350,
     "metadata": {},
     "output_type": "execute_result"
    }
   ],
   "source": [
    "arr4"
   ]
  },
  {
   "cell_type": "code",
   "execution_count": 351,
   "id": "e83d8681",
   "metadata": {},
   "outputs": [],
   "source": [
    "arr5 = arr4+arr3"
   ]
  },
  {
   "cell_type": "code",
   "execution_count": 352,
   "id": "49108057",
   "metadata": {},
   "outputs": [
    {
     "data": {
      "text/plain": [
       "array([[ 5, 22, 17, 22, 27, 36, 35, 26, 31, 70, 55, 62]])"
      ]
     },
     "execution_count": 352,
     "metadata": {},
     "output_type": "execute_result"
    }
   ],
   "source": [
    "arr5"
   ]
  },
  {
   "cell_type": "code",
   "execution_count": 353,
   "id": "c6788411",
   "metadata": {},
   "outputs": [],
   "source": [
    "arr6=l9.reshape(2,6)    "
   ]
  },
  {
   "cell_type": "code",
   "execution_count": 354,
   "id": "adf294c6",
   "metadata": {},
   "outputs": [],
   "source": [
    "arr7=l7.reshape(2,6)"
   ]
  },
  {
   "cell_type": "code",
   "execution_count": 355,
   "id": "87663de4",
   "metadata": {},
   "outputs": [],
   "source": [
    "arr8=arr6+arr7"
   ]
  },
  {
   "cell_type": "code",
   "execution_count": 356,
   "id": "4a1074f8",
   "metadata": {},
   "outputs": [
    {
     "data": {
      "text/plain": [
       "array([[ 3, 12, 10, 13, 16, 21],\n",
       "       [21, 17, 20, 40, 33, 37]])"
      ]
     },
     "execution_count": 356,
     "metadata": {},
     "output_type": "execute_result"
    }
   ],
   "source": [
    "arr8"
   ]
  },
  {
   "cell_type": "markdown",
   "id": "c4cda1cb",
   "metadata": {},
   "source": [
    "zeros = it is used to make an array of values = 0"
   ]
  },
  {
   "cell_type": "code",
   "execution_count": 357,
   "id": "9bbaee7d",
   "metadata": {},
   "outputs": [],
   "source": [
    "arr9 = np.zeros((2,10))"
   ]
  },
  {
   "cell_type": "code",
   "execution_count": null,
   "id": "91f9163e",
   "metadata": {},
   "outputs": [],
   "source": []
  },
  {
   "cell_type": "code",
   "execution_count": 358,
   "id": "489c75b5",
   "metadata": {},
   "outputs": [
    {
     "data": {
      "text/plain": [
       "array([[0., 0., 0., 0., 0., 0., 0., 0., 0., 0.],\n",
       "       [0., 0., 0., 0., 0., 0., 0., 0., 0., 0.]])"
      ]
     },
     "execution_count": 358,
     "metadata": {},
     "output_type": "execute_result"
    }
   ],
   "source": [
    "arr9"
   ]
  },
  {
   "cell_type": "code",
   "execution_count": 359,
   "id": "dd135266",
   "metadata": {},
   "outputs": [],
   "source": [
    "arr9=np.zeros((5,10),dtype=int)\n"
   ]
  },
  {
   "cell_type": "code",
   "execution_count": 360,
   "id": "40039d7f",
   "metadata": {},
   "outputs": [
    {
     "data": {
      "text/plain": [
       "array([[0, 0, 0, 0, 0, 0, 0, 0, 0, 0],\n",
       "       [0, 0, 0, 0, 0, 0, 0, 0, 0, 0],\n",
       "       [0, 0, 0, 0, 0, 0, 0, 0, 0, 0],\n",
       "       [0, 0, 0, 0, 0, 0, 0, 0, 0, 0],\n",
       "       [0, 0, 0, 0, 0, 0, 0, 0, 0, 0]])"
      ]
     },
     "execution_count": 360,
     "metadata": {},
     "output_type": "execute_result"
    }
   ],
   "source": [
    "arr9"
   ]
  },
  {
   "cell_type": "markdown",
   "id": "093edf01",
   "metadata": {},
   "source": [
    "ones = it is used to generate an array of ony unit digits ."
   ]
  },
  {
   "cell_type": "code",
   "execution_count": 361,
   "id": "2896a189",
   "metadata": {},
   "outputs": [],
   "source": [
    "arr = np.ones((9,15))"
   ]
  },
  {
   "cell_type": "code",
   "execution_count": 362,
   "id": "e714ce2f",
   "metadata": {},
   "outputs": [
    {
     "data": {
      "text/plain": [
       "array([[1., 1., 1., 1., 1., 1., 1., 1., 1., 1., 1., 1., 1., 1., 1.],\n",
       "       [1., 1., 1., 1., 1., 1., 1., 1., 1., 1., 1., 1., 1., 1., 1.],\n",
       "       [1., 1., 1., 1., 1., 1., 1., 1., 1., 1., 1., 1., 1., 1., 1.],\n",
       "       [1., 1., 1., 1., 1., 1., 1., 1., 1., 1., 1., 1., 1., 1., 1.],\n",
       "       [1., 1., 1., 1., 1., 1., 1., 1., 1., 1., 1., 1., 1., 1., 1.],\n",
       "       [1., 1., 1., 1., 1., 1., 1., 1., 1., 1., 1., 1., 1., 1., 1.],\n",
       "       [1., 1., 1., 1., 1., 1., 1., 1., 1., 1., 1., 1., 1., 1., 1.],\n",
       "       [1., 1., 1., 1., 1., 1., 1., 1., 1., 1., 1., 1., 1., 1., 1.],\n",
       "       [1., 1., 1., 1., 1., 1., 1., 1., 1., 1., 1., 1., 1., 1., 1.]])"
      ]
     },
     "execution_count": 362,
     "metadata": {},
     "output_type": "execute_result"
    }
   ],
   "source": [
    "arr"
   ]
  },
  {
   "cell_type": "markdown",
   "id": "351a1eae",
   "metadata": {},
   "source": [
    "empty = it is used to get an array of randomly generated values or garbage values ."
   ]
  },
  {
   "cell_type": "code",
   "execution_count": 363,
   "id": "7bdea4af",
   "metadata": {},
   "outputs": [],
   "source": [
    "arr = np.empty((4,6))"
   ]
  },
  {
   "cell_type": "code",
   "execution_count": 364,
   "id": "aa66d3e3",
   "metadata": {},
   "outputs": [
    {
     "data": {
      "text/plain": [
       "array([[3.41226651e-315, 0.00000000e+000, 3.45845952e-323,\n",
       "        4.44659081e-323, 5.43472210e-323, 7.41098469e-323],\n",
       "       [6.91691904e-323, 4.44659081e-323, 5.43472210e-323,\n",
       "        1.48219694e-322, 1.08694442e-322, 1.23516411e-322],\n",
       "       [9.88131292e-324, 4.94065646e-323, 3.45845952e-323,\n",
       "        4.44659081e-323, 5.43472210e-323, 7.41098469e-323],\n",
       "       [6.91691904e-323, 4.44659081e-323, 5.43472210e-323,\n",
       "        1.48219694e-322, 1.08694442e-322, 1.23516411e-322]])"
      ]
     },
     "execution_count": 364,
     "metadata": {},
     "output_type": "execute_result"
    }
   ],
   "source": [
    "arr"
   ]
  },
  {
   "cell_type": "code",
   "execution_count": 365,
   "id": "3205ef36",
   "metadata": {},
   "outputs": [],
   "source": [
    "arr = np.empty((4,6),dtype=int)"
   ]
  },
  {
   "cell_type": "code",
   "execution_count": 366,
   "id": "80fc1490",
   "metadata": {},
   "outputs": [
    {
     "data": {
      "text/plain": [
       "array([[690650430,         0,         7,         9,        11,        15],\n",
       "       [       14,         9,        11,        30,        22,        25],\n",
       "       [        2,        10,         7,         9,        11,        15],\n",
       "       [       14,         9,        11,        30,        22,        25]])"
      ]
     },
     "execution_count": 366,
     "metadata": {},
     "output_type": "execute_result"
    }
   ],
   "source": [
    "arr "
   ]
  },
  {
   "cell_type": "markdown",
   "id": "32f89f4d",
   "metadata": {},
   "source": [
    "arange = it is used to get an array of desired staring point & ending point with how much differnce we want in the two values ."
   ]
  },
  {
   "cell_type": "code",
   "execution_count": 367,
   "id": "317fa2a2",
   "metadata": {},
   "outputs": [],
   "source": [
    "arr = np.arange(0,20,2.5,dtype=np.float64)"
   ]
  },
  {
   "cell_type": "code",
   "execution_count": 368,
   "id": "53bdacde",
   "metadata": {},
   "outputs": [
    {
     "data": {
      "text/plain": [
       "array([ 0. ,  2.5,  5. ,  7.5, 10. , 12.5, 15. , 17.5])"
      ]
     },
     "execution_count": 368,
     "metadata": {},
     "output_type": "execute_result"
    }
   ],
   "source": [
    "arr"
   ]
  },
  {
   "cell_type": "markdown",
   "id": "439f35d3",
   "metadata": {},
   "source": [
    "linspace = it is used to make an array of desired staring point & ending point with how much values we want then the funtion will generate the gap itself according to the values "
   ]
  },
  {
   "cell_type": "code",
   "execution_count": 369,
   "id": "bb015bf9",
   "metadata": {},
   "outputs": [],
   "source": [
    "arr = np.linspace(0,10,20)"
   ]
  },
  {
   "cell_type": "code",
   "execution_count": 370,
   "id": "1ba7249f",
   "metadata": {},
   "outputs": [
    {
     "data": {
      "text/plain": [
       "array([ 0.        ,  0.52631579,  1.05263158,  1.57894737,  2.10526316,\n",
       "        2.63157895,  3.15789474,  3.68421053,  4.21052632,  4.73684211,\n",
       "        5.26315789,  5.78947368,  6.31578947,  6.84210526,  7.36842105,\n",
       "        7.89473684,  8.42105263,  8.94736842,  9.47368421, 10.        ])"
      ]
     },
     "execution_count": 370,
     "metadata": {},
     "output_type": "execute_result"
    }
   ],
   "source": [
    "arr"
   ]
  },
  {
   "cell_type": "code",
   "execution_count": 371,
   "id": "65f75694",
   "metadata": {},
   "outputs": [],
   "source": [
    "arr = np.random.binomial(n=6,p=0.6,size=(2,5))"
   ]
  },
  {
   "cell_type": "code",
   "execution_count": 372,
   "id": "a7341530",
   "metadata": {},
   "outputs": [
    {
     "data": {
      "text/plain": [
       "array([[3, 4, 2, 3, 6],\n",
       "       [3, 3, 4, 3, 3]])"
      ]
     },
     "execution_count": 372,
     "metadata": {},
     "output_type": "execute_result"
    }
   ],
   "source": [
    "arr"
   ]
  },
  {
   "cell_type": "code",
   "execution_count": 373,
   "id": "b55a446f",
   "metadata": {},
   "outputs": [],
   "source": [
    "arr = np.random.binomial(n=1,p=0.5,size=(2,5))"
   ]
  },
  {
   "cell_type": "code",
   "execution_count": 374,
   "id": "44a08abb",
   "metadata": {},
   "outputs": [
    {
     "data": {
      "text/plain": [
       "array([[1, 0, 1, 0, 1],\n",
       "       [0, 0, 0, 0, 1]])"
      ]
     },
     "execution_count": 374,
     "metadata": {},
     "output_type": "execute_result"
    }
   ],
   "source": [
    "arr"
   ]
  },
  {
   "cell_type": "code",
   "execution_count": 375,
   "id": "6fcbe2d3",
   "metadata": {},
   "outputs": [],
   "source": [
    "arr = np.random.multivariate_normal(mean=[1,1,1,1],cov=[[1,0,0,0],[0,1,0,0],[0,0,1,0],[0,0,0,1]],size=10)"
   ]
  },
  {
   "cell_type": "code",
   "execution_count": 376,
   "id": "0a08cc60",
   "metadata": {},
   "outputs": [
    {
     "data": {
      "text/plain": [
       "array([[ 0.14866294,  0.02464287,  0.50390094,  1.57115619],\n",
       "       [-0.63866401,  0.1908379 , -0.12852847,  1.65849887],\n",
       "       [ 0.38280709,  0.4159401 ,  0.95520752,  0.41145845],\n",
       "       [ 1.60051212,  0.52691369,  1.96858865,  1.84938518],\n",
       "       [ 0.42513917,  1.33596078,  2.23289597,  2.36532669],\n",
       "       [ 1.21098887,  2.1633827 ,  1.73931912,  1.456684  ],\n",
       "       [ 0.9573995 ,  2.09811065, -0.29884006,  1.76287464],\n",
       "       [ 0.76063682,  1.32087964, -0.05144735, -1.39190681],\n",
       "       [ 0.46232182, -1.26124735,  3.73589214,  3.81059047],\n",
       "       [ 1.66505572,  0.8961683 ,  1.06984235, -0.49096326]])"
      ]
     },
     "execution_count": 376,
     "metadata": {},
     "output_type": "execute_result"
    }
   ],
   "source": [
    "arr"
   ]
  },
  {
   "cell_type": "code",
   "execution_count": 377,
   "id": "e57d3219",
   "metadata": {},
   "outputs": [],
   "source": [
    "arr = np.random.multivariate_normal(mean=[1,2,3,4],cov=[[1,0,0,0],[0,2,0,0],[0,0,3,0],[0,0,0,4]],size=10)"
   ]
  },
  {
   "cell_type": "code",
   "execution_count": 378,
   "id": "cdaba28b",
   "metadata": {},
   "outputs": [
    {
     "data": {
      "text/plain": [
       "array([[-0.53789742,  1.16184096,  5.88389001,  6.47036124],\n",
       "       [ 2.22115409,  3.98847609,  2.25379449,  3.80753881],\n",
       "       [ 1.16593499,  0.56289758,  4.06843929,  6.38516876],\n",
       "       [ 1.03492727,  1.87015083,  2.88990033,  4.0061404 ],\n",
       "       [ 0.91295045,  4.31013777,  3.16615244,  2.2156363 ],\n",
       "       [-0.05289387,  3.62091873,  4.85864223,  3.22426713],\n",
       "       [ 2.69047679,  2.7036602 ,  3.26152832, -1.04760333],\n",
       "       [-0.28340622,  1.87285396,  3.59400957,  3.07245072],\n",
       "       [ 0.25586328,  0.77295125,  5.28466679,  3.60576044],\n",
       "       [ 3.17127827,  0.94228242,  1.21901601,  1.11496745]])"
      ]
     },
     "execution_count": 378,
     "metadata": {},
     "output_type": "execute_result"
    }
   ],
   "source": [
    "arr"
   ]
  },
  {
   "cell_type": "code",
   "execution_count": 379,
   "id": "4c81fa76",
   "metadata": {},
   "outputs": [],
   "source": [
    "arr = np.random.normal(loc=5,scale=1,size=(2,10))"
   ]
  },
  {
   "cell_type": "code",
   "execution_count": 380,
   "id": "4b8028cb",
   "metadata": {},
   "outputs": [
    {
     "data": {
      "text/plain": [
       "array([[8.19969489, 3.8426347 , 5.32362341, 5.27904507, 6.02007175,\n",
       "        4.77851073, 3.44154424, 2.02353303, 5.69915967, 6.06119028],\n",
       "       [5.20401387, 4.03903287, 6.55815203, 6.37355379, 4.33041633,\n",
       "        5.46250318, 4.83051678, 4.30960458, 6.86180886, 5.36932012]])"
      ]
     },
     "execution_count": 380,
     "metadata": {},
     "output_type": "execute_result"
    }
   ],
   "source": [
    "arr"
   ]
  },
  {
   "cell_type": "code",
   "execution_count": 381,
   "id": "e7beee8d",
   "metadata": {},
   "outputs": [],
   "source": [
    "arr_mean=np.mean(arr)"
   ]
  },
  {
   "cell_type": "code",
   "execution_count": 382,
   "id": "3e59e668",
   "metadata": {},
   "outputs": [
    {
     "data": {
      "text/plain": [
       "np.float64(5.200396509189586)"
      ]
     },
     "execution_count": 382,
     "metadata": {},
     "output_type": "execute_result"
    }
   ],
   "source": [
    "arr_mean"
   ]
  },
  {
   "cell_type": "code",
   "execution_count": 383,
   "id": "44ff1ba8",
   "metadata": {},
   "outputs": [],
   "source": [
    "arr = np.random.rand(10,10)"
   ]
  },
  {
   "cell_type": "code",
   "execution_count": 384,
   "id": "1242be79",
   "metadata": {},
   "outputs": [
    {
     "data": {
      "text/plain": [
       "array([[0.21978351, 0.95037445, 0.33043834, 0.94886661, 0.7912786 ,\n",
       "        0.43778741, 0.88115627, 0.15784313, 0.29190133, 0.85333346],\n",
       "       [0.6271916 , 0.62953506, 0.56156561, 0.67203983, 0.66776386,\n",
       "        0.46712903, 0.77952818, 0.09907942, 0.1324157 , 0.35000498],\n",
       "       [0.45246993, 0.06502265, 0.81455651, 0.78459797, 0.02484497,\n",
       "        0.88464824, 0.80875678, 0.6872838 , 0.52415564, 0.23914021],\n",
       "       [0.66009188, 0.89991038, 0.23660976, 0.15500458, 0.11234873,\n",
       "        0.86979467, 0.18316023, 0.56803896, 0.18981628, 0.99725185],\n",
       "       [0.68550752, 0.15496386, 0.88467077, 0.10190239, 0.4274257 ,\n",
       "        0.04127602, 0.7481601 , 0.7303438 , 0.29443467, 0.81368905],\n",
       "       [0.88156426, 0.63444414, 0.97433719, 0.80470319, 0.59931479,\n",
       "        0.29386937, 0.01151026, 0.60217153, 0.44917104, 0.15431239],\n",
       "       [0.3798101 , 0.20142986, 0.09590532, 0.48092518, 0.30587174,\n",
       "        0.73906771, 0.21804916, 0.31386501, 0.85647041, 0.16423052],\n",
       "       [0.91555142, 0.8690157 , 0.50080362, 0.60929671, 0.07010439,\n",
       "        0.65720678, 0.91637201, 0.58824589, 0.17173688, 0.03567039],\n",
       "       [0.53220529, 0.10238415, 0.33989683, 0.2635322 , 0.10756513,\n",
       "        0.99900285, 0.57334987, 0.44841555, 0.25718073, 0.65861727],\n",
       "       [0.76728712, 0.09408473, 0.90648002, 0.87972791, 0.46258135,\n",
       "        0.55561311, 0.08604327, 0.29870348, 0.22268268, 0.19361285]])"
      ]
     },
     "execution_count": 384,
     "metadata": {},
     "output_type": "execute_result"
    }
   ],
   "source": [
    "arr"
   ]
  },
  {
   "cell_type": "code",
   "execution_count": 385,
   "id": "79125df2",
   "metadata": {},
   "outputs": [],
   "source": [
    "arr = np.random.randint(low=10,high=25,size= (2,20))"
   ]
  },
  {
   "cell_type": "code",
   "execution_count": 386,
   "id": "8f7a37a2",
   "metadata": {},
   "outputs": [
    {
     "data": {
      "text/plain": [
       "array([[22, 23, 24, 16, 16, 19, 22, 22, 11, 21, 15, 20, 23, 24, 23, 18,\n",
       "        11, 11, 18, 24],\n",
       "       [17, 23, 22, 16, 19, 22, 14, 22, 12, 24, 17, 13, 19, 22, 15, 24,\n",
       "        21, 10, 19, 11]])"
      ]
     },
     "execution_count": 386,
     "metadata": {},
     "output_type": "execute_result"
    }
   ],
   "source": [
    "arr"
   ]
  },
  {
   "cell_type": "code",
   "execution_count": 387,
   "id": "35378ecf",
   "metadata": {},
   "outputs": [],
   "source": [
    "arr = np.random.randn(5,10)"
   ]
  },
  {
   "cell_type": "code",
   "execution_count": 388,
   "id": "6b81a6e1",
   "metadata": {},
   "outputs": [
    {
     "data": {
      "text/plain": [
       "array([[-0.75965406, -0.06075627,  0.17658153,  2.0109514 , -1.23881906,\n",
       "        -0.045079  ,  0.27099334,  1.00131579, -0.8595411 , -1.40781386],\n",
       "       [-1.17851477, -1.7311759 ,  1.04190929, -0.84852339,  1.53838227,\n",
       "        -0.74505216, -0.06478155,  0.09340188,  0.33380268, -0.30090695],\n",
       "       [-1.05087001,  0.62153413, -0.26470838, -0.02468429, -1.45145214,\n",
       "         0.47833348, -0.59831426, -0.15804824, -1.05845022,  0.2201029 ],\n",
       "       [ 0.46415806, -0.9818828 , -0.29137569,  0.1903588 , -0.15067719,\n",
       "        -0.87293023,  0.7557026 ,  0.17231886, -0.57159796,  0.62169576],\n",
       "       [-0.95204688, -1.04381132, -1.07817691,  1.12485877, -2.43791794,\n",
       "        -0.69460038,  0.16876106,  0.35573139, -1.22046557, -0.32510721]])"
      ]
     },
     "execution_count": 388,
     "metadata": {},
     "output_type": "execute_result"
    }
   ],
   "source": [
    "arr"
   ]
  },
  {
   "cell_type": "code",
   "execution_count": 389,
   "id": "fa01ccfe",
   "metadata": {},
   "outputs": [],
   "source": [
    "c = []"
   ]
  },
  {
   "cell_type": "code",
   "execution_count": 390,
   "id": "ea09f82e",
   "metadata": {},
   "outputs": [],
   "source": [
    "arr = np.array(c)"
   ]
  },
  {
   "cell_type": "code",
   "execution_count": 391,
   "id": "b9df5a74",
   "metadata": {},
   "outputs": [
    {
     "data": {
      "text/plain": [
       "array([], dtype=float64)"
      ]
     },
     "execution_count": 391,
     "metadata": {},
     "output_type": "execute_result"
    }
   ],
   "source": [
    "arr"
   ]
  },
  {
   "cell_type": "code",
   "execution_count": 392,
   "id": "58a8824c",
   "metadata": {},
   "outputs": [],
   "source": [
    "arr = np.zeros((0,0))"
   ]
  },
  {
   "cell_type": "code",
   "execution_count": 393,
   "id": "d8df6b16",
   "metadata": {},
   "outputs": [
    {
     "data": {
      "text/plain": [
       "array([], shape=(0, 0), dtype=float64)"
      ]
     },
     "execution_count": 393,
     "metadata": {},
     "output_type": "execute_result"
    }
   ],
   "source": [
    "arr"
   ]
  },
  {
   "cell_type": "code",
   "execution_count": 394,
   "id": "8921bbef",
   "metadata": {},
   "outputs": [],
   "source": [
    "arr = np.array((x:=[2,4,5,1,7,8,6,9,6,4]))"
   ]
  },
  {
   "cell_type": "code",
   "execution_count": 395,
   "id": "253b7cad",
   "metadata": {},
   "outputs": [
    {
     "data": {
      "text/plain": [
       "array([2, 4, 5, 1, 7, 8, 6, 9, 6, 4])"
      ]
     },
     "execution_count": 395,
     "metadata": {},
     "output_type": "execute_result"
    }
   ],
   "source": [
    "arr"
   ]
  },
  {
   "cell_type": "markdown",
   "id": "4ecc016c",
   "metadata": {},
   "source": [
    "eye - it create a numpy array having ones at diagonals."
   ]
  },
  {
   "cell_type": "code",
   "execution_count": 396,
   "id": "95002011",
   "metadata": {},
   "outputs": [],
   "source": [
    "arr = np.eye(3)"
   ]
  },
  {
   "cell_type": "code",
   "execution_count": 397,
   "id": "529d3de2",
   "metadata": {},
   "outputs": [
    {
     "data": {
      "text/plain": [
       "array([[1., 0., 0.],\n",
       "       [0., 1., 0.],\n",
       "       [0., 0., 1.]])"
      ]
     },
     "execution_count": 397,
     "metadata": {},
     "output_type": "execute_result"
    }
   ],
   "source": [
    "arr"
   ]
  },
  {
   "cell_type": "code",
   "execution_count": 398,
   "id": "983a1051",
   "metadata": {},
   "outputs": [],
   "source": [
    "arr = np.eye(5,6)"
   ]
  },
  {
   "cell_type": "code",
   "execution_count": 399,
   "id": "a78d1997",
   "metadata": {},
   "outputs": [
    {
     "data": {
      "text/plain": [
       "array([[1., 0., 0., 0., 0., 0.],\n",
       "       [0., 1., 0., 0., 0., 0.],\n",
       "       [0., 0., 1., 0., 0., 0.],\n",
       "       [0., 0., 0., 1., 0., 0.],\n",
       "       [0., 0., 0., 0., 1., 0.]])"
      ]
     },
     "execution_count": 399,
     "metadata": {},
     "output_type": "execute_result"
    }
   ],
   "source": [
    "arr"
   ]
  },
  {
   "cell_type": "code",
   "execution_count": 400,
   "id": "09744240",
   "metadata": {},
   "outputs": [],
   "source": [
    "arr = np.eye(6,4)"
   ]
  },
  {
   "cell_type": "code",
   "execution_count": 401,
   "id": "23efc20b",
   "metadata": {},
   "outputs": [
    {
     "data": {
      "text/plain": [
       "array([[1., 0., 0., 0.],\n",
       "       [0., 1., 0., 0.],\n",
       "       [0., 0., 1., 0.],\n",
       "       [0., 0., 0., 1.],\n",
       "       [0., 0., 0., 0.],\n",
       "       [0., 0., 0., 0.]])"
      ]
     },
     "execution_count": 401,
     "metadata": {},
     "output_type": "execute_result"
    }
   ],
   "source": [
    "arr"
   ]
  },
  {
   "cell_type": "markdown",
   "id": "e17b2eff",
   "metadata": {},
   "source": [
    "logspace - it is used to generate a set of number whose ratio is same not difference in log scale."
   ]
  },
  {
   "cell_type": "code",
   "execution_count": 402,
   "id": "cd948f79",
   "metadata": {},
   "outputs": [],
   "source": [
    "arr = np.logspace(start=-2,stop=3,base=10,num=5)"
   ]
  },
  {
   "cell_type": "code",
   "execution_count": 403,
   "id": "041a03e6",
   "metadata": {},
   "outputs": [
    {
     "data": {
      "text/plain": [
       "array([1.00000000e-02, 1.77827941e-01, 3.16227766e+00, 5.62341325e+01,\n",
       "       1.00000000e+03])"
      ]
     },
     "execution_count": 403,
     "metadata": {},
     "output_type": "execute_result"
    }
   ],
   "source": [
    "arr"
   ]
  },
  {
   "cell_type": "code",
   "execution_count": 404,
   "id": "ba06d566",
   "metadata": {},
   "outputs": [],
   "source": [
    "arr = np.logspace(start=-2,stop=3,base=2,num=6)"
   ]
  },
  {
   "cell_type": "code",
   "execution_count": 405,
   "id": "15d89b8b",
   "metadata": {},
   "outputs": [
    {
     "data": {
      "text/plain": [
       "array([0.25, 0.5 , 1.  , 2.  , 4.  , 8.  ])"
      ]
     },
     "execution_count": 405,
     "metadata": {},
     "output_type": "execute_result"
    }
   ],
   "source": [
    "arr"
   ]
  },
  {
   "cell_type": "markdown",
   "id": "dce5e173",
   "metadata": {},
   "source": [
    "concatenate = it is used to combine two numpy arrays in different axises and can concatenate multiple numpy arrays ."
   ]
  },
  {
   "cell_type": "code",
   "execution_count": 406,
   "id": "96c97515",
   "metadata": {},
   "outputs": [],
   "source": [
    "left_arr = np.random.binomial(n=7,p=0.4,size=(2,6))\n",
    "right_arr = np.random.binomial(n=10,p=0.6,size=(2,6))"
   ]
  },
  {
   "cell_type": "code",
   "execution_count": 407,
   "id": "e2d3d1db",
   "metadata": {},
   "outputs": [],
   "source": [
    "row_wise_concat_arr = np.concatenate((left_arr,right_arr),axis=0)\n",
    "col_wise_concat_arr = np.concatenate((left_arr,right_arr),axis=1)\n"
   ]
  },
  {
   "cell_type": "code",
   "execution_count": 408,
   "id": "569f3818",
   "metadata": {},
   "outputs": [
    {
     "data": {
      "text/plain": [
       "array([[2, 2, 3, 0, 3, 4],\n",
       "       [2, 5, 0, 1, 4, 3],\n",
       "       [6, 8, 6, 5, 6, 8],\n",
       "       [6, 6, 6, 5, 9, 5]])"
      ]
     },
     "execution_count": 408,
     "metadata": {},
     "output_type": "execute_result"
    }
   ],
   "source": [
    "row_wise_concat_arr"
   ]
  },
  {
   "cell_type": "code",
   "execution_count": 409,
   "id": "d8d4bcad",
   "metadata": {},
   "outputs": [
    {
     "data": {
      "text/plain": [
       "array([[2, 2, 3, 0, 3, 4, 6, 8, 6, 5, 6, 8],\n",
       "       [2, 5, 0, 1, 4, 3, 6, 6, 6, 5, 9, 5]])"
      ]
     },
     "execution_count": 409,
     "metadata": {},
     "output_type": "execute_result"
    }
   ],
   "source": [
    "col_wise_concat_arr"
   ]
  },
  {
   "cell_type": "markdown",
   "id": "7b2daef6",
   "metadata": {},
   "source": [
    "delete = it deletes the rows or columns or depths of which axises are given.(in this condition)"
   ]
  },
  {
   "cell_type": "code",
   "execution_count": 410,
   "id": "24584b9c",
   "metadata": {},
   "outputs": [],
   "source": [
    "col_wise_concat_arr = np.delete(col_wise_concat_arr,[1,3],axis=1)"
   ]
  },
  {
   "cell_type": "code",
   "execution_count": 411,
   "id": "aa554b05",
   "metadata": {},
   "outputs": [
    {
     "data": {
      "text/plain": [
       "array([[2, 3, 3, 4, 6, 8, 6, 5, 6, 8],\n",
       "       [2, 0, 4, 3, 6, 6, 6, 5, 9, 5]])"
      ]
     },
     "execution_count": 411,
     "metadata": {},
     "output_type": "execute_result"
    }
   ],
   "source": [
    "col_wise_concat_arr"
   ]
  },
  {
   "cell_type": "code",
   "execution_count": 412,
   "id": "1cf81d0f",
   "metadata": {},
   "outputs": [],
   "source": [
    "row_wise_concat_arr = np.delete(row_wise_concat_arr,[1,3],axis=0)"
   ]
  },
  {
   "cell_type": "code",
   "execution_count": 413,
   "id": "081e8553",
   "metadata": {},
   "outputs": [
    {
     "data": {
      "text/plain": [
       "array([[2, 2, 3, 0, 3, 4],\n",
       "       [6, 8, 6, 5, 6, 8]])"
      ]
     },
     "execution_count": 413,
     "metadata": {},
     "output_type": "execute_result"
    }
   ],
   "source": [
    "row_wise_concat_arr"
   ]
  },
  {
   "cell_type": "markdown",
   "id": "f257e63a",
   "metadata": {},
   "source": [
    "Done -> Concept of boolean masking in numpy arrays . "
   ]
  },
  {
   "cell_type": "code",
   "execution_count": 414,
   "id": "bfa79697",
   "metadata": {},
   "outputs": [],
   "source": [
    "bmask = np.ones((col_wise_concat_arr.shape[1],),dtype=bool)"
   ]
  },
  {
   "cell_type": "code",
   "execution_count": 415,
   "id": "fb866b18",
   "metadata": {},
   "outputs": [
    {
     "data": {
      "text/plain": [
       "array([ True,  True,  True,  True,  True,  True,  True,  True,  True,\n",
       "        True])"
      ]
     },
     "execution_count": 415,
     "metadata": {},
     "output_type": "execute_result"
    }
   ],
   "source": [
    "bmask"
   ]
  },
  {
   "cell_type": "code",
   "execution_count": 416,
   "id": "e8d8b96f",
   "metadata": {},
   "outputs": [],
   "source": [
    "bmask[1]=False\n",
    "bmask[5]=False"
   ]
  },
  {
   "cell_type": "code",
   "execution_count": 417,
   "id": "20bcf456",
   "metadata": {},
   "outputs": [
    {
     "data": {
      "text/plain": [
       "array([ True, False,  True,  True,  True, False,  True,  True,  True,\n",
       "        True])"
      ]
     },
     "execution_count": 417,
     "metadata": {},
     "output_type": "execute_result"
    }
   ],
   "source": [
    "bmask"
   ]
  },
  {
   "cell_type": "code",
   "execution_count": 418,
   "id": "eee6b069",
   "metadata": {},
   "outputs": [
    {
     "data": {
      "text/plain": [
       "array([[2, 3, 4, 6, 6, 5, 6, 8],\n",
       "       [2, 4, 3, 6, 6, 5, 9, 5]])"
      ]
     },
     "execution_count": 418,
     "metadata": {},
     "output_type": "execute_result"
    }
   ],
   "source": [
    "col_wise_concat_arr[:,bmask]"
   ]
  },
  {
   "cell_type": "code",
   "execution_count": 419,
   "id": "282fee49",
   "metadata": {},
   "outputs": [],
   "source": [
    "bmask1=np.ones((row_wise_concat_arr.shape[0],),dtype=bool)"
   ]
  },
  {
   "cell_type": "code",
   "execution_count": 420,
   "id": "7afa5269",
   "metadata": {},
   "outputs": [
    {
     "data": {
      "text/plain": [
       "array([ True,  True])"
      ]
     },
     "execution_count": 420,
     "metadata": {},
     "output_type": "execute_result"
    }
   ],
   "source": [
    "bmask1"
   ]
  },
  {
   "cell_type": "code",
   "execution_count": 421,
   "id": "0e8b0688",
   "metadata": {},
   "outputs": [
    {
     "ename": "IndexError",
     "evalue": "index 3 is out of bounds for axis 0 with size 2",
     "output_type": "error",
     "traceback": [
      "\u001b[31m---------------------------------------------------------------------------\u001b[39m",
      "\u001b[31mIndexError\u001b[39m                                Traceback (most recent call last)",
      "\u001b[36mCell\u001b[39m\u001b[36m \u001b[39m\u001b[32mIn[421]\u001b[39m\u001b[32m, line 2\u001b[39m\n\u001b[32m      1\u001b[39m bmask1[\u001b[32m1\u001b[39m]=\u001b[38;5;28;01mFalse\u001b[39;00m\n\u001b[32m----> \u001b[39m\u001b[32m2\u001b[39m \u001b[43mbmask1\u001b[49m\u001b[43m[\u001b[49m\u001b[32;43m3\u001b[39;49m\u001b[43m]\u001b[49m=\u001b[38;5;28;01mFalse\u001b[39;00m\n",
      "\u001b[31mIndexError\u001b[39m: index 3 is out of bounds for axis 0 with size 2"
     ]
    }
   ],
   "source": [
    "bmask1[1]=False\n",
    "bmask1[3]=False"
   ]
  },
  {
   "cell_type": "code",
   "execution_count": null,
   "id": "5cc743ed",
   "metadata": {},
   "outputs": [
    {
     "data": {
      "text/plain": [
       "array([ True, False,  True, False])"
      ]
     },
     "execution_count": 158,
     "metadata": {},
     "output_type": "execute_result"
    }
   ],
   "source": [
    "bmask1"
   ]
  },
  {
   "cell_type": "code",
   "execution_count": null,
   "id": "1d44f304",
   "metadata": {},
   "outputs": [
    {
     "data": {
      "text/plain": [
       "array([[1, 4, 1, 3, 3, 2],\n",
       "       [4, 9, 4, 7, 7, 5]])"
      ]
     },
     "execution_count": 162,
     "metadata": {},
     "output_type": "execute_result"
    }
   ],
   "source": [
    "row_wise_concat_arr[bmask1,:]"
   ]
  },
  {
   "cell_type": "code",
   "execution_count": null,
   "id": "465caf79",
   "metadata": {},
   "outputs": [],
   "source": [
    "arr8=arr8.reshape(2,6)"
   ]
  },
  {
   "cell_type": "code",
   "execution_count": null,
   "id": "51691aea",
   "metadata": {},
   "outputs": [],
   "source": []
  },
  {
   "cell_type": "code",
   "execution_count": null,
   "id": "979f82f5",
   "metadata": {},
   "outputs": [
    {
     "data": {
      "text/plain": [
       "array([[ 3, 12, 10, 13, 16, 21],\n",
       "       [21, 17, 20, 40, 33, 37]])"
      ]
     },
     "execution_count": 153,
     "metadata": {},
     "output_type": "execute_result"
    }
   ],
   "source": [
    "arr8"
   ]
  },
  {
   "cell_type": "code",
   "execution_count": null,
   "id": "3e57fd3e",
   "metadata": {},
   "outputs": [],
   "source": [
    "arr8 = np.expand_dims(arr8,axis=1)"
   ]
  },
  {
   "cell_type": "code",
   "execution_count": null,
   "id": "dc8abfd2",
   "metadata": {},
   "outputs": [
    {
     "data": {
      "text/plain": [
       "(2, 1, 6)"
      ]
     },
     "execution_count": 155,
     "metadata": {},
     "output_type": "execute_result"
    }
   ],
   "source": [
    "arr8.shape"
   ]
  },
  {
   "cell_type": "code",
   "execution_count": null,
   "id": "c58dfdf9",
   "metadata": {},
   "outputs": [
    {
     "data": {
      "text/plain": [
       "array([[[ 3, 12, 10, 13, 16, 21]],\n",
       "\n",
       "       [[21, 17, 20, 40, 33, 37]]])"
      ]
     },
     "execution_count": 156,
     "metadata": {},
     "output_type": "execute_result"
    }
   ],
   "source": [
    "arr8"
   ]
  },
  {
   "cell_type": "code",
   "execution_count": null,
   "id": "5766e8dc",
   "metadata": {},
   "outputs": [],
   "source": [
    "arr = np.random.randint(low=0,high=20,size=(1,2,3,4,5))"
   ]
  },
  {
   "cell_type": "code",
   "execution_count": null,
   "id": "94eda01c",
   "metadata": {},
   "outputs": [
    {
     "data": {
      "text/plain": [
       "array([[[[[ 2,  8,  5,  2, 13],\n",
       "          [14, 16,  9, 13, 19],\n",
       "          [ 0, 16, 17,  1,  3],\n",
       "          [11, 17,  2, 19, 18]],\n",
       "\n",
       "         [[14,  7,  2,  5,  6],\n",
       "          [ 0,  3, 12, 12, 14],\n",
       "          [19, 11,  8,  2, 17],\n",
       "          [15, 16,  1, 15, 19]],\n",
       "\n",
       "         [[ 7,  6,  3,  7, 15],\n",
       "          [ 4,  2,  3, 17,  7],\n",
       "          [ 6,  0, 10,  2,  7],\n",
       "          [18,  8,  4,  2, 13]]],\n",
       "\n",
       "\n",
       "        [[[10,  4,  6, 14, 12],\n",
       "          [17,  7,  0, 12, 18],\n",
       "          [11,  2,  6, 11,  1],\n",
       "          [15,  7,  2,  3, 18]],\n",
       "\n",
       "         [[ 7, 19, 17,  2, 17],\n",
       "          [16,  8, 16, 13,  4],\n",
       "          [ 2,  5, 14, 19,  0],\n",
       "          [ 4,  3,  5,  1,  5]],\n",
       "\n",
       "         [[ 4, 19, 14,  7,  8],\n",
       "          [16,  9,  8, 17, 14],\n",
       "          [16,  5, 14,  7, 14],\n",
       "          [ 5, 17,  1,  2,  6]]]]])"
      ]
     },
     "execution_count": 158,
     "metadata": {},
     "output_type": "execute_result"
    }
   ],
   "source": [
    "arr"
   ]
  },
  {
   "cell_type": "code",
   "execution_count": null,
   "id": "aac97122",
   "metadata": {},
   "outputs": [
    {
     "data": {
      "text/plain": [
       "(1, 2, 3, 4, 5)"
      ]
     },
     "execution_count": 159,
     "metadata": {},
     "output_type": "execute_result"
    }
   ],
   "source": [
    "arr.shape"
   ]
  },
  {
   "cell_type": "markdown",
   "metadata": {},
   "source": [
    "Inserting new axes into a NumPy array, concept of ellipsis as well as it's notation."
   ]
  },
  {
   "cell_type": "code",
   "execution_count": null,
   "id": "061239b9",
   "metadata": {},
   "outputs": [],
   "source": [
    "arr = arr[:,:,np.newaxis,...]"
   ]
  },
  {
   "cell_type": "code",
   "execution_count": null,
   "id": "aa7b945d",
   "metadata": {},
   "outputs": [
    {
     "data": {
      "text/plain": [
       "(1, 2, 1, 3, 4, 5)"
      ]
     },
     "execution_count": 161,
     "metadata": {},
     "output_type": "execute_result"
    }
   ],
   "source": [
    "arr.shape"
   ]
  },
  {
   "cell_type": "markdown",
   "id": "20af8092",
   "metadata": {},
   "source": [
    "squeeze = it is used to squeeze the size of an array by removing all 1 ."
   ]
  },
  {
   "cell_type": "code",
   "execution_count": null,
   "id": "631c0000",
   "metadata": {},
   "outputs": [],
   "source": [
    "squeezed_arr=np.squeeze(arr)"
   ]
  },
  {
   "cell_type": "code",
   "execution_count": null,
   "id": "5205042a",
   "metadata": {},
   "outputs": [
    {
     "data": {
      "text/plain": [
       "(2, 3, 4, 5)"
      ]
     },
     "execution_count": 167,
     "metadata": {},
     "output_type": "execute_result"
    }
   ],
   "source": [
    "squeezed_arr.shape"
   ]
  },
  {
   "cell_type": "markdown",
   "id": "09a17eca",
   "metadata": {},
   "source": [
    "ravel = it is used to make a single dimnesion array with all the elements ."
   ]
  },
  {
   "cell_type": "code",
   "execution_count": null,
   "id": "b390d980",
   "metadata": {},
   "outputs": [],
   "source": [
    "flattened_arr = np.ravel(squeezed_arr)"
   ]
  },
  {
   "cell_type": "code",
   "execution_count": null,
   "id": "1e4ae85d",
   "metadata": {},
   "outputs": [
    {
     "data": {
      "text/plain": [
       "(120,)"
      ]
     },
     "execution_count": 169,
     "metadata": {},
     "output_type": "execute_result"
    }
   ],
   "source": [
    "flattened_arr.shape"
   ]
  },
  {
   "cell_type": "markdown",
   "id": "a8af0548",
   "metadata": {},
   "source": [
    "reshape = it is used to reshape an array in different dimensions but the no. of elements should be same."
   ]
  },
  {
   "cell_type": "code",
   "execution_count": null,
   "id": "28ace3fe",
   "metadata": {},
   "outputs": [
    {
     "name": "stderr",
     "output_type": "stream",
     "text": [
      "/tmp/ipykernel_2365/1100543301.py:1: DeprecationWarning: `newshape` keyword argument is deprecated, use `shape=...` or pass shape positionally instead. (deprecated in NumPy 2.1)\n",
      "  reshaped_arr = np.reshape(squeezed_arr,newshape=(3,5,4,1,2))\n"
     ]
    }
   ],
   "source": [
    "reshaped_arr = np.reshape(squeezed_arr,newshape=(3,5,4,1,2))"
   ]
  },
  {
   "cell_type": "code",
   "execution_count": null,
   "id": "8979fd08",
   "metadata": {},
   "outputs": [
    {
     "data": {
      "text/plain": [
       "(3, 5, 4, 1, 2)"
      ]
     },
     "execution_count": 173,
     "metadata": {},
     "output_type": "execute_result"
    }
   ],
   "source": [
    "reshaped_arr.shape"
   ]
  },
  {
   "cell_type": "code",
   "execution_count": null,
   "id": "d4b1b807",
   "metadata": {},
   "outputs": [
    {
     "name": "stderr",
     "output_type": "stream",
     "text": [
      "/tmp/ipykernel_2365/1744322687.py:1: DeprecationWarning: `newshape` keyword argument is deprecated, use `shape=...` or pass shape positionally instead. (deprecated in NumPy 2.1)\n",
      "  reshaped_arr = np.reshape(squeezed_arr,newshape=(15,1,8))\n"
     ]
    }
   ],
   "source": [
    "reshaped_arr = np.reshape(squeezed_arr,newshape=(15,1,8))"
   ]
  },
  {
   "cell_type": "code",
   "execution_count": null,
   "id": "5bd6f44f",
   "metadata": {},
   "outputs": [
    {
     "data": {
      "text/plain": [
       "(15, 1, 8)"
      ]
     },
     "execution_count": 176,
     "metadata": {},
     "output_type": "execute_result"
    }
   ],
   "source": [
    "reshaped_arr.shape"
   ]
  },
  {
   "cell_type": "code",
   "execution_count": null,
   "id": "45b579e9",
   "metadata": {},
   "outputs": [
    {
     "name": "stderr",
     "output_type": "stream",
     "text": [
      "/tmp/ipykernel_2365/4254991431.py:1: DeprecationWarning: `newshape` keyword argument is deprecated, use `shape=...` or pass shape positionally instead. (deprecated in NumPy 2.1)\n",
      "  reshaped_arr = np.reshape(squeezed_arr,newshape=(120,))\n"
     ]
    }
   ],
   "source": [
    "reshaped_arr = np.reshape(squeezed_arr,newshape=(120,))"
   ]
  },
  {
   "cell_type": "code",
   "execution_count": null,
   "id": "809ea354",
   "metadata": {},
   "outputs": [
    {
     "data": {
      "text/plain": [
       "(120,)"
      ]
     },
     "execution_count": 178,
     "metadata": {},
     "output_type": "execute_result"
    }
   ],
   "source": [
    "reshaped_arr.shape"
   ]
  },
  {
   "cell_type": "code",
   "execution_count": null,
   "id": "f7f71b4d",
   "metadata": {},
   "outputs": [],
   "source": [
    "arr = np.random.randint(low=0,hogh=20,size=10)"
   ]
  },
  {
   "cell_type": "code",
   "execution_count": null,
   "id": "160b4de2",
   "metadata": {},
   "outputs": [
    {
     "data": {
      "text/plain": [
       "array([0.25, 0.5 , 1.  , 2.  , 4.  , 8.  ])"
      ]
     },
     "execution_count": 283,
     "metadata": {},
     "output_type": "execute_result"
    }
   ],
   "source": [
    "arr"
   ]
  },
  {
   "cell_type": "markdown",
   "id": "78444078",
   "metadata": {},
   "source": [
    "padding = it is used to add values on the basis of applications. now I have used padding for 1d-array."
   ]
  },
  {
   "cell_type": "code",
   "execution_count": 422,
   "id": "65ebc3be",
   "metadata": {},
   "outputs": [],
   "source": [
    "padded_arr=np.pad(arr,pad_width=(0,5),mode='constant',constant_values=0)"
   ]
  },
  {
   "cell_type": "code",
   "execution_count": 423,
   "id": "3b236730",
   "metadata": {},
   "outputs": [
    {
     "data": {
      "text/plain": [
       "array([0.25, 0.5 , 1.  , 2.  , 4.  , 8.  , 0.  , 0.  , 0.  , 0.  , 0.  ])"
      ]
     },
     "execution_count": 423,
     "metadata": {},
     "output_type": "execute_result"
    }
   ],
   "source": [
    "padded_arr"
   ]
  },
  {
   "cell_type": "code",
   "execution_count": 424,
   "id": "2fa5548b",
   "metadata": {},
   "outputs": [],
   "source": [
    "padded_arr1 = np.pad(arr,pad_width=(5,0),mode='edge')"
   ]
  },
  {
   "cell_type": "code",
   "execution_count": 425,
   "id": "918f6827",
   "metadata": {},
   "outputs": [
    {
     "data": {
      "text/plain": [
       "array([0.25, 0.25, 0.25, 0.25, 0.25, 0.25, 0.5 , 1.  , 2.  , 4.  , 8.  ])"
      ]
     },
     "execution_count": 425,
     "metadata": {},
     "output_type": "execute_result"
    }
   ],
   "source": [
    "padded_arr1"
   ]
  },
  {
   "cell_type": "code",
   "execution_count": 426,
   "id": "301805e2",
   "metadata": {},
   "outputs": [],
   "source": [
    "padded_arr = np.pad(arr,pad_width=(2,3),mode='linear_ramp',end_values=(0.05,12))"
   ]
  },
  {
   "cell_type": "code",
   "execution_count": 427,
   "id": "fe967df7",
   "metadata": {},
   "outputs": [
    {
     "data": {
      "text/plain": [
       "array([ 0.05      ,  0.15      ,  0.25      ,  0.5       ,  1.        ,\n",
       "        2.        ,  4.        ,  8.        ,  9.33333333, 10.66666667,\n",
       "       12.        ])"
      ]
     },
     "execution_count": 427,
     "metadata": {},
     "output_type": "execute_result"
    }
   ],
   "source": [
    "padded_arr"
   ]
  },
  {
   "cell_type": "code",
   "execution_count": 428,
   "id": "203a2241",
   "metadata": {},
   "outputs": [],
   "source": [
    "padded_arr = np.pad(arr,pad_width=(3,2),mode='mean')"
   ]
  },
  {
   "cell_type": "code",
   "execution_count": 429,
   "id": "0e85ba15",
   "metadata": {},
   "outputs": [
    {
     "data": {
      "text/plain": [
       "array([2.625, 2.625, 2.625, 0.25 , 0.5  , 1.   , 2.   , 4.   , 8.   ,\n",
       "       2.625, 2.625])"
      ]
     },
     "execution_count": 429,
     "metadata": {},
     "output_type": "execute_result"
    }
   ],
   "source": [
    "padded_arr"
   ]
  },
  {
   "cell_type": "code",
   "execution_count": 431,
   "id": "54dfaaa8",
   "metadata": {},
   "outputs": [],
   "source": [
    "padded_arr = np.pad(arr,pad_width=(2,3),mode='reflect')"
   ]
  },
  {
   "cell_type": "code",
   "execution_count": 432,
   "id": "a382f1fa",
   "metadata": {},
   "outputs": [
    {
     "data": {
      "text/plain": [
       "array([1.  , 0.5 , 0.25, 0.5 , 1.  , 2.  , 4.  , 8.  , 4.  , 2.  , 1.  ])"
      ]
     },
     "execution_count": 432,
     "metadata": {},
     "output_type": "execute_result"
    }
   ],
   "source": [
    "padded_arr"
   ]
  },
  {
   "cell_type": "code",
   "execution_count": null,
   "id": "87b7ed17",
   "metadata": {},
   "outputs": [],
   "source": []
  }
 ],
 "metadata": {
  "kernelspec": {
   "display_name": ".venv",
   "language": "python",
   "name": "python3"
  },
  "language_info": {
   "codemirror_mode": {
    "name": "ipython",
    "version": 3
   },
   "file_extension": ".py",
   "mimetype": "text/x-python",
   "name": "python",
   "nbconvert_exporter": "python",
   "pygments_lexer": "ipython3",
   "version": "3.12.3"
  }
 },
 "nbformat": 4,
 "nbformat_minor": 5
}
